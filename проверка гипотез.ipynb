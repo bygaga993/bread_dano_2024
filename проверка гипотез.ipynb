{
 "cells": [
  {
   "cell_type": "code",
   "execution_count": 46,
   "metadata": {},
   "outputs": [],
   "source": [
    "import pandas as pd\n",
    "import numpy as np\n",
    "from scipy.stats import chi2_contingency"
   ]
  },
  {
   "cell_type": "code",
   "execution_count": 47,
   "metadata": {},
   "outputs": [],
   "source": [
    "df =  pd.read_csv('data_preprocessed.csv')"
   ]
  },
  {
   "cell_type": "code",
   "execution_count": 48,
   "metadata": {},
   "outputs": [],
   "source": [
    "df['approval_flg'] = df['wo_hit_status_result_desc'].map({'Дозвон, Отказ': 0, 'Дозвон, Успешно': 1})"
   ]
  },
  {
   "cell_type": "markdown",
   "metadata": {},
   "source": [
    "**Холодные продажи**"
   ]
  },
  {
   "cell_type": "code",
   "execution_count": 49,
   "metadata": {},
   "outputs": [],
   "source": [
    "# датасет, где причины звонка - холодные продажи\n",
    "df_cold = df[df['functional_cd'] == 'Cold']"
   ]
  },
  {
   "cell_type": "code",
   "execution_count": 50,
   "metadata": {},
   "outputs": [
    {
     "data": {
      "text/plain": [
       "product_cd\n",
       "MVNO                  664\n",
       "Debit Cards           472\n",
       "Mortgage Insurance    269\n",
       "Casco                  18\n",
       "Travel Avia             4\n",
       "T-Auto                  2\n",
       "Car Loan                1\n",
       "Name: count, dtype: int64"
      ]
     },
     "execution_count": 50,
     "metadata": {},
     "output_type": "execute_result"
    }
   ],
   "source": [
    "df_cold['product_cd'].value_counts()"
   ]
  },
  {
   "cell_type": "markdown",
   "metadata": {},
   "source": [
    "Сразе можно убрать Продукты: Casco, Travel Avia, T-Auto, Car Loan. Тк данных сильно мало и выборки с подписками точно будут меньше 30"
   ]
  },
  {
   "cell_type": "code",
   "execution_count": 51,
   "metadata": {},
   "outputs": [],
   "source": [
    "df_cold = df_cold[df_cold['product_cd'].isin(['MVNO', 'Debit Cards', 'Mortgage Insurance'])]"
   ]
  },
  {
   "cell_type": "code",
   "execution_count": 52,
   "metadata": {},
   "outputs": [],
   "source": [
    "#оставляю только подписку Pro, premium убираем\n",
    "df_cold = df_cold[df_cold['bundle_nm'] != 'Premium']\n",
    "df_cold['bundle_nm'] = df_cold['bundle_nm'].fillna(0)"
   ]
  },
  {
   "cell_type": "code",
   "execution_count": 53,
   "metadata": {},
   "outputs": [
    {
     "data": {
      "text/plain": [
       "product_cd\n",
       "MVNO                  659\n",
       "Debit Cards           472\n",
       "Mortgage Insurance    268\n",
       "Name: count, dtype: int64"
      ]
     },
     "execution_count": 53,
     "metadata": {},
     "output_type": "execute_result"
    }
   ],
   "source": [
    "df_cold['product_cd'].value_counts()"
   ]
  },
  {
   "cell_type": "markdown",
   "metadata": {},
   "source": [
    "Данных по каждому из продуктов нормально по количеству, далее буду проверть гипотезы на этих трех продуктах"
   ]
  },
  {
   "cell_type": "markdown",
   "metadata": {},
   "source": [
    "Cold + MVNO"
   ]
  },
  {
   "cell_type": "code",
   "execution_count": 54,
   "metadata": {},
   "outputs": [],
   "source": [
    "df_cold_mvno = df_cold[df_cold['product_cd'] == 'MVNO']"
   ]
  },
  {
   "cell_type": "code",
   "execution_count": 55,
   "metadata": {},
   "outputs": [
    {
     "name": "stdout",
     "output_type": "stream",
     "text": [
      "187 472\n"
     ]
    }
   ],
   "source": [
    "#Размеры выборок с подпиской и без неё\n",
    "print(df_cold_mvno[df_cold_mvno['bundle_nm'] == 'Pro'].shape[0], df_cold_mvno[df_cold_mvno['bundle_nm'] == 0].shape[0])"
   ]
  },
  {
   "cell_type": "code",
   "execution_count": 58,
   "metadata": {},
   "outputs": [
    {
     "name": "stdout",
     "output_type": "stream",
     "text": [
      "Chi-squared statistic: 0.427144932186185\n",
      "P-value: 0.5133932222057032\n",
      "Не отвергаем нулевую гипотезу: различие между группами не статистически значимо.\n"
     ]
    }
   ],
   "source": [
    "successes_A = df_cold_mvno[(df_cold_mvno['bundle_nm'] == 0) & (df_cold_mvno['approval_flg'] == 1)].shape[0]\n",
    "failures_A = df_cold_mvno[df_cold_mvno['bundle_nm'] == 0].shape[0] - successes_A\n",
    "successes_B = df_cold_mvno[(df_cold_mvno['bundle_nm'] == 'Pro') & (df_cold_mvno['approval_flg'] == 1)].shape[0]\n",
    "failures_B = df_cold_mvno[df_cold_mvno['bundle_nm'] == 'Pro'].shape[0] - successes_B\n",
    "\n",
    "# Создание таблицы сопряженности\n",
    "contingency_table = np.array([[successes_A, failures_A],\n",
    "                               [successes_B, failures_B]])\n",
    "\n",
    "# Применение хи-квадрат теста\n",
    "chi2, p_value, _, _ = chi2_contingency(contingency_table)\n",
    "\n",
    "# Вывод результатов\n",
    "print(f\"Chi-squared statistic: {chi2}\")\n",
    "print(f\"P-value: {p_value}\")\n",
    "\n",
    "# Проверка значимости\n",
    "alpha = 0.05\n",
    "if p_value < alpha:\n",
    "    print(\"Отвергаем нулевую гипотезу: различие между группами статистически значимо.\")\n",
    "else:\n",
    "    print(\"Не отвергаем нулевую гипотезу: различие между группами не статистически значимо.\")"
   ]
  },
  {
   "cell_type": "markdown",
   "metadata": {},
   "source": [
    "Cold + Debit Cards"
   ]
  },
  {
   "cell_type": "code",
   "execution_count": 59,
   "metadata": {},
   "outputs": [],
   "source": [
    "df_cold_debit = df_cold[df_cold['product_cd'] == 'Debit Cards']"
   ]
  },
  {
   "cell_type": "code",
   "execution_count": 60,
   "metadata": {},
   "outputs": [
    {
     "name": "stdout",
     "output_type": "stream",
     "text": [
      "5 467\n"
     ]
    }
   ],
   "source": [
    "#Размеры выборок с подпиской и без неё\n",
    "print(df_cold_debit[df_cold_debit['bundle_nm'] == 'Pro'].shape[0], df_cold_debit[df_cold_debit['bundle_nm'] == 0].shape[0])"
   ]
  },
  {
   "cell_type": "markdown",
   "metadata": {},
   "source": [
    "Слишком мало людей с подпиской - не смотрим"
   ]
  },
  {
   "cell_type": "code",
   "execution_count": 61,
   "metadata": {},
   "outputs": [],
   "source": [
    "df_cold_mort = df_cold[df_cold['product_cd'] == 'Mortgage Insurance']"
   ]
  },
  {
   "cell_type": "code",
   "execution_count": 62,
   "metadata": {},
   "outputs": [
    {
     "name": "stdout",
     "output_type": "stream",
     "text": [
      "55 213\n"
     ]
    }
   ],
   "source": [
    "#Размеры выборок с подпиской и без неё\n",
    "print(df_cold_mort[df_cold_mort['bundle_nm'] == 'Pro'].shape[0], df_cold_mort[df_cold_mort['bundle_nm'] == 0].shape[0])"
   ]
  },
  {
   "cell_type": "code",
   "execution_count": 63,
   "metadata": {},
   "outputs": [
    {
     "name": "stdout",
     "output_type": "stream",
     "text": [
      "Chi-squared statistic: 0.333471534850591\n",
      "P-value: 0.563622037513428\n",
      "Не отвергаем нулевую гипотезу: различие между группами не статистически значимо.\n"
     ]
    }
   ],
   "source": [
    "successes_A = df_cold_mort[(df_cold_mort['bundle_nm'] == 0) & (df_cold_mort['approval_flg'] == 1)].shape[0]\n",
    "failures_A = df_cold_mort[df_cold_mort['bundle_nm'] == 0].shape[0] - successes_A\n",
    "successes_B = df_cold_mort[(df_cold_mort['bundle_nm'] == 'Pro') & (df_cold_mort['approval_flg'] == 1)].shape[0]\n",
    "failures_B = df_cold_mort[df_cold_mort['bundle_nm'] == 'Pro'].shape[0] - successes_B\n",
    "\n",
    "# Создание таблицы сопряженности\n",
    "contingency_table = np.array([[successes_A, failures_A],\n",
    "                               [successes_B, failures_B]])\n",
    "\n",
    "# Применение хи-квадрат теста\n",
    "chi2, p_value, _, _ = chi2_contingency(contingency_table)\n",
    "\n",
    "# Вывод результатов\n",
    "print(f\"Chi-squared statistic: {chi2}\")\n",
    "print(f\"P-value: {p_value}\")\n",
    "\n",
    "# Проверка значимости\n",
    "alpha = 0.05\n",
    "if p_value < alpha:\n",
    "    print(\"Отвергаем нулевую гипотезу: различие между группами статистически значимо.\")\n",
    "else:\n",
    "    print(\"Не отвергаем нулевую гипотезу: различие между группами не статистически значимо.\")"
   ]
  },
  {
   "cell_type": "markdown",
   "metadata": {},
   "source": [
    "**Предоодбренные заявки**"
   ]
  },
  {
   "cell_type": "code",
   "execution_count": 64,
   "metadata": {},
   "outputs": [],
   "source": [
    "# датасет, где причины звонка - предоодбренные заявки\n",
    "df_preapprove = df[df['functional_cd'] == 'Preapprove']"
   ]
  },
  {
   "cell_type": "code",
   "execution_count": 65,
   "metadata": {},
   "outputs": [],
   "source": [
    "#оставляю только подписку Pro, premium убираем\n",
    "df_preapprove = df_preapprove[df_preapprove['bundle_nm'] != 'Premium']\n",
    "df_preapprove['bundle_nm'] = df_preapprove['bundle_nm'].fillna(0)"
   ]
  },
  {
   "cell_type": "code",
   "execution_count": 67,
   "metadata": {},
   "outputs": [
    {
     "data": {
      "text/plain": [
       "product_cd\n",
       "Credit Cards    7047\n",
       "Cash Loan        820\n",
       "Car Loan          92\n",
       "Name: count, dtype: int64"
      ]
     },
     "execution_count": 67,
     "metadata": {},
     "output_type": "execute_result"
    }
   ],
   "source": [
    "df_preapprove['product_cd'].value_counts()"
   ]
  },
  {
   "cell_type": "markdown",
   "metadata": {},
   "source": [
    "Preapprove + Credit Cards"
   ]
  },
  {
   "cell_type": "code",
   "execution_count": 68,
   "metadata": {},
   "outputs": [],
   "source": [
    "df_credit_cards = df_preapprove[df_preapprove['product_cd'] == 'Credit Cards']"
   ]
  },
  {
   "cell_type": "code",
   "execution_count": 69,
   "metadata": {},
   "outputs": [
    {
     "name": "stdout",
     "output_type": "stream",
     "text": [
      "1209 5838\n"
     ]
    }
   ],
   "source": [
    "#Размеры выборок с подпиской и без неё\n",
    "print(df_credit_cards[df_credit_cards['bundle_nm'] == 'Pro'].shape[0], df_credit_cards[df_credit_cards['bundle_nm'] == 0].shape[0])"
   ]
  },
  {
   "cell_type": "code",
   "execution_count": 70,
   "metadata": {},
   "outputs": [
    {
     "name": "stdout",
     "output_type": "stream",
     "text": [
      "Chi-squared statistic: 1.903168433102194\n",
      "P-value: 0.16772409894376272\n",
      "Не отвергаем нулевую гипотезу: различие между группами не статистически значимо.\n"
     ]
    }
   ],
   "source": [
    "successes_A = df_credit_cards[(df_credit_cards['bundle_nm'] == 0) & (df_credit_cards['approval_flg'] == 1)].shape[0]\n",
    "failures_A = df_credit_cards[df_credit_cards['bundle_nm'] == 0].shape[0] - successes_A\n",
    "successes_B = df_credit_cards[(df_credit_cards['bundle_nm'] == 'Pro') & (df_credit_cards['approval_flg'] == 1)].shape[0]\n",
    "failures_B = df_credit_cards[df_credit_cards['bundle_nm'] == 'Pro'].shape[0] - successes_B\n",
    "\n",
    "# Создание таблицы сопряженности\n",
    "contingency_table = np.array([[successes_A, failures_A],\n",
    "                               [successes_B, failures_B]])\n",
    "\n",
    "# Применение хи-квадрат теста\n",
    "chi2, p_value, _, _ = chi2_contingency(contingency_table)\n",
    "\n",
    "# Вывод результатов\n",
    "print(f\"Chi-squared statistic: {chi2}\")\n",
    "print(f\"P-value: {p_value}\")\n",
    "\n",
    "# Проверка значимости\n",
    "alpha = 0.05\n",
    "if p_value < alpha:\n",
    "    print(\"Отвергаем нулевую гипотезу: различие между группами статистически значимо.\")\n",
    "else:\n",
    "    print(\"Не отвергаем нулевую гипотезу: различие между группами не статистически значимо.\")"
   ]
  },
  {
   "cell_type": "markdown",
   "metadata": {},
   "source": [
    "Preapprove + Cash Loan"
   ]
  },
  {
   "cell_type": "code",
   "execution_count": 71,
   "metadata": {},
   "outputs": [],
   "source": [
    "df_cash_loan = df_preapprove[df_preapprove['product_cd'] == 'Cash Loan']"
   ]
  },
  {
   "cell_type": "code",
   "execution_count": 72,
   "metadata": {},
   "outputs": [
    {
     "name": "stdout",
     "output_type": "stream",
     "text": [
      "337 483\n"
     ]
    }
   ],
   "source": [
    "#Размеры выборок с подпиской и без неё\n",
    "print(df_cash_loan[df_cash_loan['bundle_nm'] == 'Pro'].shape[0], df_cash_loan[df_cash_loan['bundle_nm'] == 0].shape[0])"
   ]
  },
  {
   "cell_type": "code",
   "execution_count": 73,
   "metadata": {},
   "outputs": [
    {
     "name": "stdout",
     "output_type": "stream",
     "text": [
      "Chi-squared statistic: 1.12832995765101\n",
      "P-value: 0.2881318424325282\n",
      "Не отвергаем нулевую гипотезу: различие между группами не статистически значимо.\n"
     ]
    }
   ],
   "source": [
    "successes_A = df_cash_loan[(df_cash_loan['bundle_nm'] == 0) & (df_cash_loan['approval_flg'] == 1)].shape[0]\n",
    "failures_A = df_cash_loan[df_cash_loan['bundle_nm'] == 0].shape[0] - successes_A\n",
    "successes_B = df_cash_loan[(df_cash_loan['bundle_nm'] == 'Pro') & (df_cash_loan['approval_flg'] == 1)].shape[0]\n",
    "failures_B = df_cash_loan[df_cash_loan['bundle_nm'] == 'Pro'].shape[0] - successes_B\n",
    "\n",
    "# Создание таблицы сопряженности\n",
    "contingency_table = np.array([[successes_A, failures_A],\n",
    "                               [successes_B, failures_B]])\n",
    "\n",
    "# Применение хи-квадрат теста\n",
    "chi2, p_value, _, _ = chi2_contingency(contingency_table)\n",
    "\n",
    "# Вывод результатов\n",
    "print(f\"Chi-squared statistic: {chi2}\")\n",
    "print(f\"P-value: {p_value}\")\n",
    "\n",
    "# Проверка значимости\n",
    "alpha = 0.05\n",
    "if p_value < alpha:\n",
    "    print(\"Отвергаем нулевую гипотезу: различие между группами статистически значимо.\")\n",
    "else:\n",
    "    print(\"Не отвергаем нулевую гипотезу: различие между группами не статистически значимо.\")"
   ]
  },
  {
   "cell_type": "markdown",
   "metadata": {},
   "source": [
    "Preapprove + Car Loan"
   ]
  },
  {
   "cell_type": "code",
   "execution_count": 74,
   "metadata": {},
   "outputs": [],
   "source": [
    "df_car_loan = df_preapprove[df_preapprove['product_cd'] == 'Car Loan']"
   ]
  },
  {
   "cell_type": "code",
   "execution_count": 75,
   "metadata": {},
   "outputs": [
    {
     "name": "stdout",
     "output_type": "stream",
     "text": [
      "21 71\n"
     ]
    }
   ],
   "source": [
    "#Размеры выборок с подпиской и без неё\n",
    "print(df_car_loan[df_car_loan['bundle_nm'] == 'Pro'].shape[0], df_car_loan[df_car_loan['bundle_nm'] == 0].shape[0])"
   ]
  },
  {
   "cell_type": "code",
   "execution_count": 76,
   "metadata": {},
   "outputs": [
    {
     "name": "stdout",
     "output_type": "stream",
     "text": [
      "Chi-squared statistic: 0.7144130891793338\n",
      "P-value: 0.39798265463641314\n",
      "Не отвергаем нулевую гипотезу: различие между группами не статистически значимо.\n"
     ]
    }
   ],
   "source": [
    "successes_A = df_car_loan[(df_car_loan['bundle_nm'] == 0) & (df_car_loan['approval_flg'] == 1)].shape[0]\n",
    "failures_A = df_car_loan[df_car_loan['bundle_nm'] == 0].shape[0] - successes_A\n",
    "successes_B = df_car_loan[(df_car_loan['bundle_nm'] == 'Pro') & (df_car_loan['approval_flg'] == 1)].shape[0]\n",
    "failures_B = df_car_loan[df_car_loan['bundle_nm'] == 'Pro'].shape[0] - successes_B\n",
    "\n",
    "# Создание таблицы сопряженности\n",
    "contingency_table = np.array([[successes_A, failures_A],\n",
    "                               [successes_B, failures_B]])\n",
    "\n",
    "# Применение хи-квадрат теста\n",
    "chi2, p_value, _, _ = chi2_contingency(contingency_table)\n",
    "\n",
    "# Вывод результатов\n",
    "print(f\"Chi-squared statistic: {chi2}\")\n",
    "print(f\"P-value: {p_value}\")\n",
    "\n",
    "# Проверка значимости\n",
    "alpha = 0.05\n",
    "if p_value < alpha:\n",
    "    print(\"Отвергаем нулевую гипотезу: различие между группами статистически значимо.\")\n",
    "else:\n",
    "    print(\"Не отвергаем нулевую гипотезу: различие между группами не статистически значимо.\")"
   ]
  },
  {
   "cell_type": "code",
   "execution_count": null,
   "metadata": {},
   "outputs": [],
   "source": []
  }
 ],
 "metadata": {
  "kernelspec": {
   "display_name": "Python 3",
   "language": "python",
   "name": "python3"
  },
  "language_info": {
   "codemirror_mode": {
    "name": "ipython",
    "version": 3
   },
   "file_extension": ".py",
   "mimetype": "text/x-python",
   "name": "python",
   "nbconvert_exporter": "python",
   "pygments_lexer": "ipython3",
   "version": "3.12.2"
  }
 },
 "nbformat": 4,
 "nbformat_minor": 2
}
