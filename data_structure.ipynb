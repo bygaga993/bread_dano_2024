{
 "cells": [
  {
   "cell_type": "code",
   "id": "initial_id",
   "metadata": {
    "collapsed": true,
    "ExecuteTime": {
     "end_time": "2024-11-30T07:53:31.118119Z",
     "start_time": "2024-11-30T07:53:30.782946Z"
    }
   },
   "source": "import pandas as pd",
   "outputs": [],
   "execution_count": 1
  },
  {
   "metadata": {
    "ExecuteTime": {
     "end_time": "2024-11-30T07:53:31.194019Z",
     "start_time": "2024-11-30T07:53:31.118119Z"
    }
   },
   "cell_type": "code",
   "source": "df = pd.read_csv('data_preprocessed.csv')",
   "id": "db3d24e35e921933",
   "outputs": [],
   "execution_count": 2
  },
  {
   "metadata": {
    "ExecuteTime": {
     "end_time": "2024-11-30T07:53:31.786803Z",
     "start_time": "2024-11-30T07:53:31.769804Z"
    }
   },
   "cell_type": "code",
   "source": "df.shape",
   "id": "99cc032bf04456d7",
   "outputs": [
    {
     "data": {
      "text/plain": [
       "(18691, 35)"
      ]
     },
     "execution_count": 3,
     "metadata": {},
     "output_type": "execute_result"
    }
   ],
   "execution_count": 3
  },
  {
   "metadata": {
    "ExecuteTime": {
     "end_time": "2024-11-30T08:01:30.211576Z",
     "start_time": "2024-11-30T08:01:30.196305Z"
    }
   },
   "cell_type": "code",
   "source": "df[(df['bundle_nm'] == 'Pro') & (df['functional_cd'] == 'Preapprove')].age.mean(), df[(df['bundle_nm'] == '0') & (df['functional_cd'] == 'Preapprove')].age.mean()",
   "id": "4e53ab11df35f93",
   "outputs": [
    {
     "data": {
      "text/plain": [
       "(np.float64(37.0366870483602), np.float64(39.76699304668654))"
      ]
     },
     "execution_count": 15,
     "metadata": {},
     "output_type": "execute_result"
    }
   ],
   "execution_count": 15
  },
  {
   "metadata": {
    "ExecuteTime": {
     "end_time": "2024-11-30T08:01:20.924838Z",
     "start_time": "2024-11-30T08:01:20.909142Z"
    }
   },
   "cell_type": "code",
   "source": "df[(df['bundle_nm'] == 'Pro') & (df['functional_cd'] == 'Preapprove')].approval_flg.mean(), df[(df['bundle_nm'] == '0') & (df['functional_cd'] == 'Preapprove')].approval_flg.mean()",
   "id": "426120eceeccb5e8",
   "outputs": [
    {
     "data": {
      "text/plain": [
       "(np.float64(0.03333333333333333), np.float64(0.045627376425855515))"
      ]
     },
     "execution_count": 14,
     "metadata": {},
     "output_type": "execute_result"
    }
   ],
   "execution_count": 14
  },
  {
   "metadata": {},
   "cell_type": "markdown",
   "source": "Можно ли брать среднее общей группы, а долю по preapprove, или все брать по preapprove",
   "id": "4b66ca4cf4eaa40f"
  },
  {
   "metadata": {},
   "cell_type": "code",
   "outputs": [],
   "execution_count": null,
   "source": "",
   "id": "263c9d2c83de2125"
  }
 ],
 "metadata": {
  "kernelspec": {
   "display_name": "Python 3",
   "language": "python",
   "name": "python3"
  },
  "language_info": {
   "codemirror_mode": {
    "name": "ipython",
    "version": 2
   },
   "file_extension": ".py",
   "mimetype": "text/x-python",
   "name": "python",
   "nbconvert_exporter": "python",
   "pygments_lexer": "ipython2",
   "version": "2.7.6"
  }
 },
 "nbformat": 4,
 "nbformat_minor": 5
}
