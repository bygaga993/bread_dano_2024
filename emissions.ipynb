{
 "cells": [
  {
   "cell_type": "code",
   "id": "initial_id",
   "metadata": {
    "collapsed": true,
    "ExecuteTime": {
     "end_time": "2024-12-03T10:53:49.782273Z",
     "start_time": "2024-12-03T10:53:49.778497Z"
    }
   },
   "source": [
    "import pandas as pd\n",
    "import numpy as np\n",
    "import warnings\n",
    "warnings.filterwarnings('ignore')"
   ],
   "outputs": [],
   "execution_count": 65
  },
  {
   "metadata": {},
   "cell_type": "markdown",
   "source": "<h3>Чистка выбросов</h3>",
   "id": "df8ed3fbfd38a006"
  },
  {
   "metadata": {
    "ExecuteTime": {
     "end_time": "2024-12-03T10:53:50.214690Z",
     "start_time": "2024-12-03T10:53:50.089747Z"
    }
   },
   "cell_type": "code",
   "source": "df = pd.read_csv('data_preprocessed.csv')",
   "id": "25f4af2f538274ac",
   "outputs": [],
   "execution_count": 66
  },
  {
   "metadata": {
    "ExecuteTime": {
     "end_time": "2024-12-03T10:53:50.299309Z",
     "start_time": "2024-12-03T10:53:50.275374Z"
    }
   },
   "cell_type": "code",
   "source": [
    "df.dropna(subset=['age', 'gender_cd'], inplace=True) # удаление пропусков age и gender_cd\n",
    "df.drop_duplicates(subset=['customer_id'], inplace=True, keep='first') # дубликаты клиентов\n",
    "df = df[df['functional_cd'].isin(['Preapprove', 'Afterfilling', 'Utilization', 'Cold', 'Upsell', 'Meeting'])]\n",
    "\n",
    "# IQR = df[\"state_talk_time_sec\"].quantile(0.75) - df[\"state_talk_time_sec\"].quantile(0.25)\n",
    "# high = df[\"state_talk_time_sec\"].quantile(0.75) + IQR * 3\n",
    "# df = df[df[\"state_talk_time_sec\"] < high] # чистка длительности звонка"
   ],
   "id": "5e926fd86328fa59",
   "outputs": [],
   "execution_count": 67
  },
  {
   "metadata": {
    "ExecuteTime": {
     "end_time": "2024-12-03T10:53:50.767005Z",
     "start_time": "2024-12-03T10:53:50.495135Z"
    }
   },
   "cell_type": "code",
   "source": "df.to_csv('data_final_preprocessed.csv', index=False)",
   "id": "37cae4b6762c606a",
   "outputs": [],
   "execution_count": 68
  },
  {
   "metadata": {},
   "cell_type": "code",
   "outputs": [],
   "execution_count": null,
   "source": "",
   "id": "e927c341751bc816"
  }
 ],
 "metadata": {
  "kernelspec": {
   "display_name": "Python 3",
   "language": "python",
   "name": "python3"
  },
  "language_info": {
   "codemirror_mode": {
    "name": "ipython",
    "version": 2
   },
   "file_extension": ".py",
   "mimetype": "text/x-python",
   "name": "python",
   "nbconvert_exporter": "python",
   "pygments_lexer": "ipython2",
   "version": "2.7.6"
  }
 },
 "nbformat": 4,
 "nbformat_minor": 5
}
