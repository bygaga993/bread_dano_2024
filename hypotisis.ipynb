{
 "cells": [
  {
   "cell_type": "code",
   "id": "initial_id",
   "metadata": {
    "collapsed": true,
    "ExecuteTime": {
     "end_time": "2024-11-29T10:28:42.359811Z",
     "start_time": "2024-11-29T10:28:42.354483Z"
    }
   },
   "source": [
    "import pandas as pd\n",
    "import numpy as np\n",
    "import seaborn as sns\n",
    "import matplotlib.pyplot as plt\n",
    "import scipy.stats as st\n",
    "import statsmodels.api as sm\n",
    "\n",
    "import warnings\n",
    "warnings.filterwarnings('ignore')"
   ],
   "outputs": [],
   "execution_count": 114
  },
  {
   "metadata": {},
   "cell_type": "markdown",
   "source": [
    "<h3>ИВ: Что влияет на восприимчивость клиентов к предложениям о кредите?\n",
    "Гипотеза: Люди без подписки более восприимчивы к предложениям банка о кредите по сравнению с людьми, имеющими подписку Pro.</h3>"
   ],
   "id": "fafff29a6bc54a23"
  },
  {
   "metadata": {
    "ExecuteTime": {
     "end_time": "2024-11-29T10:29:12.935449Z",
     "start_time": "2024-11-29T10:29:12.853238Z"
    }
   },
   "cell_type": "code",
   "source": "df = pd.read_csv('data_preprocessed_sort.csv')",
   "id": "61f7c09b1a5912ab",
   "outputs": [],
   "execution_count": 121
  },
  {
   "metadata": {
    "ExecuteTime": {
     "end_time": "2024-11-29T10:29:13.051942Z",
     "start_time": "2024-11-29T10:29:13.039325Z"
    }
   },
   "cell_type": "code",
   "source": "df = df[df['functional_cd'] == 'Preapprove']",
   "id": "ed1bdffb8925d344",
   "outputs": [],
   "execution_count": 122
  },
  {
   "metadata": {
    "ExecuteTime": {
     "end_time": "2024-11-29T10:29:13.249829Z",
     "start_time": "2024-11-29T10:29:13.228619Z"
    }
   },
   "cell_type": "code",
   "source": "df",
   "id": "a3e15391bfd8d00b",
   "outputs": [
    {
     "data": {
      "text/plain": [
       "       customer_id   age  gender_cd region_size  foreign_flg  \\\n",
       "4         64946855  31.0        1.0        town          0.0   \n",
       "9        400159317  27.0        0.0          no          NaN   \n",
       "11       483808847  34.0        1.0          no          NaN   \n",
       "14       298761980  29.0        1.0        town          0.0   \n",
       "15       370004909  47.0        1.0       urban          0.0   \n",
       "...            ...   ...        ...         ...          ...   \n",
       "15565    300003956  34.0        1.0          no          NaN   \n",
       "15566    374791483  31.0        0.0        town          0.0   \n",
       "15568    305526568  58.0        0.0         msk          0.0   \n",
       "15569     77876991  47.0        1.0       urban          0.0   \n",
       "15570    212981864  29.0        0.0          no          NaN   \n",
       "\n",
       "       entrepreneur_flg  auto_flg  traveler_flg  partnership_flg  child_amt  \\\n",
       "4                   0.0       0.0           0.0              1.0        0.0   \n",
       "9                   NaN       NaN           NaN              NaN        NaN   \n",
       "11                  NaN       NaN           NaN              NaN        NaN   \n",
       "14                  0.0       1.0           0.0              0.0        0.0   \n",
       "15                  0.0       0.0           0.0              0.0        0.0   \n",
       "...                 ...       ...           ...              ...        ...   \n",
       "15565               NaN       NaN           NaN              NaN        NaN   \n",
       "15566               0.0       0.0           0.0              1.0        1.0   \n",
       "15568               0.0       0.0           0.0              0.0        0.0   \n",
       "15569               1.0       1.0           1.0              1.0        1.0   \n",
       "15570               NaN       NaN           NaN              NaN        NaN   \n",
       "\n",
       "       ... emp_work_months_cnt emp_citizenship_country_cd  \\\n",
       "4      ...                   6                        RUS   \n",
       "9      ...                  10                        NaN   \n",
       "11     ...                   6                        RUS   \n",
       "14     ...                   6                        RUS   \n",
       "15     ...                   7                        NaN   \n",
       "...    ...                 ...                        ...   \n",
       "15565  ...                  11                        NaN   \n",
       "15566  ...                   2                        NaN   \n",
       "15568  ...                   6                        NaN   \n",
       "15569  ...                   4                        NaN   \n",
       "15570  ...                   8                        NaN   \n",
       "\n",
       "      emp_marital_status_cd  day_of_week  is_holiday approval_flg bundle_flg  \\\n",
       "4                       UNM            4           0            0        NaN   \n",
       "9                       NaN            2           0            0        NaN   \n",
       "11                      NaN            5           1            0        NaN   \n",
       "14                      NaN            3           0            0        NaN   \n",
       "15                      NaN            0           0            0        1.0   \n",
       "...                     ...          ...         ...          ...        ...   \n",
       "15565                   NaN            1           0            1        NaN   \n",
       "15566                   NaN            1           0            0        1.0   \n",
       "15568                   NaN            4           0            0        NaN   \n",
       "15569                   NaN            4           0            0        1.0   \n",
       "15570                   NaN            0           0            0        NaN   \n",
       "\n",
       "      segment_region  preapprove_flg child_flg  \n",
       "4                  1               1         0  \n",
       "9                  0               1         0  \n",
       "11                 0               1         0  \n",
       "14                 1               1         0  \n",
       "15                 1               1         0  \n",
       "...              ...             ...       ...  \n",
       "15565              0               1         0  \n",
       "15566              1               1         1  \n",
       "15568              1               1         0  \n",
       "15569              1               1         1  \n",
       "15570              0               1         0  \n",
       "\n",
       "[7935 rows x 35 columns]"
      ],
      "text/html": [
       "<div>\n",
       "<style scoped>\n",
       "    .dataframe tbody tr th:only-of-type {\n",
       "        vertical-align: middle;\n",
       "    }\n",
       "\n",
       "    .dataframe tbody tr th {\n",
       "        vertical-align: top;\n",
       "    }\n",
       "\n",
       "    .dataframe thead th {\n",
       "        text-align: right;\n",
       "    }\n",
       "</style>\n",
       "<table border=\"1\" class=\"dataframe\">\n",
       "  <thead>\n",
       "    <tr style=\"text-align: right;\">\n",
       "      <th></th>\n",
       "      <th>customer_id</th>\n",
       "      <th>age</th>\n",
       "      <th>gender_cd</th>\n",
       "      <th>region_size</th>\n",
       "      <th>foreign_flg</th>\n",
       "      <th>entrepreneur_flg</th>\n",
       "      <th>auto_flg</th>\n",
       "      <th>traveler_flg</th>\n",
       "      <th>partnership_flg</th>\n",
       "      <th>child_amt</th>\n",
       "      <th>...</th>\n",
       "      <th>emp_work_months_cnt</th>\n",
       "      <th>emp_citizenship_country_cd</th>\n",
       "      <th>emp_marital_status_cd</th>\n",
       "      <th>day_of_week</th>\n",
       "      <th>is_holiday</th>\n",
       "      <th>approval_flg</th>\n",
       "      <th>bundle_flg</th>\n",
       "      <th>segment_region</th>\n",
       "      <th>preapprove_flg</th>\n",
       "      <th>child_flg</th>\n",
       "    </tr>\n",
       "  </thead>\n",
       "  <tbody>\n",
       "    <tr>\n",
       "      <th>4</th>\n",
       "      <td>64946855</td>\n",
       "      <td>31.0</td>\n",
       "      <td>1.0</td>\n",
       "      <td>town</td>\n",
       "      <td>0.0</td>\n",
       "      <td>0.0</td>\n",
       "      <td>0.0</td>\n",
       "      <td>0.0</td>\n",
       "      <td>1.0</td>\n",
       "      <td>0.0</td>\n",
       "      <td>...</td>\n",
       "      <td>6</td>\n",
       "      <td>RUS</td>\n",
       "      <td>UNM</td>\n",
       "      <td>4</td>\n",
       "      <td>0</td>\n",
       "      <td>0</td>\n",
       "      <td>NaN</td>\n",
       "      <td>1</td>\n",
       "      <td>1</td>\n",
       "      <td>0</td>\n",
       "    </tr>\n",
       "    <tr>\n",
       "      <th>9</th>\n",
       "      <td>400159317</td>\n",
       "      <td>27.0</td>\n",
       "      <td>0.0</td>\n",
       "      <td>no</td>\n",
       "      <td>NaN</td>\n",
       "      <td>NaN</td>\n",
       "      <td>NaN</td>\n",
       "      <td>NaN</td>\n",
       "      <td>NaN</td>\n",
       "      <td>NaN</td>\n",
       "      <td>...</td>\n",
       "      <td>10</td>\n",
       "      <td>NaN</td>\n",
       "      <td>NaN</td>\n",
       "      <td>2</td>\n",
       "      <td>0</td>\n",
       "      <td>0</td>\n",
       "      <td>NaN</td>\n",
       "      <td>0</td>\n",
       "      <td>1</td>\n",
       "      <td>0</td>\n",
       "    </tr>\n",
       "    <tr>\n",
       "      <th>11</th>\n",
       "      <td>483808847</td>\n",
       "      <td>34.0</td>\n",
       "      <td>1.0</td>\n",
       "      <td>no</td>\n",
       "      <td>NaN</td>\n",
       "      <td>NaN</td>\n",
       "      <td>NaN</td>\n",
       "      <td>NaN</td>\n",
       "      <td>NaN</td>\n",
       "      <td>NaN</td>\n",
       "      <td>...</td>\n",
       "      <td>6</td>\n",
       "      <td>RUS</td>\n",
       "      <td>NaN</td>\n",
       "      <td>5</td>\n",
       "      <td>1</td>\n",
       "      <td>0</td>\n",
       "      <td>NaN</td>\n",
       "      <td>0</td>\n",
       "      <td>1</td>\n",
       "      <td>0</td>\n",
       "    </tr>\n",
       "    <tr>\n",
       "      <th>14</th>\n",
       "      <td>298761980</td>\n",
       "      <td>29.0</td>\n",
       "      <td>1.0</td>\n",
       "      <td>town</td>\n",
       "      <td>0.0</td>\n",
       "      <td>0.0</td>\n",
       "      <td>1.0</td>\n",
       "      <td>0.0</td>\n",
       "      <td>0.0</td>\n",
       "      <td>0.0</td>\n",
       "      <td>...</td>\n",
       "      <td>6</td>\n",
       "      <td>RUS</td>\n",
       "      <td>NaN</td>\n",
       "      <td>3</td>\n",
       "      <td>0</td>\n",
       "      <td>0</td>\n",
       "      <td>NaN</td>\n",
       "      <td>1</td>\n",
       "      <td>1</td>\n",
       "      <td>0</td>\n",
       "    </tr>\n",
       "    <tr>\n",
       "      <th>15</th>\n",
       "      <td>370004909</td>\n",
       "      <td>47.0</td>\n",
       "      <td>1.0</td>\n",
       "      <td>urban</td>\n",
       "      <td>0.0</td>\n",
       "      <td>0.0</td>\n",
       "      <td>0.0</td>\n",
       "      <td>0.0</td>\n",
       "      <td>0.0</td>\n",
       "      <td>0.0</td>\n",
       "      <td>...</td>\n",
       "      <td>7</td>\n",
       "      <td>NaN</td>\n",
       "      <td>NaN</td>\n",
       "      <td>0</td>\n",
       "      <td>0</td>\n",
       "      <td>0</td>\n",
       "      <td>1.0</td>\n",
       "      <td>1</td>\n",
       "      <td>1</td>\n",
       "      <td>0</td>\n",
       "    </tr>\n",
       "    <tr>\n",
       "      <th>...</th>\n",
       "      <td>...</td>\n",
       "      <td>...</td>\n",
       "      <td>...</td>\n",
       "      <td>...</td>\n",
       "      <td>...</td>\n",
       "      <td>...</td>\n",
       "      <td>...</td>\n",
       "      <td>...</td>\n",
       "      <td>...</td>\n",
       "      <td>...</td>\n",
       "      <td>...</td>\n",
       "      <td>...</td>\n",
       "      <td>...</td>\n",
       "      <td>...</td>\n",
       "      <td>...</td>\n",
       "      <td>...</td>\n",
       "      <td>...</td>\n",
       "      <td>...</td>\n",
       "      <td>...</td>\n",
       "      <td>...</td>\n",
       "      <td>...</td>\n",
       "    </tr>\n",
       "    <tr>\n",
       "      <th>15565</th>\n",
       "      <td>300003956</td>\n",
       "      <td>34.0</td>\n",
       "      <td>1.0</td>\n",
       "      <td>no</td>\n",
       "      <td>NaN</td>\n",
       "      <td>NaN</td>\n",
       "      <td>NaN</td>\n",
       "      <td>NaN</td>\n",
       "      <td>NaN</td>\n",
       "      <td>NaN</td>\n",
       "      <td>...</td>\n",
       "      <td>11</td>\n",
       "      <td>NaN</td>\n",
       "      <td>NaN</td>\n",
       "      <td>1</td>\n",
       "      <td>0</td>\n",
       "      <td>1</td>\n",
       "      <td>NaN</td>\n",
       "      <td>0</td>\n",
       "      <td>1</td>\n",
       "      <td>0</td>\n",
       "    </tr>\n",
       "    <tr>\n",
       "      <th>15566</th>\n",
       "      <td>374791483</td>\n",
       "      <td>31.0</td>\n",
       "      <td>0.0</td>\n",
       "      <td>town</td>\n",
       "      <td>0.0</td>\n",
       "      <td>0.0</td>\n",
       "      <td>0.0</td>\n",
       "      <td>0.0</td>\n",
       "      <td>1.0</td>\n",
       "      <td>1.0</td>\n",
       "      <td>...</td>\n",
       "      <td>2</td>\n",
       "      <td>NaN</td>\n",
       "      <td>NaN</td>\n",
       "      <td>1</td>\n",
       "      <td>0</td>\n",
       "      <td>0</td>\n",
       "      <td>1.0</td>\n",
       "      <td>1</td>\n",
       "      <td>1</td>\n",
       "      <td>1</td>\n",
       "    </tr>\n",
       "    <tr>\n",
       "      <th>15568</th>\n",
       "      <td>305526568</td>\n",
       "      <td>58.0</td>\n",
       "      <td>0.0</td>\n",
       "      <td>msk</td>\n",
       "      <td>0.0</td>\n",
       "      <td>0.0</td>\n",
       "      <td>0.0</td>\n",
       "      <td>0.0</td>\n",
       "      <td>0.0</td>\n",
       "      <td>0.0</td>\n",
       "      <td>...</td>\n",
       "      <td>6</td>\n",
       "      <td>NaN</td>\n",
       "      <td>NaN</td>\n",
       "      <td>4</td>\n",
       "      <td>0</td>\n",
       "      <td>0</td>\n",
       "      <td>NaN</td>\n",
       "      <td>1</td>\n",
       "      <td>1</td>\n",
       "      <td>0</td>\n",
       "    </tr>\n",
       "    <tr>\n",
       "      <th>15569</th>\n",
       "      <td>77876991</td>\n",
       "      <td>47.0</td>\n",
       "      <td>1.0</td>\n",
       "      <td>urban</td>\n",
       "      <td>0.0</td>\n",
       "      <td>1.0</td>\n",
       "      <td>1.0</td>\n",
       "      <td>1.0</td>\n",
       "      <td>1.0</td>\n",
       "      <td>1.0</td>\n",
       "      <td>...</td>\n",
       "      <td>4</td>\n",
       "      <td>NaN</td>\n",
       "      <td>NaN</td>\n",
       "      <td>4</td>\n",
       "      <td>0</td>\n",
       "      <td>0</td>\n",
       "      <td>1.0</td>\n",
       "      <td>1</td>\n",
       "      <td>1</td>\n",
       "      <td>1</td>\n",
       "    </tr>\n",
       "    <tr>\n",
       "      <th>15570</th>\n",
       "      <td>212981864</td>\n",
       "      <td>29.0</td>\n",
       "      <td>0.0</td>\n",
       "      <td>no</td>\n",
       "      <td>NaN</td>\n",
       "      <td>NaN</td>\n",
       "      <td>NaN</td>\n",
       "      <td>NaN</td>\n",
       "      <td>NaN</td>\n",
       "      <td>NaN</td>\n",
       "      <td>...</td>\n",
       "      <td>8</td>\n",
       "      <td>NaN</td>\n",
       "      <td>NaN</td>\n",
       "      <td>0</td>\n",
       "      <td>0</td>\n",
       "      <td>0</td>\n",
       "      <td>NaN</td>\n",
       "      <td>0</td>\n",
       "      <td>1</td>\n",
       "      <td>0</td>\n",
       "    </tr>\n",
       "  </tbody>\n",
       "</table>\n",
       "<p>7935 rows × 35 columns</p>\n",
       "</div>"
      ]
     },
     "execution_count": 123,
     "metadata": {},
     "output_type": "execute_result"
    }
   ],
   "execution_count": 123
  },
  {
   "metadata": {
    "ExecuteTime": {
     "end_time": "2024-11-29T10:29:13.471627Z",
     "start_time": "2024-11-29T10:29:13.462755Z"
    }
   },
   "cell_type": "code",
   "source": "df.groupby('child_flg')['approval_flg'].agg(mean='mean', count='count')",
   "id": "155f39bf5be6f23b",
   "outputs": [
    {
     "data": {
      "text/plain": [
       "               mean  count\n",
       "child_flg                 \n",
       "0          0.032594   6627\n",
       "1          0.042049   1308"
      ],
      "text/html": [
       "<div>\n",
       "<style scoped>\n",
       "    .dataframe tbody tr th:only-of-type {\n",
       "        vertical-align: middle;\n",
       "    }\n",
       "\n",
       "    .dataframe tbody tr th {\n",
       "        vertical-align: top;\n",
       "    }\n",
       "\n",
       "    .dataframe thead th {\n",
       "        text-align: right;\n",
       "    }\n",
       "</style>\n",
       "<table border=\"1\" class=\"dataframe\">\n",
       "  <thead>\n",
       "    <tr style=\"text-align: right;\">\n",
       "      <th></th>\n",
       "      <th>mean</th>\n",
       "      <th>count</th>\n",
       "    </tr>\n",
       "    <tr>\n",
       "      <th>child_flg</th>\n",
       "      <th></th>\n",
       "      <th></th>\n",
       "    </tr>\n",
       "  </thead>\n",
       "  <tbody>\n",
       "    <tr>\n",
       "      <th>0</th>\n",
       "      <td>0.032594</td>\n",
       "      <td>6627</td>\n",
       "    </tr>\n",
       "    <tr>\n",
       "      <th>1</th>\n",
       "      <td>0.042049</td>\n",
       "      <td>1308</td>\n",
       "    </tr>\n",
       "  </tbody>\n",
       "</table>\n",
       "</div>"
      ]
     },
     "execution_count": 124,
     "metadata": {},
     "output_type": "execute_result"
    }
   ],
   "execution_count": 124
  },
  {
   "metadata": {
    "ExecuteTime": {
     "end_time": "2024-11-29T10:29:13.746641Z",
     "start_time": "2024-11-29T10:29:13.739836Z"
    }
   },
   "cell_type": "code",
   "source": "df.groupby('is_holiday')['approval_flg'].agg(mean='mean', count='count')",
   "id": "20966abcffdf4938",
   "outputs": [
    {
     "data": {
      "text/plain": [
       "                mean  count\n",
       "is_holiday                 \n",
       "0           0.034108   7359\n",
       "1           0.034722    576"
      ],
      "text/html": [
       "<div>\n",
       "<style scoped>\n",
       "    .dataframe tbody tr th:only-of-type {\n",
       "        vertical-align: middle;\n",
       "    }\n",
       "\n",
       "    .dataframe tbody tr th {\n",
       "        vertical-align: top;\n",
       "    }\n",
       "\n",
       "    .dataframe thead th {\n",
       "        text-align: right;\n",
       "    }\n",
       "</style>\n",
       "<table border=\"1\" class=\"dataframe\">\n",
       "  <thead>\n",
       "    <tr style=\"text-align: right;\">\n",
       "      <th></th>\n",
       "      <th>mean</th>\n",
       "      <th>count</th>\n",
       "    </tr>\n",
       "    <tr>\n",
       "      <th>is_holiday</th>\n",
       "      <th></th>\n",
       "      <th></th>\n",
       "    </tr>\n",
       "  </thead>\n",
       "  <tbody>\n",
       "    <tr>\n",
       "      <th>0</th>\n",
       "      <td>0.034108</td>\n",
       "      <td>7359</td>\n",
       "    </tr>\n",
       "    <tr>\n",
       "      <th>1</th>\n",
       "      <td>0.034722</td>\n",
       "      <td>576</td>\n",
       "    </tr>\n",
       "  </tbody>\n",
       "</table>\n",
       "</div>"
      ]
     },
     "execution_count": 125,
     "metadata": {},
     "output_type": "execute_result"
    }
   ],
   "execution_count": 125
  },
  {
   "metadata": {
    "ExecuteTime": {
     "end_time": "2024-11-29T10:29:14.143614Z",
     "start_time": "2024-11-29T10:29:14.116509Z"
    }
   },
   "cell_type": "code",
   "source": [
    "no = df[df['bundle_nm'] == '0']['approval_flg']\n",
    "pro = df[df['bundle_nm'] == 'Pro']['approval_flg']\n",
    "premium = df[df['bundle_nm'] == 'Premium']['approval_flg']"
   ],
   "id": "a780663c9530de25",
   "outputs": [],
   "execution_count": 126
  },
  {
   "metadata": {
    "ExecuteTime": {
     "end_time": "2024-11-29T10:29:14.942602Z",
     "start_time": "2024-11-29T10:29:14.928317Z"
    }
   },
   "cell_type": "code",
   "source": "st.mannwhitneyu(no, pro)[1].round(3)",
   "id": "41102ebb9fc4e060",
   "outputs": [
    {
     "data": {
      "text/plain": [
       "np.float64(0.026)"
      ]
     },
     "execution_count": 127,
     "metadata": {},
     "output_type": "execute_result"
    }
   ],
   "execution_count": 127
  },
  {
   "metadata": {
    "ExecuteTime": {
     "end_time": "2024-11-29T10:29:15.415772Z",
     "start_time": "2024-11-29T10:29:15.407460Z"
    }
   },
   "cell_type": "code",
   "source": [
    "df = df[(df['bundle_nm'] == '0') | (df['bundle_nm'] == 'Pro')]\n",
    "df.bundle_nm = df.bundle_nm.map({'Pro': 1, '0': 0})"
   ],
   "id": "7bc033719e3248aa",
   "outputs": [],
   "execution_count": 128
  },
  {
   "metadata": {
    "ExecuteTime": {
     "end_time": "2024-11-29T10:29:16.078515Z",
     "start_time": "2024-11-29T10:29:16.020741Z"
    }
   },
   "cell_type": "code",
   "source": [
    "X = df[['bundle_nm', 'age', 'gender_cd', 'child_flg']]\n",
    "y = df['approval_flg']\n",
    "\n",
    "X = sm.add_constant(X)\n",
    "\n",
    "probit_model = sm.Probit(y, X)\n",
    "probit_result = probit_model.fit()\n",
    "\n",
    "\n",
    "print(probit_result.summary())"
   ],
   "id": "4e9f0265e2cacb9e",
   "outputs": [
    {
     "name": "stdout",
     "output_type": "stream",
     "text": [
      "Optimization terminated successfully.\n",
      "         Current function value: 0.148314\n",
      "         Iterations 7\n",
      "                          Probit Regression Results                           \n",
      "==============================================================================\n",
      "Dep. Variable:           approval_flg   No. Observations:                 7830\n",
      "Model:                         Probit   Df Residuals:                     7825\n",
      "Method:                           MLE   Df Model:                            4\n",
      "Date:                Fri, 29 Nov 2024   Pseudo R-squ.:                 0.01121\n",
      "Time:                        20:29:16   Log-Likelihood:                -1161.3\n",
      "converged:                       True   LL-Null:                       -1174.5\n",
      "Covariance Type:            nonrobust   LLR p-value:                 2.722e-05\n",
      "==============================================================================\n",
      "                 coef    std err          z      P>|z|      [0.025      0.975]\n",
      "------------------------------------------------------------------------------\n",
      "const         -2.1291      0.105    -20.230      0.000      -2.335      -1.923\n",
      "bundle_nm     -0.1846      0.075     -2.445      0.014      -0.333      -0.037\n",
      "age            0.0053      0.002      2.304      0.021       0.001       0.010\n",
      "gender_cd      0.1975      0.055      3.573      0.000       0.089       0.306\n",
      "child_flg      0.1538      0.070      2.187      0.029       0.016       0.292\n",
      "==============================================================================\n"
     ]
    }
   ],
   "execution_count": 129
  },
  {
   "metadata": {},
   "cell_type": "markdown",
   "source": "<h2>Пол сотрудника, Upsell</h2>",
   "id": "2755a063d63e3af8"
  },
  {
   "metadata": {
    "ExecuteTime": {
     "end_time": "2024-11-29T04:31:47.943636Z",
     "start_time": "2024-11-29T04:31:47.885080Z"
    }
   },
   "cell_type": "code",
   "source": "df = pd.read_csv('data_preprocessed_sort.csv')",
   "id": "53096276feb6c3c5",
   "outputs": [],
   "execution_count": 38
  },
  {
   "metadata": {
    "ExecuteTime": {
     "end_time": "2024-11-29T04:26:53.314324Z",
     "start_time": "2024-11-29T04:26:53.305352Z"
    }
   },
   "cell_type": "code",
   "source": "df = df.dropna(subset=['emp_gender_cd'])",
   "id": "34af48e579d0a783",
   "outputs": [],
   "execution_count": 30
  },
  {
   "metadata": {
    "ExecuteTime": {
     "end_time": "2024-11-29T04:26:54.693947Z",
     "start_time": "2024-11-29T04:26:54.680520Z"
    }
   },
   "cell_type": "code",
   "source": [
    "gr1 = df[df['upsell_flg'] == 1].groupby(['emp_gender_cd'])['approval_flg'].agg(mean='mean', count='count').reset_index()\n",
    "gr1"
   ],
   "id": "d904a8837367c9a0",
   "outputs": [
    {
     "data": {
      "text/plain": [
       "   emp_gender_cd      mean  count\n",
       "0            0.0  0.062992    889\n",
       "1            1.0  0.039062    128"
      ],
      "text/html": [
       "<div>\n",
       "<style scoped>\n",
       "    .dataframe tbody tr th:only-of-type {\n",
       "        vertical-align: middle;\n",
       "    }\n",
       "\n",
       "    .dataframe tbody tr th {\n",
       "        vertical-align: top;\n",
       "    }\n",
       "\n",
       "    .dataframe thead th {\n",
       "        text-align: right;\n",
       "    }\n",
       "</style>\n",
       "<table border=\"1\" class=\"dataframe\">\n",
       "  <thead>\n",
       "    <tr style=\"text-align: right;\">\n",
       "      <th></th>\n",
       "      <th>emp_gender_cd</th>\n",
       "      <th>mean</th>\n",
       "      <th>count</th>\n",
       "    </tr>\n",
       "  </thead>\n",
       "  <tbody>\n",
       "    <tr>\n",
       "      <th>0</th>\n",
       "      <td>0.0</td>\n",
       "      <td>0.062992</td>\n",
       "      <td>889</td>\n",
       "    </tr>\n",
       "    <tr>\n",
       "      <th>1</th>\n",
       "      <td>1.0</td>\n",
       "      <td>0.039062</td>\n",
       "      <td>128</td>\n",
       "    </tr>\n",
       "  </tbody>\n",
       "</table>\n",
       "</div>"
      ]
     },
     "execution_count": 31,
     "metadata": {},
     "output_type": "execute_result"
    }
   ],
   "execution_count": 31
  },
  {
   "metadata": {
    "ExecuteTime": {
     "end_time": "2024-11-29T04:26:56.184635Z",
     "start_time": "2024-11-29T04:26:56.084200Z"
    }
   },
   "cell_type": "code",
   "source": "sns.barplot(data=gr1, x='emp_gender_cd', y='mean')",
   "id": "849dda193c6a5f38",
   "outputs": [
    {
     "data": {
      "text/plain": [
       "<Axes: xlabel='emp_gender_cd', ylabel='mean'>"
      ]
     },
     "execution_count": 32,
     "metadata": {},
     "output_type": "execute_result"
    },
    {
     "data": {
      "text/plain": [
       "<Figure size 640x480 with 1 Axes>"
      ],
      "image/png": "[encoded data removed]"
     },
     "metadata": {},
     "output_type": "display_data"
    }
   ],
   "execution_count": 32
  },
  {
   "metadata": {
    "ExecuteTime": {
     "end_time": "2024-11-29T04:29:45.411138Z",
     "start_time": "2024-11-29T04:29:45.387855Z"
    }
   },
   "cell_type": "code",
   "source": [
    "gr1_w = df[(df['upsell_flg'] == 1) & (df['emp_gender_cd'] == 0)]['approval_flg']\n",
    "gr1_m = df[(df['upsell_flg'] == 1) & (df['emp_gender_cd'] == 1)]['approval_flg']\n",
    "\n",
    "st.mannwhitneyu(gr1_w, gr1_m)"
   ],
   "id": "9ffa41ad0bff4777",
   "outputs": [
    {
     "data": {
      "text/plain": [
       "MannwhitneyuResult(statistic=np.float64(58257.5), pvalue=np.float64(0.28683638181511506))"
      ]
     },
     "execution_count": 36,
     "metadata": {},
     "output_type": "execute_result"
    }
   ],
   "execution_count": 36
  },
  {
   "metadata": {},
   "cell_type": "markdown",
   "source": "<h2>Регион, Upsell</h2>",
   "id": "59628083867c4c10"
  },
  {
   "metadata": {
    "ExecuteTime": {
     "end_time": "2024-11-29T06:12:10.300523Z",
     "start_time": "2024-11-29T06:12:10.235357Z"
    }
   },
   "cell_type": "code",
   "source": [
    "df = pd.read_csv('data_preprocessed_sort.csv')\n",
    "df = df[df['upsell_flg'] == 1]"
   ],
   "id": "c3ff4d7b6a1a1f5",
   "outputs": [],
   "execution_count": 59
  },
  {
   "metadata": {
    "ExecuteTime": {
     "end_time": "2024-11-29T04:33:50.433239Z",
     "start_time": "2024-11-29T04:33:50.405664Z"
    }
   },
   "cell_type": "code",
   "source": "df",
   "id": "90f13b8bf8096446",
   "outputs": [
    {
     "data": {
      "text/plain": [
       "       customer_id   age  gender_cd region_size  foreign_flg  \\\n",
       "1        348648289  44.0        1.0       rural          0.0   \n",
       "7         67061355  41.0        0.0       urban          0.0   \n",
       "31       340875191  27.0        1.0        town          0.0   \n",
       "46       306996870  23.0        1.0        town          0.0   \n",
       "50       424434138  32.0        0.0        town          0.0   \n",
       "...            ...   ...        ...         ...          ...   \n",
       "15683    195331645  42.0        1.0       rural          0.0   \n",
       "15693    364152724  22.0        0.0          no          NaN   \n",
       "15733    132276320  38.0        0.0        town          0.0   \n",
       "15755    507728915  52.0        1.0        town          0.0   \n",
       "15772    212772018  21.0        1.0       urban          0.0   \n",
       "\n",
       "       entrepreneur_flg  auto_flg  traveler_flg  partnership_flg  child_amt  \\\n",
       "1                   0.0       0.0           0.0              1.0        1.0   \n",
       "7                   1.0       1.0           0.0              1.0        1.0   \n",
       "31                  0.0       0.0           0.0              0.0        0.0   \n",
       "46                  0.0       0.0           0.0              1.0        0.0   \n",
       "50                  0.0       0.0           0.0              1.0        1.0   \n",
       "...                 ...       ...           ...              ...        ...   \n",
       "15683               0.0       1.0           0.0              1.0        1.0   \n",
       "15693               NaN       NaN           NaN              NaN        NaN   \n",
       "15733               0.0       1.0           0.0              1.0        1.0   \n",
       "15755               0.0       0.0           0.0              1.0        0.0   \n",
       "15772               0.0       1.0           0.0              0.0        0.0   \n",
       "\n",
       "       ... emp_children_cnt emp_work_months_cnt emp_citizenship_country_cd  \\\n",
       "1      ...              NaN                   2                        RUS   \n",
       "7      ...              NaN                   7                        NaN   \n",
       "31     ...              NaN                   9                        NaN   \n",
       "46     ...              NaN                   3                        RUS   \n",
       "50     ...              NaN                   8                        NaN   \n",
       "...    ...              ...                 ...                        ...   \n",
       "15683  ...              NaN                   6                        NaN   \n",
       "15693  ...              NaN                   6                        NaN   \n",
       "15733  ...              NaN                   6                        NaN   \n",
       "15755  ...              NaN                   4                        RUS   \n",
       "15772  ...              NaN                   6                        NaN   \n",
       "\n",
       "       emp_marital_status_cd  day_of_week is_holiday approval_flg bundle_flg  \\\n",
       "1                        NaN            2          0            0        1.0   \n",
       "7                        NaN            0          0            0        NaN   \n",
       "31                       NaN            2          0            0        NaN   \n",
       "46                       UNM            2          0            0        1.0   \n",
       "50                       NaN            4          0            0        NaN   \n",
       "...                      ...          ...        ...          ...        ...   \n",
       "15683                    NaN            0          0            0        NaN   \n",
       "15693                    NaN            5          1            0        NaN   \n",
       "15733                    NaN            1          0            0        NaN   \n",
       "15755                    NaN            1          0            0        NaN   \n",
       "15772                    NaN            3          0            0        1.0   \n",
       "\n",
       "       segment_region upsell_flg  \n",
       "1                   0          1  \n",
       "7                   1          1  \n",
       "31                  1          1  \n",
       "46                  1          1  \n",
       "50                  1          1  \n",
       "...               ...        ...  \n",
       "15683               0          1  \n",
       "15693               0          1  \n",
       "15733               1          1  \n",
       "15755               1          1  \n",
       "15772               1          1  \n",
       "\n",
       "[1124 rows x 34 columns]"
      ],
      "text/html": [
       "<div>\n",
       "<style scoped>\n",
       "    .dataframe tbody tr th:only-of-type {\n",
       "        vertical-align: middle;\n",
       "    }\n",
       "\n",
       "    .dataframe tbody tr th {\n",
       "        vertical-align: top;\n",
       "    }\n",
       "\n",
       "    .dataframe thead th {\n",
       "        text-align: right;\n",
       "    }\n",
       "</style>\n",
       "<table border=\"1\" class=\"dataframe\">\n",
       "  <thead>\n",
       "    <tr style=\"text-align: right;\">\n",
       "      <th></th>\n",
       "      <th>customer_id</th>\n",
       "      <th>age</th>\n",
       "      <th>gender_cd</th>\n",
       "      <th>region_size</th>\n",
       "      <th>foreign_flg</th>\n",
       "      <th>entrepreneur_flg</th>\n",
       "      <th>auto_flg</th>\n",
       "      <th>traveler_flg</th>\n",
       "      <th>partnership_flg</th>\n",
       "      <th>child_amt</th>\n",
       "      <th>...</th>\n",
       "      <th>emp_children_cnt</th>\n",
       "      <th>emp_work_months_cnt</th>\n",
       "      <th>emp_citizenship_country_cd</th>\n",
       "      <th>emp_marital_status_cd</th>\n",
       "      <th>day_of_week</th>\n",
       "      <th>is_holiday</th>\n",
       "      <th>approval_flg</th>\n",
       "      <th>bundle_flg</th>\n",
       "      <th>segment_region</th>\n",
       "      <th>upsell_flg</th>\n",
       "    </tr>\n",
       "  </thead>\n",
       "  <tbody>\n",
       "    <tr>\n",
       "      <th>1</th>\n",
       "      <td>348648289</td>\n",
       "      <td>44.0</td>\n",
       "      <td>1.0</td>\n",
       "      <td>rural</td>\n",
       "      <td>0.0</td>\n",
       "      <td>0.0</td>\n",
       "      <td>0.0</td>\n",
       "      <td>0.0</td>\n",
       "      <td>1.0</td>\n",
       "      <td>1.0</td>\n",
       "      <td>...</td>\n",
       "      <td>NaN</td>\n",
       "      <td>2</td>\n",
       "      <td>RUS</td>\n",
       "      <td>NaN</td>\n",
       "      <td>2</td>\n",
       "      <td>0</td>\n",
       "      <td>0</td>\n",
       "      <td>1.0</td>\n",
       "      <td>0</td>\n",
       "      <td>1</td>\n",
       "    </tr>\n",
       "    <tr>\n",
       "      <th>7</th>\n",
       "      <td>67061355</td>\n",
       "      <td>41.0</td>\n",
       "      <td>0.0</td>\n",
       "      <td>urban</td>\n",
       "      <td>0.0</td>\n",
       "      <td>1.0</td>\n",
       "      <td>1.0</td>\n",
       "      <td>0.0</td>\n",
       "      <td>1.0</td>\n",
       "      <td>1.0</td>\n",
       "      <td>...</td>\n",
       "      <td>NaN</td>\n",
       "      <td>7</td>\n",
       "      <td>NaN</td>\n",
       "      <td>NaN</td>\n",
       "      <td>0</td>\n",
       "      <td>0</td>\n",
       "      <td>0</td>\n",
       "      <td>NaN</td>\n",
       "      <td>1</td>\n",
       "      <td>1</td>\n",
       "    </tr>\n",
       "    <tr>\n",
       "      <th>31</th>\n",
       "      <td>340875191</td>\n",
       "      <td>27.0</td>\n",
       "      <td>1.0</td>\n",
       "      <td>town</td>\n",
       "      <td>0.0</td>\n",
       "      <td>0.0</td>\n",
       "      <td>0.0</td>\n",
       "      <td>0.0</td>\n",
       "      <td>0.0</td>\n",
       "      <td>0.0</td>\n",
       "      <td>...</td>\n",
       "      <td>NaN</td>\n",
       "      <td>9</td>\n",
       "      <td>NaN</td>\n",
       "      <td>NaN</td>\n",
       "      <td>2</td>\n",
       "      <td>0</td>\n",
       "      <td>0</td>\n",
       "      <td>NaN</td>\n",
       "      <td>1</td>\n",
       "      <td>1</td>\n",
       "    </tr>\n",
       "    <tr>\n",
       "      <th>46</th>\n",
       "      <td>306996870</td>\n",
       "      <td>23.0</td>\n",
       "      <td>1.0</td>\n",
       "      <td>town</td>\n",
       "      <td>0.0</td>\n",
       "      <td>0.0</td>\n",
       "      <td>0.0</td>\n",
       "      <td>0.0</td>\n",
       "      <td>1.0</td>\n",
       "      <td>0.0</td>\n",
       "      <td>...</td>\n",
       "      <td>NaN</td>\n",
       "      <td>3</td>\n",
       "      <td>RUS</td>\n",
       "      <td>UNM</td>\n",
       "      <td>2</td>\n",
       "      <td>0</td>\n",
       "      <td>0</td>\n",
       "      <td>1.0</td>\n",
       "      <td>1</td>\n",
       "      <td>1</td>\n",
       "    </tr>\n",
       "    <tr>\n",
       "      <th>50</th>\n",
       "      <td>424434138</td>\n",
       "      <td>32.0</td>\n",
       "      <td>0.0</td>\n",
       "      <td>town</td>\n",
       "      <td>0.0</td>\n",
       "      <td>0.0</td>\n",
       "      <td>0.0</td>\n",
       "      <td>0.0</td>\n",
       "      <td>1.0</td>\n",
       "      <td>1.0</td>\n",
       "      <td>...</td>\n",
       "      <td>NaN</td>\n",
       "      <td>8</td>\n",
       "      <td>NaN</td>\n",
       "      <td>NaN</td>\n",
       "      <td>4</td>\n",
       "      <td>0</td>\n",
       "      <td>0</td>\n",
       "      <td>NaN</td>\n",
       "      <td>1</td>\n",
       "      <td>1</td>\n",
       "    </tr>\n",
       "    <tr>\n",
       "      <th>...</th>\n",
       "      <td>...</td>\n",
       "      <td>...</td>\n",
       "      <td>...</td>\n",
       "      <td>...</td>\n",
       "      <td>...</td>\n",
       "      <td>...</td>\n",
       "      <td>...</td>\n",
       "      <td>...</td>\n",
       "      <td>...</td>\n",
       "      <td>...</td>\n",
       "      <td>...</td>\n",
       "      <td>...</td>\n",
       "      <td>...</td>\n",
       "      <td>...</td>\n",
       "      <td>...</td>\n",
       "      <td>...</td>\n",
       "      <td>...</td>\n",
       "      <td>...</td>\n",
       "      <td>...</td>\n",
       "      <td>...</td>\n",
       "      <td>...</td>\n",
       "    </tr>\n",
       "    <tr>\n",
       "      <th>15683</th>\n",
       "      <td>195331645</td>\n",
       "      <td>42.0</td>\n",
       "      <td>1.0</td>\n",
       "      <td>rural</td>\n",
       "      <td>0.0</td>\n",
       "      <td>0.0</td>\n",
       "      <td>1.0</td>\n",
       "      <td>0.0</td>\n",
       "      <td>1.0</td>\n",
       "      <td>1.0</td>\n",
       "      <td>...</td>\n",
       "      <td>NaN</td>\n",
       "      <td>6</td>\n",
       "      <td>NaN</td>\n",
       "      <td>NaN</td>\n",
       "      <td>0</td>\n",
       "      <td>0</td>\n",
       "      <td>0</td>\n",
       "      <td>NaN</td>\n",
       "      <td>0</td>\n",
       "      <td>1</td>\n",
       "    </tr>\n",
       "    <tr>\n",
       "      <th>15693</th>\n",
       "      <td>364152724</td>\n",
       "      <td>22.0</td>\n",
       "      <td>0.0</td>\n",
       "      <td>no</td>\n",
       "      <td>NaN</td>\n",
       "      <td>NaN</td>\n",
       "      <td>NaN</td>\n",
       "      <td>NaN</td>\n",
       "      <td>NaN</td>\n",
       "      <td>NaN</td>\n",
       "      <td>...</td>\n",
       "      <td>NaN</td>\n",
       "      <td>6</td>\n",
       "      <td>NaN</td>\n",
       "      <td>NaN</td>\n",
       "      <td>5</td>\n",
       "      <td>1</td>\n",
       "      <td>0</td>\n",
       "      <td>NaN</td>\n",
       "      <td>0</td>\n",
       "      <td>1</td>\n",
       "    </tr>\n",
       "    <tr>\n",
       "      <th>15733</th>\n",
       "      <td>132276320</td>\n",
       "      <td>38.0</td>\n",
       "      <td>0.0</td>\n",
       "      <td>town</td>\n",
       "      <td>0.0</td>\n",
       "      <td>0.0</td>\n",
       "      <td>1.0</td>\n",
       "      <td>0.0</td>\n",
       "      <td>1.0</td>\n",
       "      <td>1.0</td>\n",
       "      <td>...</td>\n",
       "      <td>NaN</td>\n",
       "      <td>6</td>\n",
       "      <td>NaN</td>\n",
       "      <td>NaN</td>\n",
       "      <td>1</td>\n",
       "      <td>0</td>\n",
       "      <td>0</td>\n",
       "      <td>NaN</td>\n",
       "      <td>1</td>\n",
       "      <td>1</td>\n",
       "    </tr>\n",
       "    <tr>\n",
       "      <th>15755</th>\n",
       "      <td>507728915</td>\n",
       "      <td>52.0</td>\n",
       "      <td>1.0</td>\n",
       "      <td>town</td>\n",
       "      <td>0.0</td>\n",
       "      <td>0.0</td>\n",
       "      <td>0.0</td>\n",
       "      <td>0.0</td>\n",
       "      <td>1.0</td>\n",
       "      <td>0.0</td>\n",
       "      <td>...</td>\n",
       "      <td>NaN</td>\n",
       "      <td>4</td>\n",
       "      <td>RUS</td>\n",
       "      <td>NaN</td>\n",
       "      <td>1</td>\n",
       "      <td>0</td>\n",
       "      <td>0</td>\n",
       "      <td>NaN</td>\n",
       "      <td>1</td>\n",
       "      <td>1</td>\n",
       "    </tr>\n",
       "    <tr>\n",
       "      <th>15772</th>\n",
       "      <td>212772018</td>\n",
       "      <td>21.0</td>\n",
       "      <td>1.0</td>\n",
       "      <td>urban</td>\n",
       "      <td>0.0</td>\n",
       "      <td>0.0</td>\n",
       "      <td>1.0</td>\n",
       "      <td>0.0</td>\n",
       "      <td>0.0</td>\n",
       "      <td>0.0</td>\n",
       "      <td>...</td>\n",
       "      <td>NaN</td>\n",
       "      <td>6</td>\n",
       "      <td>NaN</td>\n",
       "      <td>NaN</td>\n",
       "      <td>3</td>\n",
       "      <td>0</td>\n",
       "      <td>0</td>\n",
       "      <td>1.0</td>\n",
       "      <td>1</td>\n",
       "      <td>1</td>\n",
       "    </tr>\n",
       "  </tbody>\n",
       "</table>\n",
       "<p>1124 rows × 34 columns</p>\n",
       "</div>"
      ]
     },
     "execution_count": 49,
     "metadata": {},
     "output_type": "execute_result"
    }
   ],
   "execution_count": 49
  },
  {
   "metadata": {
    "ExecuteTime": {
     "end_time": "2024-11-29T04:34:16.901903Z",
     "start_time": "2024-11-29T04:34:16.892708Z"
    }
   },
   "cell_type": "code",
   "source": [
    "gr2 = df.groupby(['segment_region'])['approval_flg'].agg(mean='mean', count='count').reset_index()\n",
    "gr2"
   ],
   "id": "a15e1b02b5f5449b",
   "outputs": [
    {
     "data": {
      "text/plain": [
       "   segment_region      mean  count\n",
       "0               0  0.073770    366\n",
       "1               1  0.055409    758"
      ],
      "text/html": [
       "<div>\n",
       "<style scoped>\n",
       "    .dataframe tbody tr th:only-of-type {\n",
       "        vertical-align: middle;\n",
       "    }\n",
       "\n",
       "    .dataframe tbody tr th {\n",
       "        vertical-align: top;\n",
       "    }\n",
       "\n",
       "    .dataframe thead th {\n",
       "        text-align: right;\n",
       "    }\n",
       "</style>\n",
       "<table border=\"1\" class=\"dataframe\">\n",
       "  <thead>\n",
       "    <tr style=\"text-align: right;\">\n",
       "      <th></th>\n",
       "      <th>segment_region</th>\n",
       "      <th>mean</th>\n",
       "      <th>count</th>\n",
       "    </tr>\n",
       "  </thead>\n",
       "  <tbody>\n",
       "    <tr>\n",
       "      <th>0</th>\n",
       "      <td>0</td>\n",
       "      <td>0.073770</td>\n",
       "      <td>366</td>\n",
       "    </tr>\n",
       "    <tr>\n",
       "      <th>1</th>\n",
       "      <td>1</td>\n",
       "      <td>0.055409</td>\n",
       "      <td>758</td>\n",
       "    </tr>\n",
       "  </tbody>\n",
       "</table>\n",
       "</div>"
      ]
     },
     "execution_count": 50,
     "metadata": {},
     "output_type": "execute_result"
    }
   ],
   "execution_count": 50
  },
  {
   "metadata": {
    "ExecuteTime": {
     "end_time": "2024-11-29T04:35:25.531219Z",
     "start_time": "2024-11-29T04:35:25.524509Z"
    }
   },
   "cell_type": "code",
   "source": [
    "gr2_0 = df[df['segment_region'] == 0]['approval_flg']\n",
    "gr2_1 = df[df['segment_region'] == 1]['approval_flg']\n",
    "\n",
    "st.mannwhitneyu(gr2_0, gr2_1)"
   ],
   "id": "b9e431ba0d55ecba",
   "outputs": [
    {
     "data": {
      "text/plain": [
       "MannwhitneyuResult(statistic=np.float64(141261.0), pvalue=np.float64(0.2297569659075408))"
      ]
     },
     "execution_count": 52,
     "metadata": {},
     "output_type": "execute_result"
    }
   ],
   "execution_count": 52
  },
  {
   "metadata": {
    "ExecuteTime": {
     "end_time": "2024-11-29T06:10:11.557227Z",
     "start_time": "2024-11-29T06:10:11.548792Z"
    }
   },
   "cell_type": "code",
   "source": "df[df['segment_region'] == 0]['approval_flg'].value_counts()[1]",
   "id": "7196529f4ff93bbe",
   "outputs": [
    {
     "data": {
      "text/plain": [
       "np.int64(27)"
      ]
     },
     "execution_count": 56,
     "metadata": {},
     "output_type": "execute_result"
    }
   ],
   "execution_count": 56
  },
  {
   "metadata": {
    "ExecuteTime": {
     "end_time": "2024-11-29T06:12:13.427853Z",
     "start_time": "2024-11-29T06:12:13.417252Z"
    }
   },
   "cell_type": "code",
   "source": [
    "import numpy as np\n",
    "import statsmodels.api as sm\n",
    "import statsmodels.stats as stats\n",
    "\n",
    "# Данные\n",
    "n1 = df[df['segment_region'] == 0]['approval_flg'].shape[0]\n",
    "n2 = df[df['segment_region'] == 1]['approval_flg'].shape[0]\n",
    "x1 = df[df['segment_region'] == 0]['approval_flg'].value_counts()[1]\n",
    "x2 = df[df['segment_region'] == 1]['approval_flg'].value_counts()[1]\n",
    "\n",
    "# Пропорции\n",
    "p1 = x1 / n1\n",
    "p2 = x2 / n2\n",
    "\n",
    "# Z-тест для пропорций\n",
    "count = np.array([x1, x2])\n",
    "nobs = np.array([n1, n2])\n",
    "z_score, p_value = stats.proportion.proportions_ztest(count, nobs)\n",
    "\n",
    "# Результаты\n",
    "print(f\"Z-статистика: {z_score}\")\n",
    "print(f\"P-значение: {p_value}\")\n",
    "\n",
    "# Проверка на уровне значимости 0.05\n",
    "alpha = 0.05\n",
    "if p_value < alpha:\n",
    "    print(\"Отвергаем нулевую гипотезу: доля единичек в первой выборке больше.\")\n",
    "else:\n",
    "    print(\"Нет оснований отвергать нулевую гипотезу.\")"
   ],
   "id": "7dac4b6f3ff7ca4f",
   "outputs": [
    {
     "name": "stdout",
     "output_type": "stream",
     "text": [
      "Z-статистика: 1.2017556580911142\n",
      "P-значение: 0.22945820990762578\n",
      "Нет оснований отвергать нулевую гипотезу.\n"
     ]
    }
   ],
   "execution_count": 60
  },
  {
   "metadata": {
    "ExecuteTime": {
     "end_time": "2024-11-29T06:13:16.251186Z",
     "start_time": "2024-11-29T06:13:16.240216Z"
    }
   },
   "cell_type": "code",
   "source": [
    "import numpy as np\n",
    "from scipy.stats import chi2_contingency\n",
    "\n",
    "# Данные: количество успехов и неудач в каждой группе\n",
    "# Группа A: 30 успехов и 20 неудач (50 - 30)\n",
    "# Группа B: 20 успехов и 30 неудач (50 - 20)\n",
    "\n",
    "successes_A = df[df['segment_region'] == 0]['approval_flg'].value_counts()[1]\n",
    "failures_A = df[df['segment_region'] == 0]['approval_flg'].shape[0]\n",
    "successes_B = df[df['segment_region'] == 1]['approval_flg'].value_counts()[1]\n",
    "failures_B = df[df['segment_region'] == 1]['approval_flg'].shape[0]\n",
    "\n",
    "# Создание таблицы сопряженности\n",
    "contingency_table = np.array([[successes_A, failures_A],\n",
    "                               [successes_B, failures_B]])\n",
    "\n",
    "# Применение хи-квадрат теста\n",
    "chi2, p_value, _, _ = chi2_contingency(contingency_table)\n",
    "\n",
    "# Вывод результатов\n",
    "print(f\"Chi-squared statistic: {chi2}\")\n",
    "print(f\"P-value: {p_value}\")\n",
    "\n",
    "# Проверка значимости\n",
    "alpha = 0.05\n",
    "if p_value < alpha:\n",
    "    print(\"Отвергаем нулевую гипотезу: различие между группами статистически значимо.\")\n",
    "else:\n",
    "    print(\"Не отвергаем нулевую гипотезу: различие между группами не статистически значимо.\")"
   ],
   "id": "2e156952c7a1dc47",
   "outputs": [
    {
     "name": "stdout",
     "output_type": "stream",
     "text": [
      "Chi-squared statistic: 0.9896573361785401\n",
      "P-value: 0.31982613894293377\n",
      "Не отвергаем нулевую гипотезу: различие между группами не статистически значимо.\n"
     ]
    }
   ],
   "execution_count": 61
  },
  {
   "metadata": {},
   "cell_type": "markdown",
   "source": "<h2>Тесты</h2>",
   "id": "f2e2f37e5a832b"
  },
  {
   "metadata": {
    "ExecuteTime": {
     "end_time": "2024-11-29T06:36:00.895286Z",
     "start_time": "2024-11-29T06:36:00.833858Z"
    }
   },
   "cell_type": "code",
   "source": "df = pd.read_csv('data_preprocessed_sort.csv')",
   "id": "a9a0e04ce274793e",
   "outputs": [],
   "execution_count": 106
  },
  {
   "metadata": {
    "ExecuteTime": {
     "end_time": "2024-11-29T06:36:01.044816Z",
     "start_time": "2024-11-29T06:36:01.035428Z"
    }
   },
   "cell_type": "code",
   "source": "df = df[(df['bundle_nm'] == '0') | (df['bundle_nm'] == 'Pro')]",
   "id": "624becb2f9f0611d",
   "outputs": [],
   "execution_count": 107
  },
  {
   "metadata": {
    "ExecuteTime": {
     "end_time": "2024-11-29T06:36:01.251170Z",
     "start_time": "2024-11-29T06:36:01.236604Z"
    }
   },
   "cell_type": "code",
   "source": "df.groupby(['segment_region', 'bundle_nm'])['approval_flg'].agg(mean='mean', count='count')",
   "id": "b0e75cd71e62c0f4",
   "outputs": [
    {
     "data": {
      "text/plain": [
       "                              mean  count\n",
       "segment_region bundle_nm                 \n",
       "0              0          0.093148   6334\n",
       "               Pro        0.110226    753\n",
       "1              0          0.118807   5530\n",
       "               Pro        0.085186   2923"
      ],
      "text/html": [
       "<div>\n",
       "<style scoped>\n",
       "    .dataframe tbody tr th:only-of-type {\n",
       "        vertical-align: middle;\n",
       "    }\n",
       "\n",
       "    .dataframe tbody tr th {\n",
       "        vertical-align: top;\n",
       "    }\n",
       "\n",
       "    .dataframe thead th {\n",
       "        text-align: right;\n",
       "    }\n",
       "</style>\n",
       "<table border=\"1\" class=\"dataframe\">\n",
       "  <thead>\n",
       "    <tr style=\"text-align: right;\">\n",
       "      <th></th>\n",
       "      <th></th>\n",
       "      <th>mean</th>\n",
       "      <th>count</th>\n",
       "    </tr>\n",
       "    <tr>\n",
       "      <th>segment_region</th>\n",
       "      <th>bundle_nm</th>\n",
       "      <th></th>\n",
       "      <th></th>\n",
       "    </tr>\n",
       "  </thead>\n",
       "  <tbody>\n",
       "    <tr>\n",
       "      <th rowspan=\"2\" valign=\"top\">0</th>\n",
       "      <th>0</th>\n",
       "      <td>0.093148</td>\n",
       "      <td>6334</td>\n",
       "    </tr>\n",
       "    <tr>\n",
       "      <th>Pro</th>\n",
       "      <td>0.110226</td>\n",
       "      <td>753</td>\n",
       "    </tr>\n",
       "    <tr>\n",
       "      <th rowspan=\"2\" valign=\"top\">1</th>\n",
       "      <th>0</th>\n",
       "      <td>0.118807</td>\n",
       "      <td>5530</td>\n",
       "    </tr>\n",
       "    <tr>\n",
       "      <th>Pro</th>\n",
       "      <td>0.085186</td>\n",
       "      <td>2923</td>\n",
       "    </tr>\n",
       "  </tbody>\n",
       "</table>\n",
       "</div>"
      ]
     },
     "execution_count": 108,
     "metadata": {},
     "output_type": "execute_result"
    }
   ],
   "execution_count": 108
  },
  {
   "metadata": {
    "ExecuteTime": {
     "end_time": "2024-11-29T06:36:01.514334Z",
     "start_time": "2024-11-29T06:36:01.455845Z"
    }
   },
   "cell_type": "code",
   "source": [
    "df.bundle_nm = df.bundle_nm.map({'Pro': 1, '0': 0})\n",
    "\n",
    "X = df[['bundle_nm', 'segment_region']]\n",
    "y = df['approval_flg']\n",
    "\n",
    "X = sm.add_constant(X)\n",
    "\n",
    "probit_model = sm.Probit(y, X)\n",
    "probit_result = probit_model.fit()\n",
    "\n",
    "\n",
    "print(probit_result.summary())"
   ],
   "id": "b959fc56e376a3b6",
   "outputs": [
    {
     "name": "stdout",
     "output_type": "stream",
     "text": [
      "Optimization terminated successfully.\n",
      "         Current function value: 0.328027\n",
      "         Iterations 6\n",
      "                          Probit Regression Results                           \n",
      "==============================================================================\n",
      "Dep. Variable:           approval_flg   No. Observations:                15540\n",
      "Model:                         Probit   Df Residuals:                    15537\n",
      "Method:                           MLE   Df Model:                            2\n",
      "Date:                Fri, 29 Nov 2024   Pseudo R-squ.:                0.001755\n",
      "Time:                        16:36:01   Log-Likelihood:                -5097.5\n",
      "converged:                       True   LL-Null:                       -5106.5\n",
      "Covariance Type:            nonrobust   LLR p-value:                 0.0001284\n",
      "==================================================================================\n",
      "                     coef    std err          z      P>|z|      [0.025      0.975]\n",
      "----------------------------------------------------------------------------------\n",
      "const             -1.2987      0.021    -62.162      0.000      -1.340      -1.258\n",
      "bundle_nm         -0.1151      0.034     -3.381      0.001      -0.182      -0.048\n",
      "segment_region     0.0945      0.028      3.318      0.001       0.039       0.150\n",
      "==================================================================================\n"
     ]
    }
   ],
   "execution_count": 109
  },
  {
   "metadata": {},
   "cell_type": "markdown",
   "source": "<h2>Размышления и херня</h2>",
   "id": "30ad31515be29063"
  },
  {
   "metadata": {
    "ExecuteTime": {
     "end_time": "2024-11-29T06:38:38.986447Z",
     "start_time": "2024-11-29T06:38:38.924787Z"
    }
   },
   "cell_type": "code",
   "source": "df = pd.read_csv('data_preprocessed_sort.csv')",
   "id": "e2b8b8e8fe08b3f1",
   "outputs": [],
   "execution_count": 110
  },
  {
   "metadata": {
    "ExecuteTime": {
     "end_time": "2024-11-29T06:39:07.355569Z",
     "start_time": "2024-11-29T06:39:07.348072Z"
    }
   },
   "cell_type": "code",
   "source": "df.foreign_flg.value_counts()",
   "id": "9e809cac06edeb58",
   "outputs": [
    {
     "data": {
      "text/plain": [
       "foreign_flg\n",
       "0.0    9481\n",
       "1.0      73\n",
       "Name: count, dtype: int64"
      ]
     },
     "execution_count": 111,
     "metadata": {},
     "output_type": "execute_result"
    }
   ],
   "execution_count": 111
  },
  {
   "metadata": {
    "ExecuteTime": {
     "end_time": "2024-11-28T14:06:10.759578Z",
     "start_time": "2024-11-28T14:06:10.750358Z"
    }
   },
   "cell_type": "code",
   "source": "df.groupby(['functional_cd', 'product_cd']).product_cd.size()",
   "id": "d7f1a8adfbc7230f",
   "outputs": [
    {
     "data": {
      "text/plain": [
       "functional_cd  product_cd        \n",
       "Activation     Car Loan                 1\n",
       "               Cash Loan               86\n",
       "Afterfilling   Car Loan                 3\n",
       "               Casco                  220\n",
       "               Cash Loan              104\n",
       "               Credit Cards           486\n",
       "               Debit Cards            140\n",
       "               Investment              14\n",
       "               MVNO                   878\n",
       "               Mortgage Insurance      34\n",
       "               Secured Loan            13\n",
       "Agreement      Car Loan               135\n",
       "               Cash Loan              242\n",
       "               Secured Loan            43\n",
       "Autoleads      Investment              36\n",
       "BAF            Debit Cards             66\n",
       "Cold           Car Loan                 1\n",
       "               Casco                   16\n",
       "               Debit Cards            467\n",
       "               MVNO                   627\n",
       "               Mortgage Insurance     261\n",
       "               T-Auto                   2\n",
       "               Travel Avia              3\n",
       "Deposit        Deposit                 10\n",
       "Downsell       Credit Cards           185\n",
       "Incoming       Cash Loan              146\n",
       "               MVNO                    63\n",
       "               Mortgage Insurance       9\n",
       "Meeting        Cash Loan                5\n",
       "               Credit Cards           339\n",
       "               Debit Cards            429\n",
       "               Investment              28\n",
       "               MVNO                    25\n",
       "Preapprove     Car Loan                93\n",
       "               Cash Loan              823\n",
       "               Credit Cards          7019\n",
       "Prolongation   Mortgage Insurance       1\n",
       "               Osago                    5\n",
       "Refinancing    Car Loan                 1\n",
       "Reutilization  Credit Cards           106\n",
       "               Investment              81\n",
       "Upsell         Cash Loan              785\n",
       "               Secured Loan           339\n",
       "Utilization    Credit Cards           406\n",
       "               Debit Cards            477\n",
       "               Investment             521\n",
       "               MVNO                    10\n",
       "Name: product_cd, dtype: int64"
      ]
     },
     "execution_count": 337,
     "metadata": {},
     "output_type": "execute_result"
    }
   ],
   "execution_count": 337
  },
  {
   "metadata": {
    "ExecuteTime": {
     "end_time": "2024-11-28T13:36:43.584211Z",
     "start_time": "2024-11-28T13:36:43.573871Z"
    }
   },
   "cell_type": "code",
   "source": "df[df['segment_region'] == 1]['functional_cd'].value_counts(normalize=True)",
   "id": "33cd5e7f9ab71d32",
   "outputs": [
    {
     "data": {
      "text/plain": [
       "functional_cd\n",
       "Preapprove       0.477023\n",
       "Afterfilling     0.138326\n",
       "Utilization      0.092025\n",
       "Upsell           0.087742\n",
       "Cold             0.065980\n",
       "Meeting          0.045376\n",
       "Agreement        0.035652\n",
       "Reutilization    0.015858\n",
       "Incoming         0.013080\n",
       "Downsell         0.012386\n",
       "Activation       0.008913\n",
       "Autoleads        0.003704\n",
       "BAF              0.002315\n",
       "Deposit          0.000926\n",
       "Prolongation     0.000579\n",
       "Refinancing      0.000116\n",
       "Name: proportion, dtype: float64"
      ]
     },
     "execution_count": 324,
     "metadata": {},
     "output_type": "execute_result"
    }
   ],
   "execution_count": 324
  },
  {
   "metadata": {
    "ExecuteTime": {
     "end_time": "2024-11-28T13:58:23.573461Z",
     "start_time": "2024-11-28T13:58:23.563971Z"
    }
   },
   "cell_type": "code",
   "source": "df.groupby(['gender_cd', 'emp_gender_cd']).approval_flg.mean()",
   "id": "c90a8bfe27b74aec",
   "outputs": [
    {
     "data": {
      "text/plain": [
       "gender_cd  emp_gender_cd\n",
       "0.0        M                0.076342\n",
       "           W                0.096309\n",
       "1.0        M                0.109375\n",
       "           W                0.107398\n",
       "Name: approval_flg, dtype: float64"
      ]
     },
     "execution_count": 334,
     "metadata": {},
     "output_type": "execute_result"
    }
   ],
   "execution_count": 334
  },
  {
   "metadata": {
    "ExecuteTime": {
     "end_time": "2024-11-28T13:36:40.096444Z",
     "start_time": "2024-11-28T13:36:40.088352Z"
    }
   },
   "cell_type": "code",
   "source": "df[df['segment_region'] == 0]['functional_cd'].value_counts(normalize=True)",
   "id": "af8262876d017196",
   "outputs": [
    {
     "data": {
      "text/plain": [
       "functional_cd\n",
       "Preapprove       0.533800\n",
       "Cold             0.112946\n",
       "Afterfilling     0.097551\n",
       "Utilization      0.086634\n",
       "Meeting          0.060742\n",
       "Upsell           0.051225\n",
       "Agreement        0.015675\n",
       "Incoming         0.014696\n",
       "Downsell         0.010917\n",
       "Reutilization    0.006998\n",
       "BAF              0.006438\n",
       "Activation       0.001400\n",
       "Autoleads        0.000560\n",
       "Deposit          0.000280\n",
       "Prolongation     0.000140\n",
       "Name: proportion, dtype: float64"
      ]
     },
     "execution_count": 323,
     "metadata": {},
     "output_type": "execute_result"
    }
   ],
   "execution_count": 323
  },
  {
   "metadata": {
    "ExecuteTime": {
     "end_time": "2024-11-28T12:12:34.666638Z",
     "start_time": "2024-11-28T12:12:34.653240Z"
    }
   },
   "cell_type": "code",
   "source": "df[(df['functional_cd'] == 'Upsell') | (df['functional_cd'] == 'Downsell')].groupby(['functional_cd', 'segment_region'])['approval_flg'].agg(mean='mean', count='count').reset_index()",
   "id": "59b02a8cf02b03a5",
   "outputs": [
    {
     "data": {
      "text/plain": [
       "  functional_cd  segment_region      mean  count\n",
       "0      Downsell               0  0.102564     78\n",
       "1      Downsell               1  0.084112    107\n",
       "2        Upsell               0  0.073770    366\n",
       "3        Upsell               1  0.055409    758"
      ],
      "text/html": [
       "<div>\n",
       "<style scoped>\n",
       "    .dataframe tbody tr th:only-of-type {\n",
       "        vertical-align: middle;\n",
       "    }\n",
       "\n",
       "    .dataframe tbody tr th {\n",
       "        vertical-align: top;\n",
       "    }\n",
       "\n",
       "    .dataframe thead th {\n",
       "        text-align: right;\n",
       "    }\n",
       "</style>\n",
       "<table border=\"1\" class=\"dataframe\">\n",
       "  <thead>\n",
       "    <tr style=\"text-align: right;\">\n",
       "      <th></th>\n",
       "      <th>functional_cd</th>\n",
       "      <th>segment_region</th>\n",
       "      <th>mean</th>\n",
       "      <th>count</th>\n",
       "    </tr>\n",
       "  </thead>\n",
       "  <tbody>\n",
       "    <tr>\n",
       "      <th>0</th>\n",
       "      <td>Downsell</td>\n",
       "      <td>0</td>\n",
       "      <td>0.102564</td>\n",
       "      <td>78</td>\n",
       "    </tr>\n",
       "    <tr>\n",
       "      <th>1</th>\n",
       "      <td>Downsell</td>\n",
       "      <td>1</td>\n",
       "      <td>0.084112</td>\n",
       "      <td>107</td>\n",
       "    </tr>\n",
       "    <tr>\n",
       "      <th>2</th>\n",
       "      <td>Upsell</td>\n",
       "      <td>0</td>\n",
       "      <td>0.073770</td>\n",
       "      <td>366</td>\n",
       "    </tr>\n",
       "    <tr>\n",
       "      <th>3</th>\n",
       "      <td>Upsell</td>\n",
       "      <td>1</td>\n",
       "      <td>0.055409</td>\n",
       "      <td>758</td>\n",
       "    </tr>\n",
       "  </tbody>\n",
       "</table>\n",
       "</div>"
      ]
     },
     "execution_count": 267,
     "metadata": {},
     "output_type": "execute_result"
    }
   ],
   "execution_count": 267
  },
  {
   "metadata": {
    "ExecuteTime": {
     "end_time": "2024-11-28T12:05:32.143026Z",
     "start_time": "2024-11-28T12:05:32.134058Z"
    }
   },
   "cell_type": "code",
   "source": [
    "df1 = df.groupby(['segment_region', 'crosssell'])['approval_flg'].agg(mean='mean', count='count').reset_index()\n",
    "df1"
   ],
   "id": "4bd6407d3fdbc389",
   "outputs": [
    {
     "data": {
      "text/plain": [
       "   segment_region  crosssell      mean  count\n",
       "0               0          0  0.097000   6701\n",
       "1               0          1  0.078829    444\n",
       "2               1          0  0.111783   7774\n",
       "3               1          1  0.058960    865"
      ],
      "text/html": [
       "<div>\n",
       "<style scoped>\n",
       "    .dataframe tbody tr th:only-of-type {\n",
       "        vertical-align: middle;\n",
       "    }\n",
       "\n",
       "    .dataframe tbody tr th {\n",
       "        vertical-align: top;\n",
       "    }\n",
       "\n",
       "    .dataframe thead th {\n",
       "        text-align: right;\n",
       "    }\n",
       "</style>\n",
       "<table border=\"1\" class=\"dataframe\">\n",
       "  <thead>\n",
       "    <tr style=\"text-align: right;\">\n",
       "      <th></th>\n",
       "      <th>segment_region</th>\n",
       "      <th>crosssell</th>\n",
       "      <th>mean</th>\n",
       "      <th>count</th>\n",
       "    </tr>\n",
       "  </thead>\n",
       "  <tbody>\n",
       "    <tr>\n",
       "      <th>0</th>\n",
       "      <td>0</td>\n",
       "      <td>0</td>\n",
       "      <td>0.097000</td>\n",
       "      <td>6701</td>\n",
       "    </tr>\n",
       "    <tr>\n",
       "      <th>1</th>\n",
       "      <td>0</td>\n",
       "      <td>1</td>\n",
       "      <td>0.078829</td>\n",
       "      <td>444</td>\n",
       "    </tr>\n",
       "    <tr>\n",
       "      <th>2</th>\n",
       "      <td>1</td>\n",
       "      <td>0</td>\n",
       "      <td>0.111783</td>\n",
       "      <td>7774</td>\n",
       "    </tr>\n",
       "    <tr>\n",
       "      <th>3</th>\n",
       "      <td>1</td>\n",
       "      <td>1</td>\n",
       "      <td>0.058960</td>\n",
       "      <td>865</td>\n",
       "    </tr>\n",
       "  </tbody>\n",
       "</table>\n",
       "</div>"
      ]
     },
     "execution_count": 255,
     "metadata": {},
     "output_type": "execute_result"
    }
   ],
   "execution_count": 255
  },
  {
   "metadata": {
    "ExecuteTime": {
     "end_time": "2024-11-28T12:07:23.408316Z",
     "start_time": "2024-11-28T12:07:23.278757Z"
    }
   },
   "cell_type": "code",
   "source": "sns.barplot(data=df1, x='crosssell', y='mean', hue='segment_region')",
   "id": "c896dadf2a4ae94b",
   "outputs": [
    {
     "data": {
      "text/plain": [
       "<Axes: xlabel='crosssell', ylabel='mean'>"
      ]
     },
     "execution_count": 261,
     "metadata": {},
     "output_type": "execute_result"
    },
    {
     "data": {
      "text/plain": [
       "<Figure size 640x480 with 1 Axes>"
      ],
      "image/png": "[encoded data removed]"
     },
     "metadata": {},
     "output_type": "display_data"
    }
   ],
   "execution_count": 261
  },
  {
   "metadata": {
    "ExecuteTime": {
     "end_time": "2024-11-28T12:24:12.896916Z",
     "start_time": "2024-11-28T12:24:12.879402Z"
    }
   },
   "cell_type": "code",
   "source": [
    "X = df[['crosssell', 'segment_region']]\n",
    "y = df['approval_flg']\n",
    "\n",
    "# Добавляем константу для модели\n",
    "X = sm.add_constant(X)\n",
    "\n",
    "# Создаем и обучаем линейную регрессионную модель\n",
    "linear_model = sm.OLS(y, X)\n",
    "linear_result = linear_model.fit()\n",
    "\n",
    "# Выводим результаты модели\n",
    "print(linear_result.summary())"
   ],
   "id": "532ba7df9a5b2014",
   "outputs": [
    {
     "name": "stdout",
     "output_type": "stream",
     "text": [
      "                            OLS Regression Results                            \n",
      "==============================================================================\n",
      "Dep. Variable:           approval_flg   R-squared:                       0.002\n",
      "Model:                            OLS   Adj. R-squared:                  0.002\n",
      "Method:                 Least Squares   F-statistic:                     13.29\n",
      "Date:                Thu, 28 Nov 2024   Prob (F-statistic):           1.70e-06\n",
      "Time:                        22:24:12   Log-Likelihood:                -3496.8\n",
      "No. Observations:               15784   AIC:                             7000.\n",
      "Df Residuals:                   15781   BIC:                             7023.\n",
      "Df Model:                           2                                         \n",
      "Covariance Type:            nonrobust                                         \n",
      "==================================================================================\n",
      "                     coef    std err          t      P>|t|      [0.025      0.975]\n",
      "----------------------------------------------------------------------------------\n",
      "const              0.0984      0.004     27.229      0.000       0.091       0.105\n",
      "crosssell         -0.0407      0.009     -4.664      0.000      -0.058      -0.024\n",
      "segment_region     0.0122      0.005      2.514      0.012       0.003       0.022\n",
      "==============================================================================\n",
      "Omnibus:                     7962.608   Durbin-Watson:                   1.998\n",
      "Prob(Omnibus):                  0.000   Jarque-Bera (JB):            34158.047\n",
      "Skew:                           2.629   Prob(JB):                         0.00\n",
      "Kurtosis:                       7.929   Cond. No.                         4.27\n",
      "==============================================================================\n",
      "\n",
      "Notes:\n",
      "[1] Standard Errors assume that the covariance matrix of the errors is correctly specified.\n"
     ]
    }
   ],
   "execution_count": 271
  },
  {
   "metadata": {
    "ExecuteTime": {
     "end_time": "2024-11-28T12:24:26.063364Z",
     "start_time": "2024-11-28T12:24:26.003841Z"
    }
   },
   "cell_type": "code",
   "source": [
    "X = df[['crosssell', 'segment_region']]\n",
    "y = df['approval_flg']\n",
    "\n",
    "X = sm.add_constant(X)\n",
    "\n",
    "probit_model = sm.Probit(y, X)\n",
    "probit_result = probit_model.fit()\n",
    "\n",
    "\n",
    "print(probit_result.summary())"
   ],
   "id": "62e0c0a6ca6c8ed1",
   "outputs": [
    {
     "name": "stdout",
     "output_type": "stream",
     "text": [
      "Optimization terminated successfully.\n",
      "         Current function value: 0.327859\n",
      "         Iterations 6\n",
      "                          Probit Regression Results                           \n",
      "==============================================================================\n",
      "Dep. Variable:           approval_flg   No. Observations:                15784\n",
      "Model:                         Probit   Df Residuals:                    15781\n",
      "Method:                           MLE   Df Model:                            2\n",
      "Date:                Thu, 28 Nov 2024   Pseudo R-squ.:                0.002771\n",
      "Time:                        22:24:26   Log-Likelihood:                -5174.9\n",
      "converged:                       True   LL-Null:                       -5189.3\n",
      "Covariance Type:            nonrobust   LLR p-value:                 5.687e-07\n",
      "==================================================================================\n",
      "                     coef    std err          z      P>|z|      [0.025      0.975]\n",
      "----------------------------------------------------------------------------------\n",
      "const             -1.2911      0.021    -62.483      0.000      -1.332      -1.251\n",
      "crosssell         -0.2621      0.055     -4.729      0.000      -0.371      -0.153\n",
      "segment_region     0.0678      0.027      2.478      0.013       0.014       0.121\n",
      "==================================================================================\n"
     ]
    }
   ],
   "execution_count": 272
  },
  {
   "metadata": {
    "ExecuteTime": {
     "end_time": "2024-11-28T12:26:45.000978Z",
     "start_time": "2024-11-28T12:26:44.662547Z"
    }
   },
   "cell_type": "code",
   "source": [
    "y_pred = probit_result.predict(X)\n",
    "\n",
    "# Создание графиков\n",
    "plt.figure(figsize=(12, 6))\n",
    "\n",
    "# График настоящего значения\n",
    "plt.subplot(1, 2, 1)\n",
    "plt.plot(y, 'bo', label='Настоящее значение')\n",
    "plt.xlabel('Образец')\n",
    "plt.ylabel('Значение')\n",
    "plt.title('Настоящее значение')\n",
    "\n",
    "# График предсказанного значения\n",
    "plt.subplot(1, 2, 2)\n",
    "plt.plot(y_pred, 'ro', label='Предсказанное значение')\n",
    "plt.xlabel('Образец')\n",
    "plt.ylabel('Значение')\n",
    "plt.title('Предсказанное значение')\n",
    "\n",
    "plt.legend()\n",
    "plt.show()"
   ],
   "id": "b3e4794a5400aa24",
   "outputs": [
    {
     "data": {
      "text/plain": [
       "<Figure size 1200x600 with 2 Axes>"
      ],
      "image/png": "[encoded data removed]"
     },
     "metadata": {},
     "output_type": "display_data"
    }
   ],
   "execution_count": 275
  }
 ],
 "metadata": {
  "kernelspec": {
   "display_name": "Python 3",
   "language": "python",
   "name": "python3"
  },
  "language_info": {
   "codemirror_mode": {
    "name": "ipython",
    "version": 2
   },
   "file_extension": ".py",
   "mimetype": "text/x-python",
   "name": "python",
   "nbconvert_exporter": "python",
   "pygments_lexer": "ipython2",
   "version": "2.7.6"
  }
 },
 "nbformat": 4,
 "nbformat_minor": 5
}
