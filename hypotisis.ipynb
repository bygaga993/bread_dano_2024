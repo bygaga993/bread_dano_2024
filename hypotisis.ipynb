{
 "cells": [
  {
   "cell_type": "code",
   "id": "initial_id",
   "metadata": {
    "collapsed": true,
    "ExecuteTime": {
     "end_time": "2024-11-28T14:08:02.907435Z",
     "start_time": "2024-11-28T14:08:02.903953Z"
    }
   },
   "source": [
    "import pandas as pd\n",
    "import seaborn as sns\n",
    "import matplotlib.pyplot as plt\n",
    "import scipy.stats as st\n",
    "import statsmodels.api as sm\n",
    "from sklearn.preprocessing import StandardScaler\n",
    "from scipy import stats\n",
    "\n",
    "import warnings\n",
    "warnings.filterwarnings('ignore')"
   ],
   "outputs": [],
   "execution_count": 338
  },
  {
   "metadata": {},
   "cell_type": "markdown",
   "source": "<h1>Upsell</h1>",
   "id": "2755a063d63e3af8"
  },
  {
   "metadata": {
    "ExecuteTime": {
     "end_time": "2024-11-28T14:08:04.983342Z",
     "start_time": "2024-11-28T14:08:04.927437Z"
    }
   },
   "cell_type": "code",
   "source": "df = pd.read_csv('data_preprocessed_sort.csv')",
   "id": "53096276feb6c3c5",
   "outputs": [],
   "execution_count": 339
  },
  {
   "metadata": {
    "ExecuteTime": {
     "end_time": "2024-11-28T14:08:33.980743Z",
     "start_time": "2024-11-28T14:08:33.966620Z"
    }
   },
   "cell_type": "code",
   "source": [
    "def segment_region(region):\n",
    "    if region == 'no' or region == 'rural':\n",
    "        return 0\n",
    "    else:\n",
    "        return 1\n",
    "df['segment_region'] = df['region_size'].apply(segment_region)\n",
    "\n",
    "def upsell_flg(functional):\n",
    "    if functional == 'Upsell':\n",
    "        return 1\n",
    "    else:\n",
    "        return 0\n",
    "df['upsell_flg'] = df['functional_cd'].apply(upsell_flg)"
   ],
   "id": "f7b550c1919ac910",
   "outputs": [],
   "execution_count": 341
  },
  {
   "metadata": {
    "ExecuteTime": {
     "end_time": "2024-11-28T14:06:10.759578Z",
     "start_time": "2024-11-28T14:06:10.750358Z"
    }
   },
   "cell_type": "code",
   "source": "df.groupby(['functional_cd', 'product_cd']).product_cd.size()",
   "id": "d7f1a8adfbc7230f",
   "outputs": [
    {
     "data": {
      "text/plain": [
       "functional_cd  product_cd        \n",
       "Activation     Car Loan                 1\n",
       "               Cash Loan               86\n",
       "Afterfilling   Car Loan                 3\n",
       "               Casco                  220\n",
       "               Cash Loan              104\n",
       "               Credit Cards           486\n",
       "               Debit Cards            140\n",
       "               Investment              14\n",
       "               MVNO                   878\n",
       "               Mortgage Insurance      34\n",
       "               Secured Loan            13\n",
       "Agreement      Car Loan               135\n",
       "               Cash Loan              242\n",
       "               Secured Loan            43\n",
       "Autoleads      Investment              36\n",
       "BAF            Debit Cards             66\n",
       "Cold           Car Loan                 1\n",
       "               Casco                   16\n",
       "               Debit Cards            467\n",
       "               MVNO                   627\n",
       "               Mortgage Insurance     261\n",
       "               T-Auto                   2\n",
       "               Travel Avia              3\n",
       "Deposit        Deposit                 10\n",
       "Downsell       Credit Cards           185\n",
       "Incoming       Cash Loan              146\n",
       "               MVNO                    63\n",
       "               Mortgage Insurance       9\n",
       "Meeting        Cash Loan                5\n",
       "               Credit Cards           339\n",
       "               Debit Cards            429\n",
       "               Investment              28\n",
       "               MVNO                    25\n",
       "Preapprove     Car Loan                93\n",
       "               Cash Loan              823\n",
       "               Credit Cards          7019\n",
       "Prolongation   Mortgage Insurance       1\n",
       "               Osago                    5\n",
       "Refinancing    Car Loan                 1\n",
       "Reutilization  Credit Cards           106\n",
       "               Investment              81\n",
       "Upsell         Cash Loan              785\n",
       "               Secured Loan           339\n",
       "Utilization    Credit Cards           406\n",
       "               Debit Cards            477\n",
       "               Investment             521\n",
       "               MVNO                    10\n",
       "Name: product_cd, dtype: int64"
      ]
     },
     "execution_count": 337,
     "metadata": {},
     "output_type": "execute_result"
    }
   ],
   "execution_count": 337
  },
  {
   "metadata": {
    "ExecuteTime": {
     "end_time": "2024-11-28T13:36:43.584211Z",
     "start_time": "2024-11-28T13:36:43.573871Z"
    }
   },
   "cell_type": "code",
   "source": "df[df['segment_region'] == 1]['functional_cd'].value_counts(normalize=True)",
   "id": "33cd5e7f9ab71d32",
   "outputs": [
    {
     "data": {
      "text/plain": [
       "functional_cd\n",
       "Preapprove       0.477023\n",
       "Afterfilling     0.138326\n",
       "Utilization      0.092025\n",
       "Upsell           0.087742\n",
       "Cold             0.065980\n",
       "Meeting          0.045376\n",
       "Agreement        0.035652\n",
       "Reutilization    0.015858\n",
       "Incoming         0.013080\n",
       "Downsell         0.012386\n",
       "Activation       0.008913\n",
       "Autoleads        0.003704\n",
       "BAF              0.002315\n",
       "Deposit          0.000926\n",
       "Prolongation     0.000579\n",
       "Refinancing      0.000116\n",
       "Name: proportion, dtype: float64"
      ]
     },
     "execution_count": 324,
     "metadata": {},
     "output_type": "execute_result"
    }
   ],
   "execution_count": 324
  },
  {
   "metadata": {
    "ExecuteTime": {
     "end_time": "2024-11-28T13:58:23.573461Z",
     "start_time": "2024-11-28T13:58:23.563971Z"
    }
   },
   "cell_type": "code",
   "source": "df.groupby(['gender_cd', 'emp_gender_cd']).approval_flg.mean()",
   "id": "c90a8bfe27b74aec",
   "outputs": [
    {
     "data": {
      "text/plain": [
       "gender_cd  emp_gender_cd\n",
       "0.0        M                0.076342\n",
       "           W                0.096309\n",
       "1.0        M                0.109375\n",
       "           W                0.107398\n",
       "Name: approval_flg, dtype: float64"
      ]
     },
     "execution_count": 334,
     "metadata": {},
     "output_type": "execute_result"
    }
   ],
   "execution_count": 334
  },
  {
   "metadata": {
    "ExecuteTime": {
     "end_time": "2024-11-28T13:36:40.096444Z",
     "start_time": "2024-11-28T13:36:40.088352Z"
    }
   },
   "cell_type": "code",
   "source": "df[df['segment_region'] == 0]['functional_cd'].value_counts(normalize=True)",
   "id": "af8262876d017196",
   "outputs": [
    {
     "data": {
      "text/plain": [
       "functional_cd\n",
       "Preapprove       0.533800\n",
       "Cold             0.112946\n",
       "Afterfilling     0.097551\n",
       "Utilization      0.086634\n",
       "Meeting          0.060742\n",
       "Upsell           0.051225\n",
       "Agreement        0.015675\n",
       "Incoming         0.014696\n",
       "Downsell         0.010917\n",
       "Reutilization    0.006998\n",
       "BAF              0.006438\n",
       "Activation       0.001400\n",
       "Autoleads        0.000560\n",
       "Deposit          0.000280\n",
       "Prolongation     0.000140\n",
       "Name: proportion, dtype: float64"
      ]
     },
     "execution_count": 323,
     "metadata": {},
     "output_type": "execute_result"
    }
   ],
   "execution_count": 323
  },
  {
   "metadata": {
    "ExecuteTime": {
     "end_time": "2024-11-28T12:12:34.666638Z",
     "start_time": "2024-11-28T12:12:34.653240Z"
    }
   },
   "cell_type": "code",
   "source": "df[(df['functional_cd'] == 'Upsell') | (df['functional_cd'] == 'Downsell')].groupby(['functional_cd', 'segment_region'])['approval_flg'].agg(mean='mean', count='count').reset_index()",
   "id": "59b02a8cf02b03a5",
   "outputs": [
    {
     "data": {
      "text/plain": [
       "  functional_cd  segment_region      mean  count\n",
       "0      Downsell               0  0.102564     78\n",
       "1      Downsell               1  0.084112    107\n",
       "2        Upsell               0  0.073770    366\n",
       "3        Upsell               1  0.055409    758"
      ],
      "text/html": [
       "<div>\n",
       "<style scoped>\n",
       "    .dataframe tbody tr th:only-of-type {\n",
       "        vertical-align: middle;\n",
       "    }\n",
       "\n",
       "    .dataframe tbody tr th {\n",
       "        vertical-align: top;\n",
       "    }\n",
       "\n",
       "    .dataframe thead th {\n",
       "        text-align: right;\n",
       "    }\n",
       "</style>\n",
       "<table border=\"1\" class=\"dataframe\">\n",
       "  <thead>\n",
       "    <tr style=\"text-align: right;\">\n",
       "      <th></th>\n",
       "      <th>functional_cd</th>\n",
       "      <th>segment_region</th>\n",
       "      <th>mean</th>\n",
       "      <th>count</th>\n",
       "    </tr>\n",
       "  </thead>\n",
       "  <tbody>\n",
       "    <tr>\n",
       "      <th>0</th>\n",
       "      <td>Downsell</td>\n",
       "      <td>0</td>\n",
       "      <td>0.102564</td>\n",
       "      <td>78</td>\n",
       "    </tr>\n",
       "    <tr>\n",
       "      <th>1</th>\n",
       "      <td>Downsell</td>\n",
       "      <td>1</td>\n",
       "      <td>0.084112</td>\n",
       "      <td>107</td>\n",
       "    </tr>\n",
       "    <tr>\n",
       "      <th>2</th>\n",
       "      <td>Upsell</td>\n",
       "      <td>0</td>\n",
       "      <td>0.073770</td>\n",
       "      <td>366</td>\n",
       "    </tr>\n",
       "    <tr>\n",
       "      <th>3</th>\n",
       "      <td>Upsell</td>\n",
       "      <td>1</td>\n",
       "      <td>0.055409</td>\n",
       "      <td>758</td>\n",
       "    </tr>\n",
       "  </tbody>\n",
       "</table>\n",
       "</div>"
      ]
     },
     "execution_count": 267,
     "metadata": {},
     "output_type": "execute_result"
    }
   ],
   "execution_count": 267
  },
  {
   "metadata": {
    "ExecuteTime": {
     "end_time": "2024-11-28T12:05:32.143026Z",
     "start_time": "2024-11-28T12:05:32.134058Z"
    }
   },
   "cell_type": "code",
   "source": [
    "df1 = df.groupby(['segment_region', 'crosssell'])['approval_flg'].agg(mean='mean', count='count').reset_index()\n",
    "df1"
   ],
   "id": "4bd6407d3fdbc389",
   "outputs": [
    {
     "data": {
      "text/plain": [
       "   segment_region  crosssell      mean  count\n",
       "0               0          0  0.097000   6701\n",
       "1               0          1  0.078829    444\n",
       "2               1          0  0.111783   7774\n",
       "3               1          1  0.058960    865"
      ],
      "text/html": [
       "<div>\n",
       "<style scoped>\n",
       "    .dataframe tbody tr th:only-of-type {\n",
       "        vertical-align: middle;\n",
       "    }\n",
       "\n",
       "    .dataframe tbody tr th {\n",
       "        vertical-align: top;\n",
       "    }\n",
       "\n",
       "    .dataframe thead th {\n",
       "        text-align: right;\n",
       "    }\n",
       "</style>\n",
       "<table border=\"1\" class=\"dataframe\">\n",
       "  <thead>\n",
       "    <tr style=\"text-align: right;\">\n",
       "      <th></th>\n",
       "      <th>segment_region</th>\n",
       "      <th>crosssell</th>\n",
       "      <th>mean</th>\n",
       "      <th>count</th>\n",
       "    </tr>\n",
       "  </thead>\n",
       "  <tbody>\n",
       "    <tr>\n",
       "      <th>0</th>\n",
       "      <td>0</td>\n",
       "      <td>0</td>\n",
       "      <td>0.097000</td>\n",
       "      <td>6701</td>\n",
       "    </tr>\n",
       "    <tr>\n",
       "      <th>1</th>\n",
       "      <td>0</td>\n",
       "      <td>1</td>\n",
       "      <td>0.078829</td>\n",
       "      <td>444</td>\n",
       "    </tr>\n",
       "    <tr>\n",
       "      <th>2</th>\n",
       "      <td>1</td>\n",
       "      <td>0</td>\n",
       "      <td>0.111783</td>\n",
       "      <td>7774</td>\n",
       "    </tr>\n",
       "    <tr>\n",
       "      <th>3</th>\n",
       "      <td>1</td>\n",
       "      <td>1</td>\n",
       "      <td>0.058960</td>\n",
       "      <td>865</td>\n",
       "    </tr>\n",
       "  </tbody>\n",
       "</table>\n",
       "</div>"
      ]
     },
     "execution_count": 255,
     "metadata": {},
     "output_type": "execute_result"
    }
   ],
   "execution_count": 255
  },
  {
   "metadata": {
    "ExecuteTime": {
     "end_time": "2024-11-28T12:07:23.408316Z",
     "start_time": "2024-11-28T12:07:23.278757Z"
    }
   },
   "cell_type": "code",
   "source": "sns.barplot(data=df1, x='crosssell', y='mean', hue='segment_region')",
   "id": "c896dadf2a4ae94b",
   "outputs": [
    {
     "data": {
      "text/plain": [
       "<Axes: xlabel='crosssell', ylabel='mean'>"
      ]
     },
     "execution_count": 261,
     "metadata": {},
     "output_type": "execute_result"
    },
    {
     "data": {
      "text/plain": [
       "<Figure size 640x480 with 1 Axes>"
      ],
      "image/png": "[encoded data removed]"
     },
     "metadata": {},
     "output_type": "display_data"
    }
   ],
   "execution_count": 261
  },
  {
   "metadata": {
    "ExecuteTime": {
     "end_time": "2024-11-28T12:24:12.896916Z",
     "start_time": "2024-11-28T12:24:12.879402Z"
    }
   },
   "cell_type": "code",
   "source": [
    "X = df[['crosssell', 'segment_region']]\n",
    "y = df['approval_flg']\n",
    "\n",
    "# Добавляем константу для модели\n",
    "X = sm.add_constant(X)\n",
    "\n",
    "# Создаем и обучаем линейную регрессионную модель\n",
    "linear_model = sm.OLS(y, X)\n",
    "linear_result = linear_model.fit()\n",
    "\n",
    "# Выводим результаты модели\n",
    "print(linear_result.summary())"
   ],
   "id": "532ba7df9a5b2014",
   "outputs": [
    {
     "name": "stdout",
     "output_type": "stream",
     "text": [
      "                            OLS Regression Results                            \n",
      "==============================================================================\n",
      "Dep. Variable:           approval_flg   R-squared:                       0.002\n",
      "Model:                            OLS   Adj. R-squared:                  0.002\n",
      "Method:                 Least Squares   F-statistic:                     13.29\n",
      "Date:                Thu, 28 Nov 2024   Prob (F-statistic):           1.70e-06\n",
      "Time:                        22:24:12   Log-Likelihood:                -3496.8\n",
      "No. Observations:               15784   AIC:                             7000.\n",
      "Df Residuals:                   15781   BIC:                             7023.\n",
      "Df Model:                           2                                         \n",
      "Covariance Type:            nonrobust                                         \n",
      "==================================================================================\n",
      "                     coef    std err          t      P>|t|      [0.025      0.975]\n",
      "----------------------------------------------------------------------------------\n",
      "const              0.0984      0.004     27.229      0.000       0.091       0.105\n",
      "crosssell         -0.0407      0.009     -4.664      0.000      -0.058      -0.024\n",
      "segment_region     0.0122      0.005      2.514      0.012       0.003       0.022\n",
      "==============================================================================\n",
      "Omnibus:                     7962.608   Durbin-Watson:                   1.998\n",
      "Prob(Omnibus):                  0.000   Jarque-Bera (JB):            34158.047\n",
      "Skew:                           2.629   Prob(JB):                         0.00\n",
      "Kurtosis:                       7.929   Cond. No.                         4.27\n",
      "==============================================================================\n",
      "\n",
      "Notes:\n",
      "[1] Standard Errors assume that the covariance matrix of the errors is correctly specified.\n"
     ]
    }
   ],
   "execution_count": 271
  },
  {
   "metadata": {
    "ExecuteTime": {
     "end_time": "2024-11-28T12:24:26.063364Z",
     "start_time": "2024-11-28T12:24:26.003841Z"
    }
   },
   "cell_type": "code",
   "source": [
    "X = df[['crosssell', 'segment_region']]\n",
    "y = df['approval_flg']\n",
    "\n",
    "X = sm.add_constant(X)\n",
    "\n",
    "probit_model = sm.Probit(y, X)\n",
    "probit_result = probit_model.fit()\n",
    "\n",
    "\n",
    "print(probit_result.summary())"
   ],
   "id": "62e0c0a6ca6c8ed1",
   "outputs": [
    {
     "name": "stdout",
     "output_type": "stream",
     "text": [
      "Optimization terminated successfully.\n",
      "         Current function value: 0.327859\n",
      "         Iterations 6\n",
      "                          Probit Regression Results                           \n",
      "==============================================================================\n",
      "Dep. Variable:           approval_flg   No. Observations:                15784\n",
      "Model:                         Probit   Df Residuals:                    15781\n",
      "Method:                           MLE   Df Model:                            2\n",
      "Date:                Thu, 28 Nov 2024   Pseudo R-squ.:                0.002771\n",
      "Time:                        22:24:26   Log-Likelihood:                -5174.9\n",
      "converged:                       True   LL-Null:                       -5189.3\n",
      "Covariance Type:            nonrobust   LLR p-value:                 5.687e-07\n",
      "==================================================================================\n",
      "                     coef    std err          z      P>|z|      [0.025      0.975]\n",
      "----------------------------------------------------------------------------------\n",
      "const             -1.2911      0.021    -62.483      0.000      -1.332      -1.251\n",
      "crosssell         -0.2621      0.055     -4.729      0.000      -0.371      -0.153\n",
      "segment_region     0.0678      0.027      2.478      0.013       0.014       0.121\n",
      "==================================================================================\n"
     ]
    }
   ],
   "execution_count": 272
  },
  {
   "metadata": {
    "ExecuteTime": {
     "end_time": "2024-11-28T12:26:45.000978Z",
     "start_time": "2024-11-28T12:26:44.662547Z"
    }
   },
   "cell_type": "code",
   "source": [
    "y_pred = probit_result.predict(X)\n",
    "\n",
    "# Создание графиков\n",
    "plt.figure(figsize=(12, 6))\n",
    "\n",
    "# График настоящего значения\n",
    "plt.subplot(1, 2, 1)\n",
    "plt.plot(y, 'bo', label='Настоящее значение')\n",
    "plt.xlabel('Образец')\n",
    "plt.ylabel('Значение')\n",
    "plt.title('Настоящее значение')\n",
    "\n",
    "# График предсказанного значения\n",
    "plt.subplot(1, 2, 2)\n",
    "plt.plot(y_pred, 'ro', label='Предсказанное значение')\n",
    "plt.xlabel('Образец')\n",
    "plt.ylabel('Значение')\n",
    "plt.title('Предсказанное значение')\n",
    "\n",
    "plt.legend()\n",
    "plt.show()"
   ],
   "id": "b3e4794a5400aa24",
   "outputs": [
    {
     "data": {
      "text/plain": [
       "<Figure size 1200x600 with 2 Axes>"
      ],
      "image/png": "[encoded data removed]"
     },
     "metadata": {},
     "output_type": "display_data"
    }
   ],
   "execution_count": 275
  }
 ],
 "metadata": {
  "kernelspec": {
   "display_name": "Python 3",
   "language": "python",
   "name": "python3"
  },
  "language_info": {
   "codemirror_mode": {
    "name": "ipython",
    "version": 2
   },
   "file_extension": ".py",
   "mimetype": "text/x-python",
   "name": "python",
   "nbconvert_exporter": "python",
   "pygments_lexer": "ipython2",
   "version": "2.7.6"
  }
 },
 "nbformat": 4,
 "nbformat_minor": 5
}
