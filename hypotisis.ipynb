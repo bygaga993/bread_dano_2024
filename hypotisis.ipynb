{
 "cells": [
  {
   "cell_type": "code",
   "id": "initial_id",
   "metadata": {
    "collapsed": true,
    "ExecuteTime": {
     "end_time": "2024-11-30T12:43:01.582255Z",
     "start_time": "2024-11-30T12:42:58.617376Z"
    }
   },
   "source": [
    "import pandas as pd\n",
    "import scipy.stats as st\n",
    "import statsmodels.api as sm\n",
    "\n",
    "import warnings\n",
    "warnings.filterwarnings('ignore')"
   ],
   "outputs": [],
   "execution_count": 1
  },
  {
   "metadata": {
    "ExecuteTime": {
     "end_time": "2024-11-30T12:43:01.673275Z",
     "start_time": "2024-11-30T12:43:01.592239Z"
    }
   },
   "cell_type": "code",
   "source": "df = pd.read_csv('data_preprocessed_sort.csv')",
   "id": "5f29abb9c56e8b7b",
   "outputs": [],
   "execution_count": 2
  },
  {
   "metadata": {
    "ExecuteTime": {
     "end_time": "2024-11-30T12:46:04.678321Z",
     "start_time": "2024-11-30T12:46:04.666710Z"
    }
   },
   "cell_type": "code",
   "source": "df.columns",
   "id": "815da3d8f47e93db",
   "outputs": [
    {
     "data": {
      "text/plain": [
       "Index(['customer_id', 'age', 'gender_cd', 'region_size', 'foreign_flg',\n",
       "       'entrepreneur_flg', 'auto_flg', 'traveler_flg', 'partnership_flg',\n",
       "       'child_amt', 'realty_type', 'segment_cd', 'bundle_nm',\n",
       "       'confirmed_income', 'predicted_income', 'product_cd', 'functional_cd',\n",
       "       'finish_dttm', 'state_talk_time_sec', 'wo_hit_status_result_desc',\n",
       "       'wo_hit_status_reason_desc', 'employee_id', 'emp_age', 'emp_gender_cd',\n",
       "       'emp_children_cnt', 'emp_work_months_cnt', 'emp_citizenship_country_cd',\n",
       "       'emp_marital_status_cd', 'day_of_week', 'holiday_flg', 'approval_flg',\n",
       "       'bundle_flg', 'segment_region', 'preapprove_flg', 'child_flg'],\n",
       "      dtype='object')"
      ]
     },
     "execution_count": 10,
     "metadata": {},
     "output_type": "execute_result"
    }
   ],
   "execution_count": 10
  },
  {
   "metadata": {},
   "cell_type": "markdown",
   "source": [
    "<h3>ИВ: Что влияет на восприимчивость клиентов к предложениям о кредите?\n",
    "Гипотеза: Люди без подписки более восприимчивы к предложениям банка о кредите по сравнению с людьми, имеющими подписку Pro.</h3>"
   ],
   "id": "fafff29a6bc54a23"
  },
  {
   "metadata": {
    "ExecuteTime": {
     "end_time": "2024-11-30T07:48:10.908824Z",
     "start_time": "2024-11-30T07:48:10.789925Z"
    }
   },
   "cell_type": "code",
   "source": "df = pd.read_csv('data_preprocessed_sort.csv')",
   "id": "61f7c09b1a5912ab",
   "outputs": [],
   "execution_count": 33
  },
  {
   "metadata": {
    "ExecuteTime": {
     "end_time": "2024-11-30T07:48:11.061262Z",
     "start_time": "2024-11-30T07:48:11.048242Z"
    }
   },
   "cell_type": "code",
   "source": "df = df[df['functional_cd'] == 'Preapprove']",
   "id": "ed1bdffb8925d344",
   "outputs": [],
   "execution_count": 34
  },
  {
   "metadata": {
    "ExecuteTime": {
     "end_time": "2024-11-30T12:45:47.361125Z",
     "start_time": "2024-11-30T12:45:47.350491Z"
    }
   },
   "cell_type": "code",
   "source": "df.groupby(['functional_cd', 'product_cd'])['product_cd'].count()",
   "id": "a3e15391bfd8d00b",
   "outputs": [
    {
     "data": {
      "text/plain": [
       "functional_cd  product_cd        \n",
       "Activation     Car Loan                 1\n",
       "               Cash Loan               86\n",
       "Afterfilling   Car Loan                 3\n",
       "               Casco                  220\n",
       "               Cash Loan              100\n",
       "               Credit Cards           444\n",
       "               Debit Cards            131\n",
       "               Investment              14\n",
       "               MVNO                   826\n",
       "               Mortgage Insurance      34\n",
       "               Secured Loan            13\n",
       "Agreement      Car Loan               135\n",
       "               Cash Loan              242\n",
       "               Secured Loan            43\n",
       "Autoleads      Investment              36\n",
       "BAF            Debit Cards             62\n",
       "Cold           Car Loan                 1\n",
       "               Casco                   16\n",
       "               Debit Cards            465\n",
       "               MVNO                   623\n",
       "               Mortgage Insurance     261\n",
       "               T-Auto                   2\n",
       "               Travel Avia              3\n",
       "Deposit        Deposit                 10\n",
       "Downsell       Credit Cards           185\n",
       "Incoming       Cash Loan              141\n",
       "               MVNO                    63\n",
       "               Mortgage Insurance       9\n",
       "Meeting        Cash Loan                5\n",
       "               Credit Cards           339\n",
       "               Debit Cards            371\n",
       "               Investment              19\n",
       "               MVNO                    25\n",
       "Preapprove     Car Loan                93\n",
       "               Cash Loan              823\n",
       "               Credit Cards          7019\n",
       "Prolongation   Mortgage Insurance       1\n",
       "               Osago                    5\n",
       "Refinancing    Car Loan                 1\n",
       "Reutilization  Credit Cards           106\n",
       "               Investment              81\n",
       "Upsell         Cash Loan              785\n",
       "               Secured Loan           339\n",
       "Utilization    Credit Cards           406\n",
       "               Debit Cards            456\n",
       "               Investment             521\n",
       "               MVNO                     7\n",
       "Name: product_cd, dtype: int64"
      ]
     },
     "execution_count": 9,
     "metadata": {},
     "output_type": "execute_result"
    }
   ],
   "execution_count": 9
  },
  {
   "metadata": {
    "ExecuteTime": {
     "end_time": "2024-11-30T07:48:11.453797Z",
     "start_time": "2024-11-30T07:48:11.442826Z"
    }
   },
   "cell_type": "code",
   "source": "df.groupby('child_flg')['approval_flg'].agg(mean='mean', count='count')",
   "id": "155f39bf5be6f23b",
   "outputs": [
    {
     "data": {
      "text/plain": [
       "               mean  count\n",
       "child_flg                 \n",
       "0          0.032594   6627\n",
       "1          0.042049   1308"
      ],
      "text/html": [
       "<div>\n",
       "<style scoped>\n",
       "    .dataframe tbody tr th:only-of-type {\n",
       "        vertical-align: middle;\n",
       "    }\n",
       "\n",
       "    .dataframe tbody tr th {\n",
       "        vertical-align: top;\n",
       "    }\n",
       "\n",
       "    .dataframe thead th {\n",
       "        text-align: right;\n",
       "    }\n",
       "</style>\n",
       "<table border=\"1\" class=\"dataframe\">\n",
       "  <thead>\n",
       "    <tr style=\"text-align: right;\">\n",
       "      <th></th>\n",
       "      <th>mean</th>\n",
       "      <th>count</th>\n",
       "    </tr>\n",
       "    <tr>\n",
       "      <th>child_flg</th>\n",
       "      <th></th>\n",
       "      <th></th>\n",
       "    </tr>\n",
       "  </thead>\n",
       "  <tbody>\n",
       "    <tr>\n",
       "      <th>0</th>\n",
       "      <td>0.032594</td>\n",
       "      <td>6627</td>\n",
       "    </tr>\n",
       "    <tr>\n",
       "      <th>1</th>\n",
       "      <td>0.042049</td>\n",
       "      <td>1308</td>\n",
       "    </tr>\n",
       "  </tbody>\n",
       "</table>\n",
       "</div>"
      ]
     },
     "execution_count": 36,
     "metadata": {},
     "output_type": "execute_result"
    }
   ],
   "execution_count": 36
  },
  {
   "metadata": {
    "ExecuteTime": {
     "end_time": "2024-11-30T07:48:11.653544Z",
     "start_time": "2024-11-30T07:48:11.645659Z"
    }
   },
   "cell_type": "code",
   "source": [
    "no = df[df['bundle_nm'] == '0']['approval_flg']\n",
    "pro = df[df['bundle_nm'] == 'Pro']['approval_flg']\n",
    "premium = df[df['bundle_nm'] == 'Premium']['approval_flg']"
   ],
   "id": "a780663c9530de25",
   "outputs": [],
   "execution_count": 37
  },
  {
   "metadata": {
    "ExecuteTime": {
     "end_time": "2024-11-30T07:48:12.789886Z",
     "start_time": "2024-11-30T07:48:12.781154Z"
    }
   },
   "cell_type": "code",
   "source": "st.mannwhitneyu(no, pro)[1].round(3)",
   "id": "41102ebb9fc4e060",
   "outputs": [
    {
     "data": {
      "text/plain": [
       "np.float64(0.026)"
      ]
     },
     "execution_count": 38,
     "metadata": {},
     "output_type": "execute_result"
    }
   ],
   "execution_count": 38
  },
  {
   "metadata": {
    "ExecuteTime": {
     "end_time": "2024-11-30T07:48:16.175293Z",
     "start_time": "2024-11-30T07:48:16.165658Z"
    }
   },
   "cell_type": "code",
   "source": [
    "df = df[(df['bundle_nm'] == '0') | (df['bundle_nm'] == 'Pro')]\n",
    "df.bundle_nm = df.bundle_nm.map({'Pro': 1, '0': 0})"
   ],
   "id": "7bc033719e3248aa",
   "outputs": [],
   "execution_count": 39
  },
  {
   "metadata": {
    "ExecuteTime": {
     "end_time": "2024-11-30T07:48:16.414818Z",
     "start_time": "2024-11-30T07:48:16.351698Z"
    }
   },
   "cell_type": "code",
   "source": [
    "X = df[['bundle_nm', 'age', 'gender_cd', 'child_flg']]\n",
    "y = df['approval_flg']\n",
    "\n",
    "X = sm.add_constant(X)\n",
    "\n",
    "probit_model = sm.Probit(y, X)\n",
    "probit_result = probit_model.fit()\n",
    "\n",
    "\n",
    "print(probit_result.summary())"
   ],
   "id": "4e9f0265e2cacb9e",
   "outputs": [
    {
     "name": "stdout",
     "output_type": "stream",
     "text": [
      "Optimization terminated successfully.\n",
      "         Current function value: 0.148314\n",
      "         Iterations 7\n",
      "                          Probit Regression Results                           \n",
      "==============================================================================\n",
      "Dep. Variable:           approval_flg   No. Observations:                 7830\n",
      "Model:                         Probit   Df Residuals:                     7825\n",
      "Method:                           MLE   Df Model:                            4\n",
      "Date:                Sat, 30 Nov 2024   Pseudo R-squ.:                 0.01121\n",
      "Time:                        17:48:16   Log-Likelihood:                -1161.3\n",
      "converged:                       True   LL-Null:                       -1174.5\n",
      "Covariance Type:            nonrobust   LLR p-value:                 2.722e-05\n",
      "==============================================================================\n",
      "                 coef    std err          z      P>|z|      [0.025      0.975]\n",
      "------------------------------------------------------------------------------\n",
      "const         -2.1291      0.105    -20.230      0.000      -2.335      -1.923\n",
      "bundle_nm     -0.1846      0.075     -2.445      0.014      -0.333      -0.037\n",
      "age            0.0053      0.002      2.304      0.021       0.001       0.010\n",
      "gender_cd      0.1975      0.055      3.573      0.000       0.089       0.306\n",
      "child_flg      0.1538      0.070      2.187      0.029       0.016       0.292\n",
      "==============================================================================\n"
     ]
    }
   ],
   "execution_count": 40
  },
  {
   "metadata": {},
   "cell_type": "code",
   "outputs": [],
   "execution_count": null,
   "source": "",
   "id": "68e75fe0202a00c1"
  }
 ],
 "metadata": {
  "kernelspec": {
   "display_name": "Python 3",
   "language": "python",
   "name": "python3"
  },
  "language_info": {
   "codemirror_mode": {
    "name": "ipython",
    "version": 2
   },
   "file_extension": ".py",
   "mimetype": "text/x-python",
   "name": "python",
   "nbconvert_exporter": "python",
   "pygments_lexer": "ipython2",
   "version": "2.7.6"
  }
 },
 "nbformat": 4,
 "nbformat_minor": 5
}
