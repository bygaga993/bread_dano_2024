{
 "cells": [
  {
   "cell_type": "markdown",
   "metadata": {},
   "source": [
    "<h2>Создание датасета</h2>"
   ]
  },
  {
   "cell_type": "code",
   "metadata": {
    "ExecuteTime": {
     "end_time": "2024-11-29T10:28:33.475364Z",
     "start_time": "2024-11-29T10:28:33.467010Z"
    }
   },
   "source": [
    "import pandas as pd\n",
    "import warnings\n",
    "warnings.filterwarnings('ignore')"
   ],
   "outputs": [],
   "execution_count": 29
  },
  {
   "cell_type": "code",
   "metadata": {
    "ExecuteTime": {
     "end_time": "2024-11-29T10:28:33.752775Z",
     "start_time": "2024-11-29T10:28:33.650056Z"
    }
   },
   "source": [
    "df = pd.read_csv('sale_tasks_dataset.csv', decimal='.')"
   ],
   "outputs": [],
   "execution_count": 30
  },
  {
   "cell_type": "code",
   "metadata": {
    "ExecuteTime": {
     "end_time": "2024-11-29T10:28:33.913100Z",
     "start_time": "2024-11-29T10:28:33.848979Z"
    }
   },
   "source": [
    "df['finish_dttm'] = pd.to_datetime(df['finish_dttm'], format='%Y-%m-%d %H:%M:%S')\n",
    "df['day_of_week'] = df['finish_dttm'].dt.dayofweek\n",
    "df['is_holiday'] = df.day_of_week.apply(lambda x: 1 if x > 4 else 0) # создание is_holiday\n",
    "df['finish_dttm'] = df['finish_dttm'].dt.strftime('%Y-%m-%d')\n",
    "\n",
    "df['approval_flg'] = df['wo_hit_status_result_desc'].map({'Дозвон, Отказ': 0, 'Дозвон, Успешно': 1})\n",
    "\n",
    "df['age'] = pd.to_numeric(df['age'], errors='coerce')\n",
    "\n",
    "df[\"bundle_nm\"] = df[\"bundle_nm\"].fillna(0)\n",
    "df[\"bundle_flg\"] = df[\"bundle_nm\"].map({'XXX': 0, 'Pro': 1, 'Premium': 1})\n",
    "\n",
    "df['gender_cd'] = df['gender_cd'].map({'F': 0, 'M': 1})\n",
    "df['emp_gender_cd'] = df['emp_gender_cd'].map({'W': 0, 'M': 1})\n",
    "\n",
    "df['region_size'].fillna('no', inplace=True)\n",
    "\n",
    "def segment_region(region):\n",
    "    if region == 'no' or region == 'rural':\n",
    "        return 0\n",
    "    else:\n",
    "        return 1\n",
    "df['segment_region'] = df['region_size'].apply(segment_region)\n",
    "\n",
    "def preapprove_flg(functional):\n",
    "    if functional == 'Preapprove':\n",
    "        return 1\n",
    "    else:\n",
    "        return 0\n",
    "df['preapprove_flg'] = df['functional_cd'].apply(preapprove_flg)\n",
    "\n",
    "def child_flg(child):\n",
    "    if child > 0:\n",
    "        return 1\n",
    "    else:\n",
    "        return 0\n",
    "df['child_flg'] = df['child_amt'].apply(child_flg)"
   ],
   "outputs": [],
   "execution_count": 31
  },
  {
   "cell_type": "code",
   "metadata": {
    "ExecuteTime": {
     "end_time": "2024-11-29T10:28:34.897651Z",
     "start_time": "2024-11-29T10:28:34.676065Z"
    }
   },
   "source": "df.to_csv('data_preprocessed.csv', index=False)",
   "outputs": [],
   "execution_count": 32
  },
  {
   "cell_type": "markdown",
   "metadata": {},
   "source": "<h3>Чистка выбросов</h3>"
  },
  {
   "metadata": {
    "ExecuteTime": {
     "end_time": "2024-11-29T10:28:35.378126Z",
     "start_time": "2024-11-29T10:28:35.328020Z"
    }
   },
   "cell_type": "code",
   "source": "df.dropna(subset=['age', 'gender_cd'], inplace=True) # пустые значения по age, gender_cd",
   "outputs": [],
   "execution_count": 33
  },
  {
   "metadata": {
    "ExecuteTime": {
     "end_time": "2024-11-29T10:28:35.563142Z",
     "start_time": "2024-11-29T10:28:35.530175Z"
    }
   },
   "cell_type": "code",
   "source": "df = df[(df['age'] <= 65) & (df['age'] >= 18)]",
   "outputs": [],
   "execution_count": 34
  },
  {
   "metadata": {
    "ExecuteTime": {
     "end_time": "2024-11-29T10:28:35.778475Z",
     "start_time": "2024-11-29T10:28:35.743286Z"
    }
   },
   "cell_type": "code",
   "source": [
    "df.drop_duplicates(subset=['customer_id'], inplace=True, keep='first') # дубликаты клиентов\n",
    "df.drop(df[df['customer_id'] == '538327981'].index, inplace=True)"
   ],
   "outputs": [],
   "execution_count": 35
  },
  {
   "metadata": {
    "ExecuteTime": {
     "end_time": "2024-11-29T10:28:35.939813Z",
     "start_time": "2024-11-29T10:28:35.928475Z"
    }
   },
   "cell_type": "code",
   "source": [
    "IQR = df[\"state_talk_time_sec\"].quantile(0.75) - df[\"state_talk_time_sec\"].quantile(0.25)\n",
    "high = df[\"state_talk_time_sec\"].quantile(0.75) + IQR * 3\n",
    "df = df[df[\"state_talk_time_sec\"] < high] # чистка длительности звонка"
   ],
   "outputs": [],
   "execution_count": 36
  },
  {
   "cell_type": "code",
   "metadata": {
    "ExecuteTime": {
     "end_time": "2024-11-29T10:28:36.332085Z",
     "start_time": "2024-11-29T10:28:36.130411Z"
    }
   },
   "source": "df.to_csv('data_preprocessed_sort.csv', index=False)",
   "outputs": [],
   "execution_count": 37
  },
  {
   "cell_type": "code",
   "execution_count": null,
   "metadata": {},
   "outputs": [],
   "source": []
  }
 ],
 "metadata": {
  "kernelspec": {
   "display_name": "Python 3",
   "language": "python",
   "name": "python3"
  },
  "language_info": {
   "codemirror_mode": {
    "name": "ipython",
    "version": 3
   },
   "file_extension": ".py",
   "mimetype": "text/x-python",
   "name": "python",
   "nbconvert_exporter": "python",
   "pygments_lexer": "ipython3",
   "version": "3.12.6"
  }
 },
 "nbformat": 4,
 "nbformat_minor": 2
}
