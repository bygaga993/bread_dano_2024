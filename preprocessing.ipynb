{
 "cells": [
  {
   "cell_type": "markdown",
   "metadata": {},
   "source": [
    "<h2>Создание датасета</h2>"
   ]
  },
  {
   "cell_type": "code",
   "execution_count": 63,
   "metadata": {},
   "outputs": [],
   "source": [
    "import pandas as pd\n",
    "import warnings\n",
    "warnings.filterwarnings('ignore')"
   ]
  },
  {
   "cell_type": "code",
   "execution_count": 64,
   "metadata": {},
   "outputs": [],
   "source": [
    "df = pd.read_csv('sale_tasks_dataset.csv', decimal='.')"
   ]
  },
  {
   "cell_type": "code",
   "execution_count": 65,
   "metadata": {},
   "outputs": [],
   "source": [
    "df['finish_dttm'] = pd.to_datetime(df['finish_dttm'], format='%Y-%m-%d %H:%M:%S')\n",
    "df['day_of_week'] = df['finish_dttm'].dt.dayofweek\n",
    "df['is_holiday'] = df.day_of_week.apply(lambda x: 1 if x > 4 else 0) # создание is_holiday\n",
    "\n",
    "df.drop_duplicates(subset=['customer_id'], inplace=True, keep='first') # дубликаты клиентов\n",
    "\n",
    "df.dropna(subset=['age', 'gender_cd', 'state_talk_time_sec'], inplace=True) # пустые значения по age, gender_cd\n",
    "\n",
    "df['age'] = pd.to_numeric(df['age'], errors='coerce')\n",
    "df = df[(df['age'] <= 65) & (df['age'] >= 18)] # очистка по age\n",
    "IQR = df[\"state_talk_time_sec\"].quantile(0.75) - df[\"state_talk_time_sec\"].quantile(0.25)\n",
    "high = df[\"state_talk_time_sec\"].quantile(0.75) + IQR * 3\n",
    "df = df[df[\"state_talk_time_sec\"] < high] # чистка длительности звонка\n",
    "\n",
    "\n",
    "df['gender_cd'] = df['gender_cd'].map({'F': 0, 'M': 1})\n",
    "\n",
    "df['region_size'].fillna('No', inplace=True)\n",
    "mapping = {\n",
    "    'No': 0,\n",
    "    'town': 1,\n",
    "    'urban': 2,\n",
    "    'msk': 3,\n",
    "    'rural': 4\n",
    "}\n",
    "\n",
    "df['region_size_numeric'] = df['region_size'].map(mapping)\n",
    "\n",
    "df[\"approval_flag\"] = df[\"wo_hit_status_result_desc\"].replace({\"Дозвон, Отказ\": 0, \"Дозвон, Успешно\": 1})"
   ]
  },
  {
   "cell_type": "code",
   "execution_count": 66,
   "metadata": {},
   "outputs": [],
   "source": [
    "df.to_csv('data_preprocessed.csv', index=False)"
   ]
  },
  {
   "cell_type": "markdown",
   "metadata": {},
   "source": [
    "<h3>Дополнительно</h3>"
   ]
  },
  {
   "cell_type": "code",
   "execution_count": 67,
   "metadata": {},
   "outputs": [],
   "source": [
    "df.to_csv('data_preprocessed_sort.csv', columns=['age', 'gender_cd', 'day_of_week', 'is_holiday', 'region_size_numeric'] , index=False)"
   ]
  },
  {
   "cell_type": "code",
   "execution_count": null,
   "metadata": {},
   "outputs": [],
   "source": []
  }
 ],
 "metadata": {
  "kernelspec": {
   "display_name": "Python 3",
   "language": "python",
   "name": "python3"
  },
  "language_info": {
   "codemirror_mode": {
    "name": "ipython",
    "version": 3
   },
   "file_extension": ".py",
   "mimetype": "text/x-python",
   "name": "python",
   "nbconvert_exporter": "python",
   "pygments_lexer": "ipython3",
   "version": "3.12.7"
  }
 },
 "nbformat": 4,
 "nbformat_minor": 2
}
