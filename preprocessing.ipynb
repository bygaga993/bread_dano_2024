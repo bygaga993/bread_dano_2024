{
 "cells": [
  {
   "cell_type": "code",
   "execution_count": 1,
   "metadata": {},
   "outputs": [
    {
     "name": "stderr",
     "output_type": "stream",
     "text": [
      "C:\\Users\\valer\\AppData\\Local\\Temp\\ipykernel_25148\\3632437423.py:1: DeprecationWarning: \n",
      "Pyarrow will become a required dependency of pandas in the next major release of pandas (pandas 3.0),\n",
      "(to allow more performant data types, such as the Arrow string type, and better interoperability with other libraries)\n",
      "but was not found to be installed on your system.\n",
      "If this would cause problems for you,\n",
      "please provide us feedback at https://github.com/pandas-dev/pandas/issues/54466\n",
      "        \n",
      "  import pandas as pd\n"
     ]
    }
   ],
   "source": [
    "import pandas as pd\n",
    "import seaborn as sns\n",
    "import matplotlib.pyplot as plt"
   ]
  },
  {
   "cell_type": "code",
   "execution_count": 2,
   "metadata": {},
   "outputs": [
    {
     "data": {
      "text/html": [
       "<div>\n",
       "<style scoped>\n",
       "    .dataframe tbody tr th:only-of-type {\n",
       "        vertical-align: middle;\n",
       "    }\n",
       "\n",
       "    .dataframe tbody tr th {\n",
       "        vertical-align: top;\n",
       "    }\n",
       "\n",
       "    .dataframe thead th {\n",
       "        text-align: right;\n",
       "    }\n",
       "</style>\n",
       "<table border=\"1\" class=\"dataframe\">\n",
       "  <thead>\n",
       "    <tr style=\"text-align: right;\">\n",
       "      <th></th>\n",
       "      <th>customer_id</th>\n",
       "      <th>age</th>\n",
       "      <th>gender_cd</th>\n",
       "      <th>region_size</th>\n",
       "      <th>foreign_flg</th>\n",
       "      <th>entrepreneur_flg</th>\n",
       "      <th>auto_flg</th>\n",
       "      <th>traveler_flg</th>\n",
       "      <th>partnership_flg</th>\n",
       "      <th>child_amt</th>\n",
       "      <th>...</th>\n",
       "      <th>state_talk_time_sec</th>\n",
       "      <th>wo_hit_status_result_desc</th>\n",
       "      <th>wo_hit_status_reason_desc</th>\n",
       "      <th>employee_id</th>\n",
       "      <th>emp_age</th>\n",
       "      <th>emp_gender_cd</th>\n",
       "      <th>emp_children_cnt</th>\n",
       "      <th>emp_work_months_cnt</th>\n",
       "      <th>emp_citizenship_country_cd</th>\n",
       "      <th>emp_marital_status_cd</th>\n",
       "    </tr>\n",
       "  </thead>\n",
       "  <tbody>\n",
       "    <tr>\n",
       "      <th>0</th>\n",
       "      <td>422206773</td>\n",
       "      <td>58.0</td>\n",
       "      <td>F</td>\n",
       "      <td>NaN</td>\n",
       "      <td>NaN</td>\n",
       "      <td>NaN</td>\n",
       "      <td>NaN</td>\n",
       "      <td>NaN</td>\n",
       "      <td>NaN</td>\n",
       "      <td>NaN</td>\n",
       "      <td>...</td>\n",
       "      <td>67.0</td>\n",
       "      <td>Дозвон, Отказ</td>\n",
       "      <td>Перезвонит самостоятельно позднее</td>\n",
       "      <td>142052.0</td>\n",
       "      <td>30</td>\n",
       "      <td>W</td>\n",
       "      <td>NaN</td>\n",
       "      <td>1</td>\n",
       "      <td>NaN</td>\n",
       "      <td>NaN</td>\n",
       "    </tr>\n",
       "    <tr>\n",
       "      <th>1</th>\n",
       "      <td>348648289</td>\n",
       "      <td>44.0</td>\n",
       "      <td>M</td>\n",
       "      <td>rural</td>\n",
       "      <td>0.0</td>\n",
       "      <td>0.0</td>\n",
       "      <td>0.0</td>\n",
       "      <td>0.0</td>\n",
       "      <td>1.0</td>\n",
       "      <td>1.0</td>\n",
       "      <td>...</td>\n",
       "      <td>151.0</td>\n",
       "      <td>Дозвон, Отказ</td>\n",
       "      <td>Другое</td>\n",
       "      <td>7004.0</td>\n",
       "      <td>36</td>\n",
       "      <td>W</td>\n",
       "      <td>NaN</td>\n",
       "      <td>2</td>\n",
       "      <td>RUS</td>\n",
       "      <td>NaN</td>\n",
       "    </tr>\n",
       "    <tr>\n",
       "      <th>2</th>\n",
       "      <td>345496995</td>\n",
       "      <td>23.0</td>\n",
       "      <td>F</td>\n",
       "      <td>town</td>\n",
       "      <td>0.0</td>\n",
       "      <td>0.0</td>\n",
       "      <td>1.0</td>\n",
       "      <td>0.0</td>\n",
       "      <td>1.0</td>\n",
       "      <td>0.0</td>\n",
       "      <td>...</td>\n",
       "      <td>68.0</td>\n",
       "      <td>Дозвон, Успешно</td>\n",
       "      <td>Назначена встреча</td>\n",
       "      <td>80760.0</td>\n",
       "      <td>52</td>\n",
       "      <td>W</td>\n",
       "      <td>NaN</td>\n",
       "      <td>6</td>\n",
       "      <td>NaN</td>\n",
       "      <td>NaN</td>\n",
       "    </tr>\n",
       "    <tr>\n",
       "      <th>3</th>\n",
       "      <td>182783192</td>\n",
       "      <td>34.0</td>\n",
       "      <td>M</td>\n",
       "      <td>town</td>\n",
       "      <td>0.0</td>\n",
       "      <td>0.0</td>\n",
       "      <td>0.0</td>\n",
       "      <td>0.0</td>\n",
       "      <td>0.0</td>\n",
       "      <td>0.0</td>\n",
       "      <td>...</td>\n",
       "      <td>738.0</td>\n",
       "      <td>Дозвон, Успешно</td>\n",
       "      <td>Обещал утилизироваться самостоятельно</td>\n",
       "      <td>158672.0</td>\n",
       "      <td>22</td>\n",
       "      <td>NaN</td>\n",
       "      <td>NaN</td>\n",
       "      <td>8</td>\n",
       "      <td>NaN</td>\n",
       "      <td>NaN</td>\n",
       "    </tr>\n",
       "    <tr>\n",
       "      <th>4</th>\n",
       "      <td>138498254</td>\n",
       "      <td>30.0</td>\n",
       "      <td>M</td>\n",
       "      <td>NaN</td>\n",
       "      <td>NaN</td>\n",
       "      <td>NaN</td>\n",
       "      <td>NaN</td>\n",
       "      <td>NaN</td>\n",
       "      <td>NaN</td>\n",
       "      <td>NaN</td>\n",
       "      <td>...</td>\n",
       "      <td>39.0</td>\n",
       "      <td>Дозвон, Отказ</td>\n",
       "      <td>Переведен в банк</td>\n",
       "      <td>14462.0</td>\n",
       "      <td>51</td>\n",
       "      <td>W</td>\n",
       "      <td>NaN</td>\n",
       "      <td>7</td>\n",
       "      <td>NaN</td>\n",
       "      <td>NaN</td>\n",
       "    </tr>\n",
       "  </tbody>\n",
       "</table>\n",
       "<p>5 rows × 28 columns</p>\n",
       "</div>"
      ],
      "text/plain": [
       "   customer_id   age gender_cd region_size  foreign_flg  entrepreneur_flg  \\\n",
       "0    422206773  58.0         F         NaN          NaN               NaN   \n",
       "1    348648289  44.0         M       rural          0.0               0.0   \n",
       "2    345496995  23.0         F        town          0.0               0.0   \n",
       "3    182783192  34.0         M        town          0.0               0.0   \n",
       "4    138498254  30.0         M         NaN          NaN               NaN   \n",
       "\n",
       "   auto_flg  traveler_flg  partnership_flg  child_amt  ...  \\\n",
       "0       NaN           NaN              NaN        NaN  ...   \n",
       "1       0.0           0.0              1.0        1.0  ...   \n",
       "2       1.0           0.0              1.0        0.0  ...   \n",
       "3       0.0           0.0              0.0        0.0  ...   \n",
       "4       NaN           NaN              NaN        NaN  ...   \n",
       "\n",
       "  state_talk_time_sec wo_hit_status_result_desc  \\\n",
       "0                67.0             Дозвон, Отказ   \n",
       "1               151.0             Дозвон, Отказ   \n",
       "2                68.0           Дозвон, Успешно   \n",
       "3               738.0           Дозвон, Успешно   \n",
       "4                39.0             Дозвон, Отказ   \n",
       "\n",
       "               wo_hit_status_reason_desc  employee_id  emp_age emp_gender_cd  \\\n",
       "0      Перезвонит самостоятельно позднее     142052.0       30             W   \n",
       "1                                 Другое       7004.0       36             W   \n",
       "2                      Назначена встреча      80760.0       52             W   \n",
       "3  Обещал утилизироваться самостоятельно     158672.0       22           NaN   \n",
       "4                       Переведен в банк      14462.0       51             W   \n",
       "\n",
       "  emp_children_cnt emp_work_months_cnt  emp_citizenship_country_cd  \\\n",
       "0              NaN                   1                         NaN   \n",
       "1              NaN                   2                         RUS   \n",
       "2              NaN                   6                         NaN   \n",
       "3              NaN                   8                         NaN   \n",
       "4              NaN                   7                         NaN   \n",
       "\n",
       "  emp_marital_status_cd  \n",
       "0                   NaN  \n",
       "1                   NaN  \n",
       "2                   NaN  \n",
       "3                   NaN  \n",
       "4                   NaN  \n",
       "\n",
       "[5 rows x 28 columns]"
      ]
     },
     "execution_count": 2,
     "metadata": {},
     "output_type": "execute_result"
    }
   ],
   "source": [
    "df = pd.read_csv('sale_tasks_dataset.csv', decimal='.')\n",
    "df.head(5)"
   ]
  },
  {
   "cell_type": "code",
   "execution_count": 3,
   "metadata": {},
   "outputs": [
    {
     "data": {
      "text/plain": [
       "array(['Meeting', 'Upsell', 'Afterfilling', 'Utilization', 'Incoming',\n",
       "       'Preapprove', 'Cold', 'Reutilization', 'Prolongation', 'Agreement',\n",
       "       'BAF', 'Downsell', 'Activation', 'Autoleads', 'Deposit',\n",
       "       'Refinancing'], dtype=object)"
      ]
     },
     "execution_count": 3,
     "metadata": {},
     "output_type": "execute_result"
    }
   ],
   "source": [
    "df['functional_cd'].unique()"
   ]
  },
  {
   "cell_type": "code",
   "execution_count": 46,
   "metadata": {},
   "outputs": [
    {
     "data": {
      "text/plain": [
       "(18614, 28)"
      ]
     },
     "execution_count": 46,
     "metadata": {},
     "output_type": "execute_result"
    }
   ],
   "source": [
    "df.shape"
   ]
  },
  {
   "cell_type": "code",
   "execution_count": 41,
   "metadata": {},
   "outputs": [],
   "source": [
    "df['age'] = pd.to_numeric(df['age'], errors='coerce')"
   ]
  },
  {
   "cell_type": "code",
   "execution_count": 42,
   "metadata": {},
   "outputs": [
    {
     "data": {
      "text/plain": [
       "customer_id                       0\n",
       "age                             183\n",
       "gender_cd                       258\n",
       "region_size                    7289\n",
       "foreign_flg                    7289\n",
       "entrepreneur_flg               7289\n",
       "auto_flg                       7289\n",
       "traveler_flg                   7289\n",
       "partnership_flg                7289\n",
       "child_amt                      7289\n",
       "realty_type                    7289\n",
       "segment_cd                     7289\n",
       "bundle_nm                     13988\n",
       "confirmed_income              17284\n",
       "predicted_income              14604\n",
       "product_cd                        0\n",
       "functional_cd                     0\n",
       "finish_dttm                       0\n",
       "state_talk_time_sec             148\n",
       "wo_hit_status_result_desc         0\n",
       "wo_hit_status_reason_desc         0\n",
       "employee_id                       0\n",
       "emp_age                           0\n",
       "emp_gender_cd                  2180\n",
       "emp_children_cnt              18605\n",
       "emp_work_months_cnt               0\n",
       "emp_citizenship_country_cd    12487\n",
       "emp_marital_status_cd         14825\n",
       "dtype: int64"
      ]
     },
     "execution_count": 42,
     "metadata": {},
     "output_type": "execute_result"
    }
   ],
   "source": [
    "df.isna().sum()"
   ]
  },
  {
   "cell_type": "markdown",
   "metadata": {},
   "source": [
    "Для начала посмотрю на распредление разных признаков(пропуски буду заполнять классическими подходами)"
   ]
  },
  {
   "cell_type": "code",
   "execution_count": 43,
   "metadata": {},
   "outputs": [
    {
     "name": "stderr",
     "output_type": "stream",
     "text": [
      "C:\\Users\\valer\\AppData\\Local\\Temp\\ipykernel_20464\\3184524078.py:2: FutureWarning: A value is trying to be set on a copy of a DataFrame or Series through chained assignment using an inplace method.\n",
      "The behavior will change in pandas 3.0. This inplace method will never work because the intermediate object on which we are setting values always behaves as a copy.\n",
      "\n",
      "For example, when doing 'df[col].method(value, inplace=True)', try using 'df.method({col: value}, inplace=True)' or df[col] = df[col].method(value) instead, to perform the operation inplace on the original object.\n",
      "\n",
      "\n",
      "  df['age'].fillna(df['age'].median(), inplace=True)\n"
     ]
    }
   ],
   "source": [
    "# пропуски в возрасте заменяю медианой\n",
    "df['age'].fillna(df['age'].median(), inplace=True)"
   ]
  },
  {
   "cell_type": "code",
   "execution_count": 44,
   "metadata": {},
   "outputs": [
    {
     "data": {
      "image/png": "[encoded data removed]",
      "text/plain": [
       "<Figure size 900x500 with 2 Axes>"
      ]
     },
     "metadata": {},
     "output_type": "display_data"
    }
   ],
   "source": [
    "fig = plt.figure(figsize=(9, 5))\n",
    "\n",
    "plt.subplot(1, 2, 1)\n",
    "plt.boxplot(x=df['age'])\n",
    "\n",
    "plt.subplot(1, 2, 2)\n",
    "plt.hist(df['age'], bins=100)\n",
    "\n",
    "plt.suptitle('Признак: возраст клиента')\n",
    "plt.show()"
   ]
  },
  {
   "cell_type": "markdown",
   "metadata": {},
   "source": [
    "Менее 14 лет - не уверена, что они вообще могут быть клиентами\n",
    "\n",
    "Более 70 - выбросы"
   ]
  },
  {
   "cell_type": "code",
   "execution_count": 45,
   "metadata": {},
   "outputs": [],
   "source": [
    "df = df[(df['age'] <= 70) & (df['age'] >= 14)]"
   ]
  },
  {
   "cell_type": "code",
   "execution_count": null,
   "metadata": {},
   "outputs": [],
   "source": []
  }
 ],
 "metadata": {
  "kernelspec": {
   "display_name": "Python 3",
   "language": "python",
   "name": "python3"
  },
  "language_info": {
   "codemirror_mode": {
    "name": "ipython",
    "version": 3
   },
   "file_extension": ".py",
   "mimetype": "text/x-python",
   "name": "python",
   "nbconvert_exporter": "python",
   "pygments_lexer": "ipython3",
   "version": "3.12.2"
  }
 },
 "nbformat": 4,
 "nbformat_minor": 2
}
