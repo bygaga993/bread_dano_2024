{
 "cells": [
  {
   "cell_type": "markdown",
   "metadata": {},
   "source": [
    "<h2>Создание датасета</h2>"
   ]
  },
  {
   "cell_type": "code",
   "metadata": {
    "ExecuteTime": {
     "end_time": "2024-11-27T10:56:49.404384Z",
     "start_time": "2024-11-27T10:56:49.399395Z"
    }
   },
   "source": [
    "import pandas as pd\n",
    "import warnings\n",
    "warnings.filterwarnings('ignore')"
   ],
   "outputs": [],
   "execution_count": 75
  },
  {
   "cell_type": "code",
   "metadata": {
    "ExecuteTime": {
     "end_time": "2024-11-27T10:56:49.640067Z",
     "start_time": "2024-11-27T10:56:49.574340Z"
    }
   },
   "source": [
    "df = pd.read_csv('sale_tasks_dataset.csv', decimal='.')"
   ],
   "outputs": [],
   "execution_count": 76
  },
  {
   "cell_type": "code",
   "metadata": {
    "ExecuteTime": {
     "end_time": "2024-11-27T10:56:49.877314Z",
     "start_time": "2024-11-27T10:56:49.828064Z"
    }
   },
   "source": [
    "df['finish_dttm'] = pd.to_datetime(df['finish_dttm'], format='%Y-%m-%d %H:%M:%S')\n",
    "df['day_of_week'] = df['finish_dttm'].dt.dayofweek\n",
    "df['is_holiday'] = df.day_of_week.apply(lambda x: 1 if x > 4 else 0) # создание is_holiday\n",
    "df['finish_dttm'] = df['finish_dttm'].dt.strftime('%Y-%m-%d')\n",
    "\n",
    "df['approval_flg'] = df['wo_hit_status_result_desc'].map({'Дозвон, Отказ': 0, 'Дозвон, Успешно': 1})\n",
    "\n",
    "df['age'] = pd.to_numeric(df['age'], errors='coerce')\n",
    "\n",
    "df[\"bundle_nm\"] = df[\"bundle_nm\"].fillna(0)\n",
    "df[\"bundle_flg\"] = df[\"bundle_nm\"].map({'XXX': 0, 'Pro': 1, 'Premium': 1})\n",
    "\n",
    "df['gender_cd'] = df['gender_cd'].map({'F': 0, 'M': 1})\n",
    "\n",
    "df['region_size'].fillna('no', inplace=True)\n",
    "mapping = {\n",
    "    'No': 0,\n",
    "    'town': 1,\n",
    "    'urban': 2,\n",
    "    'msk': 3,\n",
    "    'rural': 4\n",
    "}\n",
    "\n",
    "df['region_size_numeric'] = df['region_size'].map(mapping)"
   ],
   "outputs": [],
   "execution_count": 77
  },
  {
   "cell_type": "code",
   "metadata": {
    "ExecuteTime": {
     "end_time": "2024-11-27T10:56:50.805383Z",
     "start_time": "2024-11-27T10:56:50.609945Z"
    }
   },
   "source": "df.to_csv('data_preprocessed.csv', index=False)",
   "outputs": [],
   "execution_count": 78
  },
  {
   "cell_type": "markdown",
   "metadata": {},
   "source": "<h3>Чистка выбросов</h3>"
  },
  {
   "metadata": {
    "ExecuteTime": {
     "end_time": "2024-11-27T10:56:51.113017Z",
     "start_time": "2024-11-27T10:56:51.098835Z"
    }
   },
   "cell_type": "code",
   "source": "df.dropna(subset=['age', 'gender_cd'], inplace=True) # пустые значения по age, gender_cd",
   "outputs": [],
   "execution_count": 79
  },
  {
   "metadata": {
    "ExecuteTime": {
     "end_time": "2024-11-27T10:56:51.275155Z",
     "start_time": "2024-11-27T10:56:51.265212Z"
    }
   },
   "cell_type": "code",
   "source": "df = df[(df['age'] <= 65) & (df['age'] >= 14)]",
   "outputs": [],
   "execution_count": 80
  },
  {
   "metadata": {
    "ExecuteTime": {
     "end_time": "2024-11-27T10:56:51.406613Z",
     "start_time": "2024-11-27T10:56:51.392127Z"
    }
   },
   "cell_type": "code",
   "source": [
    "df.drop_duplicates(subset=['customer_id'], inplace=True, keep='first') # дубликаты клиентов\n",
    "df.drop(df[df['customer_id'] == '538327981'].index, inplace=True)"
   ],
   "outputs": [],
   "execution_count": 81
  },
  {
   "metadata": {
    "ExecuteTime": {
     "end_time": "2024-11-27T10:56:51.549043Z",
     "start_time": "2024-11-27T10:56:51.538045Z"
    }
   },
   "cell_type": "code",
   "source": [
    "IQR = df[\"state_talk_time_sec\"].quantile(0.75) - df[\"state_talk_time_sec\"].quantile(0.25)\n",
    "high = df[\"state_talk_time_sec\"].quantile(0.75) + IQR * 3\n",
    "df = df[df[\"state_talk_time_sec\"] < high] # чистка длительности звонка"
   ],
   "outputs": [],
   "execution_count": 82
  },
  {
   "cell_type": "code",
   "metadata": {
    "ExecuteTime": {
     "end_time": "2024-11-27T10:56:51.861087Z",
     "start_time": "2024-11-27T10:56:51.688330Z"
    }
   },
   "source": "df.to_csv('data_preprocessed_sort.csv', index=False)",
   "outputs": [],
   "execution_count": 83
  },
  {
   "cell_type": "code",
   "execution_count": null,
   "metadata": {},
   "outputs": [],
   "source": []
  }
 ],
 "metadata": {
  "kernelspec": {
   "display_name": "Python 3",
   "language": "python",
   "name": "python3"
  },
  "language_info": {
   "codemirror_mode": {
    "name": "ipython",
    "version": 3
   },
   "file_extension": ".py",
   "mimetype": "text/x-python",
   "name": "python",
   "nbconvert_exporter": "python",
   "pygments_lexer": "ipython3",
   "version": "3.12.6"
  }
 },
 "nbformat": 4,
 "nbformat_minor": 2
}
