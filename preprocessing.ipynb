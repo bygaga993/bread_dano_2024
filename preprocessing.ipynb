{
 "cells": [
  {
   "cell_type": "markdown",
   "metadata": {},
   "source": [
    "<h2>Создание датасета</h2>"
   ]
  },
  {
   "cell_type": "code",
   "metadata": {
    "ExecuteTime": {
     "end_time": "2024-11-30T07:46:12.737474Z",
     "start_time": "2024-11-30T07:46:12.731790Z"
    }
   },
   "source": [
    "import pandas as pd\n",
    "import numpy as np\n",
    "import warnings\n",
    "warnings.filterwarnings('ignore')"
   ],
   "outputs": [],
   "execution_count": 46
  },
  {
   "cell_type": "code",
   "metadata": {
    "ExecuteTime": {
     "end_time": "2024-11-30T07:46:13.050276Z",
     "start_time": "2024-11-30T07:46:12.969441Z"
    }
   },
   "source": "df = pd.read_csv('sale_tasks_dataset.csv')",
   "outputs": [],
   "execution_count": 47
  },
  {
   "cell_type": "code",
   "metadata": {
    "ExecuteTime": {
     "end_time": "2024-11-30T07:46:13.291123Z",
     "start_time": "2024-11-30T07:46:13.226485Z"
    }
   },
   "source": [
    "df['finish_dttm'] = pd.to_datetime(df['finish_dttm'], format='%Y-%m-%d %H:%M:%S') # преобразование во временную переменную\n",
    "df['day_of_week'] = df['finish_dttm'].dt.dayofweek # создание переменной дня недели\n",
    "df['holiday_flg'] = df.day_of_week.apply(lambda x: 1 if x > 4 else 0) # создание флага выходного дня\n",
    "df['finish_dttm'] = df['finish_dttm'].dt.strftime('%Y-%m-%d') # сокращение структуры переменной времени\n",
    "\n",
    "df['approval_flg'] = df['wo_hit_status_result_desc'].map({'Дозвон, Отказ': 0, 'Дозвон, Успешно': 1}) # создание флага одобрения заявки\n",
    "\n",
    "df['age'] = pd.to_numeric(df['age'], errors='coerce') # преобразование во числовую переменную\n",
    "\n",
    "df[\"bundle_nm\"] = df[\"bundle_nm\"].fillna(0)\n",
    "df[\"bundle_flg\"] = df[\"bundle_nm\"].map({'XXX': 0, 'Pro': 1, 'Premium': 1}) # создание флага наличия подписки\n",
    "\n",
    "df['gender_cd'] = df['gender_cd'].map({'F': 0, 'M': 1}) # преобразование в бинарную переменную\n",
    "df['emp_gender_cd'] = df['emp_gender_cd'].map({'W': 0, 'M': 1}) # преобразование в бинарную переменную\n",
    "\n",
    "def segment_region(region):\n",
    "    if region == 'town' or region == 'rural':\n",
    "        return 0\n",
    "    if region == 'msk' or region == 'urban':\n",
    "        return 1\n",
    "    else:\n",
    "        return np.nan\n",
    "\n",
    "df['segment_region'] = df['region_size'].apply(segment_region) # создание флага города-миллионика\n",
    "\n",
    "def preapprove_flg(functional):\n",
    "    if functional == 'Preapprove':\n",
    "        return 1\n",
    "    else:\n",
    "        return 0\n",
    "df['preapprove_flg'] = df['functional_cd'].apply(preapprove_flg) # создание флага preapprove\n",
    "\n",
    "def child_flg(child):\n",
    "    if child > 0:\n",
    "        return 1\n",
    "    else:\n",
    "        return 0\n",
    "df['child_flg'] = df['child_amt'].apply(child_flg) # создание флага наличия ребенка"
   ],
   "outputs": [],
   "execution_count": 48
  },
  {
   "cell_type": "code",
   "metadata": {
    "ExecuteTime": {
     "end_time": "2024-11-30T07:46:15.101808Z",
     "start_time": "2024-11-30T07:46:14.889715Z"
    }
   },
   "source": "df.to_csv('data_preprocessed.csv', index=False)",
   "outputs": [],
   "execution_count": 49
  },
  {
   "cell_type": "markdown",
   "metadata": {},
   "source": "<h3>Чистка выбросов</h3>"
  },
  {
   "metadata": {
    "ExecuteTime": {
     "end_time": "2024-11-30T07:46:17.193641Z",
     "start_time": "2024-11-30T07:46:17.172533Z"
    }
   },
   "cell_type": "code",
   "source": "df.dropna(subset=['age', 'gender_cd'], inplace=True) # пустые значения по age, gender_cd",
   "outputs": [],
   "execution_count": 50
  },
  {
   "metadata": {
    "ExecuteTime": {
     "end_time": "2024-11-30T07:46:17.548931Z",
     "start_time": "2024-11-30T07:46:17.515081Z"
    }
   },
   "cell_type": "code",
   "source": "df = df[(df['age'] <= 65) & (df['age'] >= 18)]",
   "outputs": [],
   "execution_count": 51
  },
  {
   "metadata": {
    "ExecuteTime": {
     "end_time": "2024-11-30T07:46:18.135399Z",
     "start_time": "2024-11-30T07:46:18.116533Z"
    }
   },
   "cell_type": "code",
   "source": [
    "df.drop_duplicates(subset=['customer_id'], inplace=True, keep='first') # дубликаты клиентов\n",
    "df.drop(df[df['customer_id'] == '538327981'].index, inplace=True)"
   ],
   "outputs": [],
   "execution_count": 52
  },
  {
   "metadata": {
    "ExecuteTime": {
     "end_time": "2024-11-30T07:46:21.644282Z",
     "start_time": "2024-11-30T07:46:21.631482Z"
    }
   },
   "cell_type": "code",
   "source": [
    "IQR = df[\"state_talk_time_sec\"].quantile(0.75) - df[\"state_talk_time_sec\"].quantile(0.25)\n",
    "high = df[\"state_talk_time_sec\"].quantile(0.75) + IQR * 3\n",
    "df = df[df[\"state_talk_time_sec\"] < high] # чистка длительности звонка"
   ],
   "outputs": [],
   "execution_count": 53
  },
  {
   "cell_type": "code",
   "metadata": {
    "ExecuteTime": {
     "end_time": "2024-11-30T07:46:22.157453Z",
     "start_time": "2024-11-30T07:46:21.941671Z"
    }
   },
   "source": "df.to_csv('data_preprocessed_sort.csv', index=False)",
   "outputs": [],
   "execution_count": 54
  }
 ],
 "metadata": {
  "kernelspec": {
   "display_name": "Python 3",
   "language": "python",
   "name": "python3"
  },
  "language_info": {
   "codemirror_mode": {
    "name": "ipython",
    "version": 3
   },
   "file_extension": ".py",
   "mimetype": "text/x-python",
   "name": "python",
   "nbconvert_exporter": "python",
   "pygments_lexer": "ipython3",
   "version": "3.12.6"
  }
 },
 "nbformat": 4,
 "nbformat_minor": 2
}
