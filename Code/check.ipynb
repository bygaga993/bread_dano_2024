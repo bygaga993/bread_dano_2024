{
 "cells": [
  {
   "cell_type": "code",
   "execution_count": null,
   "id": "initial_id",
   "metadata": {
    "collapsed": true
   },
   "outputs": [],
   "source": [
    "import pandas as pd\n",
    "import scipy.stats as stats\n",
    "import statsmodels.api as sm\n",
    "import seaborn as sns\n",
    "\n",
    "import warnings\n",
    "warnings.filterwarnings('ignore')"
   ]
  },
  {
   "metadata": {},
   "cell_type": "code",
   "outputs": [],
   "execution_count": null,
   "source": [
    "df = pd.read_csv('data\\data_final_preprocessed.csv')\n",
    "df.dropna(subset=['region_size'], inplace=True)\n",
    "for col in df['region_size'].unique():\n",
    "    df1 = df[df['region_size'] == col]\n",
    "    X = df1[['pro_flg', 'age', 'state_talk_time_sec']]\n",
    "    y = df1['success_flg']\n",
    "    X = sm.add_constant(X)\n",
    "    print(f'---------------------------------------------------------------------------------------')\n",
    "    print(f'-----------------------------------------{col}-----------------------------------------')\n",
    "    print(f'---------------------------------------------------------------------------------------')\n",
    "    model = sm.Logit(y, X)\n",
    "    model_result = model.fit()\n",
    "    print(model_result.summary())"
   ],
   "id": "5f0a5eec1f8eb229"
  }
 ],
 "metadata": {
  "kernelspec": {
   "display_name": "Python 3",
   "language": "python",
   "name": "python3"
  },
  "language_info": {
   "codemirror_mode": {
    "name": "ipython",
    "version": 2
   },
   "file_extension": ".py",
   "mimetype": "text/x-python",
   "name": "python",
   "nbconvert_exporter": "python",
   "pygments_lexer": "ipython2",
   "version": "2.7.6"
  }
 },
 "nbformat": 4,
 "nbformat_minor": 5
}
