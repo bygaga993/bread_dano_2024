{
 "cells": [
  {
   "cell_type": "code",
   "execution_count": 3,
   "metadata": {},
   "outputs": [],
   "source": [
    "import pandas as pd\n",
    "import matplotlib.pyplot as plt"
   ]
  },
  {
   "cell_type": "code",
   "execution_count": 43,
   "metadata": {},
   "outputs": [],
   "source": [
    "df = pd.read_csv('data/data_final_preprocessed.csv')"
   ]
  },
  {
   "cell_type": "code",
   "execution_count": 44,
   "metadata": {},
   "outputs": [],
   "source": [
    "df = df[df['bundle_nm'].isin(['Без подписки', 'Pro'])]\n",
    "df['pro_flg'] = df['bundle_nm'].map({'Без подписки': 0, 'Pro': 1})"
   ]
  },
  {
   "cell_type": "code",
   "execution_count": 45,
   "metadata": {},
   "outputs": [
    {
     "data": {
      "image/png": "[encoded data removed]",
      "text/plain": [
       "<Figure size 800x800 with 1 Axes>"
      ]
     },
     "metadata": {},
     "output_type": "display_data"
    }
   ],
   "source": [
    "# Customizing our pie chart\n",
    "colors = ['#D2C6F3', \"#AC98E4\", \"#F6F6F6\"]\n",
    "subs = df[\"product\"].value_counts()\n",
    "bundle_group_labels = df[\"product\"].unique()\n",
    "\n",
    "plt.rcParams.update({\n",
    "    'font.size': 12,  # Общий размер шрифта для текста\n",
    "    'axes.titlesize': 14,  # Размер шрифта для заголовков осей\n",
    "    'axes.labelsize': 12,  # Размер шрифта для подписей осей\n",
    "    'xtick.labelsize': 10,  # Размер шрифта для меток на оси X\n",
    "    'ytick.labelsize': 10  # Размер шрифта для меток на оси Y\n",
    "})\n",
    "\n",
    "plt.figure(figsize=(8, 8))\n",
    "\n",
    "# Создаем массив explode для создания пространства между сегментами\n",
    "explode = [0.01] * len(subs)  # Вытягиваем все сегменты\n",
    "\n",
    "# Убираем все подписи и проценты, добавляем explode\n",
    "plt.pie(subs, labels=None, startangle=90, colors=colors, radius=1, explode=explode)\n",
    "plt.gcf().set_facecolor('#624BA5')\n",
    "plt.savefig('pie_chart.png', format='png')\n",
    "plt.show()\n"
   ]
  },
  {
   "cell_type": "code",
   "execution_count": 46,
   "metadata": {},
   "outputs": [
    {
     "data": {
      "text/plain": [
       "product\n",
       "Credits                   0.720851\n",
       "Debit and Investment      0.145382\n",
       "Insurance and Services    0.133767\n",
       "Name: count, dtype: float64"
      ]
     },
     "execution_count": 46,
     "metadata": {},
     "output_type": "execute_result"
    }
   ],
   "source": [
    "subs / df.shape[0]"
   ]
  },
  {
   "cell_type": "code",
   "execution_count": 47,
   "metadata": {},
   "outputs": [
    {
     "name": "stdout",
     "output_type": "stream",
     "text": [
      "                  product  total_count  average_age  female_count  male_count  \\\n",
      "0                 Credits        11419    38.355460          5605        5814   \n",
      "1    Debit and Investment         2303    37.646201          1076        1227   \n",
      "2  Insurance and Services         2119    37.968853           848        1271   \n",
      "\n",
      "   female_percentage  male_percentage  \n",
      "0          49.084859        50.915141  \n",
      "1          46.721667        53.278333  \n",
      "2          40.018877        59.981123  \n"
     ]
    }
   ],
   "source": [
    "grouped = df.groupby('product').agg(\n",
    "    count=('gender_cd', 'size'),\n",
    "    average_age=('age', 'mean'),\n",
    "    female_count=('gender_cd', lambda x: (x == 0).sum()),\n",
    "    male_count=('gender_cd', lambda x: (x == 1).sum())\n",
    ").reset_index()\n",
    "\n",
    "# Рассчитываем проценты\n",
    "grouped['female_percentage'] = (grouped['female_count'] / grouped['count']) * 100\n",
    "grouped['male_percentage'] = (grouped['male_count'] / grouped['count']) * 100\n",
    "\n",
    "# Переименовываем столбцы для удобства\n",
    "grouped.rename(columns={\n",
    "    'count': 'total_count',\n",
    "    'average_age': 'average_age',\n",
    "    'female_count': 'female_count',\n",
    "    'male_count': 'male_count'\n",
    "}, inplace=True)\n",
    "\n",
    "# Выводим результат\n",
    "print(grouped)"
   ]
  },
  {
   "cell_type": "code",
   "execution_count": 48,
   "metadata": {},
   "outputs": [
    {
     "name": "stdout",
     "output_type": "stream",
     "text": [
      "                  product  subscribers_count  total_count  pro_percentage\n",
      "0                 Credits               2555        11419       22.374989\n",
      "1    Debit and Investment                419         2303       18.193660\n",
      "2  Insurance and Services                747         2119       35.252478\n"
     ]
    }
   ],
   "source": [
    "result = df.groupby('product').agg(\n",
    "    total_count=('pro_flg', 'size'),\n",
    "    pro_count=('pro_flg', 'sum')\n",
    ").reset_index()\n",
    "\n",
    "# Рассчитываем процент\n",
    "result['pro_percentage'] = (result['pro_count'] / result['total_count']) * 100\n",
    "\n",
    "# Переименовываем столбцы для удобства\n",
    "result.rename(columns={\n",
    "    'total_count': 'total_count',\n",
    "    'pro_count': 'subscribers_count'\n",
    "}, inplace=True)\n",
    "\n",
    "# Выводим результат\n",
    "print(result[['product', 'subscribers_count', 'total_count', 'pro_percentage']])"
   ]
  },
  {
   "cell_type": "code",
   "execution_count": null,
   "metadata": {},
   "outputs": [],
   "source": []
  }
 ],
 "metadata": {
  "kernelspec": {
   "display_name": "Python 3",
   "language": "python",
   "name": "python3"
  },
  "language_info": {
   "codemirror_mode": {
    "name": "ipython",
    "version": 3
   },
   "file_extension": ".py",
   "mimetype": "text/x-python",
   "name": "python",
   "nbconvert_exporter": "python",
   "pygments_lexer": "ipython3",
   "version": "3.12.2"
  }
 },
 "nbformat": 4,
 "nbformat_minor": 2
}
