{
 "cells": [
  {
   "cell_type": "code",
   "id": "initial_id",
   "metadata": {
    "collapsed": true,
    "ExecuteTime": {
     "end_time": "2024-12-10T08:39:41.096585Z",
     "start_time": "2024-12-10T08:39:41.080818Z"
    }
   },
   "source": [
    "import pandas as pd\n",
    "import scipy.stats as stats\n",
    "import statsmodels.api as sm\n",
    "import seaborn as sns\n",
    "from sklearn.preprocessing import StandardScaler\n",
    "scaler = StandardScaler()\n",
    "\n",
    "import warnings\n",
    "warnings.filterwarnings('ignore')"
   ],
   "outputs": [],
   "execution_count": 87
  },
  {
   "metadata": {
    "ExecuteTime": {
     "end_time": "2024-12-10T08:39:41.353117Z",
     "start_time": "2024-12-10T08:39:41.214248Z"
    }
   },
   "cell_type": "code",
   "source": "df = pd.read_csv(r'D:\\Code\\bread_dano_2024\\Code\\data\\data_final_preprocessed.csv')",
   "id": "885e42b1c5160a2b",
   "outputs": [],
   "execution_count": 88
  },
  {
   "metadata": {},
   "cell_type": "markdown",
   "source": "Оставляю только людей без подписки и с подпиской Pro",
   "id": "bffcfd8e5d6b509"
  },
  {
   "metadata": {
    "ExecuteTime": {
     "end_time": "2024-12-10T08:39:41.413337Z",
     "start_time": "2024-12-10T08:39:41.396122Z"
    }
   },
   "cell_type": "code",
   "source": [
    "df = df[df['bundle_nm'].isin(['Без подписки', 'Pro'])]\n",
    "df['pro_flg'] = df['bundle_nm'].map({'Без подписки': 0, 'Pro': 1})"
   ],
   "id": "4b36ff8ba9562d06",
   "outputs": [],
   "execution_count": 89
  },
  {
   "metadata": {},
   "cell_type": "markdown",
   "source": "Разделяю причины звонка на бакеты: Продажи, Обработка заявок, Поддержка",
   "id": "4ef3277f0f1c574a"
  },
  {
   "metadata": {},
   "cell_type": "markdown",
   "source": "Делаю стат.тесты по группам: Фишера для маленьких групп, Хи - для остальных",
   "id": "a4ce5344207dcf71"
  },
  {
   "metadata": {
    "ExecuteTime": {
     "end_time": "2024-12-10T08:39:41.547157Z",
     "start_time": "2024-12-10T08:39:41.501148Z"
    }
   },
   "cell_type": "code",
   "source": [
    "results = []\n",
    "for product, group in df.groupby('product'):\n",
    "    contingency_table = pd.crosstab(group['bundle_nm'], group['approval_flg'])\n",
    "\n",
    "    if contingency_table.shape[0] < 2 or contingency_table.shape[1] < 2:\n",
    "        results.append({\n",
    "            'product': product,\n",
    "            'test': 'Нет данных',\n",
    "            'p_value': None,\n",
    "            'significant': None\n",
    "        })\n",
    "        continue\n",
    "\n",
    "    if contingency_table.values.min() < 5:\n",
    "        stat, p_value = stats.fisher_exact(contingency_table, alternative='two-sided')\n",
    "        test_type = 'Fisher'\n",
    "    else:\n",
    "        stat, p_value, _, _ = stats.chi2_contingency(contingency_table)\n",
    "        test_type = 'Chi2'\n",
    "\n",
    "    results.append({\n",
    "        'product': product,\n",
    "        'test': test_type,\n",
    "        'p_value': p_value,\n",
    "        'significant': p_value < 0.05\n",
    "    })\n",
    "\n",
    "results_df = pd.DataFrame(results)\n",
    "results_df"
   ],
   "id": "34631ae22ae8ddd7",
   "outputs": [
    {
     "data": {
      "text/plain": [
       "                  product  test   p_value  significant\n",
       "0                 Credits  Chi2  0.176855        False\n",
       "1    Debit and Investment  Chi2  0.007054         True\n",
       "2  Insurance and Services  Chi2  0.404185        False"
      ],
      "text/html": [
       "<div>\n",
       "<style scoped>\n",
       "    .dataframe tbody tr th:only-of-type {\n",
       "        vertical-align: middle;\n",
       "    }\n",
       "\n",
       "    .dataframe tbody tr th {\n",
       "        vertical-align: top;\n",
       "    }\n",
       "\n",
       "    .dataframe thead th {\n",
       "        text-align: right;\n",
       "    }\n",
       "</style>\n",
       "<table border=\"1\" class=\"dataframe\">\n",
       "  <thead>\n",
       "    <tr style=\"text-align: right;\">\n",
       "      <th></th>\n",
       "      <th>product</th>\n",
       "      <th>test</th>\n",
       "      <th>p_value</th>\n",
       "      <th>significant</th>\n",
       "    </tr>\n",
       "  </thead>\n",
       "  <tbody>\n",
       "    <tr>\n",
       "      <th>0</th>\n",
       "      <td>Credits</td>\n",
       "      <td>Chi2</td>\n",
       "      <td>0.176855</td>\n",
       "      <td>False</td>\n",
       "    </tr>\n",
       "    <tr>\n",
       "      <th>1</th>\n",
       "      <td>Debit and Investment</td>\n",
       "      <td>Chi2</td>\n",
       "      <td>0.007054</td>\n",
       "      <td>True</td>\n",
       "    </tr>\n",
       "    <tr>\n",
       "      <th>2</th>\n",
       "      <td>Insurance and Services</td>\n",
       "      <td>Chi2</td>\n",
       "      <td>0.404185</td>\n",
       "      <td>False</td>\n",
       "    </tr>\n",
       "  </tbody>\n",
       "</table>\n",
       "</div>"
      ]
     },
     "execution_count": 90,
     "metadata": {},
     "output_type": "execute_result"
    }
   ],
   "execution_count": 90
  },
  {
   "metadata": {
    "ExecuteTime": {
     "end_time": "2024-12-10T08:39:41.660767Z",
     "start_time": "2024-12-10T08:39:41.647309Z"
    }
   },
   "cell_type": "code",
   "source": "stats.mannwhitneyu((df[df['pro_flg'] == 1]['approval_flg']), (df[df['pro_flg'] == 0]['approval_flg']))",
   "id": "fa857866f6902717",
   "outputs": [
    {
     "data": {
      "text/plain": [
       "MannwhitneyuResult(statistic=np.float64(22230984.0), pvalue=np.float64(0.012692148629510696))"
      ]
     },
     "execution_count": 91,
     "metadata": {},
     "output_type": "execute_result"
    }
   ],
   "execution_count": 91
  },
  {
   "metadata": {
    "ExecuteTime": {
     "end_time": "2024-12-10T08:39:41.872248Z",
     "start_time": "2024-12-10T08:39:41.855654Z"
    }
   },
   "cell_type": "code",
   "source": [
    "d = df.groupby(['product', 'pro_flg'])['approval_flg'].agg(mean='mean', count='count')\n",
    "d[d['count'] > 30]"
   ],
   "id": "1dbd71c222fb8a49",
   "outputs": [
    {
     "data": {
      "text/plain": [
       "                                    mean  count\n",
       "product                pro_flg                 \n",
       "Credits                0        0.070961   8864\n",
       "                       1        0.063014   2555\n",
       "Debit and Investment   0        0.257431   1884\n",
       "                       1        0.193317    419\n",
       "Insurance and Services 0        0.115160   1372\n",
       "                       1        0.128514    747"
      ],
      "text/html": [
       "<div>\n",
       "<style scoped>\n",
       "    .dataframe tbody tr th:only-of-type {\n",
       "        vertical-align: middle;\n",
       "    }\n",
       "\n",
       "    .dataframe tbody tr th {\n",
       "        vertical-align: top;\n",
       "    }\n",
       "\n",
       "    .dataframe thead th {\n",
       "        text-align: right;\n",
       "    }\n",
       "</style>\n",
       "<table border=\"1\" class=\"dataframe\">\n",
       "  <thead>\n",
       "    <tr style=\"text-align: right;\">\n",
       "      <th></th>\n",
       "      <th></th>\n",
       "      <th>mean</th>\n",
       "      <th>count</th>\n",
       "    </tr>\n",
       "    <tr>\n",
       "      <th>product</th>\n",
       "      <th>pro_flg</th>\n",
       "      <th></th>\n",
       "      <th></th>\n",
       "    </tr>\n",
       "  </thead>\n",
       "  <tbody>\n",
       "    <tr>\n",
       "      <th rowspan=\"2\" valign=\"top\">Credits</th>\n",
       "      <th>0</th>\n",
       "      <td>0.070961</td>\n",
       "      <td>8864</td>\n",
       "    </tr>\n",
       "    <tr>\n",
       "      <th>1</th>\n",
       "      <td>0.063014</td>\n",
       "      <td>2555</td>\n",
       "    </tr>\n",
       "    <tr>\n",
       "      <th rowspan=\"2\" valign=\"top\">Debit and Investment</th>\n",
       "      <th>0</th>\n",
       "      <td>0.257431</td>\n",
       "      <td>1884</td>\n",
       "    </tr>\n",
       "    <tr>\n",
       "      <th>1</th>\n",
       "      <td>0.193317</td>\n",
       "      <td>419</td>\n",
       "    </tr>\n",
       "    <tr>\n",
       "      <th rowspan=\"2\" valign=\"top\">Insurance and Services</th>\n",
       "      <th>0</th>\n",
       "      <td>0.115160</td>\n",
       "      <td>1372</td>\n",
       "    </tr>\n",
       "    <tr>\n",
       "      <th>1</th>\n",
       "      <td>0.128514</td>\n",
       "      <td>747</td>\n",
       "    </tr>\n",
       "  </tbody>\n",
       "</table>\n",
       "</div>"
      ]
     },
     "execution_count": 92,
     "metadata": {},
     "output_type": "execute_result"
    }
   ],
   "execution_count": 92
  },
  {
   "metadata": {
    "ExecuteTime": {
     "end_time": "2024-12-10T08:39:42.097299Z",
     "start_time": "2024-12-10T08:39:42.089115Z"
    }
   },
   "cell_type": "code",
   "source": "df['product'].unique()",
   "id": "3d18482c0a5c545e",
   "outputs": [
    {
     "data": {
      "text/plain": [
       "array(['Credits', 'Insurance and Services', 'Debit and Investment'],\n",
       "      dtype=object)"
      ]
     },
     "execution_count": 93,
     "metadata": {},
     "output_type": "execute_result"
    }
   ],
   "execution_count": 93
  },
  {
   "metadata": {
    "ExecuteTime": {
     "end_time": "2024-12-10T08:39:42.418541Z",
     "start_time": "2024-12-10T08:39:42.291755Z"
    }
   },
   "cell_type": "code",
   "source": [
    "df['age'] = scaler.fit_transform(df[['age']])\n",
    "for col in df['product'].unique():\n",
    "    df1 = df[df['product'] == col]\n",
    "    X = df1[['pro_flg', 'age', 'gender_cd']]\n",
    "    y = df1['approval_flg']\n",
    "    X = sm.add_constant(X)\n",
    "    probit_model = sm.Logit(y, X)\n",
    "    probit_result = probit_model.fit()\n",
    "    print(probit_result.summary())"
   ],
   "id": "4c4a2cd5b9c6124a",
   "outputs": [
    {
     "name": "stdout",
     "output_type": "stream",
     "text": [
      "Optimization terminated successfully.\n",
      "         Current function value: 0.251097\n",
      "         Iterations 7\n",
      "                           Logit Regression Results                           \n",
      "==============================================================================\n",
      "Dep. Variable:           approval_flg   No. Observations:                11419\n",
      "Model:                          Logit   Df Residuals:                    11415\n",
      "Method:                           MLE   Df Model:                            3\n",
      "Date:                Tue, 10 Dec 2024   Pseudo R-squ.:                0.001682\n",
      "Time:                        11:39:42   Log-Likelihood:                -2867.3\n",
      "converged:                       True   LL-Null:                       -2872.1\n",
      "Covariance Type:            nonrobust   LLR p-value:                   0.02170\n",
      "==============================================================================\n",
      "                 coef    std err          z      P>|z|      [0.025      0.975]\n",
      "------------------------------------------------------------------------------\n",
      "const         -2.6779      0.058    -46.045      0.000      -2.792      -2.564\n",
      "pro_flg       -0.1373      0.092     -1.494      0.135      -0.317       0.043\n",
      "age           -0.0056      0.038     -0.148      0.882      -0.079       0.068\n",
      "gender_cd      0.2036      0.075      2.727      0.006       0.057       0.350\n",
      "==============================================================================\n",
      "Optimization terminated successfully.\n",
      "         Current function value: 0.365522\n",
      "         Iterations 6\n",
      "                           Logit Regression Results                           \n",
      "==============================================================================\n",
      "Dep. Variable:           approval_flg   No. Observations:                 2119\n",
      "Model:                          Logit   Df Residuals:                     2115\n",
      "Method:                           MLE   Df Model:                            3\n",
      "Date:                Tue, 10 Dec 2024   Pseudo R-squ.:                0.003109\n",
      "Time:                        11:39:42   Log-Likelihood:                -774.54\n",
      "converged:                       True   LL-Null:                       -776.96\n",
      "Covariance Type:            nonrobust   LLR p-value:                    0.1846\n",
      "==============================================================================\n",
      "                 coef    std err          z      P>|z|      [0.025      0.975]\n",
      "------------------------------------------------------------------------------\n",
      "const         -2.2068      0.124    -17.831      0.000      -2.449      -1.964\n",
      "pro_flg        0.1138      0.139      0.819      0.413      -0.159       0.386\n",
      "age           -0.0177      0.072     -0.246      0.806      -0.159       0.123\n",
      "gender_cd      0.2739      0.141      1.944      0.052      -0.002       0.550\n",
      "==============================================================================\n",
      "Optimization terminated successfully.\n",
      "         Current function value: 0.549431\n",
      "         Iterations 5\n",
      "                           Logit Regression Results                           \n",
      "==============================================================================\n",
      "Dep. Variable:           approval_flg   No. Observations:                 2303\n",
      "Model:                          Logit   Df Residuals:                     2299\n",
      "Method:                           MLE   Df Model:                            3\n",
      "Date:                Tue, 10 Dec 2024   Pseudo R-squ.:                 0.01471\n",
      "Time:                        11:39:42   Log-Likelihood:                -1265.3\n",
      "converged:                       True   LL-Null:                       -1284.2\n",
      "Covariance Type:            nonrobust   LLR p-value:                 3.124e-08\n",
      "==============================================================================\n",
      "                 coef    std err          z      P>|z|      [0.025      0.975]\n",
      "------------------------------------------------------------------------------\n",
      "const         -1.0913      0.075    -14.632      0.000      -1.238      -0.945\n",
      "pro_flg       -0.4383      0.136     -3.223      0.001      -0.705      -0.172\n",
      "age           -0.2513      0.048     -5.246      0.000      -0.345      -0.157\n",
      "gender_cd      0.0271      0.099      0.273      0.785      -0.168       0.222\n",
      "==============================================================================\n"
     ]
    }
   ],
   "execution_count": 94
  },
  {
   "metadata": {
    "ExecuteTime": {
     "end_time": "2024-12-10T08:39:42.648627Z",
     "start_time": "2024-12-10T08:39:42.601547Z"
    }
   },
   "cell_type": "code",
   "source": [
    "df['age'] = scaler.fit_transform(df[['age']])\n",
    "df['emp_age_new'] = scaler.fit_transform(df[['emp_age_new']])\n",
    "df1 = df[df['product'] == 'Debit and Investment']\n",
    "df1.dropna(subset=['emp_age_new', 'child_flg', 'holiday_flg', 'million_city'], inplace=True)\n",
    "X = df1[['pro_flg', 'age']]\n",
    "y = df1['approval_flg']\n",
    "X = sm.add_constant(X)\n",
    "probit_model = sm.Logit(y, X)\n",
    "probit_result = probit_model.fit()\n",
    "print(probit_result.summary())"
   ],
   "id": "f073a6fafaa5a554",
   "outputs": [
    {
     "name": "stdout",
     "output_type": "stream",
     "text": [
      "Optimization terminated successfully.\n",
      "         Current function value: 0.571433\n",
      "         Iterations 6\n",
      "                           Logit Regression Results                           \n",
      "==============================================================================\n",
      "Dep. Variable:           approval_flg   No. Observations:                 1125\n",
      "Model:                          Logit   Df Residuals:                     1122\n",
      "Method:                           MLE   Df Model:                            2\n",
      "Date:                Tue, 10 Dec 2024   Pseudo R-squ.:                 0.02934\n",
      "Time:                        11:39:42   Log-Likelihood:                -642.86\n",
      "converged:                       True   LL-Null:                       -662.29\n",
      "Covariance Type:            nonrobust   LLR p-value:                 3.633e-09\n",
      "==============================================================================\n",
      "                 coef    std err          z      P>|z|      [0.025      0.975]\n",
      "------------------------------------------------------------------------------\n",
      "const         -0.8134      0.078    -10.396      0.000      -0.967      -0.660\n",
      "pro_flg       -0.8540      0.167     -5.113      0.000      -1.181      -0.527\n",
      "age           -0.2456      0.070     -3.529      0.000      -0.382      -0.109\n",
      "==============================================================================\n"
     ]
    }
   ],
   "execution_count": 95
  },
  {
   "metadata": {
    "ExecuteTime": {
     "end_time": "2024-12-10T08:39:42.922014Z",
     "start_time": "2024-12-10T08:39:42.691758Z"
    }
   },
   "cell_type": "code",
   "source": [
    "import matplotlib.pyplot as plt\n",
    "from sklearn.metrics import roc_curve, auc\n",
    "\n",
    "# Get predicted probabilities from the probit model\n",
    "y_pred_prob = probit_result.predict(X)\n",
    "\n",
    "# Calculate ROC curve\n",
    "fpr, tpr, thresholds = roc_curve(y, y_pred_prob)\n",
    "\n",
    "# Calculate AUC\n",
    "roc_auc = auc(fpr, tpr)\n",
    "\n",
    "# Plot ROC curve\n",
    "plt.figure(figsize=(8, 6))\n",
    "plt.plot(fpr, tpr, color='blue', lw=2, label=f'ROC curve (AUC = {roc_auc:.2f})')\n",
    "plt.plot([0, 1], [0, 1], color='gray', linestyle='--')\n",
    "plt.xlim([0.0, 1.0])\n",
    "plt.ylim([0.0, 1.05])\n",
    "plt.xlabel('False Positive Rate (FPR)')\n",
    "plt.ylabel('True Positive Rate (TPR)')\n",
    "plt.title('Receiver Operating Characteristic (ROC) Curve')\n",
    "plt.legend(loc='lower right')\n",
    "plt.show()\n"
   ],
   "id": "414a01c8d04f7e13",
   "outputs": [
    {
     "data": {
      "text/plain": [
       "<Figure size 800x600 with 1 Axes>"
      ],
      "image/png": "[encoded data removed]"
     },
     "metadata": {},
     "output_type": "display_data"
    }
   ],
   "execution_count": 96
  },
  {
   "metadata": {
    "ExecuteTime": {
     "end_time": "2024-12-10T08:39:42.975066Z",
     "start_time": "2024-12-10T08:39:42.968710Z"
    }
   },
   "cell_type": "code",
   "source": "",
   "id": "e0dca0a56dcd0d9",
   "outputs": [],
   "execution_count": null
  }
 ],
 "metadata": {
  "kernelspec": {
   "display_name": "Python 3",
   "language": "python",
   "name": "python3"
  },
  "language_info": {
   "codemirror_mode": {
    "name": "ipython",
    "version": 2
   },
   "file_extension": ".py",
   "mimetype": "text/x-python",
   "name": "python",
   "nbconvert_exporter": "python",
   "pygments_lexer": "ipython2",
   "version": "2.7.6"
  }
 },
 "nbformat": 4,
 "nbformat_minor": 5
}
