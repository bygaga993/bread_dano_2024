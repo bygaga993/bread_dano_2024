{
 "cells": [
  {
   "cell_type": "code",
   "id": "initial_id",
   "metadata": {
    "collapsed": true,
    "ExecuteTime": {
     "end_time": "2024-12-11T20:55:51.865695Z",
     "start_time": "2024-12-11T20:55:51.856328Z"
    }
   },
   "source": [
    "import pandas as pd\n",
    "import scipy.stats as stats\n",
    "import statsmodels.api as sm\n",
    "import seaborn as sns\n",
    "from sklearn.preprocessing import StandardScaler\n",
    "scaler = StandardScaler()\n",
    "\n",
    "import warnings\n",
    "warnings.filterwarnings('ignore')"
   ],
   "outputs": [],
   "execution_count": 178
  },
  {
   "cell_type": "code",
   "id": "885e42b1c5160a2b",
   "metadata": {
    "ExecuteTime": {
     "end_time": "2024-12-11T20:55:52.113398Z",
     "start_time": "2024-12-11T20:55:52.013028Z"
    }
   },
   "source": "df = pd.read_csv('data\\data_final_preprocessed.csv')",
   "outputs": [],
   "execution_count": 179
  },
  {
   "metadata": {
    "ExecuteTime": {
     "end_time": "2024-12-11T21:27:14.459776Z",
     "start_time": "2024-12-11T21:27:14.449125Z"
    }
   },
   "cell_type": "code",
   "source": "df.groupby('pro_flg')['success_flg'].mean()",
   "id": "3cc7d89169ebce42",
   "outputs": [
    {
     "data": {
      "text/plain": [
       "pro_flg\n",
       "0    0.084863\n",
       "1    0.073613\n",
       "Name: success_flg, dtype: float64"
      ]
     },
     "execution_count": 189,
     "metadata": {},
     "output_type": "execute_result"
    }
   ],
   "execution_count": 189
  },
  {
   "metadata": {
    "ExecuteTime": {
     "end_time": "2024-12-11T20:56:12.107716Z",
     "start_time": "2024-12-11T20:56:12.096016Z"
    }
   },
   "cell_type": "code",
   "source": "df['product'].unique()",
   "id": "3d3de3805abb46e2",
   "outputs": [
    {
     "data": {
      "text/plain": [
       "array(['Кредит', 'Кредитная карта', 'Страхование и услуги', 'Инвестиции',\n",
       "       'Дебетовая карта'], dtype=object)"
      ]
     },
     "execution_count": 181,
     "metadata": {},
     "output_type": "execute_result"
    }
   ],
   "execution_count": 181
  },
  {
   "cell_type": "code",
   "id": "34631ae22ae8ddd7",
   "metadata": {
    "ExecuteTime": {
     "end_time": "2024-12-11T20:56:14.871053Z",
     "start_time": "2024-12-11T20:56:14.816325Z"
    }
   },
   "source": [
    "# список для хранения результатов тестирования\n",
    "results = []\n",
    "\n",
    "# Группировка данных по продуктам\n",
    "for product, group in df.groupby('product'):\n",
    "    contingency_table = pd.crosstab(group['bundle_nm'], group['success_flg'])\n",
    "\n",
    "    # Проверка, достаточно ли данных для проведения теста\n",
    "    if contingency_table.shape[0] < 2 or contingency_table.shape[1] < 2:\n",
    "        # Если данных недостаточно, добавляем результат с указанием на отсутствие данных\n",
    "        results.append({\n",
    "            'product': product,\n",
    "            'test': 'Нет данных',\n",
    "            'p_value': None,\n",
    "            'significant': None\n",
    "        })\n",
    "        continue \n",
    "\n",
    "    # Проверка на минимальное значение в контингентной таблице\n",
    "    if contingency_table.values.min() < 5:\n",
    "        # Если минимальное значение меньше 5, используем тест Фишера\n",
    "        stat, p_value = stats.fisher_exact(contingency_table, alternative='two-sided')\n",
    "        test_type = 'Fisher'  # Указываем тип теста\n",
    "    else:\n",
    "        # В противном случае используем критерий хи-квадрат\n",
    "        stat, p_value, _, _ = stats.chi2_contingency(contingency_table)\n",
    "        test_type = 'Chi2'  # Указываем тип теста\n",
    "\n",
    "    # Добавление результатов теста в список\n",
    "    results.append({\n",
    "        'product': product,\n",
    "        'test': test_type,\n",
    "        'p_value': p_value,\n",
    "        'significant': p_value < 0.05  # Определяем, является ли результат статистически значимым\n",
    "    })\n",
    "\n",
    "results_df = pd.DataFrame(results)\n",
    "\n",
    "results_df\n"
   ],
   "outputs": [
    {
     "data": {
      "text/plain": [
       "                product    test   p_value  significant\n",
       "0       Дебетовая карта    Chi2  0.000013         True\n",
       "1            Инвестиции  Fisher  0.009625         True\n",
       "2                Кредит    Chi2  0.016884         True\n",
       "3       Кредитная карта    Chi2  0.162231        False\n",
       "4  Страхование и услуги    Chi2  0.402468        False"
      ],
      "text/html": [
       "<div>\n",
       "<style scoped>\n",
       "    .dataframe tbody tr th:only-of-type {\n",
       "        vertical-align: middle;\n",
       "    }\n",
       "\n",
       "    .dataframe tbody tr th {\n",
       "        vertical-align: top;\n",
       "    }\n",
       "\n",
       "    .dataframe thead th {\n",
       "        text-align: right;\n",
       "    }\n",
       "</style>\n",
       "<table border=\"1\" class=\"dataframe\">\n",
       "  <thead>\n",
       "    <tr style=\"text-align: right;\">\n",
       "      <th></th>\n",
       "      <th>product</th>\n",
       "      <th>test</th>\n",
       "      <th>p_value</th>\n",
       "      <th>significant</th>\n",
       "    </tr>\n",
       "  </thead>\n",
       "  <tbody>\n",
       "    <tr>\n",
       "      <th>0</th>\n",
       "      <td>Дебетовая карта</td>\n",
       "      <td>Chi2</td>\n",
       "      <td>0.000013</td>\n",
       "      <td>True</td>\n",
       "    </tr>\n",
       "    <tr>\n",
       "      <th>1</th>\n",
       "      <td>Инвестиции</td>\n",
       "      <td>Fisher</td>\n",
       "      <td>0.009625</td>\n",
       "      <td>True</td>\n",
       "    </tr>\n",
       "    <tr>\n",
       "      <th>2</th>\n",
       "      <td>Кредит</td>\n",
       "      <td>Chi2</td>\n",
       "      <td>0.016884</td>\n",
       "      <td>True</td>\n",
       "    </tr>\n",
       "    <tr>\n",
       "      <th>3</th>\n",
       "      <td>Кредитная карта</td>\n",
       "      <td>Chi2</td>\n",
       "      <td>0.162231</td>\n",
       "      <td>False</td>\n",
       "    </tr>\n",
       "    <tr>\n",
       "      <th>4</th>\n",
       "      <td>Страхование и услуги</td>\n",
       "      <td>Chi2</td>\n",
       "      <td>0.402468</td>\n",
       "      <td>False</td>\n",
       "    </tr>\n",
       "  </tbody>\n",
       "</table>\n",
       "</div>"
      ]
     },
     "execution_count": 182,
     "metadata": {},
     "output_type": "execute_result"
    }
   ],
   "execution_count": 182
  },
  {
   "cell_type": "code",
   "id": "1dbd71c222fb8a49",
   "metadata": {
    "ExecuteTime": {
     "end_time": "2024-12-11T20:56:21.698679Z",
     "start_time": "2024-12-11T20:56:21.685650Z"
    }
   },
   "source": [
    "d = df.groupby(['product', 'pro_flg'])['success_flg'].agg(mean='mean', count='count')\n",
    "d[d['count'] > 30]"
   ],
   "outputs": [
    {
     "data": {
      "text/plain": [
       "                                  mean  count\n",
       "product              pro_flg                 \n",
       "Дебетовая карта      0        0.300658   1367\n",
       "                     1        0.477124    153\n",
       "Инвестиции           0        0.051471    408\n",
       "                     1        0.012500    240\n",
       "Кредит               0        0.046163   1668\n",
       "                     1        0.026483    944\n",
       "Кредитная карта      0        0.054125   6836\n",
       "                     1        0.063660   1508\n",
       "Страхование и услуги 0        0.079590   1269\n",
       "                     1        0.091703    687"
      ],
      "text/html": [
       "<div>\n",
       "<style scoped>\n",
       "    .dataframe tbody tr th:only-of-type {\n",
       "        vertical-align: middle;\n",
       "    }\n",
       "\n",
       "    .dataframe tbody tr th {\n",
       "        vertical-align: top;\n",
       "    }\n",
       "\n",
       "    .dataframe thead th {\n",
       "        text-align: right;\n",
       "    }\n",
       "</style>\n",
       "<table border=\"1\" class=\"dataframe\">\n",
       "  <thead>\n",
       "    <tr style=\"text-align: right;\">\n",
       "      <th></th>\n",
       "      <th></th>\n",
       "      <th>mean</th>\n",
       "      <th>count</th>\n",
       "    </tr>\n",
       "    <tr>\n",
       "      <th>product</th>\n",
       "      <th>pro_flg</th>\n",
       "      <th></th>\n",
       "      <th></th>\n",
       "    </tr>\n",
       "  </thead>\n",
       "  <tbody>\n",
       "    <tr>\n",
       "      <th rowspan=\"2\" valign=\"top\">Дебетовая карта</th>\n",
       "      <th>0</th>\n",
       "      <td>0.300658</td>\n",
       "      <td>1367</td>\n",
       "    </tr>\n",
       "    <tr>\n",
       "      <th>1</th>\n",
       "      <td>0.477124</td>\n",
       "      <td>153</td>\n",
       "    </tr>\n",
       "    <tr>\n",
       "      <th rowspan=\"2\" valign=\"top\">Инвестиции</th>\n",
       "      <th>0</th>\n",
       "      <td>0.051471</td>\n",
       "      <td>408</td>\n",
       "    </tr>\n",
       "    <tr>\n",
       "      <th>1</th>\n",
       "      <td>0.012500</td>\n",
       "      <td>240</td>\n",
       "    </tr>\n",
       "    <tr>\n",
       "      <th rowspan=\"2\" valign=\"top\">Кредит</th>\n",
       "      <th>0</th>\n",
       "      <td>0.046163</td>\n",
       "      <td>1668</td>\n",
       "    </tr>\n",
       "    <tr>\n",
       "      <th>1</th>\n",
       "      <td>0.026483</td>\n",
       "      <td>944</td>\n",
       "    </tr>\n",
       "    <tr>\n",
       "      <th rowspan=\"2\" valign=\"top\">Кредитная карта</th>\n",
       "      <th>0</th>\n",
       "      <td>0.054125</td>\n",
       "      <td>6836</td>\n",
       "    </tr>\n",
       "    <tr>\n",
       "      <th>1</th>\n",
       "      <td>0.063660</td>\n",
       "      <td>1508</td>\n",
       "    </tr>\n",
       "    <tr>\n",
       "      <th rowspan=\"2\" valign=\"top\">Страхование и услуги</th>\n",
       "      <th>0</th>\n",
       "      <td>0.079590</td>\n",
       "      <td>1269</td>\n",
       "    </tr>\n",
       "    <tr>\n",
       "      <th>1</th>\n",
       "      <td>0.091703</td>\n",
       "      <td>687</td>\n",
       "    </tr>\n",
       "  </tbody>\n",
       "</table>\n",
       "</div>"
      ]
     },
     "execution_count": 183,
     "metadata": {},
     "output_type": "execute_result"
    }
   ],
   "execution_count": 183
  },
  {
   "cell_type": "markdown",
   "id": "4767024e",
   "metadata": {},
   "source": [
    "Гипотеза подтвердилась для продуктов Debit and Investment. А для Credits и \tInsurance and Services - нет. Почему так могло произойти?\\\n",
    "\n",
    "Пользователи с подпиской Pro имеют лояльность к банку и осведомленность о его популярных пролуктах, поэтому они менее восприимчивы к предложениями о дебитовых картах и инвеситициям, ведь они и так знают про этти продукты и в случае чего сами придут к оформлению продукта"
   ]
  },
  {
   "cell_type": "markdown",
   "id": "2cfafbd7",
   "metadata": {},
   "source": [
    "Модель для всего датасета(не по бакетам)"
   ]
  },
  {
   "cell_type": "code",
   "id": "4c4a2cd5b9c6124a",
   "metadata": {
    "ExecuteTime": {
     "end_time": "2024-12-11T20:57:15.828254Z",
     "start_time": "2024-12-11T20:57:15.671109Z"
    }
   },
   "source": [
    "from statsmodels.genmod import families\n",
    "df = pd.read_csv('data\\data_final_preprocessed.csv')\n",
    "\n",
    "for col in df['product'].unique():\n",
    "    df1 = df[df['product'] == col]\n",
    "    X = df1[['pro_flg', 'age', 'state_talk_time_sec']]\n",
    "    y = df1['success_flg']\n",
    "    X = sm.add_constant(X)\n",
    "    print(f'----------------------------{col}----------------------------')\n",
    "    model = sm.GLM(y, X, family=families.Binomial())\n",
    "    model_result = model.fit()\n",
    "    print(model_result.summary())"
   ],
   "outputs": [
    {
     "name": "stdout",
     "output_type": "stream",
     "text": [
      "----------------------------Кредит----------------------------\n",
      "                 Generalized Linear Model Regression Results                  \n",
      "==============================================================================\n",
      "Dep. Variable:            success_flg   No. Observations:                 2612\n",
      "Model:                            GLM   Df Residuals:                     2608\n",
      "Model Family:                Binomial   Df Model:                            3\n",
      "Link Function:                  Logit   Scale:                          1.0000\n",
      "Method:                          IRLS   Log-Likelihood:                -295.42\n",
      "Date:                Wed, 11 Dec 2024   Deviance:                       590.84\n",
      "Time:                        23:57:15   Pearson chi2:                 1.95e+03\n",
      "No. Iterations:                     8   Pseudo R-squ. (CS):            0.09844\n",
      "Covariance Type:            nonrobust                                         \n",
      "=======================================================================================\n",
      "                          coef    std err          z      P>|z|      [0.025      0.975]\n",
      "---------------------------------------------------------------------------------------\n",
      "const                  -4.5739      0.232    -19.727      0.000      -5.028      -4.120\n",
      "pro_flg                -0.4083      0.256     -1.592      0.111      -0.911       0.094\n",
      "age                     0.0734      0.129      0.568      0.570      -0.180       0.327\n",
      "state_talk_time_sec     1.4711      0.105     13.952      0.000       1.264       1.678\n",
      "=======================================================================================\n",
      "----------------------------Кредитная карта----------------------------\n",
      "                 Generalized Linear Model Regression Results                  \n",
      "==============================================================================\n",
      "Dep. Variable:            success_flg   No. Observations:                 8344\n",
      "Model:                            GLM   Df Residuals:                     8340\n",
      "Model Family:                Binomial   Df Model:                            3\n",
      "Link Function:                  Logit   Scale:                          1.0000\n",
      "Method:                          IRLS   Log-Likelihood:                -1242.5\n",
      "Date:                Wed, 11 Dec 2024   Deviance:                       2485.1\n",
      "Time:                        23:57:15   Pearson chi2:                 4.89e+03\n",
      "No. Iterations:                     7   Pseudo R-squ. (CS):             0.1245\n",
      "Covariance Type:            nonrobust                                         \n",
      "=======================================================================================\n",
      "                          coef    std err          z      P>|z|      [0.025      0.975]\n",
      "---------------------------------------------------------------------------------------\n",
      "const                  -3.6797      0.086    -42.878      0.000      -3.848      -3.511\n",
      "pro_flg                 0.1134      0.135      0.839      0.402      -0.152       0.379\n",
      "age                     0.0056      0.054      0.104      0.917      -0.100       0.111\n",
      "state_talk_time_sec     1.3708      0.047     29.398      0.000       1.279       1.462\n",
      "=======================================================================================\n",
      "----------------------------Страхование и услуги----------------------------\n",
      "                 Generalized Linear Model Regression Results                  \n",
      "==============================================================================\n",
      "Dep. Variable:            success_flg   No. Observations:                 1956\n",
      "Model:                            GLM   Df Residuals:                     1952\n",
      "Model Family:                Binomial   Df Model:                            3\n",
      "Link Function:                  Logit   Scale:                          1.0000\n",
      "Method:                          IRLS   Log-Likelihood:                -440.88\n",
      "Date:                Wed, 11 Dec 2024   Deviance:                       881.76\n",
      "Time:                        23:57:15   Pearson chi2:                 1.72e+03\n",
      "No. Iterations:                     6   Pseudo R-squ. (CS):             0.1178\n",
      "Covariance Type:            nonrobust                                         \n",
      "=======================================================================================\n",
      "                          coef    std err          z      P>|z|      [0.025      0.975]\n",
      "---------------------------------------------------------------------------------------\n",
      "const                  -3.0645      0.140    -21.874      0.000      -3.339      -2.790\n",
      "pro_flg                 0.1023      0.187      0.547      0.585      -0.265       0.469\n",
      "age                    -0.0372      0.094     -0.395      0.693      -0.222       0.148\n",
      "state_talk_time_sec     1.0606      0.072     14.664      0.000       0.919       1.202\n",
      "=======================================================================================\n",
      "----------------------------Инвестиции----------------------------\n",
      "                 Generalized Linear Model Regression Results                  \n",
      "==============================================================================\n",
      "Dep. Variable:            success_flg   No. Observations:                  648\n",
      "Model:                            GLM   Df Residuals:                      644\n",
      "Model Family:                Binomial   Df Model:                            3\n",
      "Link Function:                  Logit   Scale:                          1.0000\n",
      "Method:                          IRLS   Log-Likelihood:                -81.905\n",
      "Date:                Wed, 11 Dec 2024   Deviance:                       163.81\n",
      "Time:                        23:57:15   Pearson chi2:                     435.\n",
      "No. Iterations:                     7   Pseudo R-squ. (CS):            0.06202\n",
      "Covariance Type:            nonrobust                                         \n",
      "=======================================================================================\n",
      "                          coef    std err          z      P>|z|      [0.025      0.975]\n",
      "---------------------------------------------------------------------------------------\n",
      "const                  -3.1276      0.271    -11.540      0.000      -3.659      -2.596\n",
      "pro_flg                -1.9087      0.666     -2.866      0.004      -3.214      -0.603\n",
      "age                    -0.2009      0.220     -0.915      0.360      -0.631       0.230\n",
      "state_talk_time_sec     1.0961      0.187      5.846      0.000       0.729       1.464\n",
      "=======================================================================================\n",
      "----------------------------Дебетовая карта----------------------------\n",
      "                 Generalized Linear Model Regression Results                  \n",
      "==============================================================================\n",
      "Dep. Variable:            success_flg   No. Observations:                 1520\n",
      "Model:                            GLM   Df Residuals:                     1516\n",
      "Model Family:                Binomial   Df Model:                            3\n",
      "Link Function:                  Logit   Scale:                          1.0000\n",
      "Method:                          IRLS   Log-Likelihood:                -783.16\n",
      "Date:                Wed, 11 Dec 2024   Deviance:                       1566.3\n",
      "Time:                        23:57:15   Pearson chi2:                 1.42e+03\n",
      "No. Iterations:                     4   Pseudo R-squ. (CS):             0.1982\n",
      "Covariance Type:            nonrobust                                         \n",
      "=======================================================================================\n",
      "                          coef    std err          z      P>|z|      [0.025      0.975]\n",
      "---------------------------------------------------------------------------------------\n",
      "const                  -1.2087      0.073    -16.635      0.000      -1.351      -1.066\n",
      "pro_flg                 0.4882      0.190      2.572      0.010       0.116       0.860\n",
      "age                    -0.3248      0.061     -5.349      0.000      -0.444      -0.206\n",
      "state_talk_time_sec     0.9440      0.063     15.093      0.000       0.821       1.067\n",
      "=======================================================================================\n"
     ]
    }
   ],
   "execution_count": 184
  },
  {
   "metadata": {
    "ExecuteTime": {
     "end_time": "2024-12-11T20:58:16.460705Z",
     "start_time": "2024-12-11T20:58:16.327366Z"
    }
   },
   "cell_type": "code",
   "source": [
    "from statsmodels.genmod import families\n",
    "\n",
    "df = pd.read_csv('data\\data_final_preprocessed.csv')\n",
    "X = df[['pro_flg', 'age', 'state_talk_time_sec']]\n",
    "y = df['success_flg']\n",
    "X = sm.add_constant(X)\n",
    "\n",
    "model = sm.GLM(y, X, family=families.Binomial())\n",
    "model_result = model.fit()\n",
    "\n",
    "print(model_result.summary())"
   ],
   "id": "94ec6c866213c1b6",
   "outputs": [
    {
     "name": "stdout",
     "output_type": "stream",
     "text": [
      "                 Generalized Linear Model Regression Results                  \n",
      "==============================================================================\n",
      "Dep. Variable:            success_flg   No. Observations:                15080\n",
      "Model:                            GLM   Df Residuals:                    15076\n",
      "Model Family:                Binomial   Df Model:                            3\n",
      "Link Function:                  Logit   Scale:                          1.0000\n",
      "Method:                          IRLS   Log-Likelihood:                -3322.5\n",
      "Date:                Wed, 11 Dec 2024   Deviance:                       6645.0\n",
      "Time:                        23:58:16   Pearson chi2:                 1.17e+04\n",
      "No. Iterations:                     6   Pseudo R-squ. (CS):             0.1199\n",
      "Covariance Type:            nonrobust                                         \n",
      "=======================================================================================\n",
      "                          coef    std err          z      P>|z|      [0.025      0.975]\n",
      "---------------------------------------------------------------------------------------\n",
      "const                  -2.9463      0.046    -63.622      0.000      -3.037      -2.856\n",
      "pro_flg                -0.2896      0.080     -3.611      0.000      -0.447      -0.132\n",
      "age                    -0.1220      0.034     -3.629      0.000      -0.188      -0.056\n",
      "state_talk_time_sec     1.1233      0.028     40.707      0.000       1.069       1.177\n",
      "=======================================================================================\n"
     ]
    }
   ],
   "execution_count": 185
  },
  {
   "metadata": {
    "ExecuteTime": {
     "end_time": "2024-12-11T20:58:19.361279Z",
     "start_time": "2024-12-11T20:58:19.342782Z"
    }
   },
   "cell_type": "code",
   "source": [
    "from sklearn.metrics import roc_auc_score\n",
    "roc_auc_score(df['success_flg'], model_result.predict())"
   ],
   "id": "b1f7bb45c12f3896",
   "outputs": [
    {
     "data": {
      "text/plain": [
       "np.float64(0.8619338523214619)"
      ]
     },
     "execution_count": 186,
     "metadata": {},
     "output_type": "execute_result"
    }
   ],
   "execution_count": 186
  },
  {
   "metadata": {
    "ExecuteTime": {
     "end_time": "2024-12-11T20:58:20.185962Z",
     "start_time": "2024-12-11T20:58:20.162863Z"
    }
   },
   "cell_type": "code",
   "source": [
    "from statsmodels.stats.outliers_influence import variance_inflation_factor\n",
    "vif_data = pd.DataFrame()\n",
    "vif_data[\"feature\"] = X.columns\n",
    "\n",
    "vif_data[\"VIF\"] = [variance_inflation_factor(X.values, i)\n",
    "                          for i in range(len(X.columns))]\n",
    "\n",
    "vif_data"
   ],
   "id": "be932a57a190ef73",
   "outputs": [
    {
     "data": {
      "text/plain": [
       "               feature       VIF\n",
       "0                const  1.309563\n",
       "1              pro_flg  1.012126\n",
       "2                  age  1.012515\n",
       "3  state_talk_time_sec  1.003632"
      ],
      "text/html": [
       "<div>\n",
       "<style scoped>\n",
       "    .dataframe tbody tr th:only-of-type {\n",
       "        vertical-align: middle;\n",
       "    }\n",
       "\n",
       "    .dataframe tbody tr th {\n",
       "        vertical-align: top;\n",
       "    }\n",
       "\n",
       "    .dataframe thead th {\n",
       "        text-align: right;\n",
       "    }\n",
       "</style>\n",
       "<table border=\"1\" class=\"dataframe\">\n",
       "  <thead>\n",
       "    <tr style=\"text-align: right;\">\n",
       "      <th></th>\n",
       "      <th>feature</th>\n",
       "      <th>VIF</th>\n",
       "    </tr>\n",
       "  </thead>\n",
       "  <tbody>\n",
       "    <tr>\n",
       "      <th>0</th>\n",
       "      <td>const</td>\n",
       "      <td>1.309563</td>\n",
       "    </tr>\n",
       "    <tr>\n",
       "      <th>1</th>\n",
       "      <td>pro_flg</td>\n",
       "      <td>1.012126</td>\n",
       "    </tr>\n",
       "    <tr>\n",
       "      <th>2</th>\n",
       "      <td>age</td>\n",
       "      <td>1.012515</td>\n",
       "    </tr>\n",
       "    <tr>\n",
       "      <th>3</th>\n",
       "      <td>state_talk_time_sec</td>\n",
       "      <td>1.003632</td>\n",
       "    </tr>\n",
       "  </tbody>\n",
       "</table>\n",
       "</div>"
      ]
     },
     "execution_count": 187,
     "metadata": {},
     "output_type": "execute_result"
    }
   ],
   "execution_count": 187
  },
  {
   "cell_type": "code",
   "id": "414a01c8d04f7e13",
   "metadata": {
    "ExecuteTime": {
     "end_time": "2024-12-11T20:58:21.371408Z",
     "start_time": "2024-12-11T20:58:21.224829Z"
    }
   },
   "source": [
    "import matplotlib.pyplot as plt\n",
    "from sklearn.metrics import roc_curve, auc\n",
    "\n",
    "# Get predicted probabilities from the probit model\n",
    "y_pred_prob = model_result.predict(X)\n",
    "\n",
    "# Calculate ROC curve\n",
    "fpr, tpr, thresholds = roc_curve(y, y_pred_prob)\n",
    "\n",
    "# Calculate AUC\n",
    "roc_auc = auc(fpr, tpr)\n",
    "\n",
    "# Plot ROC curve\n",
    "plt.figure(figsize=(8, 6))\n",
    "plt.plot(fpr, tpr, color='blue', lw=2, label=f'ROC curve (AUC = {roc_auc:.2f})')\n",
    "plt.plot([0, 1], [0, 1], color='gray', linestyle='--')\n",
    "plt.xlim([0.0, 1.0])\n",
    "plt.ylim([0.0, 1.05])\n",
    "plt.xlabel('False Positive Rate (FPR)')\n",
    "plt.ylabel('True Positive Rate (TPR)')\n",
    "plt.title('Receiver Operating Characteristic (ROC) Curve')\n",
    "plt.legend(loc='lower right')\n",
    "plt.show()\n"
   ],
   "outputs": [
    {
     "data": {
      "text/plain": [
       "<Figure size 800x600 with 1 Axes>"
      ],
      "image/png": "[encoded data removed]"
     },
     "metadata": {},
     "output_type": "display_data"
    }
   ],
   "execution_count": 188
  },
  {
   "cell_type": "code",
   "id": "e0dca0a56dcd0d9",
   "metadata": {
    "ExecuteTime": {
     "end_time": "2024-12-11T20:22:54.532325Z",
     "start_time": "2024-12-11T20:22:54.528992Z"
    }
   },
   "source": [],
   "outputs": [],
   "execution_count": null
  }
 ],
 "metadata": {
  "kernelspec": {
   "display_name": "Python 3",
   "language": "python",
   "name": "python3"
  },
  "language_info": {
   "codemirror_mode": {
    "name": "ipython",
    "version": 3
   },
   "file_extension": ".py",
   "mimetype": "text/x-python",
   "name": "python",
   "nbconvert_exporter": "python",
   "pygments_lexer": "ipython3",
   "version": "3.12.2"
  }
 },
 "nbformat": 4,
 "nbformat_minor": 5
}
