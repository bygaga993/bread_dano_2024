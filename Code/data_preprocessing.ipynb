{
 "cells": [
  {
   "cell_type": "code",
   "id": "initial_id",
   "metadata": {
    "collapsed": true,
    "ExecuteTime": {
     "end_time": "2024-12-10T08:39:30.716731Z",
     "start_time": "2024-12-10T08:39:30.698784Z"
    }
   },
   "source": [
    "import pandas as pd\n",
    "import warnings\n",
    "warnings.filterwarnings('ignore')"
   ],
   "outputs": [],
   "execution_count": 17
  },
  {
   "cell_type": "markdown",
   "id": "df8ed3fbfd38a006",
   "metadata": {},
   "source": [
    "<h3>Предобработка данных</h3>"
   ]
  },
  {
   "cell_type": "code",
   "id": "25f4af2f538274ac",
   "metadata": {
    "ExecuteTime": {
     "end_time": "2024-12-10T08:39:30.928830Z",
     "start_time": "2024-12-10T08:39:30.787403Z"
    }
   },
   "source": [
    "df = pd.read_csv('data\\data_preprocessed.csv')"
   ],
   "outputs": [],
   "execution_count": 18
  },
  {
   "cell_type": "code",
   "id": "3e2823b6",
   "metadata": {
    "ExecuteTime": {
     "end_time": "2024-12-10T08:39:30.946400Z",
     "start_time": "2024-12-10T08:39:30.933699Z"
    }
   },
   "source": [
    "df.shape"
   ],
   "outputs": [
    {
     "data": {
      "text/plain": [
       "(18691, 35)"
      ]
     },
     "execution_count": 19,
     "metadata": {},
     "output_type": "execute_result"
    }
   ],
   "execution_count": 19
  },
  {
   "cell_type": "code",
   "id": "5e926fd86328fa59",
   "metadata": {
    "ExecuteTime": {
     "end_time": "2024-12-10T08:39:31.012083Z",
     "start_time": "2024-12-10T08:39:30.978792Z"
    }
   },
   "source": [
    "df.dropna(subset=['age', 'gender_cd'], inplace=True) # удаление пропусков age и gender_cd\n",
    "df.drop_duplicates(subset=['customer_id'], inplace=True, keep='first') # дубликаты клиентов\n",
    "IQR = df[\"state_talk_time_sec\"].quantile(0.75) - df[\"state_talk_time_sec\"].quantile(0.25)\n",
    "high = df[\"state_talk_time_sec\"].quantile(0.75) + IQR * 3\n",
    "df = df[df[\"state_talk_time_sec\"] < high] # чистка длительности звонка"
   ],
   "outputs": [],
   "execution_count": 20
  },
  {
   "cell_type": "code",
   "id": "102fb677",
   "metadata": {
    "ExecuteTime": {
     "end_time": "2024-12-10T08:39:31.062783Z",
     "start_time": "2024-12-10T08:39:31.054651Z"
    }
   },
   "source": [
    "df.shape"
   ],
   "outputs": [
    {
     "data": {
      "text/plain": [
       "(16112, 35)"
      ]
     },
     "execution_count": 21,
     "metadata": {},
     "output_type": "execute_result"
    }
   ],
   "execution_count": 21
  },
  {
   "cell_type": "code",
   "id": "b910d834",
   "metadata": {
    "ExecuteTime": {
     "end_time": "2024-12-10T08:39:31.146266Z",
     "start_time": "2024-12-10T08:39:31.135639Z"
    }
   },
   "source": [
    "Q1 = df['age'].quantile(0.25)\n",
    "Q3 = df['age'].quantile(0.75)\n",
    "\n",
    "IQR = Q3 - Q1\n",
    "\n",
    "upper_bound = Q3 + 3 * IQR"
   ],
   "outputs": [],
   "execution_count": 22
  },
  {
   "cell_type": "code",
   "id": "64fdf492",
   "metadata": {
    "ExecuteTime": {
     "end_time": "2024-12-10T08:39:31.220269Z",
     "start_time": "2024-12-10T08:39:31.199744Z"
    }
   },
   "source": [
    "df_filter = df[(df['age'] >= 14) & (df['age'] <= upper_bound)]\n",
    "df_filter[df_filter['product'] == 'Credit'] = df_filter[df_filter['age'] >= 18]"
   ],
   "outputs": [],
   "execution_count": 23
  },
  {
   "cell_type": "code",
   "id": "d7a20df5",
   "metadata": {
    "ExecuteTime": {
     "end_time": "2024-12-10T08:39:31.237129Z",
     "start_time": "2024-12-10T08:39:31.224538Z"
    }
   },
   "source": [
    "df_filter.shape"
   ],
   "outputs": [
    {
     "data": {
      "text/plain": [
       "(16094, 35)"
      ]
     },
     "execution_count": 24,
     "metadata": {},
     "output_type": "execute_result"
    }
   ],
   "execution_count": 24
  },
  {
   "cell_type": "code",
   "id": "37cae4b6762c606a",
   "metadata": {
    "ExecuteTime": {
     "end_time": "2024-12-10T08:39:31.609196Z",
     "start_time": "2024-12-10T08:39:31.258424Z"
    }
   },
   "source": [
    "df_filter.to_csv('data/data_final_preprocessed.csv', index=False)"
   ],
   "outputs": [],
   "execution_count": 25
  }
 ],
 "metadata": {
  "kernelspec": {
   "display_name": "Python 3",
   "language": "python",
   "name": "python3"
  },
  "language_info": {
   "codemirror_mode": {
    "name": "ipython",
    "version": 3
   },
   "file_extension": ".py",
   "mimetype": "text/x-python",
   "name": "python",
   "nbconvert_exporter": "python",
   "pygments_lexer": "ipython3",
   "version": "3.12.2"
  }
 },
 "nbformat": 4,
 "nbformat_minor": 5
}
