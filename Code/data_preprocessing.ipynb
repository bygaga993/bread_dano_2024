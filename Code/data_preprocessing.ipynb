{
 "cells": [
  {
   "cell_type": "code",
   "execution_count": 19,
   "id": "initial_id",
   "metadata": {
    "ExecuteTime": {
     "end_time": "2024-12-16T07:44:49.080450Z",
     "start_time": "2024-12-16T07:44:49.075216Z"
    },
    "collapsed": true
   },
   "outputs": [],
   "source": [
    "import pandas as pd\n",
    "import warnings\n",
    "warnings.filterwarnings('ignore')"
   ]
  },
  {
   "cell_type": "markdown",
   "id": "df8ed3fbfd38a006",
   "metadata": {},
   "source": [
    "<h3>Предобработка данных</h3>"
   ]
  },
  {
   "cell_type": "code",
   "execution_count": 20,
   "id": "25f4af2f538274ac",
   "metadata": {
    "ExecuteTime": {
     "end_time": "2024-12-16T07:44:49.477757Z",
     "start_time": "2024-12-16T07:44:49.315865Z"
    }
   },
   "outputs": [],
   "source": [
    "df = pd.read_csv('data\\data_preprocessed.csv')"
   ]
  },
  {
   "cell_type": "code",
   "execution_count": 21,
   "id": "9cca45b2989214f1",
   "metadata": {
    "ExecuteTime": {
     "end_time": "2024-12-16T07:44:49.496801Z",
     "start_time": "2024-12-16T07:44:49.482455Z"
    }
   },
   "outputs": [],
   "source": [
    "df = df[df['bundle_nm'].isin(['Без подписки', 'Pro'])]\n",
    "df['pro_flg'] = df['bundle_nm'].map({'Без подписки': 0, 'Pro': 1})"
   ]
  },
  {
   "cell_type": "code",
   "execution_count": 22,
   "id": "5e926fd86328fa59",
   "metadata": {
    "ExecuteTime": {
     "end_time": "2024-12-16T07:44:49.553052Z",
     "start_time": "2024-12-16T07:44:49.521368Z"
    }
   },
   "outputs": [],
   "source": [
    "df.dropna(subset=['age', 'gender_cd', 'region_size'], inplace=True)\n",
    "df.drop_duplicates(subset=['customer_id'], inplace=True, keep='first') # дубликаты клиентов\n",
    "IQR = df[\"state_talk_time_sec\"].quantile(0.75) - df[\"state_talk_time_sec\"].quantile(0.25)\n",
    "high = df[\"state_talk_time_sec\"].quantile(0.75) + 3 * IQR\n",
    "df = df[(df[\"state_talk_time_sec\"] < high) & (df[\"state_talk_time_sec\"] > 0)] # чистка длительности звонка"
   ]
  },
  {
   "cell_type": "code",
   "execution_count": 23,
   "id": "64fdf492",
   "metadata": {
    "ExecuteTime": {
     "end_time": "2024-12-16T07:44:49.591023Z",
     "start_time": "2024-12-16T07:44:49.567094Z"
    }
   },
   "outputs": [],
   "source": [
    "df_filter = df[(df['age'] >= 14) & (df['age'])]\n",
    "df_filter[df_filter['product'] == 'Кредит']['product'] = df_filter[df_filter['age'] >= 18]['product']\n",
    "df_filter[df_filter['product'] == 'Кредитная карта']['product'] = df_filter[df_filter['age'] >= 18]['product']\n",
    "df_filter = df_filter[df_filter[\"foreign_flg\"] == 0]"
   ]
  },
  {
   "cell_type": "code",
   "execution_count": 24,
   "id": "37cae4b6762c606a",
   "metadata": {
    "ExecuteTime": {
     "end_time": "2024-12-16T07:44:49.884084Z",
     "start_time": "2024-12-16T07:44:49.692053Z"
    }
   },
   "outputs": [],
   "source": [
    "df_filter.to_csv('data/data_final_preprocessed.csv', index=False)"
   ]
  }
 ],
 "metadata": {
  "kernelspec": {
   "display_name": "Python 3",
   "language": "python",
   "name": "python3"
  },
  "language_info": {
   "codemirror_mode": {
    "name": "ipython",
    "version": 3
   },
   "file_extension": ".py",
   "mimetype": "text/x-python",
   "name": "python",
   "nbconvert_exporter": "python",
   "pygments_lexer": "ipython3",
   "version": "3.12.8"
  }
 },
 "nbformat": 4,
 "nbformat_minor": 5
}
