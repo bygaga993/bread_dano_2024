{
 "cells": [
  {
   "cell_type": "code",
   "execution_count": 3,
   "id": "initial_id",
   "metadata": {
    "ExecuteTime": {
     "end_time": "2024-12-03T10:53:49.782273Z",
     "start_time": "2024-12-03T10:53:49.778497Z"
    },
    "collapsed": true
   },
   "outputs": [],
   "source": [
    "import pandas as pd\n",
    "import warnings\n",
    "warnings.filterwarnings('ignore')"
   ]
  },
  {
   "cell_type": "markdown",
   "id": "df8ed3fbfd38a006",
   "metadata": {},
   "source": [
    "<h3>Предобработка данных</h3>"
   ]
  },
  {
   "cell_type": "code",
   "execution_count": 6,
   "id": "25f4af2f538274ac",
   "metadata": {
    "ExecuteTime": {
     "end_time": "2024-12-03T10:53:50.214690Z",
     "start_time": "2024-12-03T10:53:50.089747Z"
    }
   },
   "outputs": [],
   "source": [
    "df = pd.read_csv('data\\data_preprocessed.csv')"
   ]
  },
  {
   "cell_type": "code",
   "execution_count": 7,
   "id": "3e2823b6",
   "metadata": {},
   "outputs": [
    {
     "data": {
      "text/plain": [
       "(18691, 34)"
      ]
     },
     "execution_count": 7,
     "metadata": {},
     "output_type": "execute_result"
    }
   ],
   "source": [
    "df.shape"
   ]
  },
  {
   "cell_type": "code",
   "execution_count": 8,
   "id": "5e926fd86328fa59",
   "metadata": {
    "ExecuteTime": {
     "end_time": "2024-12-03T10:53:50.299309Z",
     "start_time": "2024-12-03T10:53:50.275374Z"
    }
   },
   "outputs": [],
   "source": [
    "df.dropna(subset=['age', 'gender_cd'], inplace=True) # удаление пропусков age и gender_cd\n",
    "df.drop_duplicates(subset=['customer_id'], inplace=True, keep='first') # дубликаты клиентов\n",
    "df = df[df['functional_cd'].isin(['Preapprove', 'Afterfilling', 'Utilization', 'Cold', 'Upsell', 'Meeting'])]\n",
    "\n",
    "# IQR = df[\"state_talk_time_sec\"].quantile(0.75) - df[\"state_talk_time_sec\"].quantile(0.25)\n",
    "# high = df[\"state_talk_time_sec\"].quantile(0.75) + IQR * 3\n",
    "# df = df[df[\"state_talk_time_sec\"] < high] # чистка длительности звонка"
   ]
  },
  {
   "cell_type": "code",
   "execution_count": 9,
   "id": "102fb677",
   "metadata": {},
   "outputs": [
    {
     "data": {
      "text/plain": [
       "(15501, 34)"
      ]
     },
     "execution_count": 9,
     "metadata": {},
     "output_type": "execute_result"
    }
   ],
   "source": [
    "df.shape"
   ]
  },
  {
   "cell_type": "code",
   "execution_count": 10,
   "id": "b910d834",
   "metadata": {},
   "outputs": [],
   "source": [
    "Q1 = df['age'].quantile(0.25)\n",
    "Q3 = df['age'].quantile(0.75)\n",
    "\n",
    "IQR = Q3 - Q1\n",
    "\n",
    "lower_bound = Q1 - 1.5 * IQR\n",
    "upper_bound = Q3 + 1.5 * IQR"
   ]
  },
  {
   "cell_type": "code",
   "execution_count": 11,
   "id": "64fdf492",
   "metadata": {},
   "outputs": [],
   "source": [
    "df_filter = df[(df['age'] >= 18) & (df['age'] <= upper_bound)]"
   ]
  },
  {
   "cell_type": "code",
   "execution_count": 12,
   "id": "d7a20df5",
   "metadata": {},
   "outputs": [
    {
     "data": {
      "text/plain": [
       "(15235, 34)"
      ]
     },
     "execution_count": 12,
     "metadata": {},
     "output_type": "execute_result"
    }
   ],
   "source": [
    "df_filter.shape"
   ]
  },
  {
   "cell_type": "code",
   "execution_count": 13,
   "id": "37cae4b6762c606a",
   "metadata": {
    "ExecuteTime": {
     "end_time": "2024-12-03T10:53:50.767005Z",
     "start_time": "2024-12-03T10:53:50.495135Z"
    }
   },
   "outputs": [],
   "source": [
    "df_filter.to_csv('data/data_final_preprocessed.csv', index=False)"
   ]
  }
 ],
 "metadata": {
  "kernelspec": {
   "display_name": "Python 3",
   "language": "python",
   "name": "python3"
  },
  "language_info": {
   "codemirror_mode": {
    "name": "ipython",
    "version": 3
   },
   "file_extension": ".py",
   "mimetype": "text/x-python",
   "name": "python",
   "nbconvert_exporter": "python",
   "pygments_lexer": "ipython3",
   "version": "3.12.2"
  }
 },
 "nbformat": 4,
 "nbformat_minor": 5
}
