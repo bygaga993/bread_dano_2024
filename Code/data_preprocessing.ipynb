{
 "cells": [
  {
   "cell_type": "code",
   "id": "initial_id",
   "metadata": {
    "collapsed": true,
    "ExecuteTime": {
     "end_time": "2024-12-10T08:24:18.999488Z",
     "start_time": "2024-12-10T08:24:18.989969Z"
    }
   },
   "source": [
    "import pandas as pd\n",
    "import warnings\n",
    "warnings.filterwarnings('ignore')"
   ],
   "outputs": [],
   "execution_count": 8
  },
  {
   "cell_type": "markdown",
   "id": "df8ed3fbfd38a006",
   "metadata": {},
   "source": [
    "<h3>Предобработка данных</h3>"
   ]
  },
  {
   "cell_type": "code",
   "id": "25f4af2f538274ac",
   "metadata": {
    "ExecuteTime": {
     "end_time": "2024-12-10T08:24:19.168407Z",
     "start_time": "2024-12-10T08:24:19.018029Z"
    }
   },
   "source": [
    "df = pd.read_csv('data\\data_preprocessed.csv')"
   ],
   "outputs": [],
   "execution_count": 9
  },
  {
   "cell_type": "code",
   "id": "3e2823b6",
   "metadata": {
    "ExecuteTime": {
     "end_time": "2024-12-10T08:24:19.202799Z",
     "start_time": "2024-12-10T08:24:19.193352Z"
    }
   },
   "source": [
    "df.shape"
   ],
   "outputs": [
    {
     "data": {
      "text/plain": [
       "(18691, 35)"
      ]
     },
     "execution_count": 10,
     "metadata": {},
     "output_type": "execute_result"
    }
   ],
   "execution_count": 10
  },
  {
   "cell_type": "code",
   "id": "5e926fd86328fa59",
   "metadata": {
    "ExecuteTime": {
     "end_time": "2024-12-10T08:24:19.298088Z",
     "start_time": "2024-12-10T08:24:19.267440Z"
    }
   },
   "source": [
    "df.dropna(subset=['age', 'gender_cd'], inplace=True) # удаление пропусков age и gender_cd\n",
    "df.drop_duplicates(subset=['customer_id'], inplace=True, keep='first') # дубликаты клиентов\n",
    "IQR = df[\"state_talk_time_sec\"].quantile(0.75) - df[\"state_talk_time_sec\"].quantile(0.25)\n",
    "high = df[\"state_talk_time_sec\"].quantile(0.75) + IQR * 3\n",
    "df = df[df[\"state_talk_time_sec\"] < high] # чистка длительности звонка"
   ],
   "outputs": [],
   "execution_count": 11
  },
  {
   "cell_type": "code",
   "id": "102fb677",
   "metadata": {
    "ExecuteTime": {
     "end_time": "2024-12-10T08:24:19.330897Z",
     "start_time": "2024-12-10T08:24:19.321981Z"
    }
   },
   "source": [
    "df.shape"
   ],
   "outputs": [
    {
     "data": {
      "text/plain": [
       "(16112, 35)"
      ]
     },
     "execution_count": 12,
     "metadata": {},
     "output_type": "execute_result"
    }
   ],
   "execution_count": 12
  },
  {
   "cell_type": "code",
   "id": "b910d834",
   "metadata": {
    "ExecuteTime": {
     "end_time": "2024-12-10T08:24:19.367531Z",
     "start_time": "2024-12-10T08:24:19.354796Z"
    }
   },
   "source": [
    "Q1 = df['age'].quantile(0.25)\n",
    "Q3 = df['age'].quantile(0.75)\n",
    "\n",
    "IQR = Q3 - Q1\n",
    "\n",
    "upper_bound = Q3 + 3 * IQR"
   ],
   "outputs": [],
   "execution_count": 13
  },
  {
   "cell_type": "code",
   "id": "64fdf492",
   "metadata": {
    "ExecuteTime": {
     "end_time": "2024-12-10T08:24:19.413930Z",
     "start_time": "2024-12-10T08:24:19.392465Z"
    }
   },
   "source": [
    "df_filter = df[(df['age'] >= 14) & (df['age'] <= upper_bound)]\n",
    "df_filter[df_filter['product'] == 'Credit'] = df_filter[df_filter['age'] >= 18]"
   ],
   "outputs": [],
   "execution_count": 14
  },
  {
   "cell_type": "code",
   "id": "d7a20df5",
   "metadata": {
    "ExecuteTime": {
     "end_time": "2024-12-10T08:24:19.442175Z",
     "start_time": "2024-12-10T08:24:19.434446Z"
    }
   },
   "source": [
    "df_filter.shape"
   ],
   "outputs": [
    {
     "data": {
      "text/plain": [
       "(16094, 35)"
      ]
     },
     "execution_count": 15,
     "metadata": {},
     "output_type": "execute_result"
    }
   ],
   "execution_count": 15
  },
  {
   "cell_type": "code",
   "id": "37cae4b6762c606a",
   "metadata": {
    "ExecuteTime": {
     "end_time": "2024-12-10T08:24:19.778546Z",
     "start_time": "2024-12-10T08:24:19.497366Z"
    }
   },
   "source": [
    "df_filter.to_csv('data/data_final_preprocessed.csv', index=False)"
   ],
   "outputs": [],
   "execution_count": 16
  }
 ],
 "metadata": {
  "kernelspec": {
   "display_name": "Python 3",
   "language": "python",
   "name": "python3"
  },
  "language_info": {
   "codemirror_mode": {
    "name": "ipython",
    "version": 3
   },
   "file_extension": ".py",
   "mimetype": "text/x-python",
   "name": "python",
   "nbconvert_exporter": "python",
   "pygments_lexer": "ipython3",
   "version": "3.12.2"
  }
 },
 "nbformat": 4,
 "nbformat_minor": 5
}
