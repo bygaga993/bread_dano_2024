{
 "cells": [
  {
   "cell_type": "code",
   "id": "initial_id",
   "metadata": {
    "collapsed": true,
    "ExecuteTime": {
     "end_time": "2024-12-14T18:15:14.559853Z",
     "start_time": "2024-12-14T18:15:14.547314Z"
    }
   },
   "source": [
    "import pandas as pd\n",
    "import warnings\n",
    "from sklearn.preprocessing import StandardScaler\n",
    "scaler = StandardScaler()\n",
    "warnings.filterwarnings('ignore')"
   ],
   "outputs": [],
   "execution_count": 33
  },
  {
   "cell_type": "markdown",
   "id": "df8ed3fbfd38a006",
   "metadata": {},
   "source": [
    "<h3>Предобработка данных</h3>"
   ]
  },
  {
   "cell_type": "code",
   "id": "25f4af2f538274ac",
   "metadata": {
    "ExecuteTime": {
     "end_time": "2024-12-14T18:15:14.762784Z",
     "start_time": "2024-12-14T18:15:14.623187Z"
    }
   },
   "source": [
    "df = pd.read_csv('data\\data_preprocessed.csv')"
   ],
   "outputs": [],
   "execution_count": 34
  },
  {
   "metadata": {
    "ExecuteTime": {
     "end_time": "2024-12-14T18:15:14.788558Z",
     "start_time": "2024-12-14T18:15:14.770196Z"
    }
   },
   "cell_type": "code",
   "source": [
    "df = df[df['bundle_nm'].isin(['Без подписки', 'Pro'])]\n",
    "df['pro_flg'] = df['bundle_nm'].map({'Без подписки': 0, 'Pro': 1})"
   ],
   "id": "9cca45b2989214f1",
   "outputs": [],
   "execution_count": 35
  },
  {
   "cell_type": "code",
   "id": "5e926fd86328fa59",
   "metadata": {
    "ExecuteTime": {
     "end_time": "2024-12-14T18:15:14.847259Z",
     "start_time": "2024-12-14T18:15:14.811043Z"
    }
   },
   "source": [
    "df.dropna(subset=['age', 'gender_cd'], inplace=True) # удаление пропусков age и gender_cd\n",
    "df.drop_duplicates(subset=['customer_id'], inplace=True, keep='first') # дубликаты клиентов\n",
    "IQR = df[\"state_talk_time_sec\"].quantile(0.75) - df[\"state_talk_time_sec\"].quantile(0.25)\n",
    "high = df[\"state_talk_time_sec\"].quantile(0.75) + 1.5 * IQR\n",
    "df = df[df[\"state_talk_time_sec\"] < high] # чистка длительности звонка"
   ],
   "outputs": [],
   "execution_count": 36
  },
  {
   "cell_type": "code",
   "id": "b910d834",
   "metadata": {
    "ExecuteTime": {
     "end_time": "2024-12-14T18:15:14.892771Z",
     "start_time": "2024-12-14T18:15:14.877684Z"
    }
   },
   "source": [
    "Q1 = df['age'].quantile(0.25)\n",
    "Q3 = df['age'].quantile(0.75)\n",
    "\n",
    "IQR = Q3 - Q1\n",
    "\n",
    "upper_bound = Q3 + 1.5 * IQR"
   ],
   "outputs": [],
   "execution_count": 37
  },
  {
   "cell_type": "code",
   "id": "64fdf492",
   "metadata": {
    "ExecuteTime": {
     "end_time": "2024-12-14T18:15:14.945967Z",
     "start_time": "2024-12-14T18:15:14.914895Z"
    }
   },
   "source": [
    "df_filter = df[(df['age'] >= 14) & (df['age'] <= upper_bound)]\n",
    "df_filter[df_filter['product'] == 'Кредит']['product'] = df_filter[df_filter['age'] >= 18]['product']\n",
    "df_filter[df_filter['product'] == 'Кредитная карта']['product'] = df_filter[df_filter['age'] >= 18]['product']"
   ],
   "outputs": [],
   "execution_count": 38
  },
  {
   "metadata": {
    "ExecuteTime": {
     "end_time": "2024-12-14T18:15:14.975389Z",
     "start_time": "2024-12-14T18:15:14.969408Z"
    }
   },
   "cell_type": "code",
   "source": [
    "# df_filter['age'] = scaler.fit_transform(df_filter[['age']])\n",
    "# df_filter['state_talk_time_sec'] = scaler.fit_transform(df_filter[['state_talk_time_sec']])"
   ],
   "id": "1364de4aa66cf18f",
   "outputs": [],
   "execution_count": 39
  },
  {
   "cell_type": "code",
   "id": "37cae4b6762c606a",
   "metadata": {
    "ExecuteTime": {
     "end_time": "2024-12-14T18:15:15.283952Z",
     "start_time": "2024-12-14T18:15:14.998261Z"
    }
   },
   "source": [
    "df_filter.to_csv('data/data_final_preprocessed.csv', index=False)"
   ],
   "outputs": [],
   "execution_count": 40
  },
  {
   "metadata": {
    "ExecuteTime": {
     "end_time": "2024-12-14T18:15:15.324157Z",
     "start_time": "2024-12-14T18:15:15.319607Z"
    }
   },
   "cell_type": "code",
   "source": "",
   "id": "e5d06f70442b7773",
   "outputs": [],
   "execution_count": null
  }
 ],
 "metadata": {
  "kernelspec": {
   "display_name": "Python 3",
   "language": "python",
   "name": "python3"
  },
  "language_info": {
   "codemirror_mode": {
    "name": "ipython",
    "version": 3
   },
   "file_extension": ".py",
   "mimetype": "text/x-python",
   "name": "python",
   "nbconvert_exporter": "python",
   "pygments_lexer": "ipython3",
   "version": "3.12.2"
  }
 },
 "nbformat": 4,
 "nbformat_minor": 5
}
