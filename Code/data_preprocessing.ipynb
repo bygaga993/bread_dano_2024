{
 "cells": [
  {
   "cell_type": "code",
   "id": "initial_id",
   "metadata": {
    "collapsed": true,
    "ExecuteTime": {
     "end_time": "2024-12-15T15:03:27.964446Z",
     "start_time": "2024-12-15T15:03:27.959945Z"
    }
   },
   "source": [
    "import pandas as pd\n",
    "import warnings\n",
    "warnings.filterwarnings('ignore')"
   ],
   "outputs": [],
   "execution_count": 1
  },
  {
   "cell_type": "markdown",
   "id": "df8ed3fbfd38a006",
   "metadata": {},
   "source": [
    "<h3>Предобработка данных</h3>"
   ]
  },
  {
   "cell_type": "code",
   "id": "25f4af2f538274ac",
   "metadata": {
    "ExecuteTime": {
     "end_time": "2024-12-15T15:03:28.084587Z",
     "start_time": "2024-12-15T15:03:27.965518Z"
    }
   },
   "source": [
    "df = pd.read_csv('data\\data_preprocessed.csv')"
   ],
   "outputs": [],
   "execution_count": 2
  },
  {
   "metadata": {
    "ExecuteTime": {
     "end_time": "2024-12-15T15:03:28.268443Z",
     "start_time": "2024-12-15T15:03:28.253720Z"
    }
   },
   "cell_type": "code",
   "source": [
    "df = df[df['bundle_nm'].isin(['Без подписки', 'Pro'])]\n",
    "df['pro_flg'] = df['bundle_nm'].map({'Без подписки': 0, 'Pro': 1})"
   ],
   "id": "9cca45b2989214f1",
   "outputs": [],
   "execution_count": 3
  },
  {
   "cell_type": "code",
   "id": "5e926fd86328fa59",
   "metadata": {
    "ExecuteTime": {
     "end_time": "2024-12-15T15:03:28.300999Z",
     "start_time": "2024-12-15T15:03:28.280426Z"
    }
   },
   "source": [
    "df.dropna(subset=['age', 'gender_cd', 'region_size'], inplace=True)\n",
    "df.drop_duplicates(subset=['customer_id'], inplace=True, keep='first') # дубликаты клиентов\n",
    "IQR = df[\"state_talk_time_sec\"].quantile(0.75) - df[\"state_talk_time_sec\"].quantile(0.25)\n",
    "high = df[\"state_talk_time_sec\"].quantile(0.75) + 3 * IQR\n",
    "df = df[df[\"state_talk_time_sec\"] < high] # чистка длительности звонка\n",
    "condition = (df['success_flg'] == 1) & (df['state_talk_time_sec'] < 5)\n",
    "df = df.drop(df[condition].index)"
   ],
   "outputs": [],
   "execution_count": 4
  },
  {
   "cell_type": "code",
   "id": "64fdf492",
   "metadata": {
    "ExecuteTime": {
     "end_time": "2024-12-15T15:03:28.331770Z",
     "start_time": "2024-12-15T15:03:28.313115Z"
    }
   },
   "source": [
    "df_filter = df[(df['age'] >= 14) & (df['age'])]\n",
    "df_filter[df_filter['product'] == 'Кредит']['product'] = df_filter[df_filter['age'] >= 18]['product']\n",
    "df_filter[df_filter['product'] == 'Кредитная карта']['product'] = df_filter[df_filter['age'] >= 18]['product']"
   ],
   "outputs": [],
   "execution_count": 5
  },
  {
   "cell_type": "code",
   "id": "37cae4b6762c606a",
   "metadata": {
    "ExecuteTime": {
     "end_time": "2024-12-15T15:03:28.486335Z",
     "start_time": "2024-12-15T15:03:28.347201Z"
    }
   },
   "source": "df_filter.to_csv('data/data_final_preprocessed.csv', index=False)",
   "outputs": [],
   "execution_count": 6
  },
  {
   "metadata": {
    "ExecuteTime": {
     "end_time": "2024-12-15T15:03:28.554640Z",
     "start_time": "2024-12-15T15:03:28.551067Z"
    }
   },
   "cell_type": "code",
   "source": "",
   "id": "e5d06f70442b7773",
   "outputs": [],
   "execution_count": null
  }
 ],
 "metadata": {
  "kernelspec": {
   "display_name": "Python 3",
   "language": "python",
   "name": "python3"
  },
  "language_info": {
   "codemirror_mode": {
    "name": "ipython",
    "version": 3
   },
   "file_extension": ".py",
   "mimetype": "text/x-python",
   "name": "python",
   "nbconvert_exporter": "python",
   "pygments_lexer": "ipython3",
   "version": "3.12.2"
  }
 },
 "nbformat": 4,
 "nbformat_minor": 5
}
