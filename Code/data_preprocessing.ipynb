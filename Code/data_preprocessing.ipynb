{
 "cells": [
  {
   "cell_type": "code",
   "id": "initial_id",
   "metadata": {
    "collapsed": true,
    "ExecuteTime": {
     "end_time": "2024-12-16T09:03:15.534715Z",
     "start_time": "2024-12-16T09:03:15.529086Z"
    }
   },
   "source": [
    "import pandas as pd\n",
    "import warnings\n",
    "warnings.filterwarnings('ignore')"
   ],
   "outputs": [],
   "execution_count": 9
  },
  {
   "cell_type": "markdown",
   "id": "df8ed3fbfd38a006",
   "metadata": {},
   "source": [
    "<h3>Предобработка данных</h3>"
   ]
  },
  {
   "cell_type": "code",
   "id": "25f4af2f538274ac",
   "metadata": {
    "ExecuteTime": {
     "end_time": "2024-12-16T09:03:15.930293Z",
     "start_time": "2024-12-16T09:03:15.826204Z"
    }
   },
   "source": [
    "df = pd.read_csv('data\\data_preprocessed.csv')"
   ],
   "outputs": [],
   "execution_count": 10
  },
  {
   "metadata": {
    "ExecuteTime": {
     "end_time": "2024-12-16T09:03:16.035622Z",
     "start_time": "2024-12-16T09:03:16.023047Z"
    }
   },
   "cell_type": "code",
   "source": [
    "df = df[df['bundle_nm'].isin(['Без подписки', 'Pro'])]\n",
    "df['pro_flg'] = df['bundle_nm'].map({'Без подписки': 0, 'Pro': 1})"
   ],
   "id": "9cca45b2989214f1",
   "outputs": [],
   "execution_count": 11
  },
  {
   "cell_type": "code",
   "id": "5e926fd86328fa59",
   "metadata": {
    "ExecuteTime": {
     "end_time": "2024-12-16T09:03:16.242544Z",
     "start_time": "2024-12-16T09:03:16.206253Z"
    }
   },
   "source": [
    "df.dropna(subset=['age', 'gender_cd', 'region_size'], inplace=True)\n",
    "df.drop_duplicates(subset=['customer_id'], inplace=True, keep='first') # дубликаты клиентов\n",
    "IQR = df[\"state_talk_time_sec\"].quantile(0.75) - df[\"state_talk_time_sec\"].quantile(0.25)\n",
    "high = df[\"state_talk_time_sec\"].quantile(0.75) + 3 * IQR\n",
    "df = df[(df[\"state_talk_time_sec\"] < high) & (df[\"state_talk_time_sec\"] > 0)] # чистка длительности звонка"
   ],
   "outputs": [],
   "execution_count": 12
  },
  {
   "cell_type": "code",
   "id": "64fdf492",
   "metadata": {
    "ExecuteTime": {
     "end_time": "2024-12-16T09:03:16.366064Z",
     "start_time": "2024-12-16T09:03:16.327391Z"
    }
   },
   "source": [
    "df_filter = df[(df['age'] >= 14)]\n",
    "df_filter[df_filter['product'] == 'Кредит']['product'] = df_filter[df_filter['age'] >= 18]['product']\n",
    "df_filter[df_filter['product'] == 'Кредитная карта']['product'] = df_filter[df_filter['age'] >= 18]['product']"
   ],
   "outputs": [],
   "execution_count": 13
  },
  {
   "cell_type": "code",
   "id": "37cae4b6762c606a",
   "metadata": {
    "ExecuteTime": {
     "end_time": "2024-12-16T09:03:16.741903Z",
     "start_time": "2024-12-16T09:03:16.581873Z"
    }
   },
   "source": "df_filter.to_csv('data/data_final_preprocessed.csv', index=False)",
   "outputs": [],
   "execution_count": 14
  }
 ],
 "metadata": {
  "kernelspec": {
   "display_name": "Python 3",
   "language": "python",
   "name": "python3"
  },
  "language_info": {
   "codemirror_mode": {
    "name": "ipython",
    "version": 3
   },
   "file_extension": ".py",
   "mimetype": "text/x-python",
   "name": "python",
   "nbconvert_exporter": "python",
   "pygments_lexer": "ipython3",
   "version": "3.12.2"
  }
 },
 "nbformat": 4,
 "nbformat_minor": 5
}
