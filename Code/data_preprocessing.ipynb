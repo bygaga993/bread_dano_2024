{
 "cells": [
  {
   "cell_type": "code",
   "execution_count": 3,
   "id": "initial_id",
   "metadata": {
    "ExecuteTime": {
     "end_time": "2024-12-10T08:24:18.999488Z",
     "start_time": "2024-12-10T08:24:18.989969Z"
    },
    "collapsed": true
   },
   "outputs": [],
   "source": [
    "import pandas as pd\n",
    "import warnings\n",
    "warnings.filterwarnings('ignore')"
   ]
  },
  {
   "cell_type": "markdown",
   "id": "df8ed3fbfd38a006",
   "metadata": {},
   "source": [
    "<h3>Предобработка данных</h3>"
   ]
  },
  {
   "cell_type": "code",
   "execution_count": 12,
   "id": "25f4af2f538274ac",
   "metadata": {
    "ExecuteTime": {
     "end_time": "2024-12-10T08:24:19.168407Z",
     "start_time": "2024-12-10T08:24:19.018029Z"
    }
   },
   "outputs": [],
   "source": [
    "df = pd.read_csv('data\\data_preprocessed.csv')"
   ]
  },
  {
   "cell_type": "code",
   "execution_count": 13,
   "id": "3e2823b6",
   "metadata": {
    "ExecuteTime": {
     "end_time": "2024-12-10T08:24:19.202799Z",
     "start_time": "2024-12-10T08:24:19.193352Z"
    }
   },
   "outputs": [
    {
     "data": {
      "text/plain": [
       "(18691, 35)"
      ]
     },
     "execution_count": 13,
     "metadata": {},
     "output_type": "execute_result"
    }
   ],
   "source": [
    "df.shape"
   ]
  },
  {
   "cell_type": "code",
   "execution_count": 14,
   "id": "5e926fd86328fa59",
   "metadata": {
    "ExecuteTime": {
     "end_time": "2024-12-10T08:24:19.298088Z",
     "start_time": "2024-12-10T08:24:19.267440Z"
    }
   },
   "outputs": [],
   "source": [
    "df.dropna(subset=['age', 'gender_cd'], inplace=True) # удаление пропусков age и gender_cd\n",
    "df.drop_duplicates(subset=['customer_id'], inplace=True, keep='first') # дубликаты клиентов\n",
    "IQR = df[\"state_talk_time_sec\"].quantile(0.75) - df[\"state_talk_time_sec\"].quantile(0.25)\n",
    "high = df[\"state_talk_time_sec\"].quantile(0.75) + IQR * 3\n",
    "df = df[df[\"state_talk_time_sec\"] < high] # чистка длительности звонка"
   ]
  },
  {
   "cell_type": "code",
   "execution_count": 15,
   "id": "102fb677",
   "metadata": {
    "ExecuteTime": {
     "end_time": "2024-12-10T08:24:19.330897Z",
     "start_time": "2024-12-10T08:24:19.321981Z"
    }
   },
   "outputs": [
    {
     "data": {
      "text/plain": [
       "(16112, 35)"
      ]
     },
     "execution_count": 15,
     "metadata": {},
     "output_type": "execute_result"
    }
   ],
   "source": [
    "df.shape"
   ]
  },
  {
   "cell_type": "code",
   "execution_count": 16,
   "id": "b910d834",
   "metadata": {
    "ExecuteTime": {
     "end_time": "2024-12-10T08:24:19.367531Z",
     "start_time": "2024-12-10T08:24:19.354796Z"
    }
   },
   "outputs": [],
   "source": [
    "Q1 = df['age'].quantile(0.25)\n",
    "Q3 = df['age'].quantile(0.75)\n",
    "\n",
    "IQR = Q3 - Q1\n",
    "\n",
    "upper_bound = Q3 + 1.5 * IQR"
   ]
  },
  {
   "cell_type": "code",
   "execution_count": null,
   "id": "64fdf492",
   "metadata": {
    "ExecuteTime": {
     "end_time": "2024-12-10T08:24:19.413930Z",
     "start_time": "2024-12-10T08:24:19.392465Z"
    }
   },
   "outputs": [],
   "source": [
    "df_filter = df[(df['age'] >= 14) & (df['age'] <= upper_bound)]\n",
    "df_filter[df_filter['product'] == 'Credit'] = df_filter[df_filter['age'] >= 18]"
   ]
  },
  {
   "cell_type": "code",
   "execution_count": 18,
   "id": "d7a20df5",
   "metadata": {
    "ExecuteTime": {
     "end_time": "2024-12-10T08:24:19.442175Z",
     "start_time": "2024-12-10T08:24:19.434446Z"
    }
   },
   "outputs": [
    {
     "data": {
      "text/plain": [
       "(16057, 35)"
      ]
     },
     "execution_count": 18,
     "metadata": {},
     "output_type": "execute_result"
    }
   ],
   "source": [
    "df_filter.shape"
   ]
  },
  {
   "cell_type": "code",
   "execution_count": 19,
   "id": "37cae4b6762c606a",
   "metadata": {
    "ExecuteTime": {
     "end_time": "2024-12-10T08:24:19.778546Z",
     "start_time": "2024-12-10T08:24:19.497366Z"
    }
   },
   "outputs": [],
   "source": [
    "df_filter.to_csv('data/data_final_preprocessed.csv', index=False)"
   ]
  },
  {
   "cell_type": "markdown",
   "id": "52f581da",
   "metadata": {},
   "source": [
    "**Чистка данных**\n",
    "\n",
    "1) Удалаяем дубликаты(оставляем только уникальных пользователей)\n",
    "\n",
    "2) Удаляем пропуски по age и gender_cd\n",
    "\n",
    "3) Чистим сверху по 3IQR длительность звонка\n",
    "\n",
    "4) Чистим по сверху по 3IQR возраст. Снизу: кредитный продукт - 18+, остальное - 14+"
   ]
  }
 ],
 "metadata": {
  "kernelspec": {
   "display_name": "Python 3",
   "language": "python",
   "name": "python3"
  },
  "language_info": {
   "codemirror_mode": {
    "name": "ipython",
    "version": 3
   },
   "file_extension": ".py",
   "mimetype": "text/x-python",
   "name": "python",
   "nbconvert_exporter": "python",
   "pygments_lexer": "ipython3",
   "version": "3.12.2"
  }
 },
 "nbformat": 4,
 "nbformat_minor": 5
}
