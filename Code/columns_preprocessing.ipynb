{
 "cells": [
  {
   "cell_type": "markdown",
   "metadata": {},
   "source": [
    "<h2>Преобразование переменных</h2>"
   ]
  },
  {
   "cell_type": "code",
   "execution_count": 15,
   "metadata": {
    "ExecuteTime": {
     "end_time": "2024-12-03T10:42:21.071275Z",
     "start_time": "2024-12-03T10:42:21.064141Z"
    }
   },
   "outputs": [],
   "source": [
    "import pandas as pd\n",
    "import numpy as np\n",
    "import warnings\n",
    "warnings.filterwarnings('ignore')"
   ]
  },
  {
   "cell_type": "code",
   "execution_count": 16,
   "metadata": {
    "ExecuteTime": {
     "end_time": "2024-12-03T10:42:21.314426Z",
     "start_time": "2024-12-03T10:42:21.199568Z"
    }
   },
   "outputs": [],
   "source": [
    "df = pd.read_csv('data/final.csv').drop(columns=['Unnamed: 0'])"
   ]
  },
  {
   "cell_type": "code",
   "execution_count": 17,
   "metadata": {
    "ExecuteTime": {
     "end_time": "2024-12-03T10:42:21.480039Z",
     "start_time": "2024-12-03T10:42:21.358614Z"
    }
   },
   "outputs": [],
   "source": [
    "# не писать в презе\n",
    "df['finish_dttm'] = pd.to_datetime(df['finish_dttm'], format='%Y-%m-%d %H:%M:%S') # преобразование во временную переменную\n",
    "df['age'] = pd.to_numeric(df['age'], errors='coerce') # преобразование во числовую переменную\n",
    "df[\"bundle_nm\"] = df[\"bundle_nm\"].fillna('Без подписки')\n",
    "df[\"bundle_nm\"] = df[\"bundle_nm\"].replace('XXX', 'Без подписки')\n",
    "\n",
    "# хз писать в презе\n",
    "df['gender_cd'] = df['gender_cd'].map({'F': 0, 'M': 1}) # преобразование в бинарную переменную\n",
    "df['emp_gender_cd'] = df['emp_gender_cd'].map({'W': 0, 'M': 1}) # преобразование в бинарную переменную\n",
    "df['day_of_week'] = df['finish_dttm'].dt.dayofweek # создание переменной дня недели\n",
    "df['holiday_flg'] = df.day_of_week.apply(lambda x: 1 if x > 4 else 0) # создание флага выходного дня\n",
    "df['finish_dttm'] = df['finish_dttm'].dt.strftime('%Y-%m-%d') # сокращение структуры переменной времени\n",
    "def million_city(region):\n",
    "    if region == 'town' or region == 'rural':\n",
    "        return 0\n",
    "    if region == 'msk' or region == 'urban':\n",
    "        return 1\n",
    "    else:\n",
    "        return np.nan\n",
    "df['million_city'] = df['region_size'].apply(million_city) # создание флага города-миллионика\n",
    "\n",
    "def child_flg(child):\n",
    "    if child > 0:\n",
    "        return 1\n",
    "    else:\n",
    "        return 0\n",
    "df['child_flg'] = df['child_amt'].apply(child_flg) # создание флага наличия ребенка\n",
    "\n",
    "# писать в презе\n",
    "df['approval_flg'] = df['wo_hit_status_result_desc'].map({'Дозвон, Отказ': 0, 'Дозвон, Успешно': 1}) # создание флага одобрения заявки"
   ]
  },
  {
   "cell_type": "code",
   "execution_count": 18,
   "metadata": {
    "ExecuteTime": {
     "end_time": "2024-12-03T10:42:22.466435Z",
     "start_time": "2024-12-03T10:42:22.174322Z"
    }
   },
   "outputs": [],
   "source": [
    "df.to_csv('data/data_preprocessed.csv', index=False)"
   ]
  },
  {
   "cell_type": "code",
   "execution_count": null,
   "metadata": {},
   "outputs": [],
   "source": []
  }
 ],
 "metadata": {
  "kernelspec": {
   "display_name": "Python 3",
   "language": "python",
   "name": "python3"
  },
  "language_info": {
   "codemirror_mode": {
    "name": "ipython",
    "version": 3
   },
   "file_extension": ".py",
   "mimetype": "text/x-python",
   "name": "python",
   "nbconvert_exporter": "python",
   "pygments_lexer": "ipython3",
   "version": "3.12.2"
  }
 },
 "nbformat": 4,
 "nbformat_minor": 2
}
