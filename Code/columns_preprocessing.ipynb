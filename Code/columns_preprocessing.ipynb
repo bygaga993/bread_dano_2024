{
 "cells": [
  {
   "cell_type": "markdown",
   "metadata": {},
   "source": [
    "<h2>Преобразование переменных</h2>"
   ]
  },
  {
   "cell_type": "code",
   "metadata": {
    "ExecuteTime": {
     "end_time": "2024-12-15T15:21:39.272804Z",
     "start_time": "2024-12-15T15:21:39.267936Z"
    }
   },
   "source": [
    "import pandas as pd\n",
    "import numpy as np\n",
    "import warnings\n",
    "warnings.filterwarnings('ignore')"
   ],
   "outputs": [],
   "execution_count": 17
  },
  {
   "cell_type": "code",
   "metadata": {
    "ExecuteTime": {
     "end_time": "2024-12-15T15:21:39.389497Z",
     "start_time": "2024-12-15T15:21:39.305592Z"
    }
   },
   "source": "df = pd.read_csv('data/final.csv').drop(columns=['Unnamed: 0'])",
   "outputs": [],
   "execution_count": 18
  },
  {
   "cell_type": "code",
   "metadata": {
    "ExecuteTime": {
     "end_time": "2024-12-15T15:21:39.606786Z",
     "start_time": "2024-12-15T15:21:39.395910Z"
    }
   },
   "source": [
    "# не писать в презе\n",
    "df['finish_dttm'] = pd.to_datetime(df['finish_dttm'], format='%Y-%m-%d %H:%M:%S') # преобразование во временную переменную\n",
    "df['age'] = pd.to_numeric(df['age'], errors='coerce') # преобразование во числовую переменную\n",
    "df[\"bundle_nm\"] = df[\"bundle_nm\"].fillna('Без подписки')\n",
    "df[\"bundle_nm\"] = df[\"bundle_nm\"].replace('XXX', 'Без подписки')\n",
    "\n",
    "df['success_flg'] = df['wo_hit_status_result_desc'].map({'Дозвон, Отказ': 0, 'Дозвон, Успешно': 1})\n",
    "\n",
    "# хз писать в презе\n",
    "df['gender_cd'] = df['gender_cd'].map({'F': 0, 'M': 1}) # преобразование в бинарную переменную\n",
    "df['emp_gender_cd'] = df['emp_gender_cd'].map({'W': 0, 'M': 1}) # преобразование в бинарную переменную\n",
    "df['day_of_week'] = df['finish_dttm'].dt.dayofweek # создание переменной дня недели\n",
    "df['holiday_flg'] = df.day_of_week.apply(lambda x: 1 if x > 4 else 0) # создание флага выходного дня\n",
    "df['finish_dttm'] = df['finish_dttm'].dt.strftime('%Y-%m-%d') # сокращение структуры переменной времени\n",
    "\n",
    "credit_products = ['Credit Cards']\n",
    "loan_products = ['Cash Loan', 'Secured Loan', 'Car Loan']\n",
    "debit_investment_products = ['Debit Cards']\n",
    "investment_products = ['Investment']\n",
    "insurance_services = ['Casco', 'MVNO', 'Mortgage Insurance']\n",
    "\n",
    "df['product'] = 'Другое'\n",
    "df.loc[df['product_cd'].isin(credit_products), 'product'] = 'Кредитная карта'\n",
    "df.loc[df['product_cd'].isin(loan_products), 'product'] = 'Кредит'\n",
    "df.loc[df['product_cd'].isin(debit_investment_products), 'product'] = 'Дебетовая карта'\n",
    "df.loc[df['product_cd'].isin(insurance_services), 'product'] = 'Страхование и услуги'\n",
    "df.loc[df['product_cd'].isin(investment_products), 'product'] = 'Инвестиции'\n",
    "df = df[~(df['product'] == 'Другое')]\n",
    "\n",
    "loan_products = ['Upsell', 'Cold', 'Downsell', 'Utilization', 'Reutilization', 'Prolongation', 'Refinancing', 'Preapprove', 'Autoleads', 'BAF']\n",
    "debit_investment_products = ['Afterfilling', 'Meeting', 'Incoming', 'Activation', 'Agreement']\n",
    "\n",
    "df['function'] = 'Другое'\n",
    "df.loc[df['functional_cd'].isin(loan_products), 'function'] = 'Продажи и предложения'\n",
    "\n",
    "df['auto_and_entrepreneur_flg'] = df['auto_flg'] * df['entrepreneur_flg']\n",
    "df['region_category'] = df['region_size'].apply(lambda x: 'город' if x in ['urban', 'town', 'msk'] else 'сельская местность')\n",
    "df['region_category_dummies'] = df['region_category'].map({'город': 1, 'сельская местность': 0})\n",
    "\n",
    "df['age_group'] = pd.cut(df['age'], bins=[0, 24, 34, 49, 64, 100], labels=['14-24', '25-34', '35-49', '50-64', '65+'])\n",
    "df['age_group_dummies'] = df['age_group'].map({'14-24': 1, '25-34': 2, '35-49': 3, '50-64': 4, '65+': 5})\n",
    "\n",
    "def determine_marital_status(row):\n",
    "    if row['partnership_flg'] == 0 and row['child_amt'] == 0:\n",
    "        return 'одинокий'\n",
    "    elif row['partnership_flg'] == 1 and row['child_amt'] == 0:\n",
    "        return 'с партнером без детей'\n",
    "    elif row['partnership_flg'] == 1 and row['child_amt'] > 0:\n",
    "        return 'с партнером с детьми'\n",
    "    elif row['partnership_flg'] == 0 and row['child_amt'] > 0:\n",
    "        return 'одинокий с детьми'\n",
    "\n",
    "df['age_difference'] = abs(df['emp_age'] - df['age'])\n",
    "\n",
    "df['marital_status'] = df.apply(determine_marital_status, axis=1)\n",
    "\n",
    "def determine_work_status(row):\n",
    "    if row < 6:\n",
    "        return \"новичок\"\n",
    "    elif  24 > row >= 6:\n",
    "        return \"опытный\"\n",
    "    else:\n",
    "        return \"сеньор\"\n",
    "df[\"work_experience_status\"] = df[\"emp_work_months_cnt\"].apply(determine_work_status)"
   ],
   "outputs": [],
   "execution_count": 19
  },
  {
   "metadata": {
    "ExecuteTime": {
     "end_time": "2024-12-15T15:21:39.635301Z",
     "start_time": "2024-12-15T15:21:39.618011Z"
    }
   },
   "cell_type": "code",
   "source": "df.isna().sum()",
   "outputs": [
    {
     "data": {
      "text/plain": [
       "customer_id                       0\n",
       "age                             183\n",
       "gender_cd                       258\n",
       "region_size                    7286\n",
       "foreign_flg                    7286\n",
       "entrepreneur_flg               7286\n",
       "auto_flg                       7286\n",
       "traveler_flg                   7286\n",
       "partnership_flg                7286\n",
       "child_amt                      7286\n",
       "realty_type                    7286\n",
       "segment_cd                     7286\n",
       "bundle_nm                         0\n",
       "confirmed_income              17249\n",
       "predicted_income              14570\n",
       "product_cd                        0\n",
       "functional_cd                     0\n",
       "finish_dttm                       0\n",
       "state_talk_time_sec             129\n",
       "wo_hit_status_result_desc         0\n",
       "wo_hit_status_reason_desc         0\n",
       "employee_id                       0\n",
       "emp_age                           1\n",
       "emp_age_new                       1\n",
       "emp_gender_cd                  2180\n",
       "emp_children_cnt              18588\n",
       "emp_work_months_cnt            1781\n",
       "emp_citizenship_country_cd    16876\n",
       "emp_marital_status_cd         16692\n",
       "success_flg                       0\n",
       "day_of_week                       0\n",
       "holiday_flg                       0\n",
       "product                           0\n",
       "function                          0\n",
       "auto_and_entrepreneur_flg      7286\n",
       "region_category                   0\n",
       "region_category_dummies           0\n",
       "age_group                       183\n",
       "age_group_dummies               183\n",
       "age_difference                  184\n",
       "marital_status                 7286\n",
       "work_experience_status            0\n",
       "dtype: int64"
      ]
     },
     "execution_count": 20,
     "metadata": {},
     "output_type": "execute_result"
    }
   ],
   "execution_count": 20
  },
  {
   "metadata": {
    "ExecuteTime": {
     "end_time": "2024-12-15T15:21:39.938888Z",
     "start_time": "2024-12-15T15:21:39.677319Z"
    }
   },
   "cell_type": "code",
   "source": "df.to_csv('data/data_preprocessed.csv', index=False)",
   "outputs": [],
   "execution_count": 21
  },
  {
   "metadata": {
    "ExecuteTime": {
     "end_time": "2024-12-15T15:21:39.968761Z",
     "start_time": "2024-12-15T15:21:39.965117Z"
    }
   },
   "cell_type": "code",
   "source": "",
   "outputs": [],
   "execution_count": null
  }
 ],
 "metadata": {
  "kernelspec": {
   "display_name": "Python 3",
   "language": "python",
   "name": "python3"
  },
  "language_info": {
   "codemirror_mode": {
    "name": "ipython",
    "version": 3
   },
   "file_extension": ".py",
   "mimetype": "text/x-python",
   "name": "python",
   "nbconvert_exporter": "python",
   "pygments_lexer": "ipython3",
   "version": "3.12.2"
  }
 },
 "nbformat": 4,
 "nbformat_minor": 2
}
