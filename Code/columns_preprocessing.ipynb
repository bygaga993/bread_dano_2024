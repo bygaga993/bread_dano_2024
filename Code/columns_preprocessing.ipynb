{
 "cells": [
  {
   "cell_type": "markdown",
   "metadata": {},
   "source": [
    "<h2>Преобразование переменных</h2>"
   ]
  },
  {
   "cell_type": "code",
   "metadata": {
    "ExecuteTime": {
     "end_time": "2024-12-14T19:11:18.273293Z",
     "start_time": "2024-12-14T19:11:18.265200Z"
    }
   },
   "source": [
    "import pandas as pd\n",
    "import numpy as np\n",
    "import warnings\n",
    "warnings.filterwarnings('ignore')"
   ],
   "outputs": [],
   "execution_count": 54
  },
  {
   "cell_type": "code",
   "metadata": {
    "ExecuteTime": {
     "end_time": "2024-12-14T19:11:18.518532Z",
     "start_time": "2024-12-14T19:11:18.390310Z"
    }
   },
   "source": "df = pd.read_csv('data/final.csv').drop(columns=['Unnamed: 0'])",
   "outputs": [],
   "execution_count": 55
  },
  {
   "cell_type": "code",
   "metadata": {
    "ExecuteTime": {
     "end_time": "2024-12-14T19:11:18.716423Z",
     "start_time": "2024-12-14T19:11:18.601961Z"
    }
   },
   "source": [
    "# не писать в презе\n",
    "df['finish_dttm'] = pd.to_datetime(df['finish_dttm'], format='%Y-%m-%d %H:%M:%S') # преобразование во временную переменную\n",
    "df['age'] = pd.to_numeric(df['age'], errors='coerce') # преобразование во числовую переменную\n",
    "df[\"bundle_nm\"] = df[\"bundle_nm\"].fillna('Без подписки')\n",
    "df[\"bundle_nm\"] = df[\"bundle_nm\"].replace('XXX', 'Без подписки')\n",
    "\n",
    "df['success_flg'] = df['wo_hit_status_result_desc'].map({'Дозвон, Отказ': 0, 'Дозвон, Успешно': 1})\n",
    "\n",
    "# хз писать в презе\n",
    "df['gender_cd'] = df['gender_cd'].map({'F': 0, 'M': 1}) # преобразование в бинарную переменную\n",
    "df['emp_gender_cd'] = df['emp_gender_cd'].map({'W': 0, 'M': 1}) # преобразование в бинарную переменную\n",
    "df['day_of_week'] = df['finish_dttm'].dt.dayofweek # создание переменной дня недели\n",
    "df['holiday_flg'] = df.day_of_week.apply(lambda x: 1 if x > 4 else 0) # создание флага выходного дня\n",
    "df['finish_dttm'] = df['finish_dttm'].dt.strftime('%Y-%m-%d') # сокращение структуры переменной времени\n",
    "def million_city(region):\n",
    "    if region == 'town' or region == 'rural':\n",
    "        return 0\n",
    "    if region == 'msk' or region == 'urban':\n",
    "        return 1\n",
    "    else:\n",
    "        return np.nan\n",
    "df['million_city'] = df['region_size'].apply(million_city) # создание флага города-миллионика\n",
    "\n",
    "def child_flg(child):\n",
    "    if child > 0:\n",
    "        return 1\n",
    "    else:\n",
    "        return 0\n",
    "df['child_flg'] = df['child_amt'].apply(child_flg) # создание флага наличия ребенка\n",
    "\n",
    "credit_products = ['Credit Cards']\n",
    "loan_products = ['Cash Loan', 'Secured Loan', 'Car Loan']\n",
    "debit_investment_products = ['Debit Cards']\n",
    "investment_products = ['Investment']\n",
    "insurance_services = ['Casco', 'MVNO', 'Mortgage Insurance']\n",
    "\n",
    "df['product'] = 'Другое'\n",
    "df.loc[df['product_cd'].isin(credit_products), 'product'] = 'Кредитная карта'\n",
    "df.loc[df['product_cd'].isin(loan_products), 'product'] = 'Кредит'\n",
    "df.loc[df['product_cd'].isin(debit_investment_products), 'product'] = 'Дебетовая карта'\n",
    "df.loc[df['product_cd'].isin(insurance_services), 'product'] = 'Страхование и услуги'\n",
    "df.loc[df['product_cd'].isin(investment_products), 'product'] = 'Инвестиции'\n",
    "df = df[~(df['product'] == 'Другое')]\n",
    "\n",
    "loan_products = ['Upsell', 'Cold', 'Downsell', 'Utilization', 'Reutilization', 'Prolongation', 'Refinancing', 'Preapprove', 'Autoleads', 'BAF']\n",
    "debit_investment_products = ['Afterfilling', 'Meeting', 'Incoming', 'Activation', 'Agreement']\n",
    "\n",
    "df['function'] = 'Другое'\n",
    "df.loc[df['functional_cd'].isin(loan_products), 'function'] = 'Продажи и предложения'"
   ],
   "outputs": [],
   "execution_count": 56
  },
  {
   "metadata": {
    "ExecuteTime": {
     "end_time": "2024-12-14T19:11:19.145742Z",
     "start_time": "2024-12-14T19:11:18.801133Z"
    }
   },
   "cell_type": "code",
   "source": "df.to_csv('data/data_preprocessed.csv', index=False)",
   "outputs": [],
   "execution_count": 57
  },
  {
   "metadata": {
    "ExecuteTime": {
     "end_time": "2024-12-14T18:18:30.459002Z",
     "start_time": "2024-12-14T18:18:30.455156Z"
    }
   },
   "cell_type": "code",
   "source": "",
   "outputs": [],
   "execution_count": null
  }
 ],
 "metadata": {
  "kernelspec": {
   "display_name": "Python 3",
   "language": "python",
   "name": "python3"
  },
  "language_info": {
   "codemirror_mode": {
    "name": "ipython",
    "version": 3
   },
   "file_extension": ".py",
   "mimetype": "text/x-python",
   "name": "python",
   "nbconvert_exporter": "python",
   "pygments_lexer": "ipython3",
   "version": "3.12.2"
  }
 },
 "nbformat": 4,
 "nbformat_minor": 2
}
