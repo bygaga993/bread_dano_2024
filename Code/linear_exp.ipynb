{
 "cells": [
  {
   "cell_type": "code",
   "execution_count": 90,
   "metadata": {},
   "outputs": [],
   "source": [
    "import pandas as pd\n",
    "import scipy.stats as stats\n",
    "import statsmodels.api as sm\n",
    "import seaborn as sns\n",
    "import matplotlib.pyplot as plt\n",
    "import numpy as np\n",
    "from sklearn.preprocessing import StandardScaler\n",
    "scaler = StandardScaler()"
   ]
  },
  {
   "cell_type": "code",
   "execution_count": 91,
   "metadata": {},
   "outputs": [
    {
     "name": "stderr",
     "output_type": "stream",
     "text": [
      "<>:1: SyntaxWarning: invalid escape sequence '\\d'\n",
      "<>:1: SyntaxWarning: invalid escape sequence '\\d'\n",
      "C:\\Users\\ASUS\\AppData\\Local\\Temp\\ipykernel_16508\\243172929.py:1: SyntaxWarning: invalid escape sequence '\\d'\n",
      "  df = pd.read_csv('data\\data_final_preprocessed.csv')\n"
     ]
    }
   ],
   "source": [
    "df = pd.read_csv('data\\data_final_preprocessed.csv')"
   ]
  },
  {
   "cell_type": "code",
   "execution_count": 92,
   "metadata": {},
   "outputs": [
    {
     "data": {
      "text/plain": [
       "(9517, 42)"
      ]
     },
     "execution_count": 92,
     "metadata": {},
     "output_type": "execute_result"
    }
   ],
   "source": [
    "df.shape"
   ]
  },
  {
   "cell_type": "code",
   "execution_count": 93,
   "metadata": {},
   "outputs": [
    {
     "data": {
      "text/html": [
       "<div>\n",
       "<style scoped>\n",
       "    .dataframe tbody tr th:only-of-type {\n",
       "        vertical-align: middle;\n",
       "    }\n",
       "\n",
       "    .dataframe tbody tr th {\n",
       "        vertical-align: top;\n",
       "    }\n",
       "\n",
       "    .dataframe thead th {\n",
       "        text-align: right;\n",
       "    }\n",
       "</style>\n",
       "<table border=\"1\" class=\"dataframe\">\n",
       "  <thead>\n",
       "    <tr style=\"text-align: right;\">\n",
       "      <th></th>\n",
       "      <th>pro_flg</th>\n",
       "      <th>success_flg</th>\n",
       "    </tr>\n",
       "  </thead>\n",
       "  <tbody>\n",
       "    <tr>\n",
       "      <th>0</th>\n",
       "      <td>0</td>\n",
       "      <td>0.127796</td>\n",
       "    </tr>\n",
       "    <tr>\n",
       "      <th>1</th>\n",
       "      <td>1</td>\n",
       "      <td>0.087504</td>\n",
       "    </tr>\n",
       "  </tbody>\n",
       "</table>\n",
       "</div>"
      ],
      "text/plain": [
       "   pro_flg  success_flg\n",
       "0        0     0.127796\n",
       "1        1     0.087504"
      ]
     },
     "execution_count": 93,
     "metadata": {},
     "output_type": "execute_result"
    }
   ],
   "source": [
    "df.groupby(\"pro_flg\")[\"success_flg\"].mean().reset_index()"
   ]
  },
  {
   "cell_type": "code",
   "execution_count": 94,
   "metadata": {},
   "outputs": [
    {
     "data": {
      "text/plain": [
       "pro_flg  success_flg\n",
       "0        0               6.0\n",
       "         1              12.0\n",
       "1        0               7.0\n",
       "         1              12.0\n",
       "Name: emp_work_months_cnt, dtype: float64"
      ]
     },
     "execution_count": 94,
     "metadata": {},
     "output_type": "execute_result"
    }
   ],
   "source": [
    "df.groupby([\"pro_flg\", \"success_flg\"])[\"emp_work_months_cnt\"].median()"
   ]
  },
  {
   "cell_type": "code",
   "execution_count": 95,
   "metadata": {},
   "outputs": [
    {
     "data": {
      "text/plain": [
       "customer_id                    0.0\n",
       "age                            0.0\n",
       "gender_cd                      0.0\n",
       "region_size                    0.0\n",
       "foreign_flg                    0.0\n",
       "entrepreneur_flg               0.0\n",
       "auto_flg                       0.0\n",
       "traveler_flg                   0.0\n",
       "partnership_flg                0.0\n",
       "child_amt                      0.0\n",
       "realty_type                    0.0\n",
       "segment_cd                     0.0\n",
       "bundle_nm                      0.0\n",
       "confirmed_income              89.9\n",
       "predicted_income              71.8\n",
       "product_cd                     0.0\n",
       "functional_cd                  0.0\n",
       "finish_dttm                    0.0\n",
       "state_talk_time_sec            0.0\n",
       "wo_hit_status_result_desc      0.0\n",
       "wo_hit_status_reason_desc      0.0\n",
       "employee_id                    0.0\n",
       "emp_age                        0.0\n",
       "emp_age_new                    0.0\n",
       "emp_gender_cd                 10.5\n",
       "emp_children_cnt              99.6\n",
       "emp_work_months_cnt            9.1\n",
       "emp_citizenship_country_cd    90.6\n",
       "emp_marital_status_cd         89.3\n",
       "success_flg                    0.0\n",
       "day_of_week                    0.0\n",
       "holiday_flg                    0.0\n",
       "product                        0.0\n",
       "function                       0.0\n",
       "auto_and_entrepreneur_flg      0.0\n",
       "region_category                0.0\n",
       "age_group                      0.0\n",
       "age_group_dummies              0.0\n",
       "age_difference                 0.0\n",
       "marital_status                 0.0\n",
       "work_experience_status         0.0\n",
       "pro_flg                        0.0\n",
       "dtype: float64"
      ]
     },
     "execution_count": 95,
     "metadata": {},
     "output_type": "execute_result"
    }
   ],
   "source": [
    "round((df.isna().sum() / len(df)) * 100, 1)"
   ]
  },
  {
   "cell_type": "code",
   "execution_count": 96,
   "metadata": {},
   "outputs": [],
   "source": [
    "df = df.dropna(subset=[\"emp_work_months_cnt\"])"
   ]
  },
  {
   "cell_type": "code",
   "execution_count": 97,
   "metadata": {},
   "outputs": [
    {
     "name": "stdout",
     "output_type": "stream",
     "text": [
      "Optimization terminated successfully.\n",
      "         Current function value: 0.342850\n",
      "         Iterations 6\n",
      "                           Logit Regression Results                           \n",
      "==============================================================================\n",
      "Dep. Variable:            success_flg   No. Observations:                 8647\n",
      "Model:                          Logit   Df Residuals:                     8645\n",
      "Method:                           MLE   Df Model:                            1\n",
      "Date:                Mon, 16 Dec 2024   Pseudo R-squ.:                 0.01798\n",
      "Time:                        22:45:42   Log-Likelihood:                -2964.6\n",
      "converged:                       True   LL-Null:                       -3018.9\n",
      "Covariance Type:            nonrobust   LLR p-value:                 2.055e-25\n",
      "=========================================================================================\n",
      "                            coef    std err          z      P>|z|      [0.025      0.975]\n",
      "-----------------------------------------------------------------------------------------\n",
      "const                    -2.1207      0.035    -59.942      0.000      -2.190      -2.051\n",
      "normalized_experience     0.3202      0.030     10.839      0.000       0.262       0.378\n",
      "=========================================================================================\n",
      "p_value = 2.2560614173344728e-27\n"
     ]
    }
   ],
   "source": [
    "scaler = StandardScaler()\n",
    "df['normalized_experience'] = scaler.fit_transform(df[['emp_work_months_cnt']])\n",
    "\n",
    "X = sm.add_constant(df['normalized_experience'])\n",
    "y = df['success_flg']\n",
    "\n",
    "model = sm.Logit(y, X)\n",
    "result = model.fit()\n",
    "\n",
    "print(result.summary())\n",
    "\n",
    "p_value = result.pvalues['normalized_experience']\n",
    "print(\"p_value =\", p_value)"
   ]
  },
  {
   "cell_type": "code",
   "execution_count": 98,
   "metadata": {},
   "outputs": [
    {
     "name": "stdout",
     "output_type": "stream",
     "text": [
      "\n",
      "Интерпретация коэффициентов:\n",
      "const: Коэффициент = -2.1207, Шансы = 0.1199\n",
      "normalized_experience: Коэффициент = 0.3202, Шансы = 1.3774\n"
     ]
    }
   ],
   "source": [
    "print(\"\\nИнтерпретация коэффициентов:\")\n",
    "for feature, coef in zip(result.params.index, result.params):\n",
    "    odds_ratio = np.exp(coef)\n",
    "    print(f\"{feature}: Коэффициент = {coef:.4f}, Шансы = {odds_ratio:.4f}\")"
   ]
  },
  {
   "cell_type": "code",
   "execution_count": 99,
   "metadata": {},
   "outputs": [
    {
     "name": "stdout",
     "output_type": "stream",
     "text": [
      "Optimization terminated successfully.\n",
      "         Current function value: 0.642023\n",
      "         Iterations 4\n",
      "                           Logit Regression Results                           \n",
      "==============================================================================\n",
      "Dep. Variable:                pro_flg   No. Observations:                 8647\n",
      "Model:                          Logit   Df Residuals:                     8645\n",
      "Method:                           MLE   Df Model:                            1\n",
      "Date:                Mon, 16 Dec 2024   Pseudo R-squ.:               9.402e-06\n",
      "Time:                        22:45:42   Log-Likelihood:                -5551.6\n",
      "converged:                       True   LL-Null:                       -5551.6\n",
      "Covariance Type:            nonrobust   LLR p-value:                    0.7466\n",
      "=========================================================================================\n",
      "                            coef    std err          z      P>|z|      [0.025      0.975]\n",
      "-----------------------------------------------------------------------------------------\n",
      "const                    -0.6566      0.023    -28.954      0.000      -0.701      -0.612\n",
      "normalized_experience     0.0073      0.023      0.323      0.746      -0.037       0.052\n",
      "=========================================================================================\n",
      "p_value = 0.7464777205338341\n"
     ]
    }
   ],
   "source": [
    "scaler = StandardScaler()\n",
    "df['normalized_experience'] = scaler.fit_transform(df[['emp_work_months_cnt']])\n",
    "\n",
    "X = sm.add_constant(df['normalized_experience'])\n",
    "y = df['pro_flg']\n",
    "\n",
    "model = sm.Logit(y, X)\n",
    "result = model.fit()\n",
    "\n",
    "print(result.summary())\n",
    "\n",
    "p_value = result.pvalues['normalized_experience']\n",
    "print(\"p_value =\", p_value)"
   ]
  },
  {
   "cell_type": "code",
   "execution_count": 100,
   "metadata": {},
   "outputs": [
    {
     "name": "stdout",
     "output_type": "stream",
     "text": [
      "\n",
      "Интерпретация коэффициентов:\n",
      "const: Коэффициент = -0.6566, Шансы = 0.5186\n",
      "normalized_experience: Коэффициент = 0.0073, Шансы = 1.0073\n"
     ]
    }
   ],
   "source": [
    "print(\"\\nИнтерпретация коэффициентов:\")\n",
    "for feature, coef in zip(result.params.index, result.params):\n",
    "    odds_ratio = np.exp(coef)\n",
    "    print(f\"{feature}: Коэффициент = {coef:.4f}, Шансы = {odds_ratio:.4f}\")"
   ]
  }
 ],
 "metadata": {
  "kernelspec": {
   "display_name": "Python 3",
   "language": "python",
   "name": "python3"
  },
  "language_info": {
   "codemirror_mode": {
    "name": "ipython",
    "version": 3
   },
   "file_extension": ".py",
   "mimetype": "text/x-python",
   "name": "python",
   "nbconvert_exporter": "python",
   "pygments_lexer": "ipython3",
   "version": "3.12.8"
  }
 },
 "nbformat": 4,
 "nbformat_minor": 2
}
