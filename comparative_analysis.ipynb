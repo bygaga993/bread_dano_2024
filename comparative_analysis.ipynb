{
 "cells": [
  {
   "cell_type": "code",
   "execution_count": 958,
   "metadata": {},
   "outputs": [],
   "source": [
    "import pandas as pd"
   ]
  },
  {
   "cell_type": "code",
   "execution_count": 959,
   "metadata": {},
   "outputs": [
    {
     "data": {
      "text/html": [
       "<div>\n",
       "<style scoped>\n",
       "    .dataframe tbody tr th:only-of-type {\n",
       "        vertical-align: middle;\n",
       "    }\n",
       "\n",
       "    .dataframe tbody tr th {\n",
       "        vertical-align: top;\n",
       "    }\n",
       "\n",
       "    .dataframe thead th {\n",
       "        text-align: right;\n",
       "    }\n",
       "</style>\n",
       "<table border=\"1\" class=\"dataframe\">\n",
       "  <thead>\n",
       "    <tr style=\"text-align: right;\">\n",
       "      <th></th>\n",
       "      <th>customer_id</th>\n",
       "      <th>age</th>\n",
       "      <th>gender_cd</th>\n",
       "      <th>region_size</th>\n",
       "      <th>foreign_flg</th>\n",
       "      <th>entrepreneur_flg</th>\n",
       "      <th>auto_flg</th>\n",
       "      <th>traveler_flg</th>\n",
       "      <th>partnership_flg</th>\n",
       "      <th>child_amt</th>\n",
       "      <th>...</th>\n",
       "      <th>employee_id</th>\n",
       "      <th>emp_age</th>\n",
       "      <th>emp_gender_cd</th>\n",
       "      <th>emp_children_cnt</th>\n",
       "      <th>emp_work_months_cnt</th>\n",
       "      <th>emp_citizenship_country_cd</th>\n",
       "      <th>emp_marital_status_cd</th>\n",
       "      <th>day_of_week</th>\n",
       "      <th>is_holiday</th>\n",
       "      <th>region_size_numeric</th>\n",
       "    </tr>\n",
       "  </thead>\n",
       "  <tbody>\n",
       "    <tr>\n",
       "      <th>0</th>\n",
       "      <td>422206773</td>\n",
       "      <td>58.0</td>\n",
       "      <td>0</td>\n",
       "      <td>No</td>\n",
       "      <td>NaN</td>\n",
       "      <td>NaN</td>\n",
       "      <td>NaN</td>\n",
       "      <td>NaN</td>\n",
       "      <td>NaN</td>\n",
       "      <td>NaN</td>\n",
       "      <td>...</td>\n",
       "      <td>142052.0</td>\n",
       "      <td>30</td>\n",
       "      <td>W</td>\n",
       "      <td>NaN</td>\n",
       "      <td>1</td>\n",
       "      <td>NaN</td>\n",
       "      <td>NaN</td>\n",
       "      <td>1</td>\n",
       "      <td>0</td>\n",
       "      <td>0</td>\n",
       "    </tr>\n",
       "    <tr>\n",
       "      <th>1</th>\n",
       "      <td>348648289</td>\n",
       "      <td>44.0</td>\n",
       "      <td>1</td>\n",
       "      <td>rural</td>\n",
       "      <td>0.0</td>\n",
       "      <td>0.0</td>\n",
       "      <td>0.0</td>\n",
       "      <td>0.0</td>\n",
       "      <td>1.0</td>\n",
       "      <td>1.0</td>\n",
       "      <td>...</td>\n",
       "      <td>7004.0</td>\n",
       "      <td>36</td>\n",
       "      <td>W</td>\n",
       "      <td>NaN</td>\n",
       "      <td>2</td>\n",
       "      <td>RUS</td>\n",
       "      <td>NaN</td>\n",
       "      <td>2</td>\n",
       "      <td>0</td>\n",
       "      <td>4</td>\n",
       "    </tr>\n",
       "    <tr>\n",
       "      <th>2</th>\n",
       "      <td>345496995</td>\n",
       "      <td>23.0</td>\n",
       "      <td>0</td>\n",
       "      <td>town</td>\n",
       "      <td>0.0</td>\n",
       "      <td>0.0</td>\n",
       "      <td>1.0</td>\n",
       "      <td>0.0</td>\n",
       "      <td>1.0</td>\n",
       "      <td>0.0</td>\n",
       "      <td>...</td>\n",
       "      <td>80760.0</td>\n",
       "      <td>52</td>\n",
       "      <td>W</td>\n",
       "      <td>NaN</td>\n",
       "      <td>6</td>\n",
       "      <td>NaN</td>\n",
       "      <td>NaN</td>\n",
       "      <td>4</td>\n",
       "      <td>0</td>\n",
       "      <td>1</td>\n",
       "    </tr>\n",
       "    <tr>\n",
       "      <th>3</th>\n",
       "      <td>182783192</td>\n",
       "      <td>34.0</td>\n",
       "      <td>1</td>\n",
       "      <td>town</td>\n",
       "      <td>0.0</td>\n",
       "      <td>0.0</td>\n",
       "      <td>0.0</td>\n",
       "      <td>0.0</td>\n",
       "      <td>0.0</td>\n",
       "      <td>0.0</td>\n",
       "      <td>...</td>\n",
       "      <td>158672.0</td>\n",
       "      <td>22</td>\n",
       "      <td>NaN</td>\n",
       "      <td>NaN</td>\n",
       "      <td>8</td>\n",
       "      <td>NaN</td>\n",
       "      <td>NaN</td>\n",
       "      <td>4</td>\n",
       "      <td>0</td>\n",
       "      <td>1</td>\n",
       "    </tr>\n",
       "    <tr>\n",
       "      <th>4</th>\n",
       "      <td>138498254</td>\n",
       "      <td>30.0</td>\n",
       "      <td>1</td>\n",
       "      <td>No</td>\n",
       "      <td>NaN</td>\n",
       "      <td>NaN</td>\n",
       "      <td>NaN</td>\n",
       "      <td>NaN</td>\n",
       "      <td>NaN</td>\n",
       "      <td>NaN</td>\n",
       "      <td>...</td>\n",
       "      <td>14462.0</td>\n",
       "      <td>51</td>\n",
       "      <td>W</td>\n",
       "      <td>NaN</td>\n",
       "      <td>7</td>\n",
       "      <td>NaN</td>\n",
       "      <td>NaN</td>\n",
       "      <td>0</td>\n",
       "      <td>0</td>\n",
       "      <td>0</td>\n",
       "    </tr>\n",
       "  </tbody>\n",
       "</table>\n",
       "<p>5 rows × 31 columns</p>\n",
       "</div>"
      ],
      "text/plain": [
       "   customer_id   age  gender_cd region_size  foreign_flg  entrepreneur_flg  \\\n",
       "0    422206773  58.0          0          No          NaN               NaN   \n",
       "1    348648289  44.0          1       rural          0.0               0.0   \n",
       "2    345496995  23.0          0        town          0.0               0.0   \n",
       "3    182783192  34.0          1        town          0.0               0.0   \n",
       "4    138498254  30.0          1          No          NaN               NaN   \n",
       "\n",
       "   auto_flg  traveler_flg  partnership_flg  child_amt  ... employee_id  \\\n",
       "0       NaN           NaN              NaN        NaN  ...    142052.0   \n",
       "1       0.0           0.0              1.0        1.0  ...      7004.0   \n",
       "2       1.0           0.0              1.0        0.0  ...     80760.0   \n",
       "3       0.0           0.0              0.0        0.0  ...    158672.0   \n",
       "4       NaN           NaN              NaN        NaN  ...     14462.0   \n",
       "\n",
       "  emp_age emp_gender_cd  emp_children_cnt  emp_work_months_cnt  \\\n",
       "0      30             W               NaN                    1   \n",
       "1      36             W               NaN                    2   \n",
       "2      52             W               NaN                    6   \n",
       "3      22           NaN               NaN                    8   \n",
       "4      51             W               NaN                    7   \n",
       "\n",
       "  emp_citizenship_country_cd emp_marital_status_cd day_of_week  is_holiday  \\\n",
       "0                        NaN                   NaN           1           0   \n",
       "1                        RUS                   NaN           2           0   \n",
       "2                        NaN                   NaN           4           0   \n",
       "3                        NaN                   NaN           4           0   \n",
       "4                        NaN                   NaN           0           0   \n",
       "\n",
       "  region_size_numeric  \n",
       "0                   0  \n",
       "1                   4  \n",
       "2                   1  \n",
       "3                   1  \n",
       "4                   0  \n",
       "\n",
       "[5 rows x 31 columns]"
      ]
     },
     "execution_count": 959,
     "metadata": {},
     "output_type": "execute_result"
    }
   ],
   "source": [
    "df = pd.read_csv(\"data_preprocessed.csv\")\n",
    "df.head()"
   ]
  },
  {
   "cell_type": "code",
   "execution_count": 960,
   "metadata": {},
   "outputs": [
    {
     "data": {
      "text/plain": [
       "(16379, 31)"
      ]
     },
     "execution_count": 960,
     "metadata": {},
     "output_type": "execute_result"
    }
   ],
   "source": [
    "df.shape"
   ]
  },
  {
   "cell_type": "code",
   "execution_count": 961,
   "metadata": {},
   "outputs": [],
   "source": [
    "df = df.dropna(subset=[\"state_talk_time_sec\"])"
   ]
  },
  {
   "cell_type": "code",
   "execution_count": 962,
   "metadata": {},
   "outputs": [
    {
     "data": {
      "text/plain": [
       "(16256, 31)"
      ]
     },
     "execution_count": 962,
     "metadata": {},
     "output_type": "execute_result"
    }
   ],
   "source": [
    "df.shape"
   ]
  },
  {
   "cell_type": "code",
   "execution_count": 963,
   "metadata": {},
   "outputs": [
    {
     "data": {
      "text/plain": [
       "0      Дозвон, Отказ\n",
       "1      Дозвон, Отказ\n",
       "2    Дозвон, Успешно\n",
       "3    Дозвон, Успешно\n",
       "4      Дозвон, Отказ\n",
       "Name: wo_hit_status_result_desc, dtype: object"
      ]
     },
     "execution_count": 963,
     "metadata": {},
     "output_type": "execute_result"
    }
   ],
   "source": [
    "df[\"wo_hit_status_result_desc\"].head()"
   ]
  },
  {
   "cell_type": "code",
   "execution_count": 964,
   "metadata": {},
   "outputs": [
    {
     "name": "stderr",
     "output_type": "stream",
     "text": [
      "C:\\Users\\ASUS\\AppData\\Local\\Temp\\ipykernel_21696\\310123056.py:1: FutureWarning: Downcasting behavior in `replace` is deprecated and will be removed in a future version. To retain the old behavior, explicitly call `result.infer_objects(copy=False)`. To opt-in to the future behavior, set `pd.set_option('future.no_silent_downcasting', True)`\n",
      "  df[\"approval_flag\"] = df[\"wo_hit_status_result_desc\"].replace({\"Дозвон, Отказ\": 0, \"Дозвон, Успешно\": 1})\n"
     ]
    },
    {
     "data": {
      "text/plain": [
       "0    0\n",
       "1    0\n",
       "2    1\n",
       "3    1\n",
       "4    0\n",
       "Name: approval_flag, dtype: int64"
      ]
     },
     "execution_count": 964,
     "metadata": {},
     "output_type": "execute_result"
    }
   ],
   "source": [
    "df[\"approval_flag\"] = df[\"wo_hit_status_result_desc\"].replace({\"Дозвон, Отказ\": 0, \"Дозвон, Успешно\": 1})\n",
    "df[\"approval_flag\"].head()"
   ]
  },
  {
   "cell_type": "code",
   "execution_count": 965,
   "metadata": {},
   "outputs": [
    {
     "data": {
      "text/plain": [
       "12209"
      ]
     },
     "execution_count": 965,
     "metadata": {},
     "output_type": "execute_result"
    }
   ],
   "source": [
    "df[\"bundle_nm\"].isna().sum()"
   ]
  },
  {
   "cell_type": "code",
   "execution_count": 966,
   "metadata": {},
   "outputs": [
    {
     "data": {
      "text/plain": [
       "bundle_nm\n",
       "Pro        3800\n",
       "Premium     246\n",
       "XXX           1\n",
       "Name: count, dtype: int64"
      ]
     },
     "execution_count": 966,
     "metadata": {},
     "output_type": "execute_result"
    }
   ],
   "source": [
    "df[\"bundle_nm\"].value_counts()"
   ]
  },
  {
   "cell_type": "code",
   "execution_count": 967,
   "metadata": {},
   "outputs": [
    {
     "name": "stderr",
     "output_type": "stream",
     "text": [
      "C:\\Users\\ASUS\\AppData\\Local\\Temp\\ipykernel_21696\\3617172054.py:4: FutureWarning: Downcasting behavior in `replace` is deprecated and will be removed in a future version. To retain the old behavior, explicitly call `result.infer_objects(copy=False)`. To opt-in to the future behavior, set `pd.set_option('future.no_silent_downcasting', True)`\n",
      "  df[\"bundle_nm\"] = df[\"bundle_nm\"].replace(\"Premium\", 1)\n"
     ]
    }
   ],
   "source": [
    "df[\"bundle_nm\"] = df[\"bundle_nm\"].replace(\"XXX\", 0)\n",
    "df[\"bundle_nm\"] = df[\"bundle_nm\"].fillna(0)\n",
    "df[\"bundle_nm\"] = df[\"bundle_nm\"].replace(\"Pro\", 1)\n",
    "df[\"bundle_nm\"] = df[\"bundle_nm\"].replace(\"Premium\", 1)"
   ]
  },
  {
   "cell_type": "code",
   "execution_count": 968,
   "metadata": {},
   "outputs": [
    {
     "data": {
      "text/plain": [
       "bundle_nm\n",
       "0    12210\n",
       "1     4046\n",
       "Name: count, dtype: int64"
      ]
     },
     "execution_count": 968,
     "metadata": {},
     "output_type": "execute_result"
    }
   ],
   "source": [
    "df[\"bundle_nm\"].value_counts()"
   ]
  },
  {
   "cell_type": "code",
   "execution_count": 969,
   "metadata": {},
   "outputs": [
    {
     "data": {
      "text/plain": [
       "approval_flag\n",
       "0    37.914701\n",
       "1    37.629812\n",
       "Name: age, dtype: float64"
      ]
     },
     "execution_count": 969,
     "metadata": {},
     "output_type": "execute_result"
    }
   ],
   "source": [
    "df.groupby(\"approval_flag\")[\"age\"].mean()"
   ]
  },
  {
   "cell_type": "code",
   "execution_count": 970,
   "metadata": {},
   "outputs": [
    {
     "data": {
      "text/plain": [
       "approval_flag\n",
       "0    0.526423\n",
       "1    0.576505\n",
       "Name: gender_cd, dtype: float64"
      ]
     },
     "execution_count": 970,
     "metadata": {},
     "output_type": "execute_result"
    }
   ],
   "source": [
    "df.groupby(\"approval_flag\")[\"gender_cd\"].mean()"
   ]
  },
  {
   "cell_type": "code",
   "execution_count": 971,
   "metadata": {},
   "outputs": [
    {
     "data": {
      "text/plain": [
       "approval_flag\n",
       "0    0.098032\n",
       "1    0.120928\n",
       "Name: is_holiday, dtype: float64"
      ]
     },
     "execution_count": 971,
     "metadata": {},
     "output_type": "execute_result"
    }
   ],
   "source": [
    "df.groupby(\"approval_flag\")[\"is_holiday\"].mean()"
   ]
  },
  {
   "cell_type": "code",
   "execution_count": 972,
   "metadata": {},
   "outputs": [
    {
     "data": {
      "text/plain": [
       "(16256, 32)"
      ]
     },
     "execution_count": 972,
     "metadata": {},
     "output_type": "execute_result"
    }
   ],
   "source": [
    "df.shape"
   ]
  },
  {
   "cell_type": "code",
   "execution_count": 973,
   "metadata": {},
   "outputs": [
    {
     "data": {
      "text/plain": [
       "approval_flag\n",
       "0    0.250668\n",
       "1    0.236426\n",
       "Name: bundle_nm, dtype: float64"
      ]
     },
     "execution_count": 973,
     "metadata": {},
     "output_type": "execute_result"
    }
   ],
   "source": [
    "df.groupby(\"approval_flag\")[\"bundle_nm\"].mean()"
   ]
  },
  {
   "cell_type": "code",
   "execution_count": 974,
   "metadata": {},
   "outputs": [
    {
     "data": {
      "text/plain": [
       "<Axes: xlabel='state_talk_time_sec', ylabel='Count'>"
      ]
     },
     "execution_count": 974,
     "metadata": {},
     "output_type": "execute_result"
    },
    {
     "data": {
      "image/png": "[encoded data removed]",
      "text/plain": [
       "<Figure size 640x480 with 1 Axes>"
      ]
     },
     "metadata": {},
     "output_type": "display_data"
    }
   ],
   "source": [
    "import seaborn as sns\n",
    "\n",
    "sns.histplot(df[\"state_talk_time_sec\"])"
   ]
  },
  {
   "cell_type": "code",
   "execution_count": 975,
   "metadata": {},
   "outputs": [
    {
     "data": {
      "text/plain": [
       "<Axes: ylabel='state_talk_time_sec'>"
      ]
     },
     "execution_count": 975,
     "metadata": {},
     "output_type": "execute_result"
    },
    {
     "data": {
      "image/png": "[encoded data removed]",
      "text/plain": [
       "<Figure size 640x480 with 1 Axes>"
      ]
     },
     "metadata": {},
     "output_type": "display_data"
    }
   ],
   "source": [
    "sns.boxplot(df[\"state_talk_time_sec\"])"
   ]
  },
  {
   "cell_type": "code",
   "execution_count": 976,
   "metadata": {},
   "outputs": [
    {
     "data": {
      "text/plain": [
       "206.5"
      ]
     },
     "execution_count": 976,
     "metadata": {},
     "output_type": "execute_result"
    }
   ],
   "source": [
    "IQR = df[\"state_talk_time_sec\"].quantile(0.75) - df[\"state_talk_time_sec\"].quantile(0.25)\n",
    "high = df[\"state_talk_time_sec\"].quantile(0.75) + IQR * 1.5\n",
    "high"
   ]
  },
  {
   "cell_type": "code",
   "execution_count": 977,
   "metadata": {},
   "outputs": [
    {
     "data": {
      "text/plain": [
       "approval_flag\n",
       "0     39.0\n",
       "1    175.0\n",
       "Name: state_talk_time_sec, dtype: float64"
      ]
     },
     "execution_count": 977,
     "metadata": {},
     "output_type": "execute_result"
    }
   ],
   "source": [
    "df.groupby(\"approval_flag\")[\"state_talk_time_sec\"].median()"
   ]
  },
  {
   "cell_type": "code",
   "execution_count": 978,
   "metadata": {},
   "outputs": [
    {
     "data": {
      "text/plain": [
       "approval_flag\n",
       "0    14230\n",
       "1     2026\n",
       "Name: count, dtype: int64"
      ]
     },
     "execution_count": 978,
     "metadata": {},
     "output_type": "execute_result"
    }
   ],
   "source": [
    "df[\"approval_flag\"].value_counts()"
   ]
  },
  {
   "cell_type": "code",
   "execution_count": 979,
   "metadata": {},
   "outputs": [
    {
     "data": {
      "text/plain": [
       "approval_flag\n",
       "1    846\n",
       "0    561\n",
       "Name: count, dtype: int64"
      ]
     },
     "execution_count": 979,
     "metadata": {},
     "output_type": "execute_result"
    }
   ],
   "source": [
    "df[df[\"state_talk_time_sec\"] > high][\"approval_flag\"].value_counts()"
   ]
  },
  {
   "cell_type": "code",
   "execution_count": 980,
   "metadata": {},
   "outputs": [
    {
     "data": {
      "text/plain": [
       "1407"
      ]
     },
     "execution_count": 980,
     "metadata": {},
     "output_type": "execute_result"
    }
   ],
   "source": [
    "df[df[\"state_talk_time_sec\"] > high][\"state_talk_time_sec\"].count()"
   ]
  },
  {
   "cell_type": "code",
   "execution_count": 981,
   "metadata": {},
   "outputs": [
    {
     "data": {
      "text/plain": [
       "14849"
      ]
     },
     "execution_count": 981,
     "metadata": {},
     "output_type": "execute_result"
    }
   ],
   "source": [
    "df[df[\"state_talk_time_sec\"] < high][\"state_talk_time_sec\"].count()"
   ]
  },
  {
   "cell_type": "markdown",
   "metadata": {},
   "source": [
    "Смотрим успешность подвыборок"
   ]
  },
  {
   "cell_type": "code",
   "execution_count": 982,
   "metadata": {},
   "outputs": [],
   "source": [
    "outliers = df[df[\"state_talk_time_sec\"] > high]"
   ]
  },
  {
   "cell_type": "code",
   "execution_count": 983,
   "metadata": {},
   "outputs": [
    {
     "data": {
      "text/plain": [
       "(0.6012793176972282, 0.07946663074954542)"
      ]
     },
     "execution_count": 983,
     "metadata": {},
     "output_type": "execute_result"
    }
   ],
   "source": [
    "success_rate_outliers = outliers[\"approval_flag\"].mean()  # Средняя успешность выбросов\n",
    "success_rate_normal = df[df[\"state_talk_time_sec\"] <= high][\"approval_flag\"].mean()\n",
    "success_rate_outliers, success_rate_normal"
   ]
  },
  {
   "cell_type": "code",
   "execution_count": 984,
   "metadata": {},
   "outputs": [
    {
     "data": {
      "text/plain": [
       "(True, 0.0)"
      ]
     },
     "execution_count": 984,
     "metadata": {},
     "output_type": "execute_result"
    }
   ],
   "source": [
    "from scipy.stats import ttest_ind\n",
    "\n",
    "normal_calls = df[df[\"state_talk_time_sec\"] <= high][\"approval_flag\"]\n",
    "outlier_calls = outliers[\"approval_flag\"]\n",
    "\n",
    "t_stat, p_value = ttest_ind(normal_calls, outlier_calls)\n",
    "\n",
    "p_value < 0.0000000001, p_value "
   ]
  },
  {
   "cell_type": "code",
   "execution_count": 985,
   "metadata": {},
   "outputs": [],
   "source": [
    "df[\"is_outlier\"] = df[\"state_talk_time_sec\"] > high"
   ]
  },
  {
   "cell_type": "code",
   "execution_count": 986,
   "metadata": {},
   "outputs": [
    {
     "data": {
      "text/plain": [
       "approval_flag\n",
       "0    0.039424\n",
       "1    0.417572\n",
       "Name: is_outlier, dtype: float64"
      ]
     },
     "execution_count": 986,
     "metadata": {},
     "output_type": "execute_result"
    }
   ],
   "source": [
    "df.groupby(\"approval_flag\")[\"is_outlier\"].mean()"
   ]
  },
  {
   "cell_type": "markdown",
   "metadata": {},
   "source": [
    "Чистим выбросы"
   ]
  },
  {
   "cell_type": "code",
   "execution_count": 987,
   "metadata": {},
   "outputs": [],
   "source": [
    "df = df[df[\"state_talk_time_sec\"] < high]"
   ]
  },
  {
   "cell_type": "code",
   "execution_count": 988,
   "metadata": {},
   "outputs": [
    {
     "data": {
      "text/plain": [
       "approval_flag\n",
       "0     51.207989\n",
       "1    117.594068\n",
       "Name: state_talk_time_sec, dtype: float64"
      ]
     },
     "execution_count": 988,
     "metadata": {},
     "output_type": "execute_result"
    }
   ],
   "source": [
    "df.groupby(\"approval_flag\")[\"state_talk_time_sec\"].mean()"
   ]
  },
  {
   "cell_type": "code",
   "execution_count": 989,
   "metadata": {},
   "outputs": [
    {
     "data": {
      "text/plain": [
       "approval_flag\n",
       "0    13669\n",
       "1     1180\n",
       "Name: count, dtype: int64"
      ]
     },
     "execution_count": 989,
     "metadata": {},
     "output_type": "execute_result"
    }
   ],
   "source": [
    "df[\"approval_flag\"].value_counts()"
   ]
  },
  {
   "cell_type": "code",
   "execution_count": 990,
   "metadata": {},
   "outputs": [],
   "source": [
    "# df = df.dropna(subset=[\"emp_gender_cd\"])"
   ]
  },
  {
   "cell_type": "code",
   "execution_count": 991,
   "metadata": {},
   "outputs": [],
   "source": [
    "# df[\"emp_gender_cd\"].value_counts()"
   ]
  },
  {
   "cell_type": "code",
   "execution_count": 992,
   "metadata": {},
   "outputs": [],
   "source": [
    "# df[\"emp_gender_cd\"] = df[\"emp_gender_cd\"].fillna(\"W\")"
   ]
  },
  {
   "cell_type": "code",
   "execution_count": 993,
   "metadata": {},
   "outputs": [],
   "source": [
    "# df[\"emp_gender_cd\"] = df[\"emp_gender_cd\"].replace({\"W\":0, \"M\":1})"
   ]
  },
  {
   "cell_type": "code",
   "execution_count": 994,
   "metadata": {},
   "outputs": [],
   "source": [
    "# df.groupby(\"approval_flag\")[\"emp_gender_cd\"].mean()"
   ]
  }
 ],
 "metadata": {
  "kernelspec": {
   "display_name": "Python 3",
   "language": "python",
   "name": "python3"
  },
  "language_info": {
   "codemirror_mode": {
    "name": "ipython",
    "version": 3
   },
   "file_extension": ".py",
   "mimetype": "text/x-python",
   "name": "python",
   "nbconvert_exporter": "python",
   "pygments_lexer": "ipython3",
   "version": "3.12.7"
  }
 },
 "nbformat": 4,
 "nbformat_minor": 2
}
