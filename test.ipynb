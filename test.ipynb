{
 "cells": [
  {
   "cell_type": "code",
   "execution_count": 638,
   "id": "initial_id",
   "metadata": {
    "ExecuteTime": {
     "end_time": "2024-12-11T20:55:51.865695Z",
     "start_time": "2024-12-11T20:55:51.856328Z"
    },
    "collapsed": true
   },
   "outputs": [],
   "source": [
    "import pandas as pd\n",
    "import scipy.stats as stats\n",
    "import statsmodels.api as sm\n",
    "import seaborn as sns\n",
    "import matplotlib.pyplot as plt\n",
    "from sklearn.preprocessing import StandardScaler\n",
    "scaler = StandardScaler()\n",
    "\n",
    "import warnings\n",
    "warnings.filterwarnings('ignore')"
   ]
  },
  {
   "cell_type": "code",
   "execution_count": 639,
   "id": "89b0309e",
   "metadata": {},
   "outputs": [],
   "source": [
    "df_orig = pd.read_csv('data/final.csv')"
   ]
  },
  {
   "cell_type": "code",
   "execution_count": 640,
   "id": "40e9d1b6",
   "metadata": {},
   "outputs": [
    {
     "data": {
      "text/plain": [
       "Unnamed: 0                     0.0\n",
       "customer_id                    0.0\n",
       "age                            1.0\n",
       "gender_cd                      1.4\n",
       "region_size                   39.0\n",
       "foreign_flg                   39.0\n",
       "entrepreneur_flg              39.0\n",
       "auto_flg                      39.0\n",
       "traveler_flg                  39.0\n",
       "partnership_flg               39.0\n",
       "child_amt                     39.0\n",
       "realty_type                   39.0\n",
       "segment_cd                    39.0\n",
       "bundle_nm                     74.8\n",
       "confirmed_income              92.5\n",
       "predicted_income              78.1\n",
       "product_cd                     0.0\n",
       "functional_cd                  0.0\n",
       "finish_dttm                    0.0\n",
       "state_talk_time_sec            0.8\n",
       "wo_hit_status_result_desc      0.0\n",
       "wo_hit_status_reason_desc      0.0\n",
       "employee_id                    0.0\n",
       "emp_age                        0.0\n",
       "emp_age_new                    0.0\n",
       "emp_gender_cd                 11.7\n",
       "emp_children_cnt              99.5\n",
       "emp_work_months_cnt            9.5\n",
       "emp_citizenship_country_cd    90.5\n",
       "emp_marital_status_cd         89.5\n",
       "dtype: float64"
      ]
     },
     "execution_count": 640,
     "metadata": {},
     "output_type": "execute_result"
    }
   ],
   "source": [
    "round((df_orig.isna().sum() / len(df_orig)) * 100, 1)"
   ]
  },
  {
   "cell_type": "code",
   "execution_count": 641,
   "id": "885e42b1c5160a2b",
   "metadata": {
    "ExecuteTime": {
     "end_time": "2024-12-11T20:55:52.113398Z",
     "start_time": "2024-12-11T20:55:52.013028Z"
    }
   },
   "outputs": [],
   "source": [
    "df = pd.read_csv('data\\data_final_preprocessed.csv')"
   ]
  },
  {
   "cell_type": "code",
   "execution_count": 642,
   "id": "7c037668",
   "metadata": {},
   "outputs": [
    {
     "data": {
      "image/png": "[encoded data removed]",
      "text/plain": [
       "<Figure size 500x800 with 1 Axes>"
      ]
     },
     "metadata": {},
     "output_type": "display_data"
    }
   ],
   "source": [
    "df_combined = pd.DataFrame({\n",
    "    'Original': df_orig['state_talk_time_sec'],\n",
    "    'Filtered': df['state_talk_time_sec']\n",
    "})\n",
    "\n",
    "# Создаем боксплот\n",
    "plt.figure(figsize=(5, 8))\n",
    "sns.boxplot(data=df_combined, color='#7C6AB2')\n",
    "\n",
    "# Убираем подписи осей\n",
    "plt.xlabel('')\n",
    "plt.ylabel('')\n",
    "\n",
    "# Показываем график\n",
    "plt.title('')\n",
    "plt.savefig('boxplot.png', bbox_inches='tight')\n",
    "plt.show()"
   ]
  },
  {
   "cell_type": "code",
   "execution_count": 643,
   "id": "c674c6c8",
   "metadata": {},
   "outputs": [
    {
     "data": {
      "text/plain": [
       "marital_status\n",
       "с партнером без детей    4964\n",
       "с партнером с детьми     2549\n",
       "одинокий                 1753\n",
       "одинокий с детьми         251\n",
       "Name: count, dtype: int64"
      ]
     },
     "execution_count": 643,
     "metadata": {},
     "output_type": "execute_result"
    }
   ],
   "source": [
    "df[\"marital_status\"].value_counts()"
   ]
  },
  {
   "cell_type": "code",
   "execution_count": 644,
   "id": "e69c2e8b",
   "metadata": {},
   "outputs": [
    {
     "data": {
      "text/plain": [
       "nan"
      ]
     },
     "execution_count": 644,
     "metadata": {},
     "output_type": "execute_result"
    }
   ],
   "source": [
    "portret_data = df[(df[\"gender_cd\"] == 1)&(df[\"auto_and_entrepreneur_flg\"] == 0)&(df[\"realty_type\"] ==\"Нет своего жилья\")&(df[\"marital_status\"].isin([\"одинокий с детьми\", \"с партнером с детьми\"]))]\n",
    "portret_data[\"success_flg\"].mean()"
   ]
  },
  {
   "cell_type": "code",
   "execution_count": 645,
   "id": "4b9b368e",
   "metadata": {},
   "outputs": [
    {
     "data": {
      "text/plain": [
       "(0, 42)"
      ]
     },
     "execution_count": 645,
     "metadata": {},
     "output_type": "execute_result"
    }
   ],
   "source": [
    "portret_data.shape"
   ]
  },
  {
   "cell_type": "code",
   "execution_count": 646,
   "id": "aecda4b8",
   "metadata": {},
   "outputs": [
    {
     "data": {
      "text/plain": [
       "nan"
      ]
     },
     "execution_count": 646,
     "metadata": {},
     "output_type": "execute_result"
    }
   ],
   "source": [
    "portret_data = df[(df[\"gender_cd\"] == 1)&(df[\"auto_flg\"] == 0)&(df[\"realty_type\"] == \"Нет своего жилья\")&(df[\"marital_status\"].isin([\"одинокий с детьми\"]))]\n",
    "portret_data[\"success_flg\"].mean()"
   ]
  },
  {
   "cell_type": "code",
   "execution_count": 647,
   "id": "41c5bc36",
   "metadata": {},
   "outputs": [
    {
     "data": {
      "text/plain": [
       "(0, 42)"
      ]
     },
     "execution_count": 647,
     "metadata": {},
     "output_type": "execute_result"
    }
   ],
   "source": [
    "portret_data.shape"
   ]
  },
  {
   "cell_type": "code",
   "execution_count": 648,
   "id": "d61f0f1b",
   "metadata": {},
   "outputs": [
    {
     "data": {
      "text/plain": [
       "nan"
      ]
     },
     "execution_count": 648,
     "metadata": {},
     "output_type": "execute_result"
    }
   ],
   "source": [
    "portret_data = df[(df[\"gender_cd\"] == 1)&(df[\"auto_flg\"] == 0)&(df[\"realty_type\"] == \"Нет своего жилья\")&(df[\"pro_flg\"] == 0)]\n",
    "portret_data[\"success_flg\"].mean()"
   ]
  },
  {
   "cell_type": "code",
   "execution_count": 649,
   "id": "91fc0a97",
   "metadata": {},
   "outputs": [
    {
     "data": {
      "text/plain": [
       "(0, 42)"
      ]
     },
     "execution_count": 649,
     "metadata": {},
     "output_type": "execute_result"
    }
   ],
   "source": [
    "portret_data.shape"
   ]
  },
  {
   "cell_type": "code",
   "execution_count": 650,
   "id": "aeb806f5",
   "metadata": {},
   "outputs": [
    {
     "data": {
      "text/html": [
       "<div>\n",
       "<style scoped>\n",
       "    .dataframe tbody tr th:only-of-type {\n",
       "        vertical-align: middle;\n",
       "    }\n",
       "\n",
       "    .dataframe tbody tr th {\n",
       "        vertical-align: top;\n",
       "    }\n",
       "\n",
       "    .dataframe thead th {\n",
       "        text-align: right;\n",
       "    }\n",
       "</style>\n",
       "<table border=\"1\" class=\"dataframe\">\n",
       "  <thead>\n",
       "    <tr style=\"text-align: right;\">\n",
       "      <th></th>\n",
       "      <th>product</th>\n",
       "      <th>pro_flg</th>\n",
       "      <th>success_flg</th>\n",
       "      <th>count</th>\n",
       "    </tr>\n",
       "  </thead>\n",
       "  <tbody>\n",
       "    <tr>\n",
       "      <th>0</th>\n",
       "      <td>Дебетовая карта</td>\n",
       "      <td>0</td>\n",
       "      <td>1</td>\n",
       "      <td>243</td>\n",
       "    </tr>\n",
       "    <tr>\n",
       "      <th>1</th>\n",
       "      <td>Дебетовая карта</td>\n",
       "      <td>0</td>\n",
       "      <td>0</td>\n",
       "      <td>227</td>\n",
       "    </tr>\n",
       "    <tr>\n",
       "      <th>2</th>\n",
       "      <td>Дебетовая карта</td>\n",
       "      <td>1</td>\n",
       "      <td>1</td>\n",
       "      <td>52</td>\n",
       "    </tr>\n",
       "    <tr>\n",
       "      <th>3</th>\n",
       "      <td>Дебетовая карта</td>\n",
       "      <td>1</td>\n",
       "      <td>0</td>\n",
       "      <td>49</td>\n",
       "    </tr>\n",
       "    <tr>\n",
       "      <th>4</th>\n",
       "      <td>Инвестиции</td>\n",
       "      <td>0</td>\n",
       "      <td>0</td>\n",
       "      <td>313</td>\n",
       "    </tr>\n",
       "    <tr>\n",
       "      <th>5</th>\n",
       "      <td>Инвестиции</td>\n",
       "      <td>0</td>\n",
       "      <td>1</td>\n",
       "      <td>19</td>\n",
       "    </tr>\n",
       "    <tr>\n",
       "      <th>6</th>\n",
       "      <td>Инвестиции</td>\n",
       "      <td>1</td>\n",
       "      <td>0</td>\n",
       "      <td>221</td>\n",
       "    </tr>\n",
       "    <tr>\n",
       "      <th>7</th>\n",
       "      <td>Инвестиции</td>\n",
       "      <td>1</td>\n",
       "      <td>1</td>\n",
       "      <td>4</td>\n",
       "    </tr>\n",
       "    <tr>\n",
       "      <th>8</th>\n",
       "      <td>Кредит</td>\n",
       "      <td>0</td>\n",
       "      <td>0</td>\n",
       "      <td>1143</td>\n",
       "    </tr>\n",
       "    <tr>\n",
       "      <th>9</th>\n",
       "      <td>Кредит</td>\n",
       "      <td>0</td>\n",
       "      <td>1</td>\n",
       "      <td>117</td>\n",
       "    </tr>\n",
       "    <tr>\n",
       "      <th>10</th>\n",
       "      <td>Кредит</td>\n",
       "      <td>1</td>\n",
       "      <td>0</td>\n",
       "      <td>885</td>\n",
       "    </tr>\n",
       "    <tr>\n",
       "      <th>11</th>\n",
       "      <td>Кредит</td>\n",
       "      <td>1</td>\n",
       "      <td>1</td>\n",
       "      <td>50</td>\n",
       "    </tr>\n",
       "    <tr>\n",
       "      <th>12</th>\n",
       "      <td>Кредитная карта</td>\n",
       "      <td>0</td>\n",
       "      <td>0</td>\n",
       "      <td>2988</td>\n",
       "    </tr>\n",
       "    <tr>\n",
       "      <th>13</th>\n",
       "      <td>Кредитная карта</td>\n",
       "      <td>0</td>\n",
       "      <td>1</td>\n",
       "      <td>314</td>\n",
       "    </tr>\n",
       "    <tr>\n",
       "      <th>14</th>\n",
       "      <td>Кредитная карта</td>\n",
       "      <td>1</td>\n",
       "      <td>0</td>\n",
       "      <td>1226</td>\n",
       "    </tr>\n",
       "    <tr>\n",
       "      <th>15</th>\n",
       "      <td>Кредитная карта</td>\n",
       "      <td>1</td>\n",
       "      <td>1</td>\n",
       "      <td>95</td>\n",
       "    </tr>\n",
       "    <tr>\n",
       "      <th>16</th>\n",
       "      <td>Страхование и услуги</td>\n",
       "      <td>0</td>\n",
       "      <td>0</td>\n",
       "      <td>789</td>\n",
       "    </tr>\n",
       "    <tr>\n",
       "      <th>17</th>\n",
       "      <td>Страхование и услуги</td>\n",
       "      <td>0</td>\n",
       "      <td>1</td>\n",
       "      <td>107</td>\n",
       "    </tr>\n",
       "    <tr>\n",
       "      <th>18</th>\n",
       "      <td>Страхование и услуги</td>\n",
       "      <td>1</td>\n",
       "      <td>0</td>\n",
       "      <td>591</td>\n",
       "    </tr>\n",
       "    <tr>\n",
       "      <th>19</th>\n",
       "      <td>Страхование и услуги</td>\n",
       "      <td>1</td>\n",
       "      <td>1</td>\n",
       "      <td>84</td>\n",
       "    </tr>\n",
       "  </tbody>\n",
       "</table>\n",
       "</div>"
      ],
      "text/plain": [
       "                 product  pro_flg  success_flg  count\n",
       "0        Дебетовая карта        0            1    243\n",
       "1        Дебетовая карта        0            0    227\n",
       "2        Дебетовая карта        1            1     52\n",
       "3        Дебетовая карта        1            0     49\n",
       "4             Инвестиции        0            0    313\n",
       "5             Инвестиции        0            1     19\n",
       "6             Инвестиции        1            0    221\n",
       "7             Инвестиции        1            1      4\n",
       "8                 Кредит        0            0   1143\n",
       "9                 Кредит        0            1    117\n",
       "10                Кредит        1            0    885\n",
       "11                Кредит        1            1     50\n",
       "12       Кредитная карта        0            0   2988\n",
       "13       Кредитная карта        0            1    314\n",
       "14       Кредитная карта        1            0   1226\n",
       "15       Кредитная карта        1            1     95\n",
       "16  Страхование и услуги        0            0    789\n",
       "17  Страхование и услуги        0            1    107\n",
       "18  Страхование и услуги        1            0    591\n",
       "19  Страхование и услуги        1            1     84"
      ]
     },
     "execution_count": 650,
     "metadata": {},
     "output_type": "execute_result"
    }
   ],
   "source": [
    "df.groupby([\"product\", \"pro_flg\"])[\"success_flg\"].value_counts().reset_index()"
   ]
  },
  {
   "cell_type": "code",
   "execution_count": 651,
   "id": "b3ca8123",
   "metadata": {},
   "outputs": [
    {
     "data": {
      "text/plain": [
       "(9517, 42)"
      ]
     },
     "execution_count": 651,
     "metadata": {},
     "output_type": "execute_result"
    }
   ],
   "source": [
    "df.shape"
   ]
  },
  {
   "cell_type": "code",
   "execution_count": 652,
   "id": "edae21b1",
   "metadata": {},
   "outputs": [
    {
     "data": {
      "text/plain": [
       "foreign_flg\n",
       "0.0    9443\n",
       "1.0      74\n",
       "Name: count, dtype: int64"
      ]
     },
     "execution_count": 652,
     "metadata": {},
     "output_type": "execute_result"
    }
   ],
   "source": [
    "df[\"foreign_flg\"].value_counts()"
   ]
  },
  {
   "cell_type": "code",
   "execution_count": 653,
   "id": "c155e2f9",
   "metadata": {},
   "outputs": [
    {
     "data": {
      "text/plain": [
       "customer_id                      0\n",
       "age                              0\n",
       "gender_cd                        0\n",
       "region_size                      0\n",
       "foreign_flg                      0\n",
       "entrepreneur_flg                 0\n",
       "auto_flg                         0\n",
       "traveler_flg                     0\n",
       "partnership_flg                  0\n",
       "child_amt                        0\n",
       "realty_type                      0\n",
       "segment_cd                       0\n",
       "bundle_nm                        0\n",
       "confirmed_income              8553\n",
       "predicted_income              6836\n",
       "product_cd                       0\n",
       "functional_cd                    0\n",
       "finish_dttm                      0\n",
       "state_talk_time_sec              0\n",
       "wo_hit_status_result_desc        0\n",
       "wo_hit_status_reason_desc        0\n",
       "employee_id                      0\n",
       "emp_age                          0\n",
       "emp_age_new                      0\n",
       "emp_gender_cd                 1002\n",
       "emp_children_cnt              9478\n",
       "emp_work_months_cnt            870\n",
       "emp_citizenship_country_cd    8618\n",
       "emp_marital_status_cd         8494\n",
       "success_flg                      0\n",
       "day_of_week                      0\n",
       "holiday_flg                      0\n",
       "product                          0\n",
       "function                         0\n",
       "auto_and_entrepreneur_flg        0\n",
       "region_category                  0\n",
       "age_group                        0\n",
       "age_group_dummies                0\n",
       "age_difference                   0\n",
       "marital_status                   0\n",
       "work_experience_status           0\n",
       "pro_flg                          0\n",
       "dtype: int64"
      ]
     },
     "execution_count": 653,
     "metadata": {},
     "output_type": "execute_result"
    }
   ],
   "source": [
    "df.isna().sum()"
   ]
  },
  {
   "cell_type": "code",
   "execution_count": 654,
   "id": "7623a9c0",
   "metadata": {},
   "outputs": [
    {
     "data": {
      "text/plain": [
       "region_category\n",
       "1    8604\n",
       "0     913\n",
       "Name: count, dtype: int64"
      ]
     },
     "execution_count": 654,
     "metadata": {},
     "output_type": "execute_result"
    }
   ],
   "source": [
    "df['region_category'].value_counts()"
   ]
  },
  {
   "cell_type": "code",
   "execution_count": 655,
   "id": "59e8d92d",
   "metadata": {},
   "outputs": [
    {
     "ename": "KeyError",
     "evalue": "'auto_and_entrepreneur'",
     "output_type": "error",
     "traceback": [
      "\u001b[1;31m---------------------------------------------------------------------------\u001b[0m",
      "\u001b[1;31mKeyError\u001b[0m                                  Traceback (most recent call last)",
      "File \u001b[1;32m~\\AppData\\Local\\Packages\\PythonSoftwareFoundation.Python.3.12_qbz5n2kfra8p0\\LocalCache\\local-packages\\Python312\\site-packages\\pandas\\core\\indexes\\base.py:3805\u001b[0m, in \u001b[0;36mIndex.get_loc\u001b[1;34m(self, key)\u001b[0m\n\u001b[0;32m   3804\u001b[0m \u001b[38;5;28;01mtry\u001b[39;00m:\n\u001b[1;32m-> 3805\u001b[0m     \u001b[38;5;28;01mreturn\u001b[39;00m \u001b[38;5;28;43mself\u001b[39;49m\u001b[38;5;241;43m.\u001b[39;49m\u001b[43m_engine\u001b[49m\u001b[38;5;241;43m.\u001b[39;49m\u001b[43mget_loc\u001b[49m\u001b[43m(\u001b[49m\u001b[43mcasted_key\u001b[49m\u001b[43m)\u001b[49m\n\u001b[0;32m   3806\u001b[0m \u001b[38;5;28;01mexcept\u001b[39;00m \u001b[38;5;167;01mKeyError\u001b[39;00m \u001b[38;5;28;01mas\u001b[39;00m err:\n",
      "File \u001b[1;32mindex.pyx:167\u001b[0m, in \u001b[0;36mpandas._libs.index.IndexEngine.get_loc\u001b[1;34m()\u001b[0m\n",
      "File \u001b[1;32mindex.pyx:196\u001b[0m, in \u001b[0;36mpandas._libs.index.IndexEngine.get_loc\u001b[1;34m()\u001b[0m\n",
      "File \u001b[1;32mpandas\\\\_libs\\\\hashtable_class_helper.pxi:7081\u001b[0m, in \u001b[0;36mpandas._libs.hashtable.PyObjectHashTable.get_item\u001b[1;34m()\u001b[0m\n",
      "File \u001b[1;32mpandas\\\\_libs\\\\hashtable_class_helper.pxi:7089\u001b[0m, in \u001b[0;36mpandas._libs.hashtable.PyObjectHashTable.get_item\u001b[1;34m()\u001b[0m\n",
      "\u001b[1;31mKeyError\u001b[0m: 'auto_and_entrepreneur'",
      "\nThe above exception was the direct cause of the following exception:\n",
      "\u001b[1;31mKeyError\u001b[0m                                  Traceback (most recent call last)",
      "Cell \u001b[1;32mIn[655], line 1\u001b[0m\n\u001b[1;32m----> 1\u001b[0m \u001b[43mdf\u001b[49m\u001b[43m[\u001b[49m\u001b[38;5;124;43m'\u001b[39;49m\u001b[38;5;124;43mauto_and_entrepreneur\u001b[39;49m\u001b[38;5;124;43m'\u001b[39;49m\u001b[43m]\u001b[49m\u001b[38;5;241m.\u001b[39mvalue_counts()\n",
      "File \u001b[1;32m~\\AppData\\Local\\Packages\\PythonSoftwareFoundation.Python.3.12_qbz5n2kfra8p0\\LocalCache\\local-packages\\Python312\\site-packages\\pandas\\core\\frame.py:4102\u001b[0m, in \u001b[0;36mDataFrame.__getitem__\u001b[1;34m(self, key)\u001b[0m\n\u001b[0;32m   4100\u001b[0m \u001b[38;5;28;01mif\u001b[39;00m \u001b[38;5;28mself\u001b[39m\u001b[38;5;241m.\u001b[39mcolumns\u001b[38;5;241m.\u001b[39mnlevels \u001b[38;5;241m>\u001b[39m \u001b[38;5;241m1\u001b[39m:\n\u001b[0;32m   4101\u001b[0m     \u001b[38;5;28;01mreturn\u001b[39;00m \u001b[38;5;28mself\u001b[39m\u001b[38;5;241m.\u001b[39m_getitem_multilevel(key)\n\u001b[1;32m-> 4102\u001b[0m indexer \u001b[38;5;241m=\u001b[39m \u001b[38;5;28;43mself\u001b[39;49m\u001b[38;5;241;43m.\u001b[39;49m\u001b[43mcolumns\u001b[49m\u001b[38;5;241;43m.\u001b[39;49m\u001b[43mget_loc\u001b[49m\u001b[43m(\u001b[49m\u001b[43mkey\u001b[49m\u001b[43m)\u001b[49m\n\u001b[0;32m   4103\u001b[0m \u001b[38;5;28;01mif\u001b[39;00m is_integer(indexer):\n\u001b[0;32m   4104\u001b[0m     indexer \u001b[38;5;241m=\u001b[39m [indexer]\n",
      "File \u001b[1;32m~\\AppData\\Local\\Packages\\PythonSoftwareFoundation.Python.3.12_qbz5n2kfra8p0\\LocalCache\\local-packages\\Python312\\site-packages\\pandas\\core\\indexes\\base.py:3812\u001b[0m, in \u001b[0;36mIndex.get_loc\u001b[1;34m(self, key)\u001b[0m\n\u001b[0;32m   3807\u001b[0m     \u001b[38;5;28;01mif\u001b[39;00m \u001b[38;5;28misinstance\u001b[39m(casted_key, \u001b[38;5;28mslice\u001b[39m) \u001b[38;5;129;01mor\u001b[39;00m (\n\u001b[0;32m   3808\u001b[0m         \u001b[38;5;28misinstance\u001b[39m(casted_key, abc\u001b[38;5;241m.\u001b[39mIterable)\n\u001b[0;32m   3809\u001b[0m         \u001b[38;5;129;01mand\u001b[39;00m \u001b[38;5;28many\u001b[39m(\u001b[38;5;28misinstance\u001b[39m(x, \u001b[38;5;28mslice\u001b[39m) \u001b[38;5;28;01mfor\u001b[39;00m x \u001b[38;5;129;01min\u001b[39;00m casted_key)\n\u001b[0;32m   3810\u001b[0m     ):\n\u001b[0;32m   3811\u001b[0m         \u001b[38;5;28;01mraise\u001b[39;00m InvalidIndexError(key)\n\u001b[1;32m-> 3812\u001b[0m     \u001b[38;5;28;01mraise\u001b[39;00m \u001b[38;5;167;01mKeyError\u001b[39;00m(key) \u001b[38;5;28;01mfrom\u001b[39;00m \u001b[38;5;21;01merr\u001b[39;00m\n\u001b[0;32m   3813\u001b[0m \u001b[38;5;28;01mexcept\u001b[39;00m \u001b[38;5;167;01mTypeError\u001b[39;00m:\n\u001b[0;32m   3814\u001b[0m     \u001b[38;5;66;03m# If we have a listlike key, _check_indexing_error will raise\u001b[39;00m\n\u001b[0;32m   3815\u001b[0m     \u001b[38;5;66;03m#  InvalidIndexError. Otherwise we fall through and re-raise\u001b[39;00m\n\u001b[0;32m   3816\u001b[0m     \u001b[38;5;66;03m#  the TypeError.\u001b[39;00m\n\u001b[0;32m   3817\u001b[0m     \u001b[38;5;28mself\u001b[39m\u001b[38;5;241m.\u001b[39m_check_indexing_error(key)\n",
      "\u001b[1;31mKeyError\u001b[0m: 'auto_and_entrepreneur'"
     ]
    }
   ],
   "source": [
    "df['auto_and_entrepreneur'].value_counts()"
   ]
  },
  {
   "cell_type": "code",
   "execution_count": null,
   "id": "81d68816",
   "metadata": {},
   "outputs": [
    {
     "data": {
      "text/plain": [
       "0"
      ]
     },
     "execution_count": 137,
     "metadata": {},
     "output_type": "execute_result"
    }
   ],
   "source": [
    "df['auto_and_entrepreneur'].isna().sum()"
   ]
  },
  {
   "cell_type": "code",
   "execution_count": null,
   "id": "4a0a07b9",
   "metadata": {},
   "outputs": [
    {
     "data": {
      "text/plain": [
       "<Axes: xlabel='age_group', ylabel='Count'>"
      ]
     },
     "execution_count": 138,
     "metadata": {},
     "output_type": "execute_result"
    },
    {
     "data": {
      "image/png": "[encoded data removed]",
      "text/plain": [
       "<Figure size 640x480 with 1 Axes>"
      ]
     },
     "metadata": {},
     "output_type": "display_data"
    }
   ],
   "source": [
    "sns.histplot(df['age_group'])"
   ]
  },
  {
   "cell_type": "code",
   "execution_count": null,
   "id": "d42c4c10",
   "metadata": {},
   "outputs": [
    {
     "data": {
      "text/plain": [
       "0"
      ]
     },
     "execution_count": 139,
     "metadata": {},
     "output_type": "execute_result"
    }
   ],
   "source": [
    "df['marital_status'].isna().sum()"
   ]
  },
  {
   "cell_type": "code",
   "execution_count": null,
   "id": "dc250515",
   "metadata": {},
   "outputs": [
    {
     "data": {
      "text/plain": [
       "product\n",
       "Дебетовая карта         35.228021\n",
       "Инвестиции              36.261181\n",
       "Кредит                  36.380866\n",
       "Кредитная карта         36.747894\n",
       "Страхование и услуги    37.431298\n",
       "Name: age, dtype: float64"
      ]
     },
     "execution_count": 140,
     "metadata": {},
     "output_type": "execute_result"
    }
   ],
   "source": [
    "df.groupby(\"product\")[\"age\"].mean()"
   ]
  },
  {
   "cell_type": "code",
   "execution_count": null,
   "id": "ab7893a7",
   "metadata": {},
   "outputs": [
    {
     "name": "stdout",
     "output_type": "stream",
     "text": [
      "Contingency Table:\n",
      "success_flg     0    1\n",
      "pro_flg               \n",
      "0            5466  800\n",
      "1            2975  285\n",
      "\n",
      "Chi-Square Test Results:\n",
      "P-value: 2.5182537071978957e-09\n",
      "0.6545420168067226\n"
     ]
    }
   ],
   "source": [
    "import pandas as pd\n",
    "from scipy.stats import fisher_exact\n",
    "from sklearn.metrics import accuracy_score, precision_score, recall_score, f1_score\n",
    "\n",
    "\n",
    "# Создаем таблицу сопряженности\n",
    "contingency_table = pd.crosstab(df['pro_flg'], df['success_flg'])\n",
    "print(\"Contingency Table:\")\n",
    "print(contingency_table)\n",
    "\n",
    "# Выполняем хи-квадрат тест\n",
    "stat, p_value = fisher_exact(contingency_table)\n",
    "\n",
    "# Вывод результатов хи-квадрат теста\n",
    "print(\"\\nChi-Square Test Results:\")\n",
    "print(f\"P-value: {p_value}\")\n",
    "print(stat)"
   ]
  },
  {
   "cell_type": "code",
   "execution_count": null,
   "id": "5582df6f",
   "metadata": {},
   "outputs": [
    {
     "data": {
      "text/html": [
       "<div>\n",
       "<style scoped>\n",
       "    .dataframe tbody tr th:only-of-type {\n",
       "        vertical-align: middle;\n",
       "    }\n",
       "\n",
       "    .dataframe tbody tr th {\n",
       "        vertical-align: top;\n",
       "    }\n",
       "\n",
       "    .dataframe thead th {\n",
       "        text-align: right;\n",
       "    }\n",
       "</style>\n",
       "<table border=\"1\" class=\"dataframe\">\n",
       "  <thead>\n",
       "    <tr style=\"text-align: right;\">\n",
       "      <th></th>\n",
       "      <th>product</th>\n",
       "      <th>test</th>\n",
       "      <th>p_value</th>\n",
       "      <th>significant</th>\n",
       "    </tr>\n",
       "  </thead>\n",
       "  <tbody>\n",
       "    <tr>\n",
       "      <th>0</th>\n",
       "      <td>Дебетовая карта</td>\n",
       "      <td>Chi2</td>\n",
       "      <td>1.000000</td>\n",
       "      <td>False</td>\n",
       "    </tr>\n",
       "    <tr>\n",
       "      <th>1</th>\n",
       "      <td>Инвестиции</td>\n",
       "      <td>Fisher</td>\n",
       "      <td>0.028215</td>\n",
       "      <td>True</td>\n",
       "    </tr>\n",
       "    <tr>\n",
       "      <th>2</th>\n",
       "      <td>Кредит</td>\n",
       "      <td>Chi2</td>\n",
       "      <td>0.000780</td>\n",
       "      <td>True</td>\n",
       "    </tr>\n",
       "    <tr>\n",
       "      <th>3</th>\n",
       "      <td>Кредитная карта</td>\n",
       "      <td>Chi2</td>\n",
       "      <td>0.014190</td>\n",
       "      <td>True</td>\n",
       "    </tr>\n",
       "    <tr>\n",
       "      <th>4</th>\n",
       "      <td>Страхование и услуги</td>\n",
       "      <td>Chi2</td>\n",
       "      <td>0.831428</td>\n",
       "      <td>False</td>\n",
       "    </tr>\n",
       "  </tbody>\n",
       "</table>\n",
       "</div>"
      ],
      "text/plain": [
       "                product    test   p_value  significant\n",
       "0       Дебетовая карта    Chi2  1.000000        False\n",
       "1            Инвестиции  Fisher  0.028215         True\n",
       "2                Кредит    Chi2  0.000780         True\n",
       "3       Кредитная карта    Chi2  0.014190         True\n",
       "4  Страхование и услуги    Chi2  0.831428        False"
      ]
     },
     "execution_count": 142,
     "metadata": {},
     "output_type": "execute_result"
    }
   ],
   "source": [
    "results = []\n",
    "\n",
    "# Группировка данных по продуктам\n",
    "for product, group in df.groupby('product'):\n",
    "    contingency_table = pd.crosstab(group['bundle_nm'], group['success_flg'])\n",
    "\n",
    "    # Проверка, достаточно ли данных для проведения теста\n",
    "    if contingency_table.shape[0] < 2 or contingency_table.shape[1] < 2:\n",
    "        # Если данных недостаточно, добавляем результат с указанием на отсутствие данных\n",
    "        results.append({\n",
    "            'product': product,\n",
    "            'test': 'Нет данных',\n",
    "            'p_value': None,\n",
    "            'significant': None\n",
    "        })\n",
    "        continue\n",
    "\n",
    "    # Проверка на минимальное значение в контингентной таблице\n",
    "    if contingency_table.values.min() < 5:\n",
    "        # Если минимальное значение меньше 5, используем тест Фишера\n",
    "        stat, p_value = stats.fisher_exact(contingency_table, alternative='two-sided')\n",
    "        test_type = 'Fisher'  # Указываем тип теста\n",
    "    else:\n",
    "        # В противном случае используем критерий хи-квадрат\n",
    "        stat, p_value, _, _ = stats.chi2_contingency(contingency_table)\n",
    "        test_type = 'Chi2'  # Указываем тип теста\n",
    "\n",
    "    # Добавление результатов теста в список\n",
    "    results.append({\n",
    "        'product': product,\n",
    "        'test': test_type,\n",
    "        'p_value': p_value,\n",
    "        'significant': p_value < 0.05  # Определяем, является ли результат статистически значимым\n",
    "    })\n",
    "\n",
    "results_df = pd.DataFrame(results)\n",
    "\n",
    "results_df"
   ]
  },
  {
   "cell_type": "code",
   "execution_count": null,
   "id": "6ec82b5d",
   "metadata": {},
   "outputs": [
    {
     "data": {
      "text/plain": [
       "functional_cd\n",
       "Utilization    197\n",
       "Cold            66\n",
       "BAF             23\n",
       "Name: count, dtype: int64"
      ]
     },
     "execution_count": 143,
     "metadata": {},
     "output_type": "execute_result"
    }
   ],
   "source": [
    "df = pd.read_csv('data\\data_final_preprocessed.csv')\n",
    "df = df[df['function'] == 'Продажи и предложения']\n",
    "df[df[\"product\"] == \"Дебетовая карта\"][\"functional_cd\"].value_counts()"
   ]
  },
  {
   "cell_type": "code",
   "execution_count": null,
   "id": "a1de56b4",
   "metadata": {},
   "outputs": [
    {
     "data": {
      "text/html": [
       "<div>\n",
       "<style scoped>\n",
       "    .dataframe tbody tr th:only-of-type {\n",
       "        vertical-align: middle;\n",
       "    }\n",
       "\n",
       "    .dataframe tbody tr th {\n",
       "        vertical-align: top;\n",
       "    }\n",
       "\n",
       "    .dataframe thead th {\n",
       "        text-align: right;\n",
       "    }\n",
       "</style>\n",
       "<table border=\"1\" class=\"dataframe\">\n",
       "  <thead>\n",
       "    <tr style=\"text-align: right;\">\n",
       "      <th></th>\n",
       "      <th>age</th>\n",
       "      <th>gender_cd</th>\n",
       "      <th>pro_flg</th>\n",
       "    </tr>\n",
       "    <tr>\n",
       "      <th>functional_cd</th>\n",
       "      <th></th>\n",
       "      <th></th>\n",
       "      <th></th>\n",
       "    </tr>\n",
       "  </thead>\n",
       "  <tbody>\n",
       "    <tr>\n",
       "      <th>BAF</th>\n",
       "      <td>36.739130</td>\n",
       "      <td>0.478261</td>\n",
       "      <td>0.173913</td>\n",
       "    </tr>\n",
       "    <tr>\n",
       "      <th>Cold</th>\n",
       "      <td>40.548485</td>\n",
       "      <td>0.393939</td>\n",
       "      <td>0.060606</td>\n",
       "    </tr>\n",
       "    <tr>\n",
       "      <th>Utilization</th>\n",
       "      <td>36.522843</td>\n",
       "      <td>0.497462</td>\n",
       "      <td>0.142132</td>\n",
       "    </tr>\n",
       "  </tbody>\n",
       "</table>\n",
       "</div>"
      ],
      "text/plain": [
       "                     age  gender_cd   pro_flg\n",
       "functional_cd                                \n",
       "BAF            36.739130   0.478261  0.173913\n",
       "Cold           40.548485   0.393939  0.060606\n",
       "Utilization    36.522843   0.497462  0.142132"
      ]
     },
     "execution_count": 144,
     "metadata": {},
     "output_type": "execute_result"
    }
   ],
   "source": [
    "df[df[\"product\"] == \"Дебетовая карта\"].groupby(\"functional_cd\")[[\"age\", \"gender_cd\", \"pro_flg\"]].mean()"
   ]
  },
  {
   "cell_type": "code",
   "execution_count": null,
   "id": "475ad05b",
   "metadata": {},
   "outputs": [
    {
     "name": "stdout",
     "output_type": "stream",
     "text": [
      "p-value: 0.021490109231473997\n"
     ]
    }
   ],
   "source": [
    "from scipy.stats import levene\n",
    "group1 = df[(df[\"product\"] == \"Дебетовая карта\") & (df[\"functional_cd\"] == \"Utilization\")][\"age\"]\n",
    "group2 = df[(df[\"product\"] == \"Дебетовая карта\") & (df[\"functional_cd\"] == \"Cold\")][\"age\"]\n",
    "stat, p = levene(group1, group2)\n",
    "print('p-value:', p)"
   ]
  },
  {
   "cell_type": "code",
   "execution_count": null,
   "id": "9bba52b0",
   "metadata": {},
   "outputs": [
    {
     "name": "stdout",
     "output_type": "stream",
     "text": [
      "F-статистика: 2.5285356544911077\n",
      "p-значение: 0.0815768801526305\n"
     ]
    }
   ],
   "source": [
    "from scipy.stats import f_oneway\n",
    "\n",
    "group1 = df[(df[\"product\"] == \"Дебетовая карта\") & (df[\"functional_cd\"] == \"BAF\")][\"age\"]\n",
    "group2 = df[(df[\"product\"] == \"Дебетовая карта\") & (df[\"functional_cd\"] == \"Cold\")][\"age\"]\n",
    "group3 = df[(df[\"product\"] == \"Дебетовая карта\") & (df[\"functional_cd\"] == \"Utilization\")][\"age\"]\n",
    "\n",
    "# Выполнение ANOVA\n",
    "f_statistic, p_value = f_oneway(group1, group2, group3)\n",
    "\n",
    "print('F-статистика:', f_statistic)\n",
    "print('p-значение:', p_value)\n"
   ]
  },
  {
   "cell_type": "code",
   "execution_count": null,
   "id": "5a85ebe8",
   "metadata": {},
   "outputs": [
    {
     "data": {
      "text/plain": [
       "functional_cd\n",
       "Upsell         863\n",
       "Preapprove     748\n",
       "Refinancing      1\n",
       "Name: count, dtype: int64"
      ]
     },
     "execution_count": 147,
     "metadata": {},
     "output_type": "execute_result"
    }
   ],
   "source": [
    "df[df[\"product\"] == \"Кредит\"][\"functional_cd\"].value_counts()"
   ]
  },
  {
   "cell_type": "code",
   "execution_count": null,
   "id": "f1f8883d",
   "metadata": {},
   "outputs": [
    {
     "data": {
      "text/html": [
       "<div>\n",
       "<style scoped>\n",
       "    .dataframe tbody tr th:only-of-type {\n",
       "        vertical-align: middle;\n",
       "    }\n",
       "\n",
       "    .dataframe tbody tr th {\n",
       "        vertical-align: top;\n",
       "    }\n",
       "\n",
       "    .dataframe thead th {\n",
       "        text-align: right;\n",
       "    }\n",
       "</style>\n",
       "<table border=\"1\" class=\"dataframe\">\n",
       "  <thead>\n",
       "    <tr style=\"text-align: right;\">\n",
       "      <th></th>\n",
       "      <th>age</th>\n",
       "      <th>gender_cd</th>\n",
       "      <th>pro_flg</th>\n",
       "    </tr>\n",
       "    <tr>\n",
       "      <th>functional_cd</th>\n",
       "      <th></th>\n",
       "      <th></th>\n",
       "      <th></th>\n",
       "    </tr>\n",
       "  </thead>\n",
       "  <tbody>\n",
       "    <tr>\n",
       "      <th>Preapprove</th>\n",
       "      <td>39.240642</td>\n",
       "      <td>0.473262</td>\n",
       "      <td>0.469251</td>\n",
       "    </tr>\n",
       "    <tr>\n",
       "      <th>Upsell</th>\n",
       "      <td>34.097335</td>\n",
       "      <td>0.579374</td>\n",
       "      <td>0.382387</td>\n",
       "    </tr>\n",
       "  </tbody>\n",
       "</table>\n",
       "</div>"
      ],
      "text/plain": [
       "                     age  gender_cd   pro_flg\n",
       "functional_cd                                \n",
       "Preapprove     39.240642   0.473262  0.469251\n",
       "Upsell         34.097335   0.579374  0.382387"
      ]
     },
     "execution_count": 148,
     "metadata": {},
     "output_type": "execute_result"
    }
   ],
   "source": [
    "df[(df[\"product\"] == \"Кредит\") & (df[\"functional_cd\"].isin([\"Upsell\", \"Preapprove\"]))].groupby(\"functional_cd\")[[\"age\", \"gender_cd\", \"pro_flg\"]].mean()"
   ]
  },
  {
   "cell_type": "code",
   "execution_count": null,
   "id": "bf1a90a2",
   "metadata": {},
   "outputs": [
    {
     "name": "stdout",
     "output_type": "stream",
     "text": [
      "p-value: 0.005835784943008458\n"
     ]
    }
   ],
   "source": [
    "from scipy.stats import levene\n",
    "group1 = df[(df[\"product\"] == \"Кредит\") & (df[\"functional_cd\"] == \"Preapprove\")][\"age\"]\n",
    "group2 = df[(df[\"product\"] == \"Кредит\") & (df[\"functional_cd\"] == \"Upsell\")][\"age\"]\n",
    "stat, p = levene(group1, group2)\n",
    "print('p-value:', p)"
   ]
  },
  {
   "cell_type": "code",
   "execution_count": null,
   "id": "e22375cb",
   "metadata": {},
   "outputs": [
    {
     "name": "stdout",
     "output_type": "stream",
     "text": [
      "p-value: 0.004242973720999711\n"
     ]
    }
   ],
   "source": [
    "from scipy.stats import bartlett\n",
    "stat, p = bartlett(df[(df[\"product\"] == \"Кредит\") & (df[\"functional_cd\"] == \"Preapprove\")][\"age\"], df[(df[\"product\"] == \"Кредит\") & (df[\"functional_cd\"] == \"Upsell\")][\"age\"])\n",
    "print('p-value:', p)"
   ]
  },
  {
   "cell_type": "code",
   "execution_count": null,
   "id": "37f5a559",
   "metadata": {},
   "outputs": [
    {
     "data": {
      "text/plain": [
       "<Axes: xlabel='functional_cd', ylabel='age'>"
      ]
     },
     "execution_count": 151,
     "metadata": {},
     "output_type": "execute_result"
    },
    {
     "data": {
      "image/png": "[encoded data removed]",
      "text/plain": [
       "<Figure size 640x480 with 1 Axes>"
      ]
     },
     "metadata": {},
     "output_type": "display_data"
    }
   ],
   "source": [
    "sns.barplot(df[df[\"product\"] == \"Дебетовая карта\"].groupby(\"functional_cd\")[\"age\"].mean())"
   ]
  },
  {
   "cell_type": "code",
   "execution_count": null,
   "id": "4b4baaec",
   "metadata": {},
   "outputs": [
    {
     "data": {
      "text/plain": [
       "<Axes: xlabel='functional_cd', ylabel='age'>"
      ]
     },
     "execution_count": 152,
     "metadata": {},
     "output_type": "execute_result"
    },
    {
     "data": {
      "image/png": "[encoded data removed]",
      "text/plain": [
       "<Figure size 640x480 with 1 Axes>"
      ]
     },
     "metadata": {},
     "output_type": "display_data"
    }
   ],
   "source": [
    "sns.barplot(df[df[\"product\"] == \"Инвестиции\"].groupby(\"functional_cd\")[\"age\"].mean())"
   ]
  },
  {
   "cell_type": "code",
   "execution_count": null,
   "id": "edb85212",
   "metadata": {},
   "outputs": [
    {
     "data": {
      "text/plain": [
       "([0, 1, 2],\n",
       " [Text(0, 0, 'Preapprove'), Text(1, 0, 'Refinancing'), Text(2, 0, 'Upsell')])"
      ]
     },
     "execution_count": 153,
     "metadata": {},
     "output_type": "execute_result"
    },
    {
     "data": {
      "image/png": "[encoded data removed]",
      "text/plain": [
       "<Figure size 640x480 with 1 Axes>"
      ]
     },
     "metadata": {},
     "output_type": "display_data"
    }
   ],
   "source": [
    "import matplotlib.pyplot as plt\n",
    "sns.barplot(df[df[\"product\"] == \"Кредит\"].groupby(\"functional_cd\")[\"age\"].mean())\n",
    "plt.xticks(rotation=90)"
   ]
  },
  {
   "cell_type": "code",
   "execution_count": null,
   "id": "e878feae",
   "metadata": {},
   "outputs": [
    {
     "data": {
      "text/plain": [
       "<Axes: xlabel='functional_cd', ylabel='age'>"
      ]
     },
     "execution_count": 154,
     "metadata": {},
     "output_type": "execute_result"
    },
    {
     "data": {
      "image/png": "[encoded data removed]",
      "text/plain": [
       "<Figure size 640x480 with 1 Axes>"
      ]
     },
     "metadata": {},
     "output_type": "display_data"
    }
   ],
   "source": [
    "sns.barplot(df[df[\"product\"] == \"Кредитная карта\"].groupby(\"functional_cd\")[\"age\"].mean())"
   ]
  },
  {
   "cell_type": "code",
   "execution_count": null,
   "id": "b5cc8e80",
   "metadata": {},
   "outputs": [
    {
     "data": {
      "text/plain": [
       "<Axes: xlabel='functional_cd', ylabel='age'>"
      ]
     },
     "execution_count": 155,
     "metadata": {},
     "output_type": "execute_result"
    },
    {
     "data": {
      "image/png": "[encoded data removed]",
      "text/plain": [
       "<Figure size 640x480 with 1 Axes>"
      ]
     },
     "metadata": {},
     "output_type": "display_data"
    }
   ],
   "source": [
    "sns.barplot(df[df[\"product\"] == \"Страхование и услуги\"].groupby(\"functional_cd\")[\"age\"].mean())"
   ]
  },
  {
   "cell_type": "code",
   "execution_count": null,
   "id": "dcd5dfce",
   "metadata": {},
   "outputs": [
    {
     "data": {
      "text/plain": [
       "Index(['customer_id', 'age', 'gender_cd', 'region_size', 'foreign_flg',\n",
       "       'entrepreneur_flg', 'auto_flg', 'traveler_flg', 'partnership_flg',\n",
       "       'child_amt', 'realty_type', 'segment_cd', 'bundle_nm',\n",
       "       'confirmed_income', 'predicted_income', 'product_cd', 'functional_cd',\n",
       "       'finish_dttm', 'state_talk_time_sec', 'wo_hit_status_result_desc',\n",
       "       'wo_hit_status_reason_desc', 'employee_id', 'emp_age', 'emp_age_new',\n",
       "       'emp_gender_cd', 'emp_children_cnt', 'emp_work_months_cnt',\n",
       "       'emp_citizenship_country_cd', 'emp_marital_status_cd', 'success_flg',\n",
       "       'day_of_week', 'holiday_flg', 'million_city', 'product', 'function',\n",
       "       'auto_and_entrepreneur', 'region_category', 'age_group',\n",
       "       'age_difference', 'marital_status', 'work_experience_status',\n",
       "       'pro_flg'],\n",
       "      dtype='object')"
      ]
     },
     "execution_count": 156,
     "metadata": {},
     "output_type": "execute_result"
    }
   ],
   "source": [
    "df.columns"
   ]
  },
  {
   "cell_type": "code",
   "execution_count": null,
   "id": "4f3e197b",
   "metadata": {},
   "outputs": [
    {
     "ename": "KeyError",
     "evalue": "\"['child_flg'] not in index\"",
     "output_type": "error",
     "traceback": [
      "\u001b[1;31m---------------------------------------------------------------------------\u001b[0m",
      "\u001b[1;31mKeyError\u001b[0m                                  Traceback (most recent call last)",
      "Cell \u001b[1;32mIn[157], line 1\u001b[0m\n\u001b[1;32m----> 1\u001b[0m \u001b[43mdf\u001b[49m\u001b[43m[\u001b[49m\u001b[43m[\u001b[49m\u001b[38;5;124;43m'\u001b[39;49m\u001b[38;5;124;43mpro_flg\u001b[39;49m\u001b[38;5;124;43m'\u001b[39;49m\u001b[43m,\u001b[49m\u001b[43m \u001b[49m\u001b[38;5;124;43m'\u001b[39;49m\u001b[38;5;124;43mage\u001b[39;49m\u001b[38;5;124;43m'\u001b[39;49m\u001b[43m,\u001b[49m\u001b[43m \u001b[49m\u001b[38;5;124;43m'\u001b[39;49m\u001b[38;5;124;43mgender_cd\u001b[39;49m\u001b[38;5;124;43m'\u001b[39;49m\u001b[43m,\u001b[49m\u001b[43m \u001b[49m\u001b[38;5;124;43m'\u001b[39;49m\u001b[38;5;124;43mstate_talk_time_sec\u001b[39;49m\u001b[38;5;124;43m'\u001b[39;49m\u001b[43m,\u001b[49m\u001b[43m \u001b[49m\u001b[38;5;124;43m'\u001b[39;49m\u001b[38;5;124;43mchild_flg\u001b[39;49m\u001b[38;5;124;43m'\u001b[39;49m\u001b[43m,\u001b[49m\u001b[43m \u001b[49m\u001b[38;5;124;43m'\u001b[39;49m\u001b[38;5;124;43mholiday_flg\u001b[39;49m\u001b[38;5;124;43m'\u001b[39;49m\u001b[43m]\u001b[49m\u001b[43m]\u001b[49m\u001b[38;5;241m.\u001b[39misna()\u001b[38;5;241m.\u001b[39msum()\n",
      "File \u001b[1;32m~\\AppData\\Local\\Packages\\PythonSoftwareFoundation.Python.3.12_qbz5n2kfra8p0\\LocalCache\\local-packages\\Python312\\site-packages\\pandas\\core\\frame.py:4108\u001b[0m, in \u001b[0;36mDataFrame.__getitem__\u001b[1;34m(self, key)\u001b[0m\n\u001b[0;32m   4106\u001b[0m     \u001b[38;5;28;01mif\u001b[39;00m is_iterator(key):\n\u001b[0;32m   4107\u001b[0m         key \u001b[38;5;241m=\u001b[39m \u001b[38;5;28mlist\u001b[39m(key)\n\u001b[1;32m-> 4108\u001b[0m     indexer \u001b[38;5;241m=\u001b[39m \u001b[38;5;28;43mself\u001b[39;49m\u001b[38;5;241;43m.\u001b[39;49m\u001b[43mcolumns\u001b[49m\u001b[38;5;241;43m.\u001b[39;49m\u001b[43m_get_indexer_strict\u001b[49m\u001b[43m(\u001b[49m\u001b[43mkey\u001b[49m\u001b[43m,\u001b[49m\u001b[43m \u001b[49m\u001b[38;5;124;43m\"\u001b[39;49m\u001b[38;5;124;43mcolumns\u001b[39;49m\u001b[38;5;124;43m\"\u001b[39;49m\u001b[43m)\u001b[49m[\u001b[38;5;241m1\u001b[39m]\n\u001b[0;32m   4110\u001b[0m \u001b[38;5;66;03m# take() does not accept boolean indexers\u001b[39;00m\n\u001b[0;32m   4111\u001b[0m \u001b[38;5;28;01mif\u001b[39;00m \u001b[38;5;28mgetattr\u001b[39m(indexer, \u001b[38;5;124m\"\u001b[39m\u001b[38;5;124mdtype\u001b[39m\u001b[38;5;124m\"\u001b[39m, \u001b[38;5;28;01mNone\u001b[39;00m) \u001b[38;5;241m==\u001b[39m \u001b[38;5;28mbool\u001b[39m:\n",
      "File \u001b[1;32m~\\AppData\\Local\\Packages\\PythonSoftwareFoundation.Python.3.12_qbz5n2kfra8p0\\LocalCache\\local-packages\\Python312\\site-packages\\pandas\\core\\indexes\\base.py:6200\u001b[0m, in \u001b[0;36mIndex._get_indexer_strict\u001b[1;34m(self, key, axis_name)\u001b[0m\n\u001b[0;32m   6197\u001b[0m \u001b[38;5;28;01melse\u001b[39;00m:\n\u001b[0;32m   6198\u001b[0m     keyarr, indexer, new_indexer \u001b[38;5;241m=\u001b[39m \u001b[38;5;28mself\u001b[39m\u001b[38;5;241m.\u001b[39m_reindex_non_unique(keyarr)\n\u001b[1;32m-> 6200\u001b[0m \u001b[38;5;28;43mself\u001b[39;49m\u001b[38;5;241;43m.\u001b[39;49m\u001b[43m_raise_if_missing\u001b[49m\u001b[43m(\u001b[49m\u001b[43mkeyarr\u001b[49m\u001b[43m,\u001b[49m\u001b[43m \u001b[49m\u001b[43mindexer\u001b[49m\u001b[43m,\u001b[49m\u001b[43m \u001b[49m\u001b[43maxis_name\u001b[49m\u001b[43m)\u001b[49m\n\u001b[0;32m   6202\u001b[0m keyarr \u001b[38;5;241m=\u001b[39m \u001b[38;5;28mself\u001b[39m\u001b[38;5;241m.\u001b[39mtake(indexer)\n\u001b[0;32m   6203\u001b[0m \u001b[38;5;28;01mif\u001b[39;00m \u001b[38;5;28misinstance\u001b[39m(key, Index):\n\u001b[0;32m   6204\u001b[0m     \u001b[38;5;66;03m# GH 42790 - Preserve name from an Index\u001b[39;00m\n",
      "File \u001b[1;32m~\\AppData\\Local\\Packages\\PythonSoftwareFoundation.Python.3.12_qbz5n2kfra8p0\\LocalCache\\local-packages\\Python312\\site-packages\\pandas\\core\\indexes\\base.py:6252\u001b[0m, in \u001b[0;36mIndex._raise_if_missing\u001b[1;34m(self, key, indexer, axis_name)\u001b[0m\n\u001b[0;32m   6249\u001b[0m     \u001b[38;5;28;01mraise\u001b[39;00m \u001b[38;5;167;01mKeyError\u001b[39;00m(\u001b[38;5;124mf\u001b[39m\u001b[38;5;124m\"\u001b[39m\u001b[38;5;124mNone of [\u001b[39m\u001b[38;5;132;01m{\u001b[39;00mkey\u001b[38;5;132;01m}\u001b[39;00m\u001b[38;5;124m] are in the [\u001b[39m\u001b[38;5;132;01m{\u001b[39;00maxis_name\u001b[38;5;132;01m}\u001b[39;00m\u001b[38;5;124m]\u001b[39m\u001b[38;5;124m\"\u001b[39m)\n\u001b[0;32m   6251\u001b[0m not_found \u001b[38;5;241m=\u001b[39m \u001b[38;5;28mlist\u001b[39m(ensure_index(key)[missing_mask\u001b[38;5;241m.\u001b[39mnonzero()[\u001b[38;5;241m0\u001b[39m]]\u001b[38;5;241m.\u001b[39munique())\n\u001b[1;32m-> 6252\u001b[0m \u001b[38;5;28;01mraise\u001b[39;00m \u001b[38;5;167;01mKeyError\u001b[39;00m(\u001b[38;5;124mf\u001b[39m\u001b[38;5;124m\"\u001b[39m\u001b[38;5;132;01m{\u001b[39;00mnot_found\u001b[38;5;132;01m}\u001b[39;00m\u001b[38;5;124m not in index\u001b[39m\u001b[38;5;124m\"\u001b[39m)\n",
      "\u001b[1;31mKeyError\u001b[0m: \"['child_flg'] not in index\""
     ]
    }
   ],
   "source": [
    "df[['pro_flg', 'age', 'gender_cd', 'state_talk_time_sec', 'child_flg', 'holiday_flg']].isna().sum()"
   ]
  },
  {
   "cell_type": "code",
   "execution_count": null,
   "id": "63d2a3e3",
   "metadata": {},
   "outputs": [
    {
     "name": "stdout",
     "output_type": "stream",
     "text": [
      "Optimization terminated successfully.\n",
      "         Current function value: 0.255031\n",
      "         Iterations 7\n",
      "                           Logit Regression Results                           \n",
      "==============================================================================\n",
      "Dep. Variable:            success_flg   No. Observations:                15080\n",
      "Model:                          Logit   Df Residuals:                    15074\n",
      "Method:                           MLE   Df Model:                            5\n",
      "Date:                Sun, 15 Dec 2024   Pseudo R-squ.:                  0.1026\n",
      "Time:                        18:29:16   Log-Likelihood:                -3845.9\n",
      "converged:                       True   LL-Null:                       -4285.4\n",
      "Covariance Type:            nonrobust   LLR p-value:                8.987e-188\n",
      "=======================================================================================\n",
      "                          coef    std err          z      P>|z|      [0.025      0.975]\n",
      "---------------------------------------------------------------------------------------\n",
      "pro_flg                -0.7955      0.077    -10.369      0.000      -0.946      -0.645\n",
      "age                    -0.0895      0.002    -50.016      0.000      -0.093      -0.086\n",
      "gender_cd              -0.7282      0.059    -12.329      0.000      -0.844      -0.612\n",
      "state_talk_time_sec     0.0189      0.001     33.483      0.000       0.018       0.020\n",
      "child_flg               0.2837      0.085      3.331      0.001       0.117       0.451\n",
      "holiday_flg            -0.2876      0.104     -2.778      0.005      -0.490      -0.085\n",
      "=======================================================================================\n"
     ]
    }
   ],
   "source": [
    "df = pd.read_csv('data/data_final_preprocessed.csv')\n",
    "\n",
    "X = df[['pro_flg', 'age', 'gender_cd', 'state_talk_time_sec', 'child_flg', 'holiday_flg']]\n",
    "y = df['success_flg']\n",
    "\n",
    "model = sm.Logit(y, X)\n",
    "model_result = model.fit()\n",
    "\n",
    "print(model_result.summary())"
   ]
  },
  {
   "cell_type": "code",
   "execution_count": null,
   "id": "302d7868",
   "metadata": {},
   "outputs": [
    {
     "name": "stdout",
     "output_type": "stream",
     "text": [
      "----------------------------Кредит----------------------------\n",
      "Optimization terminated successfully.\n",
      "         Current function value: 0.111275\n",
      "         Iterations 9\n",
      "                           Logit Regression Results                           \n",
      "==============================================================================\n",
      "Dep. Variable:            success_flg   No. Observations:                 2612\n",
      "Model:                          Logit   Df Residuals:                     2605\n",
      "Method:                           MLE   Df Model:                            6\n",
      "Date:                Sun, 15 Dec 2024   Pseudo R-squ.:                  0.3253\n",
      "Time:                        18:29:16   Log-Likelihood:                -290.65\n",
      "converged:                       True   LL-Null:                       -430.76\n",
      "Covariance Type:            nonrobust   LLR p-value:                 1.412e-57\n",
      "=======================================================================================\n",
      "                          coef    std err          z      P>|z|      [0.025      0.975]\n",
      "---------------------------------------------------------------------------------------\n",
      "const                  -6.5808      0.534    -12.333      0.000      -7.627      -5.535\n",
      "pro_flg                -0.1778      0.130     -1.370      0.171      -0.432       0.076\n",
      "age                     0.0075      0.011      0.711      0.477      -0.013       0.028\n",
      "gender_cd              -0.6647      0.233     -2.857      0.004      -1.121      -0.209\n",
      "state_talk_time_sec     0.0331      0.002     14.021      0.000       0.028       0.038\n",
      "child_flg              -0.3420      0.284     -1.204      0.229      -0.899       0.215\n",
      "holiday_flg             0.2488      0.326      0.764      0.445      -0.389       0.887\n",
      "=======================================================================================\n",
      "----------------------------Кредитная карта----------------------------\n",
      "Optimization terminated successfully.\n",
      "         Current function value: 0.148527\n",
      "         Iterations 8\n",
      "                           Logit Regression Results                           \n",
      "==============================================================================\n",
      "Dep. Variable:            success_flg   No. Observations:                 8344\n",
      "Model:                          Logit   Df Residuals:                     8337\n",
      "Method:                           MLE   Df Model:                            6\n",
      "Date:                Sun, 15 Dec 2024   Pseudo R-squ.:                  0.3104\n",
      "Time:                        18:29:16   Log-Likelihood:                -1239.3\n",
      "converged:                       True   LL-Null:                       -1797.2\n",
      "Covariance Type:            nonrobust   LLR p-value:                8.060e-238\n",
      "=======================================================================================\n",
      "                          coef    std err          z      P>|z|      [0.025      0.975]\n",
      "---------------------------------------------------------------------------------------\n",
      "const                  -5.4171      0.225    -24.106      0.000      -5.858      -4.977\n",
      "pro_flg                 0.0423      0.068      0.622      0.534      -0.091       0.176\n",
      "age                    -0.0003      0.004     -0.065      0.948      -0.009       0.008\n",
      "gender_cd               0.0401      0.111      0.361      0.718      -0.177       0.258\n",
      "state_talk_time_sec     0.0300      0.001     29.282      0.000       0.028       0.032\n",
      "child_flg               0.2542      0.146      1.744      0.081      -0.031       0.540\n",
      "holiday_flg             0.3337      0.180      1.850      0.064      -0.020       0.687\n",
      "=======================================================================================\n",
      "----------------------------Страхование и услуги----------------------------\n",
      "Optimization terminated successfully.\n",
      "         Current function value: 0.224491\n",
      "         Iterations 7\n",
      "                           Logit Regression Results                           \n",
      "==============================================================================\n",
      "Dep. Variable:            success_flg   No. Observations:                 1956\n",
      "Model:                          Logit   Df Residuals:                     1949\n",
      "Method:                           MLE   Df Model:                            6\n",
      "Date:                Sun, 15 Dec 2024   Pseudo R-squ.:                  0.2207\n",
      "Time:                        18:29:16   Log-Likelihood:                -439.10\n",
      "converged:                       True   LL-Null:                       -563.45\n",
      "Covariance Type:            nonrobust   LLR p-value:                 7.835e-51\n",
      "=======================================================================================\n",
      "                          coef    std err          z      P>|z|      [0.025      0.975]\n",
      "---------------------------------------------------------------------------------------\n",
      "const                  -4.2498      0.371    -11.457      0.000      -4.977      -3.523\n",
      "pro_flg                 0.0333      0.094      0.353      0.724      -0.152       0.218\n",
      "age                    -0.0051      0.008     -0.647      0.518      -0.021       0.010\n",
      "gender_cd              -0.0382      0.192     -0.199      0.842      -0.414       0.337\n",
      "state_talk_time_sec     0.0234      0.002     14.536      0.000       0.020       0.027\n",
      "child_flg               0.3072      0.208      1.478      0.139      -0.100       0.714\n",
      "holiday_flg             0.3351      0.268      1.252      0.211      -0.190       0.860\n",
      "=======================================================================================\n",
      "----------------------------Инвестиции----------------------------\n",
      "Optimization terminated successfully.\n",
      "         Current function value: 0.125907\n",
      "         Iterations 9\n",
      "                           Logit Regression Results                           \n",
      "==============================================================================\n",
      "Dep. Variable:            success_flg   No. Observations:                  648\n",
      "Model:                          Logit   Df Residuals:                      641\n",
      "Method:                           MLE   Df Model:                            6\n",
      "Date:                Sun, 15 Dec 2024   Pseudo R-squ.:                  0.2052\n",
      "Time:                        18:29:16   Log-Likelihood:                -81.587\n",
      "converged:                       True   LL-Null:                       -102.65\n",
      "Covariance Type:            nonrobust   LLR p-value:                 1.737e-07\n",
      "=======================================================================================\n",
      "                          coef    std err          z      P>|z|      [0.025      0.975]\n",
      "---------------------------------------------------------------------------------------\n",
      "const                  -4.9896      0.832     -5.998      0.000      -6.620      -3.359\n",
      "pro_flg                -0.9619      0.335     -2.868      0.004      -1.619      -0.305\n",
      "age                    -0.0125      0.018     -0.696      0.486      -0.048       0.023\n",
      "gender_cd               0.1275      0.473      0.269      0.788      -0.800       1.055\n",
      "state_talk_time_sec     0.0242      0.004      5.778      0.000       0.016       0.032\n",
      "child_flg              -0.3801      0.575     -0.661      0.509      -1.508       0.748\n",
      "holiday_flg             0.1900      0.674      0.282      0.778      -1.131       1.511\n",
      "=======================================================================================\n",
      "----------------------------Дебетовая карта----------------------------\n",
      "Optimization terminated successfully.\n",
      "         Current function value: 0.508643\n",
      "         Iterations 6\n",
      "                           Logit Regression Results                           \n",
      "==============================================================================\n",
      "Dep. Variable:            success_flg   No. Observations:                 1520\n",
      "Model:                          Logit   Df Residuals:                     1513\n",
      "Method:                           MLE   Df Model:                            6\n",
      "Date:                Sun, 15 Dec 2024   Pseudo R-squ.:                  0.1870\n",
      "Time:                        18:29:16   Log-Likelihood:                -773.14\n",
      "converged:                       True   LL-Null:                       -951.02\n",
      "Covariance Type:            nonrobust   LLR p-value:                 8.890e-74\n",
      "=======================================================================================\n",
      "                          coef    std err          z      P>|z|      [0.025      0.975]\n",
      "---------------------------------------------------------------------------------------\n",
      "const                  -1.1424      0.240     -4.755      0.000      -1.613      -0.672\n",
      "pro_flg                 0.2060      0.096      2.137      0.033       0.017       0.395\n",
      "age                    -0.0284      0.005     -5.608      0.000      -0.038      -0.018\n",
      "gender_cd              -0.0764      0.128     -0.595      0.552      -0.328       0.175\n",
      "state_talk_time_sec     0.0206      0.001     14.893      0.000       0.018       0.023\n",
      "child_flg               0.8723      0.200      4.357      0.000       0.480       1.265\n",
      "holiday_flg             0.0934      0.225      0.415      0.678      -0.347       0.534\n",
      "=======================================================================================\n"
     ]
    }
   ],
   "source": [
    "df = pd.read_csv('data\\data_final_preprocessed.csv')\n",
    "df['pro_flg'] = df['pro_flg'].map({1: 1, 0: -1})\n",
    "for col in df['product'].unique():\n",
    "    df1 = df[df['product'] == col]\n",
    "    X = df1[['pro_flg', 'age', 'gender_cd', 'state_talk_time_sec', 'child_flg', 'holiday_flg']]\n",
    "    y = df1['success_flg']\n",
    "    X = sm.add_constant(X)\n",
    "    print(f'----------------------------{col}----------------------------')\n",
    "    model = sm.Logit(y, X)\n",
    "    model_result = model.fit()\n",
    "    print(model_result.summary())"
   ]
  },
  {
   "cell_type": "code",
   "execution_count": null,
   "id": "252e5aa3",
   "metadata": {},
   "outputs": [
    {
     "data": {
      "text/html": [
       "<div>\n",
       "<style scoped>\n",
       "    .dataframe tbody tr th:only-of-type {\n",
       "        vertical-align: middle;\n",
       "    }\n",
       "\n",
       "    .dataframe tbody tr th {\n",
       "        vertical-align: top;\n",
       "    }\n",
       "\n",
       "    .dataframe thead th {\n",
       "        text-align: right;\n",
       "    }\n",
       "</style>\n",
       "<table border=\"1\" class=\"dataframe\">\n",
       "  <thead>\n",
       "    <tr style=\"text-align: right;\">\n",
       "      <th></th>\n",
       "      <th>product</th>\n",
       "      <th>test</th>\n",
       "      <th>p_value</th>\n",
       "      <th>significant</th>\n",
       "    </tr>\n",
       "  </thead>\n",
       "  <tbody>\n",
       "    <tr>\n",
       "      <th>0</th>\n",
       "      <td>Дебетовая карта</td>\n",
       "      <td>Chi2</td>\n",
       "      <td>0.000013</td>\n",
       "      <td>True</td>\n",
       "    </tr>\n",
       "    <tr>\n",
       "      <th>1</th>\n",
       "      <td>Инвестиции</td>\n",
       "      <td>Fisher</td>\n",
       "      <td>0.009625</td>\n",
       "      <td>True</td>\n",
       "    </tr>\n",
       "    <tr>\n",
       "      <th>2</th>\n",
       "      <td>Кредит</td>\n",
       "      <td>Chi2</td>\n",
       "      <td>0.016884</td>\n",
       "      <td>True</td>\n",
       "    </tr>\n",
       "    <tr>\n",
       "      <th>3</th>\n",
       "      <td>Кредитная карта</td>\n",
       "      <td>Chi2</td>\n",
       "      <td>0.162231</td>\n",
       "      <td>False</td>\n",
       "    </tr>\n",
       "    <tr>\n",
       "      <th>4</th>\n",
       "      <td>Страхование и услуги</td>\n",
       "      <td>Chi2</td>\n",
       "      <td>0.402468</td>\n",
       "      <td>False</td>\n",
       "    </tr>\n",
       "  </tbody>\n",
       "</table>\n",
       "</div>"
      ],
      "text/plain": [
       "                product    test   p_value  significant\n",
       "0       Дебетовая карта    Chi2  0.000013         True\n",
       "1            Инвестиции  Fisher  0.009625         True\n",
       "2                Кредит    Chi2  0.016884         True\n",
       "3       Кредитная карта    Chi2  0.162231        False\n",
       "4  Страхование и услуги    Chi2  0.402468        False"
      ]
     },
     "execution_count": 1139,
     "metadata": {},
     "output_type": "execute_result"
    }
   ],
   "source": [
    "# список для хранения результатов тестирования\n",
    "results = []\n",
    "df = pd.read_csv('data\\data_final_preprocessed.csv')\n",
    "# Группировка данных по продуктам\n",
    "for product, group in df.groupby('product'):\n",
    "    contingency_table = pd.crosstab(group['bundle_nm'], group['success_flg'])\n",
    "\n",
    "    # Проверка, достаточно ли данных для проведения теста\n",
    "    if contingency_table.shape[0] < 2 or contingency_table.shape[1] < 2:\n",
    "        # Если данных недостаточно, добавляем результат с указанием на отсутствие данных\n",
    "        results.append({\n",
    "            'product': product,\n",
    "            'test': 'Нет данных',\n",
    "            'p_value': None,\n",
    "            'significant': None\n",
    "        })\n",
    "        continue\n",
    "\n",
    "    # Проверка на минимальное значение в контингентной таблице\n",
    "    if contingency_table.values.min() < 5:\n",
    "        # Если минимальное значение меньше 5, используем тест Фишера\n",
    "        stat, p_value = stats.fisher_exact(contingency_table, alternative='two-sided')\n",
    "        test_type = 'Fisher'  # Указываем тип теста\n",
    "    else:\n",
    "        # В противном случае используем критерий хи-квадрат\n",
    "        stat, p_value, _, _ = stats.chi2_contingency(contingency_table)\n",
    "        test_type = 'Chi2'  # Указываем тип теста\n",
    "\n",
    "    # Добавление результатов теста в список\n",
    "    results.append({\n",
    "        'product': product,\n",
    "        'test': test_type,\n",
    "        'p_value': p_value,\n",
    "        'significant': p_value < 0.05  # Определяем, является ли результат статистически значимым\n",
    "    })\n",
    "\n",
    "results_df = pd.DataFrame(results)\n",
    "\n",
    "results_df"
   ]
  },
  {
   "cell_type": "code",
   "execution_count": null,
   "id": "229ccc5f",
   "metadata": {},
   "outputs": [],
   "source": [
    "df = df[df[\"functional_cd\"].isin([\"Cold\", \"Upsell\", \"Downsell\", \"BAF\", \"Personal accident Insurance\", \"Deposit\", \"Refinancing\", \"Prolongation\", \"Preapprove\"])]"
   ]
  },
  {
   "cell_type": "code",
   "execution_count": null,
   "id": "f13d7faf",
   "metadata": {},
   "outputs": [
    {
     "data": {
      "text/plain": [
       "product\n",
       "Дебетовая карта         42.227652\n",
       "Кредит                  37.170036\n",
       "Кредитная карта         39.095582\n",
       "Страхование и услуги    38.991556\n",
       "Name: age, dtype: float64"
      ]
     },
     "execution_count": 1141,
     "metadata": {},
     "output_type": "execute_result"
    }
   ],
   "source": [
    "df.groupby(\"product\")[\"age\"].mean()"
   ]
  },
  {
   "cell_type": "code",
   "execution_count": null,
   "id": "a81485f7",
   "metadata": {},
   "outputs": [
    {
     "data": {
      "text/plain": [
       "functional_cd\n",
       "BAF     40.180328\n",
       "Cold    42.495075\n",
       "Name: age, dtype: float64"
      ]
     },
     "execution_count": 1142,
     "metadata": {},
     "output_type": "execute_result"
    }
   ],
   "source": [
    "df[df[\"product\"] == \"Дебетовая карта\"].groupby(\"functional_cd\")[\"age\"].mean()"
   ]
  },
  {
   "cell_type": "code",
   "execution_count": null,
   "id": "3cc7d89169ebce42",
   "metadata": {
    "ExecuteTime": {
     "end_time": "2024-12-11T21:27:14.459776Z",
     "start_time": "2024-12-11T21:27:14.449125Z"
    }
   },
   "outputs": [
    {
     "data": {
      "text/plain": [
       "pro_flg\n",
       "0    0.028784\n",
       "1    0.027455\n",
       "Name: success_flg, dtype: float64"
      ]
     },
     "execution_count": 1143,
     "metadata": {},
     "output_type": "execute_result"
    }
   ],
   "source": [
    "df.groupby('pro_flg')['success_flg'].mean()"
   ]
  },
  {
   "cell_type": "code",
   "execution_count": null,
   "id": "3d3de3805abb46e2",
   "metadata": {
    "ExecuteTime": {
     "end_time": "2024-12-11T20:56:12.107716Z",
     "start_time": "2024-12-11T20:56:12.096016Z"
    }
   },
   "outputs": [
    {
     "data": {
      "text/plain": [
       "array(['Кредитная карта', 'Кредит', 'Дебетовая карта',\n",
       "       'Страхование и услуги'], dtype=object)"
      ]
     },
     "execution_count": 1144,
     "metadata": {},
     "output_type": "execute_result"
    }
   ],
   "source": [
    "df['product'].unique()"
   ]
  },
  {
   "cell_type": "code",
   "execution_count": null,
   "id": "34631ae22ae8ddd7",
   "metadata": {
    "ExecuteTime": {
     "end_time": "2024-12-11T20:56:14.871053Z",
     "start_time": "2024-12-11T20:56:14.816325Z"
    }
   },
   "outputs": [
    {
     "data": {
      "text/html": [
       "<div>\n",
       "<style scoped>\n",
       "    .dataframe tbody tr th:only-of-type {\n",
       "        vertical-align: middle;\n",
       "    }\n",
       "\n",
       "    .dataframe tbody tr th {\n",
       "        vertical-align: top;\n",
       "    }\n",
       "\n",
       "    .dataframe thead th {\n",
       "        text-align: right;\n",
       "    }\n",
       "</style>\n",
       "<table border=\"1\" class=\"dataframe\">\n",
       "  <thead>\n",
       "    <tr style=\"text-align: right;\">\n",
       "      <th></th>\n",
       "      <th>product</th>\n",
       "      <th>test</th>\n",
       "      <th>p_value</th>\n",
       "      <th>significant</th>\n",
       "      <th>adjusted_p_value</th>\n",
       "      <th>significant_after_correction</th>\n",
       "    </tr>\n",
       "  </thead>\n",
       "  <tbody>\n",
       "    <tr>\n",
       "      <th>0</th>\n",
       "      <td>Дебетовая карта</td>\n",
       "      <td>Fisher</td>\n",
       "      <td>0.019278</td>\n",
       "      <td>True</td>\n",
       "      <td>0.077111</td>\n",
       "      <td>False</td>\n",
       "    </tr>\n",
       "    <tr>\n",
       "      <th>1</th>\n",
       "      <td>Кредит</td>\n",
       "      <td>Chi2</td>\n",
       "      <td>0.016383</td>\n",
       "      <td>True</td>\n",
       "      <td>0.065532</td>\n",
       "      <td>False</td>\n",
       "    </tr>\n",
       "    <tr>\n",
       "      <th>2</th>\n",
       "      <td>Кредитная карта</td>\n",
       "      <td>Chi2</td>\n",
       "      <td>1.000000</td>\n",
       "      <td>False</td>\n",
       "      <td>1.000000</td>\n",
       "      <td>False</td>\n",
       "    </tr>\n",
       "    <tr>\n",
       "      <th>3</th>\n",
       "      <td>Страхование и услуги</td>\n",
       "      <td>Chi2</td>\n",
       "      <td>0.390443</td>\n",
       "      <td>False</td>\n",
       "      <td>1.000000</td>\n",
       "      <td>False</td>\n",
       "    </tr>\n",
       "  </tbody>\n",
       "</table>\n",
       "</div>"
      ],
      "text/plain": [
       "                product    test   p_value  significant  adjusted_p_value  \\\n",
       "0       Дебетовая карта  Fisher  0.019278         True          0.077111   \n",
       "1                Кредит    Chi2  0.016383         True          0.065532   \n",
       "2       Кредитная карта    Chi2  1.000000        False          1.000000   \n",
       "3  Страхование и услуги    Chi2  0.390443        False          1.000000   \n",
       "\n",
       "   significant_after_correction  \n",
       "0                         False  \n",
       "1                         False  \n",
       "2                         False  \n",
       "3                         False  "
      ]
     },
     "execution_count": 1145,
     "metadata": {},
     "output_type": "execute_result"
    }
   ],
   "source": [
    "from statsmodels.stats.multitest import multipletests\n",
    "\n",
    "# список для хранения результатов тестирования\n",
    "results = []\n",
    "\n",
    "# Группировка данных по продуктам\n",
    "for product, group in df.groupby('product'):\n",
    "    contingency_table = pd.crosstab(group['bundle_nm'], group['success_flg'])\n",
    "\n",
    "    # Проверка, достаточно ли данных для проведения теста\n",
    "    if contingency_table.shape[0] < 2 or contingency_table.shape[1] < 2:\n",
    "        # Если данных недостаточно, добавляем результат с указанием на отсутствие данных\n",
    "        results.append({\n",
    "            'product': product,\n",
    "            'test': 'Нет данных',\n",
    "            'p_value': None,\n",
    "            'significant': None\n",
    "        })\n",
    "        continue \n",
    "\n",
    "    # Проверка на минимальное значение в контингентной таблице\n",
    "    if contingency_table.values.min() < 5:\n",
    "        # Если минимальное значение меньше 5, используем тест Фишера\n",
    "        stat, p_value = stats.fisher_exact(contingency_table, alternative='two-sided')\n",
    "        test_type = 'Fisher'  # Указываем тип теста\n",
    "    else:\n",
    "        # В противном случае используем критерий хи-квадрат\n",
    "        stat, p_value, _, _ = stats.chi2_contingency(contingency_table)\n",
    "        test_type = 'Chi2'  # Указываем тип теста\n",
    "\n",
    "    # Добавление результатов теста в список\n",
    "    results.append({\n",
    "        'product': product,\n",
    "        'test': test_type,\n",
    "        'p_value': p_value,\n",
    "        'significant': p_value < 0.05  # Определяем, является ли результат статистически значимым\n",
    "    })\n",
    "\n",
    "results_df = pd.DataFrame(results)\n",
    "\n",
    "# Применение поправки (например, метод Холма)\n",
    "adjusted_p_values = multipletests(results_df['p_value'], method='bonferroni')[1]\n",
    "\n",
    "# Добавление скорректированных p-значений в DataFrame\n",
    "results_df['adjusted_p_value'] = adjusted_p_values\n",
    "results_df['significant_after_correction'] = results_df['adjusted_p_value'] < 0.05\n",
    "\n",
    "\n",
    "results_df\n"
   ]
  },
  {
   "cell_type": "code",
   "execution_count": null,
   "id": "1dbd71c222fb8a49",
   "metadata": {
    "ExecuteTime": {
     "end_time": "2024-12-11T20:56:21.698679Z",
     "start_time": "2024-12-11T20:56:21.685650Z"
    }
   },
   "outputs": [
    {
     "data": {
      "text/html": [
       "<div>\n",
       "<style scoped>\n",
       "    .dataframe tbody tr th:only-of-type {\n",
       "        vertical-align: middle;\n",
       "    }\n",
       "\n",
       "    .dataframe tbody tr th {\n",
       "        vertical-align: top;\n",
       "    }\n",
       "\n",
       "    .dataframe thead th {\n",
       "        text-align: right;\n",
       "    }\n",
       "</style>\n",
       "<table border=\"1\" class=\"dataframe\">\n",
       "  <thead>\n",
       "    <tr style=\"text-align: right;\">\n",
       "      <th></th>\n",
       "      <th></th>\n",
       "      <th>mean</th>\n",
       "      <th>count</th>\n",
       "    </tr>\n",
       "    <tr>\n",
       "      <th>product</th>\n",
       "      <th>pro_flg</th>\n",
       "      <th></th>\n",
       "      <th></th>\n",
       "    </tr>\n",
       "  </thead>\n",
       "  <tbody>\n",
       "    <tr>\n",
       "      <th>Дебетовая карта</th>\n",
       "      <th>0</th>\n",
       "      <td>0.015504</td>\n",
       "      <td>516</td>\n",
       "    </tr>\n",
       "    <tr>\n",
       "      <th rowspan=\"2\" valign=\"top\">Кредит</th>\n",
       "      <th>0</th>\n",
       "      <td>0.031707</td>\n",
       "      <td>1230</td>\n",
       "    </tr>\n",
       "    <tr>\n",
       "      <th>1</th>\n",
       "      <td>0.012876</td>\n",
       "      <td>699</td>\n",
       "    </tr>\n",
       "    <tr>\n",
       "      <th rowspan=\"2\" valign=\"top\">Кредитная карта</th>\n",
       "      <th>0</th>\n",
       "      <td>0.027259</td>\n",
       "      <td>5833</td>\n",
       "    </tr>\n",
       "    <tr>\n",
       "      <th>1</th>\n",
       "      <td>0.027665</td>\n",
       "      <td>1229</td>\n",
       "    </tr>\n",
       "    <tr>\n",
       "      <th rowspan=\"2\" valign=\"top\">Страхование и услуги</th>\n",
       "      <th>0</th>\n",
       "      <td>0.048387</td>\n",
       "      <td>620</td>\n",
       "    </tr>\n",
       "    <tr>\n",
       "      <th>1</th>\n",
       "      <td>0.066986</td>\n",
       "      <td>209</td>\n",
       "    </tr>\n",
       "  </tbody>\n",
       "</table>\n",
       "</div>"
      ],
      "text/plain": [
       "                                  mean  count\n",
       "product              pro_flg                 \n",
       "Дебетовая карта      0        0.015504    516\n",
       "Кредит               0        0.031707   1230\n",
       "                     1        0.012876    699\n",
       "Кредитная карта      0        0.027259   5833\n",
       "                     1        0.027665   1229\n",
       "Страхование и услуги 0        0.048387    620\n",
       "                     1        0.066986    209"
      ]
     },
     "execution_count": 1146,
     "metadata": {},
     "output_type": "execute_result"
    }
   ],
   "source": [
    "d = df.groupby(['product', 'pro_flg'])['success_flg'].agg(mean='mean', count='count')\n",
    "d[d['count'] > 30]"
   ]
  },
  {
   "cell_type": "markdown",
   "id": "4767024e",
   "metadata": {},
   "source": [
    "Гипотеза подтвердилась для продуктов Debit and Investment. А для Credits и \tInsurance and Services - нет. Почему так могло произойти?\\\n",
    "\n",
    "Пользователи с подпиской Pro имеют лояльность к банку и осведомленность о его популярных пролуктах, поэтому они менее восприимчивы к предложениями о дебитовых картах и инвеситициям, ведь они и так знают про этти продукты и в случае чего сами придут к оформлению продукта"
   ]
  },
  {
   "cell_type": "markdown",
   "id": "2cfafbd7",
   "metadata": {},
   "source": [
    "Модель для всего датасета(не по бакетам)"
   ]
  },
  {
   "cell_type": "code",
   "execution_count": null,
   "id": "4c4a2cd5b9c6124a",
   "metadata": {
    "ExecuteTime": {
     "end_time": "2024-12-11T20:57:15.828254Z",
     "start_time": "2024-12-11T20:57:15.671109Z"
    }
   },
   "outputs": [
    {
     "name": "stdout",
     "output_type": "stream",
     "text": [
      "----------------------------Кредит----------------------------\n",
      "                 Generalized Linear Model Regression Results                  \n",
      "==============================================================================\n",
      "Dep. Variable:            success_flg   No. Observations:                 2612\n",
      "Model:                            GLM   Df Residuals:                     2608\n",
      "Model Family:                Binomial   Df Model:                            3\n",
      "Link Function:                  Logit   Scale:                          1.0000\n",
      "Method:                          IRLS   Log-Likelihood:                -295.42\n",
      "Date:                Sun, 15 Dec 2024   Deviance:                       590.84\n",
      "Time:                        18:29:16   Pearson chi2:                 1.95e+03\n",
      "No. Iterations:                     8   Pseudo R-squ. (CS):            0.09844\n",
      "Covariance Type:            nonrobust                                         \n",
      "=======================================================================================\n",
      "                          coef    std err          z      P>|z|      [0.025      0.975]\n",
      "---------------------------------------------------------------------------------------\n",
      "const                  -6.6211      0.525    -12.618      0.000      -7.650      -5.593\n",
      "pro_flg                -0.4083      0.256     -1.592      0.111      -0.911       0.094\n",
      "age                     0.0059      0.010      0.568      0.570      -0.015       0.026\n",
      "state_talk_time_sec     0.0322      0.002     13.952      0.000       0.028       0.037\n",
      "=======================================================================================\n",
      "----------------------------Кредитная карта----------------------------\n",
      "                 Generalized Linear Model Regression Results                  \n",
      "==============================================================================\n",
      "Dep. Variable:            success_flg   No. Observations:                 8344\n",
      "Model:                            GLM   Df Residuals:                     8340\n",
      "Model Family:                Binomial   Df Model:                            3\n",
      "Link Function:                  Logit   Scale:                          1.0000\n",
      "Method:                          IRLS   Log-Likelihood:                -1242.5\n",
      "Date:                Sun, 15 Dec 2024   Deviance:                       2485.1\n",
      "Time:                        18:29:16   Pearson chi2:                 4.89e+03\n",
      "No. Iterations:                     7   Pseudo R-squ. (CS):             0.1245\n",
      "Covariance Type:            nonrobust                                         \n",
      "=======================================================================================\n",
      "                          coef    std err          z      P>|z|      [0.025      0.975]\n",
      "---------------------------------------------------------------------------------------\n",
      "const                  -5.3936      0.215    -25.097      0.000      -5.815      -4.972\n",
      "pro_flg                 0.1134      0.135      0.839      0.402      -0.152       0.379\n",
      "age                     0.0005      0.004      0.104      0.917      -0.008       0.009\n",
      "state_talk_time_sec     0.0300      0.001     29.398      0.000       0.028       0.032\n",
      "=======================================================================================\n",
      "----------------------------Страхование и услуги----------------------------\n",
      "                 Generalized Linear Model Regression Results                  \n",
      "==============================================================================\n",
      "Dep. Variable:            success_flg   No. Observations:                 1956\n",
      "Model:                            GLM   Df Residuals:                     1952\n",
      "Model Family:                Binomial   Df Model:                            3\n",
      "Link Function:                  Logit   Scale:                          1.0000\n",
      "Method:                          IRLS   Log-Likelihood:                -440.88\n",
      "Date:                Sun, 15 Dec 2024   Deviance:                       881.76\n",
      "Time:                        18:29:16   Pearson chi2:                 1.72e+03\n",
      "No. Iterations:                     6   Pseudo R-squ. (CS):             0.1178\n",
      "Covariance Type:            nonrobust                                         \n",
      "=======================================================================================\n",
      "                          coef    std err          z      P>|z|      [0.025      0.975]\n",
      "---------------------------------------------------------------------------------------\n",
      "const                  -4.2626      0.356    -11.967      0.000      -4.961      -3.565\n",
      "pro_flg                 0.1023      0.187      0.547      0.585      -0.265       0.469\n",
      "age                    -0.0030      0.008     -0.395      0.693      -0.018       0.012\n",
      "state_talk_time_sec     0.0232      0.002     14.664      0.000       0.020       0.026\n",
      "=======================================================================================\n",
      "----------------------------Инвестиции----------------------------\n",
      "                 Generalized Linear Model Regression Results                  \n",
      "==============================================================================\n",
      "Dep. Variable:            success_flg   No. Observations:                  648\n",
      "Model:                            GLM   Df Residuals:                      644\n",
      "Model Family:                Binomial   Df Model:                            3\n",
      "Link Function:                  Logit   Scale:                          1.0000\n",
      "Method:                          IRLS   Log-Likelihood:                -81.905\n",
      "Date:                Sun, 15 Dec 2024   Deviance:                       163.81\n",
      "Time:                        18:29:16   Pearson chi2:                     435.\n",
      "No. Iterations:                     7   Pseudo R-squ. (CS):            0.06202\n",
      "Covariance Type:            nonrobust                                         \n",
      "=======================================================================================\n",
      "                          coef    std err          z      P>|z|      [0.025      0.975]\n",
      "---------------------------------------------------------------------------------------\n",
      "const                  -3.8650      0.720     -5.364      0.000      -5.277      -2.453\n",
      "pro_flg                -1.9087      0.666     -2.866      0.004      -3.214      -0.603\n",
      "age                    -0.0162      0.018     -0.915      0.360      -0.051       0.019\n",
      "state_talk_time_sec     0.0240      0.004      5.846      0.000       0.016       0.032\n",
      "=======================================================================================\n",
      "----------------------------Дебетовая карта----------------------------\n",
      "                 Generalized Linear Model Regression Results                  \n",
      "==============================================================================\n",
      "Dep. Variable:            success_flg   No. Observations:                 1520\n",
      "Model:                            GLM   Df Residuals:                     1516\n",
      "Model Family:                Binomial   Df Model:                            3\n",
      "Link Function:                  Logit   Scale:                          1.0000\n",
      "Method:                          IRLS   Log-Likelihood:                -783.16\n",
      "Date:                Sun, 15 Dec 2024   Deviance:                       1566.3\n",
      "Time:                        18:29:16   Pearson chi2:                 1.42e+03\n",
      "No. Iterations:                     4   Pseudo R-squ. (CS):             0.1982\n",
      "Covariance Type:            nonrobust                                         \n",
      "=======================================================================================\n",
      "                          coef    std err          z      P>|z|      [0.025      0.975]\n",
      "---------------------------------------------------------------------------------------\n",
      "const                  -1.3760      0.213     -6.457      0.000      -1.794      -0.958\n",
      "pro_flg                 0.4882      0.190      2.572      0.010       0.116       0.860\n",
      "age                    -0.0262      0.005     -5.349      0.000      -0.036      -0.017\n",
      "state_talk_time_sec     0.0207      0.001     15.093      0.000       0.018       0.023\n",
      "=======================================================================================\n"
     ]
    }
   ],
   "source": [
    "from statsmodels.genmod import families\n",
    "df = pd.read_csv('data\\data_final_preprocessed.csv')\n",
    "\n",
    "for col in df['product'].unique():\n",
    "    df1 = df[df['product'] == col]\n",
    "    X = df1[['pro_flg', 'age', 'state_talk_time_sec']]\n",
    "    y = df1['success_flg']\n",
    "    X = sm.add_constant(X)\n",
    "    print(f'----------------------------{col}----------------------------')\n",
    "    model = sm.GLM(y, X, family=families.Binomial())\n",
    "    model_result = model.fit()\n",
    "    print(model_result.summary())"
   ]
  },
  {
   "cell_type": "code",
   "execution_count": null,
   "id": "94ec6c866213c1b6",
   "metadata": {
    "ExecuteTime": {
     "end_time": "2024-12-11T20:58:16.460705Z",
     "start_time": "2024-12-11T20:58:16.327366Z"
    }
   },
   "outputs": [
    {
     "name": "stdout",
     "output_type": "stream",
     "text": [
      "                 Generalized Linear Model Regression Results                  \n",
      "==============================================================================\n",
      "Dep. Variable:            success_flg   No. Observations:                15080\n",
      "Model:                            GLM   Df Residuals:                    15076\n",
      "Model Family:                Binomial   Df Model:                            3\n",
      "Link Function:                  Logit   Scale:                          1.0000\n",
      "Method:                          IRLS   Log-Likelihood:                -3322.5\n",
      "Date:                Sun, 15 Dec 2024   Deviance:                       6645.0\n",
      "Time:                        18:29:16   Pearson chi2:                 1.17e+04\n",
      "No. Iterations:                     6   Pseudo R-squ. (CS):             0.1199\n",
      "Covariance Type:            nonrobust                                         \n",
      "=======================================================================================\n",
      "                          coef    std err          z      P>|z|      [0.025      0.975]\n",
      "---------------------------------------------------------------------------------------\n",
      "const                  -3.9607      0.123    -32.072      0.000      -4.203      -3.719\n",
      "pro_flg                -0.2896      0.080     -3.611      0.000      -0.447      -0.132\n",
      "age                    -0.0099      0.003     -3.629      0.000      -0.015      -0.005\n",
      "state_talk_time_sec     0.0246      0.001     40.707      0.000       0.023       0.026\n",
      "=======================================================================================\n"
     ]
    }
   ],
   "source": [
    "from statsmodels.genmod import families\n",
    "\n",
    "df = pd.read_csv('data\\data_final_preprocessed.csv')\n",
    "X = df[['pro_flg', 'age', 'state_talk_time_sec']]\n",
    "y = df['success_flg']\n",
    "X = sm.add_constant(X)\n",
    "\n",
    "model = sm.GLM(y, X, family=families.Binomial())\n",
    "model_result = model.fit()\n",
    "\n",
    "print(model_result.summary())"
   ]
  },
  {
   "cell_type": "code",
   "execution_count": null,
   "id": "b1f7bb45c12f3896",
   "metadata": {
    "ExecuteTime": {
     "end_time": "2024-12-11T20:58:19.361279Z",
     "start_time": "2024-12-11T20:58:19.342782Z"
    }
   },
   "outputs": [
    {
     "data": {
      "text/plain": [
       "0.8619338523214619"
      ]
     },
     "execution_count": 1149,
     "metadata": {},
     "output_type": "execute_result"
    }
   ],
   "source": [
    "from sklearn.metrics import roc_auc_score\n",
    "roc_auc_score(df['success_flg'], model_result.predict())"
   ]
  },
  {
   "cell_type": "code",
   "execution_count": null,
   "id": "be932a57a190ef73",
   "metadata": {
    "ExecuteTime": {
     "end_time": "2024-12-11T20:58:20.185962Z",
     "start_time": "2024-12-11T20:58:20.162863Z"
    }
   },
   "outputs": [
    {
     "data": {
      "text/html": [
       "<div>\n",
       "<style scoped>\n",
       "    .dataframe tbody tr th:only-of-type {\n",
       "        vertical-align: middle;\n",
       "    }\n",
       "\n",
       "    .dataframe tbody tr th {\n",
       "        vertical-align: top;\n",
       "    }\n",
       "\n",
       "    .dataframe thead th {\n",
       "        text-align: right;\n",
       "    }\n",
       "</style>\n",
       "<table border=\"1\" class=\"dataframe\">\n",
       "  <thead>\n",
       "    <tr style=\"text-align: right;\">\n",
       "      <th></th>\n",
       "      <th>feature</th>\n",
       "      <th>VIF</th>\n",
       "    </tr>\n",
       "  </thead>\n",
       "  <tbody>\n",
       "    <tr>\n",
       "      <th>0</th>\n",
       "      <td>const</td>\n",
       "      <td>13.092173</td>\n",
       "    </tr>\n",
       "    <tr>\n",
       "      <th>1</th>\n",
       "      <td>pro_flg</td>\n",
       "      <td>1.012126</td>\n",
       "    </tr>\n",
       "    <tr>\n",
       "      <th>2</th>\n",
       "      <td>age</td>\n",
       "      <td>1.012515</td>\n",
       "    </tr>\n",
       "    <tr>\n",
       "      <th>3</th>\n",
       "      <td>state_talk_time_sec</td>\n",
       "      <td>1.003632</td>\n",
       "    </tr>\n",
       "  </tbody>\n",
       "</table>\n",
       "</div>"
      ],
      "text/plain": [
       "               feature        VIF\n",
       "0                const  13.092173\n",
       "1              pro_flg   1.012126\n",
       "2                  age   1.012515\n",
       "3  state_talk_time_sec   1.003632"
      ]
     },
     "execution_count": 1150,
     "metadata": {},
     "output_type": "execute_result"
    }
   ],
   "source": [
    "from statsmodels.stats.outliers_influence import variance_inflation_factor\n",
    "vif_data = pd.DataFrame()\n",
    "vif_data[\"feature\"] = X.columns\n",
    "\n",
    "vif_data[\"VIF\"] = [variance_inflation_factor(X.values, i)\n",
    "                          for i in range(len(X.columns))]\n",
    "\n",
    "vif_data"
   ]
  },
  {
   "cell_type": "code",
   "execution_count": null,
   "id": "414a01c8d04f7e13",
   "metadata": {
    "ExecuteTime": {
     "end_time": "2024-12-11T20:58:21.371408Z",
     "start_time": "2024-12-11T20:58:21.224829Z"
    }
   },
   "outputs": [
    {
     "data": {
      "image/png": "[encoded data removed]",
      "text/plain": [
       "<Figure size 800x600 with 1 Axes>"
      ]
     },
     "metadata": {},
     "output_type": "display_data"
    }
   ],
   "source": [
    "import matplotlib.pyplot as plt\n",
    "from sklearn.metrics import roc_curve, auc\n",
    "\n",
    "# Get predicted probabilities from the probit model\n",
    "y_pred_prob = model_result.predict(X)\n",
    "\n",
    "# Calculate ROC curve\n",
    "fpr, tpr, thresholds = roc_curve(y, y_pred_prob)\n",
    "\n",
    "# Calculate AUC\n",
    "roc_auc = auc(fpr, tpr)\n",
    "\n",
    "# Plot ROC curve\n",
    "plt.figure(figsize=(8, 6))\n",
    "plt.plot(fpr, tpr, color='blue', lw=2, label=f'ROC curve (AUC = {roc_auc:.2f})')\n",
    "plt.plot([0, 1], [0, 1], color='gray', linestyle='--')\n",
    "plt.xlim([0.0, 1.0])\n",
    "plt.ylim([0.0, 1.05])\n",
    "plt.xlabel('False Positive Rate (FPR)')\n",
    "plt.ylabel('True Positive Rate (TPR)')\n",
    "plt.title('Receiver Operating Characteristic (ROC) Curve')\n",
    "plt.legend(loc='lower right')\n",
    "plt.show()\n"
   ]
  }
 ],
 "metadata": {
  "kernelspec": {
   "display_name": "Python 3",
   "language": "python",
   "name": "python3"
  },
  "language_info": {
   "codemirror_mode": {
    "name": "ipython",
    "version": 3
   },
   "file_extension": ".py",
   "mimetype": "text/x-python",
   "name": "python",
   "nbconvert_exporter": "python",
   "pygments_lexer": "ipython3",
   "version": "3.12.8"
  }
 },
 "nbformat": 4,
 "nbformat_minor": 5
}
