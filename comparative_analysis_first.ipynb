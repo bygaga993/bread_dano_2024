{
 "cells": [
  {
   "cell_type": "code",
   "execution_count": 118,
   "metadata": {},
   "outputs": [],
   "source": [
    "import pandas as pd"
   ]
  },
  {
   "cell_type": "code",
   "execution_count": 119,
   "metadata": {},
   "outputs": [
    {
     "data": {
      "text/html": [
       "<div>\n",
       "<style scoped>\n",
       "    .dataframe tbody tr th:only-of-type {\n",
       "        vertical-align: middle;\n",
       "    }\n",
       "\n",
       "    .dataframe tbody tr th {\n",
       "        vertical-align: top;\n",
       "    }\n",
       "\n",
       "    .dataframe thead th {\n",
       "        text-align: right;\n",
       "    }\n",
       "</style>\n",
       "<table border=\"1\" class=\"dataframe\">\n",
       "  <thead>\n",
       "    <tr style=\"text-align: right;\">\n",
       "      <th></th>\n",
       "      <th>customer_id</th>\n",
       "      <th>age</th>\n",
       "      <th>gender_cd</th>\n",
       "      <th>region_size</th>\n",
       "      <th>foreign_flg</th>\n",
       "      <th>entrepreneur_flg</th>\n",
       "      <th>auto_flg</th>\n",
       "      <th>traveler_flg</th>\n",
       "      <th>partnership_flg</th>\n",
       "      <th>child_amt</th>\n",
       "      <th>...</th>\n",
       "      <th>emp_age</th>\n",
       "      <th>emp_gender_cd</th>\n",
       "      <th>emp_children_cnt</th>\n",
       "      <th>emp_work_months_cnt</th>\n",
       "      <th>emp_citizenship_country_cd</th>\n",
       "      <th>emp_marital_status_cd</th>\n",
       "      <th>day_of_week</th>\n",
       "      <th>is_holiday</th>\n",
       "      <th>region_size_numeric</th>\n",
       "      <th>approval_flag</th>\n",
       "    </tr>\n",
       "  </thead>\n",
       "  <tbody>\n",
       "    <tr>\n",
       "      <th>0</th>\n",
       "      <td>422206773</td>\n",
       "      <td>58.0</td>\n",
       "      <td>0</td>\n",
       "      <td>No</td>\n",
       "      <td>NaN</td>\n",
       "      <td>NaN</td>\n",
       "      <td>NaN</td>\n",
       "      <td>NaN</td>\n",
       "      <td>NaN</td>\n",
       "      <td>NaN</td>\n",
       "      <td>...</td>\n",
       "      <td>30</td>\n",
       "      <td>W</td>\n",
       "      <td>NaN</td>\n",
       "      <td>1</td>\n",
       "      <td>NaN</td>\n",
       "      <td>NaN</td>\n",
       "      <td>1</td>\n",
       "      <td>0</td>\n",
       "      <td>0</td>\n",
       "      <td>0</td>\n",
       "    </tr>\n",
       "    <tr>\n",
       "      <th>1</th>\n",
       "      <td>348648289</td>\n",
       "      <td>44.0</td>\n",
       "      <td>1</td>\n",
       "      <td>rural</td>\n",
       "      <td>0.0</td>\n",
       "      <td>0.0</td>\n",
       "      <td>0.0</td>\n",
       "      <td>0.0</td>\n",
       "      <td>1.0</td>\n",
       "      <td>1.0</td>\n",
       "      <td>...</td>\n",
       "      <td>36</td>\n",
       "      <td>W</td>\n",
       "      <td>NaN</td>\n",
       "      <td>2</td>\n",
       "      <td>RUS</td>\n",
       "      <td>NaN</td>\n",
       "      <td>2</td>\n",
       "      <td>0</td>\n",
       "      <td>4</td>\n",
       "      <td>0</td>\n",
       "    </tr>\n",
       "    <tr>\n",
       "      <th>2</th>\n",
       "      <td>345496995</td>\n",
       "      <td>23.0</td>\n",
       "      <td>0</td>\n",
       "      <td>town</td>\n",
       "      <td>0.0</td>\n",
       "      <td>0.0</td>\n",
       "      <td>1.0</td>\n",
       "      <td>0.0</td>\n",
       "      <td>1.0</td>\n",
       "      <td>0.0</td>\n",
       "      <td>...</td>\n",
       "      <td>52</td>\n",
       "      <td>W</td>\n",
       "      <td>NaN</td>\n",
       "      <td>6</td>\n",
       "      <td>NaN</td>\n",
       "      <td>NaN</td>\n",
       "      <td>4</td>\n",
       "      <td>0</td>\n",
       "      <td>1</td>\n",
       "      <td>1</td>\n",
       "    </tr>\n",
       "    <tr>\n",
       "      <th>3</th>\n",
       "      <td>138498254</td>\n",
       "      <td>30.0</td>\n",
       "      <td>1</td>\n",
       "      <td>No</td>\n",
       "      <td>NaN</td>\n",
       "      <td>NaN</td>\n",
       "      <td>NaN</td>\n",
       "      <td>NaN</td>\n",
       "      <td>NaN</td>\n",
       "      <td>NaN</td>\n",
       "      <td>...</td>\n",
       "      <td>51</td>\n",
       "      <td>W</td>\n",
       "      <td>NaN</td>\n",
       "      <td>7</td>\n",
       "      <td>NaN</td>\n",
       "      <td>NaN</td>\n",
       "      <td>0</td>\n",
       "      <td>0</td>\n",
       "      <td>0</td>\n",
       "      <td>0</td>\n",
       "    </tr>\n",
       "    <tr>\n",
       "      <th>4</th>\n",
       "      <td>64946855</td>\n",
       "      <td>31.0</td>\n",
       "      <td>1</td>\n",
       "      <td>town</td>\n",
       "      <td>0.0</td>\n",
       "      <td>0.0</td>\n",
       "      <td>0.0</td>\n",
       "      <td>0.0</td>\n",
       "      <td>1.0</td>\n",
       "      <td>0.0</td>\n",
       "      <td>...</td>\n",
       "      <td>43</td>\n",
       "      <td>W</td>\n",
       "      <td>NaN</td>\n",
       "      <td>6</td>\n",
       "      <td>RUS</td>\n",
       "      <td>UNM</td>\n",
       "      <td>4</td>\n",
       "      <td>0</td>\n",
       "      <td>1</td>\n",
       "      <td>0</td>\n",
       "    </tr>\n",
       "  </tbody>\n",
       "</table>\n",
       "<p>5 rows × 32 columns</p>\n",
       "</div>"
      ],
      "text/plain": [
       "   customer_id   age  gender_cd region_size  foreign_flg  entrepreneur_flg  \\\n",
       "0    422206773  58.0          0          No          NaN               NaN   \n",
       "1    348648289  44.0          1       rural          0.0               0.0   \n",
       "2    345496995  23.0          0        town          0.0               0.0   \n",
       "3    138498254  30.0          1          No          NaN               NaN   \n",
       "4     64946855  31.0          1        town          0.0               0.0   \n",
       "\n",
       "   auto_flg  traveler_flg  partnership_flg  child_amt  ... emp_age  \\\n",
       "0       NaN           NaN              NaN        NaN  ...      30   \n",
       "1       0.0           0.0              1.0        1.0  ...      36   \n",
       "2       1.0           0.0              1.0        0.0  ...      52   \n",
       "3       NaN           NaN              NaN        NaN  ...      51   \n",
       "4       0.0           0.0              1.0        0.0  ...      43   \n",
       "\n",
       "  emp_gender_cd emp_children_cnt  emp_work_months_cnt  \\\n",
       "0             W              NaN                    1   \n",
       "1             W              NaN                    2   \n",
       "2             W              NaN                    6   \n",
       "3             W              NaN                    7   \n",
       "4             W              NaN                    6   \n",
       "\n",
       "   emp_citizenship_country_cd emp_marital_status_cd day_of_week is_holiday  \\\n",
       "0                         NaN                   NaN           1          0   \n",
       "1                         RUS                   NaN           2          0   \n",
       "2                         NaN                   NaN           4          0   \n",
       "3                         NaN                   NaN           0          0   \n",
       "4                         RUS                   UNM           4          0   \n",
       "\n",
       "   region_size_numeric approval_flag  \n",
       "0                    0             0  \n",
       "1                    4             0  \n",
       "2                    1             1  \n",
       "3                    0             0  \n",
       "4                    1             0  \n",
       "\n",
       "[5 rows x 32 columns]"
      ]
     },
     "execution_count": 119,
     "metadata": {},
     "output_type": "execute_result"
    }
   ],
   "source": [
    "df = pd.read_csv(\"data_preprocessed.csv\")\n",
    "df.head()"
   ]
  },
  {
   "cell_type": "code",
   "execution_count": 120,
   "metadata": {},
   "outputs": [
    {
     "data": {
      "text/plain": [
       "(15567, 32)"
      ]
     },
     "execution_count": 120,
     "metadata": {},
     "output_type": "execute_result"
    }
   ],
   "source": [
    "df.shape"
   ]
  },
  {
   "cell_type": "code",
   "execution_count": 121,
   "metadata": {},
   "outputs": [
    {
     "data": {
      "text/html": [
       "<div>\n",
       "<style scoped>\n",
       "    .dataframe tbody tr th:only-of-type {\n",
       "        vertical-align: middle;\n",
       "    }\n",
       "\n",
       "    .dataframe tbody tr th {\n",
       "        vertical-align: top;\n",
       "    }\n",
       "\n",
       "    .dataframe thead th {\n",
       "        text-align: right;\n",
       "    }\n",
       "</style>\n",
       "<table border=\"1\" class=\"dataframe\">\n",
       "  <thead>\n",
       "    <tr style=\"text-align: right;\">\n",
       "      <th></th>\n",
       "      <th>approval_flag</th>\n",
       "      <th>is_long</th>\n",
       "    </tr>\n",
       "  </thead>\n",
       "  <tbody>\n",
       "    <tr>\n",
       "      <th>0</th>\n",
       "      <td>0</td>\n",
       "      <td>0.285714</td>\n",
       "    </tr>\n",
       "    <tr>\n",
       "      <th>1</th>\n",
       "      <td>1</td>\n",
       "      <td>0.877843</td>\n",
       "    </tr>\n",
       "  </tbody>\n",
       "</table>\n",
       "</div>"
      ],
      "text/plain": [
       "   approval_flag   is_long\n",
       "0              0  0.285714\n",
       "1              1  0.877843"
      ]
     },
     "execution_count": 121,
     "metadata": {},
     "output_type": "execute_result"
    }
   ],
   "source": [
    "mean_talk = df[\"state_talk_time_sec\"].mean()\n",
    "df[\"is_long\"] = df[\"state_talk_time_sec\"] > mean_talk\n",
    "df.groupby(\"approval_flag\")[\"is_long\"].mean().reset_index()"
   ]
  },
  {
   "cell_type": "code",
   "execution_count": 122,
   "metadata": {},
   "outputs": [
    {
     "data": {
      "text/html": [
       "<div>\n",
       "<style scoped>\n",
       "    .dataframe tbody tr th:only-of-type {\n",
       "        vertical-align: middle;\n",
       "    }\n",
       "\n",
       "    .dataframe tbody tr th {\n",
       "        vertical-align: top;\n",
       "    }\n",
       "\n",
       "    .dataframe thead th {\n",
       "        text-align: right;\n",
       "    }\n",
       "</style>\n",
       "<table border=\"1\" class=\"dataframe\">\n",
       "  <thead>\n",
       "    <tr style=\"text-align: right;\">\n",
       "      <th></th>\n",
       "      <th>approval_flag</th>\n",
       "      <th>state_talk_time_sec</th>\n",
       "    </tr>\n",
       "  </thead>\n",
       "  <tbody>\n",
       "    <tr>\n",
       "      <th>0</th>\n",
       "      <td>0</td>\n",
       "      <td>56.249715</td>\n",
       "    </tr>\n",
       "    <tr>\n",
       "      <th>1</th>\n",
       "      <td>1</td>\n",
       "      <td>148.852502</td>\n",
       "    </tr>\n",
       "  </tbody>\n",
       "</table>\n",
       "</div>"
      ],
      "text/plain": [
       "   approval_flag  state_talk_time_sec\n",
       "0              0            56.249715\n",
       "1              1           148.852502"
      ]
     },
     "execution_count": 122,
     "metadata": {},
     "output_type": "execute_result"
    }
   ],
   "source": [
    "df.groupby(\"approval_flag\")[\"state_talk_time_sec\"].mean().reset_index()"
   ]
  },
  {
   "cell_type": "markdown",
   "metadata": {},
   "source": [
    "Зависимость длительности звонка и успешности"
   ]
  },
  {
   "cell_type": "code",
   "execution_count": 123,
   "metadata": {},
   "outputs": [
    {
     "name": "stdout",
     "output_type": "stream",
     "text": [
      "Статистика: 0.11269541542463701, p-значение: 1.0614919996074597e-112\n",
      "Статистика: 0.5403348028584449, p-значение: 5.36437484802561e-80\n",
      "Тест Манна-Уитни:\n",
      "U-статистика: 20960578.0, p-значение: 0.0\n",
      "Значимость теста Манна-Уитни (p < 0.05): True\n"
     ]
    },
    {
     "name": "stderr",
     "output_type": "stream",
     "text": [
      "C:\\Users\\ASUS\\AppData\\Local\\Packages\\PythonSoftwareFoundation.Python.3.12_qbz5n2kfra8p0\\LocalCache\\local-packages\\Python312\\site-packages\\scipy\\stats\\_axis_nan_policy.py:531: UserWarning: scipy.stats.shapiro: For N > 5000, computed p-value may not be accurate. Current N is 10208.\n",
      "  res = hypotest_fun_out(*samples, **kwds)\n",
      "C:\\Users\\ASUS\\AppData\\Local\\Packages\\PythonSoftwareFoundation.Python.3.12_qbz5n2kfra8p0\\LocalCache\\local-packages\\Python312\\site-packages\\scipy\\stats\\_axis_nan_policy.py:531: UserWarning: scipy.stats.shapiro: For N > 5000, computed p-value may not be accurate. Current N is 5359.\n",
      "  res = hypotest_fun_out(*samples, **kwds)\n"
     ]
    }
   ],
   "source": [
    "from scipy.stats import shapiro, mannwhitneyu\n",
    "\n",
    "normal_calls = df[df[\"state_talk_time_sec\"] <= mean_talk][\"approval_flag\"]\n",
    "long_calls = df[df[\"state_talk_time_sec\"] > mean_talk][\"approval_flag\"]\n",
    "\n",
    "# Тест на нормальность\n",
    "shapiro_norm = shapiro(normal_calls)\n",
    "shapiro_long = shapiro(long_calls)\n",
    "\n",
    "# Результаты теста Шапиро-Уилка\n",
    "print(f\"Статистика: {shapiro_norm.statistic}, p-значение: {shapiro_norm.pvalue}\")\n",
    "\n",
    "print(f\"Статистика: {shapiro_long.statistic}, p-значение: {shapiro_long.pvalue}\")\n",
    "\n",
    "# Выполнение теста Манна-Уитни\n",
    "u_stat, p_value_mw = mannwhitneyu(normal_calls, long_calls)\n",
    "\n",
    "# Результаты теста\n",
    "print(\"Тест Манна-Уитни:\")\n",
    "print(f\"U-статистика: {u_stat}, p-значение: {p_value_mw}\")\n",
    "\n",
    "# Проверка на значимость\n",
    "is_significant_mw = p_value_mw < 0.05\n",
    "print(\"Значимость теста Манна-Уитни (p < 0.05):\", is_significant_mw)"
   ]
  },
  {
   "cell_type": "markdown",
   "metadata": {},
   "source": [
    "Зависимость дня недели и успешности звонка"
   ]
  },
  {
   "cell_type": "code",
   "execution_count": 124,
   "metadata": {},
   "outputs": [
    {
     "name": "stdout",
     "output_type": "stream",
     "text": [
      "Тест хи-квадрат:\n",
      "Хи-квадрат статистика: 4.176960817366622\n",
      "p-значение: 0.040977120378438585\n",
      "Степени свободы: 1\n",
      "Ожидаемые частоты:\n",
      "[[12635.74330314  1386.25669686]\n",
      " [ 1392.25669686   152.74330314]]\n",
      "Значимость теста хи-квадрат (p < 0.05): True\n"
     ]
    }
   ],
   "source": [
    "from scipy.stats import chi2_contingency\n",
    "\n",
    "# Создание контингентной таблицы\n",
    "contingency_table = pd.crosstab(df['is_holiday'], df['approval_flag'])\n",
    "\n",
    "# Выполнение теста хи-квадрат\n",
    "chi2_stat, p_value, dof, expected = chi2_contingency(contingency_table)\n",
    "\n",
    "# Результаты теста\n",
    "print(\"Тест хи-квадрат:\")\n",
    "print(f\"Хи-квадрат статистика: {chi2_stat}\")\n",
    "print(f\"p-значение: {p_value}\")\n",
    "print(f\"Степени свободы: {dof}\")\n",
    "print(\"Ожидаемые частоты:\")\n",
    "print(expected)\n",
    "\n",
    "# Проверка на значимость\n",
    "is_significant_chi2 = p_value < 0.05\n",
    "print(\"Значимость теста хи-квадрат (p < 0.05):\", is_significant_chi2)"
   ]
  },
  {
   "cell_type": "code",
   "execution_count": 125,
   "metadata": {},
   "outputs": [
    {
     "data": {
      "text/plain": [
       "approval_flag\n",
       "0    37.885814\n",
       "1    37.243015\n",
       "Name: age, dtype: float64"
      ]
     },
     "execution_count": 125,
     "metadata": {},
     "output_type": "execute_result"
    }
   ],
   "source": [
    "df.groupby(\"approval_flag\")[\"age\"].mean()"
   ]
  },
  {
   "cell_type": "markdown",
   "metadata": {},
   "source": [
    "Зависимость успешности звонка и возраста"
   ]
  },
  {
   "cell_type": "code",
   "execution_count": 126,
   "metadata": {},
   "outputs": [
    {
     "name": "stdout",
     "output_type": "stream",
     "text": [
      "Тест Шапиро-Уилка для праздничных разговоров:\n",
      "Статистика: 0.9761516008993104, p-значение: 6.521632923447075e-43\n",
      "\n",
      "Тест Шапиро-Уилка для непраздничных разговоров:\n",
      "Статистика: 0.9792255058177661, p-значение: 3.992990531267659e-14\n",
      "Тест Манна-Уитни:\n",
      "U-статистика: 11044540.0, p-значение: 0.13510454317844786\n",
      "Значимость теста Манна-Уитни (p < 0.05): False\n"
     ]
    },
    {
     "name": "stderr",
     "output_type": "stream",
     "text": [
      "C:\\Users\\ASUS\\AppData\\Local\\Packages\\PythonSoftwareFoundation.Python.3.12_qbz5n2kfra8p0\\LocalCache\\local-packages\\Python312\\site-packages\\scipy\\stats\\_axis_nan_policy.py:531: UserWarning: scipy.stats.shapiro: For N > 5000, computed p-value may not be accurate. Current N is 14028.\n",
      "  res = hypotest_fun_out(*samples, **kwds)\n"
     ]
    }
   ],
   "source": [
    "from scipy.stats import shapiro, mannwhitneyu\n",
    "\n",
    "success_age = df[df[\"approval_flag\"] == 0][\"age\"]\n",
    "unsuccess_age = df[df[\"approval_flag\"] == 1][\"age\"]\n",
    "\n",
    "# Тест на нормальность для праздничных разговоров\n",
    "shapiro_holiday = shapiro(success_age)\n",
    "shapiro_not_holiday = shapiro(unsuccess_age)\n",
    "\n",
    "# Результаты теста Шапиро-Уилка\n",
    "print(\"Тест Шапиро-Уилка для праздничных разговоров:\")\n",
    "print(f\"Статистика: {shapiro_holiday.statistic}, p-значение: {shapiro_holiday.pvalue}\")\n",
    "\n",
    "print(\"\\nТест Шапиро-Уилка для непраздничных разговоров:\")\n",
    "print(f\"Статистика: {shapiro_not_holiday.statistic}, p-значение: {shapiro_not_holiday.pvalue}\")\n",
    "\n",
    "# Выполнение теста Манна-Уитни\n",
    "u_stat, p_value_mw = mannwhitneyu(success_age, unsuccess_age)\n",
    "\n",
    "# Результаты теста\n",
    "print(\"Тест Манна-Уитни:\")\n",
    "print(f\"U-статистика: {u_stat}, p-значение: {p_value_mw}\")\n",
    "\n",
    "# Проверка на значимость\n",
    "is_significant_mw = p_value_mw < 0.05\n",
    "print(\"Значимость теста Манна-Уитни (p < 0.05):\", is_significant_mw)"
   ]
  },
  {
   "cell_type": "code",
   "execution_count": 127,
   "metadata": {},
   "outputs": [
    {
     "data": {
      "text/plain": [
       "approval_flag\n",
       "0    14028\n",
       "1     1539\n",
       "Name: count, dtype: int64"
      ]
     },
     "execution_count": 127,
     "metadata": {},
     "output_type": "execute_result"
    }
   ],
   "source": [
    "df[\"approval_flag\"].value_counts()"
   ]
  },
  {
   "cell_type": "code",
   "execution_count": 128,
   "metadata": {},
   "outputs": [
    {
     "data": {
      "text/plain": [
       "11713"
      ]
     },
     "execution_count": 128,
     "metadata": {},
     "output_type": "execute_result"
    }
   ],
   "source": [
    "df[\"bundle_nm\"].isna().sum()"
   ]
  },
  {
   "cell_type": "code",
   "execution_count": 129,
   "metadata": {},
   "outputs": [
    {
     "data": {
      "text/plain": [
       "bundle_nm\n",
       "Pro        3615\n",
       "Premium     238\n",
       "XXX           1\n",
       "Name: count, dtype: int64"
      ]
     },
     "execution_count": 129,
     "metadata": {},
     "output_type": "execute_result"
    }
   ],
   "source": [
    "df[\"bundle_nm\"].value_counts()"
   ]
  },
  {
   "cell_type": "code",
   "execution_count": 130,
   "metadata": {},
   "outputs": [],
   "source": [
    "df[\"bundle_pro\"] = df[\"bundle_nm\"] == \"Pro\""
   ]
  },
  {
   "cell_type": "code",
   "execution_count": 131,
   "metadata": {},
   "outputs": [],
   "source": [
    "df[\"bundle_nm\"] = df[\"bundle_nm\"].replace(\"XXX\", \"Без подписки\")\n",
    "df[\"bundle_nm\"] = df[\"bundle_nm\"].fillna(\"Без подписки\")"
   ]
  },
  {
   "cell_type": "code",
   "execution_count": null,
   "metadata": {},
   "outputs": [],
   "source": []
  },
  {
   "cell_type": "code",
   "execution_count": 132,
   "metadata": {},
   "outputs": [],
   "source": [
    "# from scipy.stats import chi2_contingency\n",
    "\n",
    "# # Создание контингентной таблицы\n",
    "# contingency_table = pd.crosstab(df['bundle_nm'], df['approval_flag'])\n",
    "\n",
    "# # Выполнение теста хи-квадрат\n",
    "# chi2_stat, p_value, dof, expected = chi2_contingency(contingency_table)\n",
    "\n",
    "# # Результаты теста\n",
    "# print(\"Тест хи-квадрат:\")\n",
    "# print(f\"Хи-квадрат статистика: {chi2_stat}\")\n",
    "# print(f\"p-значение: {p_value}\")\n",
    "# print(f\"Степени свободы: {dof}\")\n",
    "# print(\"Ожидаемые частоты:\")\n",
    "# print(expected)\n",
    "\n",
    "# # Проверка на значимость\n",
    "# is_significant_chi2 = p_value < 0.05\n",
    "# print(\"Значимость теста хи-квадрат (p < 0.05):\", is_significant_chi2)"
   ]
  },
  {
   "cell_type": "code",
   "execution_count": 133,
   "metadata": {},
   "outputs": [
    {
     "data": {
      "text/plain": [
       "approval_flag\n",
       "0    0.097591\n",
       "1    0.114360\n",
       "Name: is_holiday, dtype: float64"
      ]
     },
     "execution_count": 133,
     "metadata": {},
     "output_type": "execute_result"
    }
   ],
   "source": [
    "df.groupby(\"approval_flag\")[\"is_holiday\"].mean()"
   ]
  },
  {
   "cell_type": "markdown",
   "metadata": {},
   "source": [
    "Зависимость дня недели от длительности звонка"
   ]
  },
  {
   "cell_type": "code",
   "execution_count": 134,
   "metadata": {},
   "outputs": [
    {
     "name": "stdout",
     "output_type": "stream",
     "text": [
      "Тест Шапиро-Уилка для праздничных разговоров:\n",
      "Статистика: 0.8285706975616686, p-значение: 8.464894033875045e-38\n",
      "\n",
      "Тест Шапиро-Уилка для непраздничных разговоров:\n",
      "Статистика: 0.8079891479744433, p-значение: 2.0652670756068684e-83\n",
      "Тест Манна-Уитни:\n",
      "U-статистика: 11274327.0, p-значение: 0.008324475483670995\n",
      "Значимость теста Манна-Уитни (p < 0.05): True\n"
     ]
    },
    {
     "name": "stderr",
     "output_type": "stream",
     "text": [
      "C:\\Users\\ASUS\\AppData\\Local\\Packages\\PythonSoftwareFoundation.Python.3.12_qbz5n2kfra8p0\\LocalCache\\local-packages\\Python312\\site-packages\\scipy\\stats\\_axis_nan_policy.py:531: UserWarning: scipy.stats.shapiro: For N > 5000, computed p-value may not be accurate. Current N is 14022.\n",
      "  res = hypotest_fun_out(*samples, **kwds)\n"
     ]
    }
   ],
   "source": [
    "from scipy.stats import shapiro, mannwhitneyu\n",
    "\n",
    "holiday_talk = df[df[\"is_holiday\"] == 1][\"state_talk_time_sec\"]\n",
    "not_holiday_talk = df[df[\"is_holiday\"] == 0][\"state_talk_time_sec\"]\n",
    "\n",
    "# Тест на нормальность для праздничных разговоров\n",
    "shapiro_holiday = shapiro(holiday_talk)\n",
    "shapiro_not_holiday = shapiro(not_holiday_talk)\n",
    "\n",
    "# Результаты теста Шапиро-Уилка\n",
    "print(\"Тест Шапиро-Уилка для праздничных разговоров:\")\n",
    "print(f\"Статистика: {shapiro_holiday.statistic}, p-значение: {shapiro_holiday.pvalue}\")\n",
    "\n",
    "print(\"\\nТест Шапиро-Уилка для непраздничных разговоров:\")\n",
    "print(f\"Статистика: {shapiro_not_holiday.statistic}, p-значение: {shapiro_not_holiday.pvalue}\")\n",
    "\n",
    "# Выполнение теста Манна-Уитни\n",
    "u_stat, p_value_mw = mannwhitneyu(holiday_talk, not_holiday_talk)\n",
    "\n",
    "# Результаты теста\n",
    "print(\"Тест Манна-Уитни:\")\n",
    "print(f\"U-статистика: {u_stat}, p-значение: {p_value_mw}\")\n",
    "\n",
    "# Проверка на значимость\n",
    "is_significant_mw = p_value_mw < 0.05\n",
    "print(\"Значимость теста Манна-Уитни (p < 0.05):\", is_significant_mw)\n"
   ]
  },
  {
   "cell_type": "code",
   "execution_count": 135,
   "metadata": {},
   "outputs": [
    {
     "data": {
      "text/plain": [
       "6162"
      ]
     },
     "execution_count": 135,
     "metadata": {},
     "output_type": "execute_result"
    }
   ],
   "source": [
    "df[\"partnership_flg\"].isna().sum()"
   ]
  },
  {
   "cell_type": "code",
   "execution_count": 136,
   "metadata": {},
   "outputs": [
    {
     "data": {
      "text/plain": [
       "partnership_flg\n",
       "1.0    7537\n",
       "0.0    1868\n",
       "Name: count, dtype: int64"
      ]
     },
     "execution_count": 136,
     "metadata": {},
     "output_type": "execute_result"
    }
   ],
   "source": [
    "df[\"partnership_flg\"].value_counts()"
   ]
  },
  {
   "cell_type": "code",
   "execution_count": 137,
   "metadata": {},
   "outputs": [
    {
     "data": {
      "text/plain": [
       "(15567, 34)"
      ]
     },
     "execution_count": 137,
     "metadata": {},
     "output_type": "execute_result"
    }
   ],
   "source": [
    "df.shape"
   ]
  },
  {
   "cell_type": "code",
   "execution_count": 138,
   "metadata": {},
   "outputs": [],
   "source": [
    "# from scipy.stats import shapiro, mannwhitneyu\n",
    "\n",
    "# df_workdays = df[df[\"is_holiday\"] == 0]\n",
    "\n",
    "# holiday_talk = df[df[\"\"]][\"\"]\n",
    "# not_holiday_talk = df[df[\"\"]][\"\"]\n",
    "\n",
    "# # Тест на нормальность для праздничных разговоров\n",
    "# shapiro_holiday = shapiro(holiday_talk)\n",
    "# shapiro_not_holiday = shapiro(not_holiday_talk)\n",
    "\n",
    "# # Результаты теста Шапиро-Уилка\n",
    "# print(\"Тест Шапиро-Уилка для праздничных разговоров:\")\n",
    "# print(f\"Статистика: {shapiro_holiday.statistic}, p-значение: {shapiro_holiday.pvalue}\")\n",
    "\n",
    "# print(\"\\nТест Шапиро-Уилка для непраздничных разговоров:\")\n",
    "# print(f\"Статистика: {shapiro_not_holiday.statistic}, p-значение: {shapiro_not_holiday.pvalue}\")\n"
   ]
  },
  {
   "cell_type": "code",
   "execution_count": 139,
   "metadata": {},
   "outputs": [
    {
     "data": {
      "text/html": [
       "<div>\n",
       "<style scoped>\n",
       "    .dataframe tbody tr th:only-of-type {\n",
       "        vertical-align: middle;\n",
       "    }\n",
       "\n",
       "    .dataframe tbody tr th {\n",
       "        vertical-align: top;\n",
       "    }\n",
       "\n",
       "    .dataframe thead th {\n",
       "        text-align: right;\n",
       "    }\n",
       "</style>\n",
       "<table border=\"1\" class=\"dataframe\">\n",
       "  <thead>\n",
       "    <tr style=\"text-align: right;\">\n",
       "      <th></th>\n",
       "      <th>approval_flag</th>\n",
       "      <th>gender_cd</th>\n",
       "    </tr>\n",
       "  </thead>\n",
       "  <tbody>\n",
       "    <tr>\n",
       "      <th>0</th>\n",
       "      <td>0</td>\n",
       "      <td>0.523810</td>\n",
       "    </tr>\n",
       "    <tr>\n",
       "      <th>1</th>\n",
       "      <td>1</td>\n",
       "      <td>0.563353</td>\n",
       "    </tr>\n",
       "  </tbody>\n",
       "</table>\n",
       "</div>"
      ],
      "text/plain": [
       "   approval_flag  gender_cd\n",
       "0              0   0.523810\n",
       "1              1   0.563353"
      ]
     },
     "execution_count": 139,
     "metadata": {},
     "output_type": "execute_result"
    }
   ],
   "source": [
    "df.groupby(\"approval_flag\")[\"gender_cd\"].mean().reset_index()"
   ]
  },
  {
   "cell_type": "code",
   "execution_count": 140,
   "metadata": {},
   "outputs": [
    {
     "name": "stdout",
     "output_type": "stream",
     "text": [
      "Тест хи-квадрат:\n",
      "Хи-квадрат статистика: 8.543121476716166\n",
      "p-значение: 0.003468303473218822\n",
      "Степени свободы: 1\n",
      "Ожидаемые частоты:\n",
      "[[6625.1593756  726.8406244]\n",
      " [7402.8406244  812.1593756]]\n",
      "Значимость теста хи-квадрат (p < 0.05): True\n"
     ]
    }
   ],
   "source": [
    "from scipy.stats import chi2_contingency\n",
    "\n",
    "# Создание контингентной таблицы\n",
    "contingency_table = pd.crosstab(df['gender_cd'], df['approval_flag'])\n",
    "\n",
    "# Выполнение теста хи-квадрат\n",
    "chi2_stat, p_value, dof, expected = chi2_contingency(contingency_table)\n",
    "\n",
    "# Результаты теста\n",
    "print(\"Тест хи-квадрат:\")\n",
    "print(f\"Хи-квадрат статистика: {chi2_stat}\")\n",
    "print(f\"p-значение: {p_value}\")\n",
    "print(f\"Степени свободы: {dof}\")\n",
    "print(\"Ожидаемые частоты:\")\n",
    "print(expected)\n",
    "\n",
    "# Проверка на значимость\n",
    "is_significant_chi2 = p_value < 0.05\n",
    "print(\"Значимость теста хи-квадрат (p < 0.05):\", is_significant_chi2)"
   ]
  },
  {
   "cell_type": "code",
   "execution_count": 141,
   "metadata": {},
   "outputs": [
    {
     "data": {
      "text/html": [
       "<div>\n",
       "<style scoped>\n",
       "    .dataframe tbody tr th:only-of-type {\n",
       "        vertical-align: middle;\n",
       "    }\n",
       "\n",
       "    .dataframe tbody tr th {\n",
       "        vertical-align: top;\n",
       "    }\n",
       "\n",
       "    .dataframe thead th {\n",
       "        text-align: right;\n",
       "    }\n",
       "</style>\n",
       "<table border=\"1\" class=\"dataframe\">\n",
       "  <thead>\n",
       "    <tr style=\"text-align: right;\">\n",
       "      <th></th>\n",
       "      <th>gender_cd</th>\n",
       "      <th>state_talk_time_sec</th>\n",
       "    </tr>\n",
       "  </thead>\n",
       "  <tbody>\n",
       "    <tr>\n",
       "      <th>0</th>\n",
       "      <td>0</td>\n",
       "      <td>58.417165</td>\n",
       "    </tr>\n",
       "    <tr>\n",
       "      <th>1</th>\n",
       "      <td>1</td>\n",
       "      <td>71.658186</td>\n",
       "    </tr>\n",
       "  </tbody>\n",
       "</table>\n",
       "</div>"
      ],
      "text/plain": [
       "   gender_cd  state_talk_time_sec\n",
       "0          0            58.417165\n",
       "1          1            71.658186"
      ]
     },
     "execution_count": 141,
     "metadata": {},
     "output_type": "execute_result"
    }
   ],
   "source": [
    "df.groupby(\"gender_cd\")[\"state_talk_time_sec\"].mean().reset_index()"
   ]
  },
  {
   "cell_type": "code",
   "execution_count": 142,
   "metadata": {},
   "outputs": [
    {
     "name": "stderr",
     "output_type": "stream",
     "text": [
      "C:\\Users\\ASUS\\AppData\\Local\\Packages\\PythonSoftwareFoundation.Python.3.12_qbz5n2kfra8p0\\LocalCache\\local-packages\\Python312\\site-packages\\scipy\\stats\\_axis_nan_policy.py:531: UserWarning: scipy.stats.shapiro: For N > 5000, computed p-value may not be accurate. Current N is 8215.\n",
      "  res = hypotest_fun_out(*samples, **kwds)\n"
     ]
    },
    {
     "name": "stdout",
     "output_type": "stream",
     "text": [
      "Тест Шапиро-Уилка для мужчин клиентов:\n",
      "Статистика: 0.8356850463805261, p-значение: 3.83493105875458e-68\n",
      "\n",
      "Тест Шапиро-Уилка для женщин клиентов:\n",
      "Статистика: 0.778462043238838, p-значение: 7.725435213640366e-72\n",
      "Тест Манна-Уитни:\n",
      "U-статистика: 11274327.0, p-значение: 0.008324475483670995\n",
      "Значимость теста Манна-Уитни (p < 0.05): True\n"
     ]
    },
    {
     "name": "stderr",
     "output_type": "stream",
     "text": [
      "C:\\Users\\ASUS\\AppData\\Local\\Packages\\PythonSoftwareFoundation.Python.3.12_qbz5n2kfra8p0\\LocalCache\\local-packages\\Python312\\site-packages\\scipy\\stats\\_axis_nan_policy.py:531: UserWarning: scipy.stats.shapiro: For N > 5000, computed p-value may not be accurate. Current N is 7352.\n",
      "  res = hypotest_fun_out(*samples, **kwds)\n"
     ]
    }
   ],
   "source": [
    "from scipy.stats import shapiro, mannwhitneyu\n",
    "\n",
    "man_talk = df[df[\"gender_cd\"] == 1][\"state_talk_time_sec\"]\n",
    "women_talk = df[df[\"gender_cd\"] == 0][\"state_talk_time_sec\"]\n",
    "\n",
    "# Тест на нормальность для праздничных разговоров\n",
    "shapiro_man = shapiro(man_talk)\n",
    "shapiro_women = shapiro(women_talk)\n",
    "\n",
    "# Результаты теста Шапиро-Уилка\n",
    "print(\"Тест Шапиро-Уилка для мужчин клиентов:\")\n",
    "print(f\"Статистика: {shapiro_man.statistic}, p-значение: {shapiro_man.pvalue}\")\n",
    "\n",
    "print(\"\\nТест Шапиро-Уилка для женщин клиентов:\")\n",
    "print(f\"Статистика: {shapiro_women.statistic}, p-значение: {shapiro_women.pvalue}\")\n",
    "\n",
    "# Выполнение теста Манна-Уитни\n",
    "u_stat, p_value_mw = mannwhitneyu(holiday_talk, not_holiday_talk)\n",
    "\n",
    "# Результаты теста\n",
    "print(\"Тест Манна-Уитни:\")\n",
    "print(f\"U-статистика: {u_stat}, p-значение: {p_value_mw}\")\n",
    "\n",
    "# Проверка на значимость\n",
    "is_significant_mw = p_value_mw < 0.05\n",
    "print(\"Значимость теста Манна-Уитни (p < 0.05):\", is_significant_mw)\n"
   ]
  },
  {
   "cell_type": "code",
   "execution_count": 143,
   "metadata": {},
   "outputs": [
    {
     "data": {
      "text/plain": [
       "<Axes: xlabel='gender_cd', ylabel='Count'>"
      ]
     },
     "execution_count": 143,
     "metadata": {},
     "output_type": "execute_result"
    },
    {
     "data": {
      "image/png": "[encoded data removed]",
      "text/plain": [
       "<Figure size 640x480 with 1 Axes>"
      ]
     },
     "metadata": {},
     "output_type": "display_data"
    }
   ],
   "source": [
    "import seaborn as sns\n",
    "\n",
    "sns.histplot(df['gender_cd'])"
   ]
  },
  {
   "cell_type": "code",
   "execution_count": 144,
   "metadata": {},
   "outputs": [
    {
     "data": {
      "text/plain": [
       "1874"
      ]
     },
     "execution_count": 144,
     "metadata": {},
     "output_type": "execute_result"
    }
   ],
   "source": [
    "df[\"emp_gender_cd\"].isna().sum()"
   ]
  },
  {
   "cell_type": "code",
   "execution_count": 145,
   "metadata": {},
   "outputs": [
    {
     "data": {
      "text/plain": [
       "<Axes: xlabel='emp_gender_cd', ylabel='Count'>"
      ]
     },
     "execution_count": 145,
     "metadata": {},
     "output_type": "execute_result"
    },
    {
     "data": {
      "image/png": "[encoded data removed]",
      "text/plain": [
       "<Figure size 640x480 with 1 Axes>"
      ]
     },
     "metadata": {},
     "output_type": "display_data"
    }
   ],
   "source": [
    "sns.histplot(df[\"emp_gender_cd\"])"
   ]
  },
  {
   "cell_type": "code",
   "execution_count": 146,
   "metadata": {},
   "outputs": [],
   "source": [
    "data = df.copy()\n",
    "data[\"gender_cd\"] = data[\"gender_cd\"].replace({0: \"W\", 1: \"M\"})"
   ]
  },
  {
   "cell_type": "code",
   "execution_count": 147,
   "metadata": {},
   "outputs": [
    {
     "data": {
      "text/html": [
       "<div>\n",
       "<style scoped>\n",
       "    .dataframe tbody tr th:only-of-type {\n",
       "        vertical-align: middle;\n",
       "    }\n",
       "\n",
       "    .dataframe tbody tr th {\n",
       "        vertical-align: top;\n",
       "    }\n",
       "\n",
       "    .dataframe thead th {\n",
       "        text-align: right;\n",
       "    }\n",
       "</style>\n",
       "<table border=\"1\" class=\"dataframe\">\n",
       "  <thead>\n",
       "    <tr style=\"text-align: right;\">\n",
       "      <th></th>\n",
       "      <th>emp_gender_cd</th>\n",
       "      <th>gender_cd</th>\n",
       "      <th>approval_flag</th>\n",
       "    </tr>\n",
       "  </thead>\n",
       "  <tbody>\n",
       "    <tr>\n",
       "      <th>0</th>\n",
       "      <td>M</td>\n",
       "      <td>M</td>\n",
       "      <td>0.108169</td>\n",
       "    </tr>\n",
       "    <tr>\n",
       "      <th>1</th>\n",
       "      <td>M</td>\n",
       "      <td>W</td>\n",
       "      <td>0.076401</td>\n",
       "    </tr>\n",
       "    <tr>\n",
       "      <th>2</th>\n",
       "      <td>W</td>\n",
       "      <td>M</td>\n",
       "      <td>0.103536</td>\n",
       "    </tr>\n",
       "    <tr>\n",
       "      <th>3</th>\n",
       "      <td>W</td>\n",
       "      <td>W</td>\n",
       "      <td>0.094093</td>\n",
       "    </tr>\n",
       "  </tbody>\n",
       "</table>\n",
       "</div>"
      ],
      "text/plain": [
       "  emp_gender_cd gender_cd  approval_flag\n",
       "0             M         M       0.108169\n",
       "1             M         W       0.076401\n",
       "2             W         M       0.103536\n",
       "3             W         W       0.094093"
      ]
     },
     "execution_count": 147,
     "metadata": {},
     "output_type": "execute_result"
    }
   ],
   "source": [
    "data.groupby([\"emp_gender_cd\", \"gender_cd\"])[\"approval_flag\"].mean().reset_index()"
   ]
  },
  {
   "cell_type": "code",
   "execution_count": null,
   "metadata": {},
   "outputs": [],
   "source": []
  },
  {
   "cell_type": "code",
   "execution_count": 148,
   "metadata": {},
   "outputs": [
    {
     "data": {
      "text/html": [
       "<div>\n",
       "<style scoped>\n",
       "    .dataframe tbody tr th:only-of-type {\n",
       "        vertical-align: middle;\n",
       "    }\n",
       "\n",
       "    .dataframe tbody tr th {\n",
       "        vertical-align: top;\n",
       "    }\n",
       "\n",
       "    .dataframe thead th {\n",
       "        text-align: right;\n",
       "    }\n",
       "</style>\n",
       "<table border=\"1\" class=\"dataframe\">\n",
       "  <thead>\n",
       "    <tr style=\"text-align: right;\">\n",
       "      <th></th>\n",
       "      <th>approval_flag</th>\n",
       "      <th>state_talk_time_sec</th>\n",
       "    </tr>\n",
       "  </thead>\n",
       "  <tbody>\n",
       "    <tr>\n",
       "      <th>0</th>\n",
       "      <td>0</td>\n",
       "      <td>56.249715</td>\n",
       "    </tr>\n",
       "    <tr>\n",
       "      <th>1</th>\n",
       "      <td>1</td>\n",
       "      <td>148.852502</td>\n",
       "    </tr>\n",
       "  </tbody>\n",
       "</table>\n",
       "</div>"
      ],
      "text/plain": [
       "   approval_flag  state_talk_time_sec\n",
       "0              0            56.249715\n",
       "1              1           148.852502"
      ]
     },
     "execution_count": 148,
     "metadata": {},
     "output_type": "execute_result"
    }
   ],
   "source": [
    "df.groupby(\"approval_flag\")[\"state_talk_time_sec\"].mean().reset_index()"
   ]
  },
  {
   "cell_type": "code",
   "execution_count": 149,
   "metadata": {},
   "outputs": [
    {
     "data": {
      "text/html": [
       "<div>\n",
       "<style scoped>\n",
       "    .dataframe tbody tr th:only-of-type {\n",
       "        vertical-align: middle;\n",
       "    }\n",
       "\n",
       "    .dataframe tbody tr th {\n",
       "        vertical-align: top;\n",
       "    }\n",
       "\n",
       "    .dataframe thead th {\n",
       "        text-align: right;\n",
       "    }\n",
       "</style>\n",
       "<table border=\"1\" class=\"dataframe\">\n",
       "  <thead>\n",
       "    <tr style=\"text-align: right;\">\n",
       "      <th></th>\n",
       "      <th>approval_flag</th>\n",
       "      <th>age</th>\n",
       "    </tr>\n",
       "  </thead>\n",
       "  <tbody>\n",
       "    <tr>\n",
       "      <th>0</th>\n",
       "      <td>0</td>\n",
       "      <td>37.885814</td>\n",
       "    </tr>\n",
       "    <tr>\n",
       "      <th>1</th>\n",
       "      <td>1</td>\n",
       "      <td>37.243015</td>\n",
       "    </tr>\n",
       "  </tbody>\n",
       "</table>\n",
       "</div>"
      ],
      "text/plain": [
       "   approval_flag        age\n",
       "0              0  37.885814\n",
       "1              1  37.243015"
      ]
     },
     "execution_count": 149,
     "metadata": {},
     "output_type": "execute_result"
    }
   ],
   "source": [
    "df.groupby(\"approval_flag\")[\"age\"].mean().reset_index()"
   ]
  },
  {
   "cell_type": "code",
   "execution_count": 150,
   "metadata": {},
   "outputs": [
    {
     "data": {
      "text/html": [
       "<div>\n",
       "<style scoped>\n",
       "    .dataframe tbody tr th:only-of-type {\n",
       "        vertical-align: middle;\n",
       "    }\n",
       "\n",
       "    .dataframe tbody tr th {\n",
       "        vertical-align: top;\n",
       "    }\n",
       "\n",
       "    .dataframe thead th {\n",
       "        text-align: right;\n",
       "    }\n",
       "</style>\n",
       "<table border=\"1\" class=\"dataframe\">\n",
       "  <thead>\n",
       "    <tr style=\"text-align: right;\">\n",
       "      <th></th>\n",
       "      <th>approval_flag</th>\n",
       "      <th>is_holiday</th>\n",
       "    </tr>\n",
       "  </thead>\n",
       "  <tbody>\n",
       "    <tr>\n",
       "      <th>0</th>\n",
       "      <td>0</td>\n",
       "      <td>0.097591</td>\n",
       "    </tr>\n",
       "    <tr>\n",
       "      <th>1</th>\n",
       "      <td>1</td>\n",
       "      <td>0.114360</td>\n",
       "    </tr>\n",
       "  </tbody>\n",
       "</table>\n",
       "</div>"
      ],
      "text/plain": [
       "   approval_flag  is_holiday\n",
       "0              0    0.097591\n",
       "1              1    0.114360"
      ]
     },
     "execution_count": 150,
     "metadata": {},
     "output_type": "execute_result"
    }
   ],
   "source": [
    "df.groupby(\"approval_flag\")[\"is_holiday\"].mean().reset_index()"
   ]
  },
  {
   "cell_type": "code",
   "execution_count": 151,
   "metadata": {},
   "outputs": [],
   "source": [
    "# df.groupby(\"approval_flag\")[\"bundle_nm\"].mean().reset_index()"
   ]
  },
  {
   "cell_type": "code",
   "execution_count": 152,
   "metadata": {},
   "outputs": [
    {
     "data": {
      "text/plain": [
       "region_size\n",
       "No       6162\n",
       "town     4979\n",
       "urban    2219\n",
       "msk      1309\n",
       "rural     898\n",
       "Name: count, dtype: int64"
      ]
     },
     "execution_count": 152,
     "metadata": {},
     "output_type": "execute_result"
    }
   ],
   "source": [
    "df[\"region_size\"].value_counts()"
   ]
  },
  {
   "cell_type": "code",
   "execution_count": 153,
   "metadata": {},
   "outputs": [
    {
     "data": {
      "text/plain": [
       "region_size\n",
       "No       0.086660\n",
       "msk      0.083270\n",
       "rural    0.136971\n",
       "town     0.115686\n",
       "urban    0.088779\n",
       "Name: approval_flag, dtype: float64"
      ]
     },
     "execution_count": 153,
     "metadata": {},
     "output_type": "execute_result"
    }
   ],
   "source": [
    "df.groupby(\"region_size\")[\"approval_flag\"].mean()"
   ]
  },
  {
   "cell_type": "code",
   "execution_count": 154,
   "metadata": {},
   "outputs": [
    {
     "data": {
      "text/plain": [
       "functional_cd\n",
       "Preapprove       7933\n",
       "Afterfilling     1785\n",
       "Utilization      1389\n",
       "Cold             1371\n",
       "Upsell           1124\n",
       "Meeting           759\n",
       "Agreement         420\n",
       "Incoming          213\n",
       "Reutilization     187\n",
       "Downsell          185\n",
       "Activation         87\n",
       "BAF                62\n",
       "Autoleads          35\n",
       "Deposit            10\n",
       "Prolongation        6\n",
       "Refinancing         1\n",
       "Name: count, dtype: int64"
      ]
     },
     "execution_count": 154,
     "metadata": {},
     "output_type": "execute_result"
    }
   ],
   "source": [
    "df[\"functional_cd\"].value_counts()"
   ]
  },
  {
   "cell_type": "code",
   "execution_count": 160,
   "metadata": {},
   "outputs": [
    {
     "data": {
      "image/png": "[encoded data removed]",
      "text/plain": [
       "<Figure size 600x600 with 1 Axes>"
      ]
     },
     "metadata": {},
     "output_type": "display_data"
    }
   ],
   "source": [
    "import matplotlib.pyplot as plt\n",
    "import numpy as np\n",
    "\n",
    "fig, ax = plt.subplots(figsize=(6, 6))\n",
    "\n",
    "subs = data_preapprove[\"bundle_nm\"].value_counts()\n",
    "bundle_group_labels = data_preapprove[\"bundle_nm\"].unique()\n",
    "\n",
    "# Получаем четыре разных серых цвета.\n",
    "cmap = plt.get_cmap('Greys')\n",
    "colors = list(cmap(np.linspace(0.45, 0.85, len(subs))))\n",
    "# Замена на яркий синий для определенного цвета\n",
    "colors[2] = 'dodgerblue'\n",
    "\n",
    "explode = (0,) * (len(subs) - 1) + (0.1,)  # Взрываем последний сектор\n",
    "\n",
    "# Создаем круговую диаграмму\n",
    "patches, texts, pcts = ax.pie(\n",
    "    x=subs, labels=bundle_group_labels, autopct='%.1f%%',\n",
    "    wedgeprops={'linewidth': 3.0, 'edgecolor': 'white'},\n",
    "    textprops={'size': 'x-large'},\n",
    "    startangle=90,\n",
    "    colors=colors,\n",
    "    explode=explode)\n",
    "\n",
    "# Установка цвета подписей\n",
    "for i, patch in enumerate(patches):\n",
    "    texts[i].set_color(patch.get_facecolor())\n",
    "\n",
    "# Установка черного цвета для процентов и такой же толщины шрифта, как у подписей\n",
    "for pct in pcts:\n",
    "    pct.set_color('black')  # Устанавливаем цвет процентов в черный\n",
    "    pct.set_fontweight('bold')  # Устанавливаем толщину шрифта для процентов\n",
    "\n",
    "plt.setp(texts, fontweight=600)\n",
    "ax.set_title('Структура подписок среди пользователей', fontsize=18)\n",
    "plt.tight_layout()\n",
    "plt.show()\n"
   ]
  },
  {
   "cell_type": "code",
   "execution_count": 185,
   "metadata": {},
   "outputs": [
    {
     "data": {
      "image/png": "[encoded data removed]",
      "text/plain": [
       "<Figure size 800x800 with 1 Axes>"
      ]
     },
     "metadata": {},
     "output_type": "display_data"
    }
   ],
   "source": [
    "# Customizing our pie chart\n",
    "colors = ['#5170E2', '#D64E4E', '#aaaaaa']\n",
    "subs = data_preapprove[\"bundle_nm\"].value_counts()\n",
    "bundle_group_labels = data_preapprove[\"bundle_nm\"].unique()\n",
    "font_color = '#222222'\n",
    "\n",
    "plt.rcParams.update({\n",
    "'font.size': 12, # Общий размер шрифта для текста\n",
    "'axes.titlesize': 14, # Размер шрифта для заголовков осей\n",
    "'axes.labelsize': 12, # Размер шрифта для подписей осей\n",
    "'xtick.labelsize': 10, # Размер шрифта для меток на оси X\n",
    "'ytick.labelsize': 10 # Размер шрифта для меток на оси Y\n",
    "})\n",
    "\n",
    "plt.figure(figsize=(8, 8))\n",
    "plt.pie(subs, labels=bundle_group_labels, autopct='%1.1f%%', startangle=90, colors=colors, pctdistance=1.2, radius=1, textprops={'color':font_color})\n",
    "title = plt.title('Структура подписок среди пользователей', fontsize=16, color=font_color, pad=25)\n",
    "plt.savefig('pie_chart.png', format='png')\n",
    "plt.show()\n",
    "        "
   ]
  },
  {
   "cell_type": "code",
   "execution_count": 162,
   "metadata": {},
   "outputs": [],
   "source": [
    "# df = df.dropna(subset=[\"emp_gender_cd\"])"
   ]
  },
  {
   "cell_type": "code",
   "execution_count": 163,
   "metadata": {},
   "outputs": [],
   "source": [
    "# df[\"emp_gender_cd\"].value_counts()"
   ]
  },
  {
   "cell_type": "code",
   "execution_count": 164,
   "metadata": {},
   "outputs": [],
   "source": [
    "# df[\"emp_gender_cd\"] = df[\"emp_gender_cd\"].fillna(\"W\")"
   ]
  },
  {
   "cell_type": "code",
   "execution_count": 165,
   "metadata": {},
   "outputs": [],
   "source": [
    "# df[\"emp_gender_cd\"] = df[\"emp_gender_cd\"].replace({\"W\":0, \"M\":1})"
   ]
  },
  {
   "cell_type": "code",
   "execution_count": 166,
   "metadata": {},
   "outputs": [],
   "source": [
    "# df.groupby(\"approval_flag\")[\"emp_gender_cd\"].mean()"
   ]
  }
 ],
 "metadata": {
  "kernelspec": {
   "display_name": "Python 3",
   "language": "python",
   "name": "python3"
  },
  "language_info": {
   "codemirror_mode": {
    "name": "ipython",
    "version": 3
   },
   "file_extension": ".py",
   "mimetype": "text/x-python",
   "name": "python",
   "nbconvert_exporter": "python",
   "pygments_lexer": "ipython3",
   "version": "3.12.7"
  }
 },
 "nbformat": 4,
 "nbformat_minor": 2
}
